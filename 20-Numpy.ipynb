{
 "cells": [
  {
   "cell_type": "markdown",
   "id": "beefe6a9-05f7-490b-aed8-5a2d11b0cedb",
   "metadata": {},
   "source": [
    "https://numpy.org/doc/stable/user/index.html\n",
    "Dökümasyonlara buradan bakabilirsin"
   ]
  },
  {
   "cell_type": "markdown",
   "id": "60586b16-8004-45e9-9b7a-4527d182fe05",
   "metadata": {},
   "source": [
    "# Numpy Array"
   ]
  },
  {
   "cell_type": "code",
   "execution_count": 2,
   "id": "c6506d8b-73cd-4f56-a990-579a33575be0",
   "metadata": {},
   "outputs": [],
   "source": [
    "benim_listem = [20,30,40]"
   ]
  },
  {
   "cell_type": "code",
   "execution_count": 3,
   "id": "e5ab03db-8c0a-4f20-b74b-fd2d72057eec",
   "metadata": {},
   "outputs": [
    {
     "data": {
      "text/plain": [
       "list"
      ]
     },
     "execution_count": 3,
     "metadata": {},
     "output_type": "execute_result"
    }
   ],
   "source": [
    "type(benim_listem)"
   ]
  },
  {
   "cell_type": "code",
   "execution_count": 4,
   "id": "5ce1c8fd-ea81-4ee9-a3fb-d577126526b0",
   "metadata": {},
   "outputs": [],
   "source": [
    "import numpy as np"
   ]
  },
  {
   "cell_type": "code",
   "execution_count": 5,
   "id": "d35c05a6-9fef-4ed3-a64d-011d41d210c3",
   "metadata": {},
   "outputs": [
    {
     "data": {
      "text/plain": [
       "array([20, 30, 40])"
      ]
     },
     "execution_count": 5,
     "metadata": {},
     "output_type": "execute_result"
    }
   ],
   "source": [
    "np.array(benim_listem)"
   ]
  },
  {
   "cell_type": "code",
   "execution_count": 6,
   "id": "57101c07-a2e1-43f1-8fda-274933635f12",
   "metadata": {},
   "outputs": [
    {
     "data": {
      "text/plain": [
       "numpy.ndarray"
      ]
     },
     "execution_count": 6,
     "metadata": {},
     "output_type": "execute_result"
    }
   ],
   "source": [
    "type(np.array(benim_listem))"
   ]
  },
  {
   "cell_type": "code",
   "execution_count": 7,
   "id": "fe942ef5-271b-4725-9feb-26c2aac402cb",
   "metadata": {},
   "outputs": [],
   "source": [
    "# Numpy dizisine çevirdik list elemanını "
   ]
  },
  {
   "cell_type": "code",
   "execution_count": 8,
   "id": "f5369883-8eae-49a7-b849-05815a8fb8f3",
   "metadata": {},
   "outputs": [],
   "source": [
    "matrixListesi = [[10,20,30], [40,50,60],[70,80,90]]"
   ]
  },
  {
   "cell_type": "code",
   "execution_count": 9,
   "id": "1249ec30-fa5a-4db8-919a-64f7b8222656",
   "metadata": {},
   "outputs": [],
   "source": [
    "## Burada, list içersinde list oluşturduk. "
   ]
  },
  {
   "cell_type": "code",
   "execution_count": 10,
   "id": "21519070-3616-48a7-8f49-db9cad42b1fe",
   "metadata": {},
   "outputs": [
    {
     "data": {
      "text/plain": [
       "[40, 50, 60]"
      ]
     },
     "execution_count": 10,
     "metadata": {},
     "output_type": "execute_result"
    }
   ],
   "source": [
    "matrixListesi[1]"
   ]
  },
  {
   "cell_type": "code",
   "execution_count": 11,
   "id": "f0ef1506-9735-46cf-ab35-762b5c831d66",
   "metadata": {},
   "outputs": [
    {
     "data": {
      "text/plain": [
       "40"
      ]
     },
     "execution_count": 11,
     "metadata": {},
     "output_type": "execute_result"
    }
   ],
   "source": [
    "matrixListesi[1][0]"
   ]
  },
  {
   "cell_type": "code",
   "execution_count": 12,
   "id": "f4340b2b-c15b-47bc-8dc3-f045fba2898e",
   "metadata": {},
   "outputs": [],
   "source": [
    "## Burada list'in elemanlarına ulaştık"
   ]
  },
  {
   "cell_type": "code",
   "execution_count": 13,
   "id": "3c171aae-76db-4c6d-b8eb-42bcb2fcef34",
   "metadata": {},
   "outputs": [
    {
     "data": {
      "text/plain": [
       "array([[10, 20, 30],\n",
       "       [40, 50, 60],\n",
       "       [70, 80, 90]])"
      ]
     },
     "execution_count": 13,
     "metadata": {},
     "output_type": "execute_result"
    }
   ],
   "source": [
    "np.array(matrixListesi)"
   ]
  },
  {
   "cell_type": "code",
   "execution_count": 14,
   "id": "dae3110f-8774-4f05-a02b-65ac840a9934",
   "metadata": {},
   "outputs": [],
   "source": [
    "## np.array() ile list'i dizine çevirebiliyoruz\n",
    "## Neden Numpy Dizinine çeviiriz?\n",
    "# Matrix şekilde görünüm elde edebiliyoruz bu da bize veri ile kolay çalışma imkanı sunar\n",
    "# Matrix'imizin bir satırı veya sutunu referans verme imkanı sunar"
   ]
  },
  {
   "cell_type": "markdown",
   "id": "d348307f-aedc-48dc-8578-ea11e74c5810",
   "metadata": {},
   "source": [
    "Not: Numpy dizileri list'lerden dönüştürmek zorunda değiliz hatırlarsan range()\n",
    "fonksiyonu ile list oluşturabiliyorduk aynı şekilde numpy dizilerinide farklı methodlarla oluşturabiliriz."
   ]
  },
  {
   "cell_type": "markdown",
   "id": "24f2dd12-8f13-4797-9df6-cf5712c8f048",
   "metadata": {},
   "source": [
    "# Arange"
   ]
  },
  {
   "cell_type": "code",
   "execution_count": 15,
   "id": "fa33c3fe-b144-4c0d-9419-1bf05df00890",
   "metadata": {},
   "outputs": [
    {
     "data": {
      "text/plain": [
       "[0, 1, 2, 3, 4, 5, 6, 7, 8, 9]"
      ]
     },
     "execution_count": 15,
     "metadata": {},
     "output_type": "execute_result"
    }
   ],
   "source": [
    "list(range(0, 10))"
   ]
  },
  {
   "cell_type": "code",
   "execution_count": 16,
   "id": "0fa56715-405f-4b33-9e0d-aaefe44169de",
   "metadata": {},
   "outputs": [],
   "source": [
    "# Biz range ile list oluşturabiliyoruz"
   ]
  },
  {
   "cell_type": "code",
   "execution_count": 17,
   "id": "1d5672a6-952f-4451-b99d-fb00beae586f",
   "metadata": {},
   "outputs": [
    {
     "data": {
      "text/plain": [
       "array([0, 1, 2, 3, 4, 5, 6, 7, 8, 9])"
      ]
     },
     "execution_count": 17,
     "metadata": {},
     "output_type": "execute_result"
    }
   ],
   "source": [
    "np.arange(0,10)"
   ]
  },
  {
   "cell_type": "code",
   "execution_count": 18,
   "id": "75d4b0e3-3cd8-4a2e-9ad6-66d9a9f110b1",
   "metadata": {},
   "outputs": [],
   "source": [
    "# Numpy dizilerinde ise biz np.arange ile kendi dizilerimizi oluşturabiliyoruz."
   ]
  },
  {
   "cell_type": "code",
   "execution_count": 19,
   "id": "9e26f3d0-4b78-4aa5-b9f2-62958299f6d0",
   "metadata": {},
   "outputs": [
    {
     "data": {
      "text/plain": [
       "array([0, 2, 4, 6, 8])"
      ]
     },
     "execution_count": 19,
     "metadata": {},
     "output_type": "execute_result"
    }
   ],
   "source": [
    "np.arange(0,10,2)"
   ]
  },
  {
   "cell_type": "code",
   "execution_count": 20,
   "id": "3a227c11-6bd7-4d4b-93c6-cfc3f6dba4a2",
   "metadata": {},
   "outputs": [],
   "source": [
    "## Aynı şekikilde arange de step size elemanı verebiliyoruz."
   ]
  },
  {
   "cell_type": "code",
   "execution_count": 21,
   "id": "a29054f5-727e-48f9-bc10-e55235264b48",
   "metadata": {},
   "outputs": [
    {
     "data": {
      "text/plain": [
       "array([ 0,  2,  4,  6,  8, 10, 12, 14, 16, 18])"
      ]
     },
     "execution_count": 21,
     "metadata": {},
     "output_type": "execute_result"
    }
   ],
   "source": [
    "np.arange(0,20,2)"
   ]
  },
  {
   "cell_type": "markdown",
   "id": "5cded64c-26a3-4cec-8d92-b51d441e2f37",
   "metadata": {},
   "source": [
    "# Zeros"
   ]
  },
  {
   "cell_type": "code",
   "execution_count": 22,
   "id": "2a4629ed-8e8e-4643-9c7c-0ff3331efa87",
   "metadata": {},
   "outputs": [],
   "source": [
    "# Sıfırdan oluşan bir dizin oluşturmak istediğimizde kullanıyorz"
   ]
  },
  {
   "cell_type": "code",
   "execution_count": 23,
   "id": "96495472-6d6c-409a-9287-b52023c84c89",
   "metadata": {},
   "outputs": [
    {
     "data": {
      "text/plain": [
       "array([0., 0., 0., 0., 0.])"
      ]
     },
     "execution_count": 23,
     "metadata": {},
     "output_type": "execute_result"
    }
   ],
   "source": [
    "np.zeros(5)"
   ]
  },
  {
   "cell_type": "code",
   "execution_count": 24,
   "id": "4c837956-582a-4ac0-b737-9cf92b13cdde",
   "metadata": {},
   "outputs": [
    {
     "data": {
      "text/plain": [
       "array([[0., 0., 0., 0., 0.],\n",
       "       [0., 0., 0., 0., 0.],\n",
       "       [0., 0., 0., 0., 0.],\n",
       "       [0., 0., 0., 0., 0.],\n",
       "       [0., 0., 0., 0., 0.]])"
      ]
     },
     "execution_count": 24,
     "metadata": {},
     "output_type": "execute_result"
    }
   ],
   "source": [
    "np.zeros((5,5))"
   ]
  },
  {
   "cell_type": "markdown",
   "id": "39279b38-578b-4ef7-96e7-f2a2af85171a",
   "metadata": {},
   "source": [
    "# One"
   ]
  },
  {
   "cell_type": "code",
   "execution_count": 25,
   "id": "81d5f600-752b-4ff5-9e83-9ed79ff2ea06",
   "metadata": {},
   "outputs": [],
   "source": [
    "# Birden oluşan bir dizin oluşturmak içiin kullanıyoruz"
   ]
  },
  {
   "cell_type": "code",
   "execution_count": 26,
   "id": "91f11751-4953-45d5-acb3-8deaeb59c280",
   "metadata": {},
   "outputs": [
    {
     "data": {
      "text/plain": [
       "array([1., 1., 1., 1., 1.])"
      ]
     },
     "execution_count": 26,
     "metadata": {},
     "output_type": "execute_result"
    }
   ],
   "source": [
    "np.ones(5)"
   ]
  },
  {
   "cell_type": "code",
   "execution_count": 27,
   "id": "c90bf595-3a43-48e0-a125-04009eb5873d",
   "metadata": {},
   "outputs": [
    {
     "data": {
      "text/plain": [
       "array([[1., 1., 1., 1., 1.],\n",
       "       [1., 1., 1., 1., 1.],\n",
       "       [1., 1., 1., 1., 1.],\n",
       "       [1., 1., 1., 1., 1.],\n",
       "       [1., 1., 1., 1., 1.]])"
      ]
     },
     "execution_count": 27,
     "metadata": {},
     "output_type": "execute_result"
    }
   ],
   "source": [
    "np.ones((5,5))"
   ]
  },
  {
   "cell_type": "markdown",
   "id": "ff473e4f-efcb-41a6-bc92-56a8776aaf73",
   "metadata": {},
   "source": [
    "# Linspace "
   ]
  },
  {
   "cell_type": "markdown",
   "id": "771d5880-9008-4f4e-a65e-05ae41481264",
   "metadata": {},
   "source": [
    "## `linspace` Fonksiyonunun Kullanımı\n",
    "\n",
    "`linspace`, NumPy kütüphanesinde bulunan bir fonksiyondur ve belirli bir aralıkta eşit aralıklarla yerleştirilmiş sayılardan oluşan bir dizi (array) oluşturmak için kullanılır. Özellikle sayısal analiz ve bilimsel hesaplamalarda yaygın olarak kullanılır.\n",
    "\n",
    "### Söz Dizimi"
   ]
  },
  {
   "cell_type": "code",
   "execution_count": 28,
   "id": "2abdf694-086e-4a3f-8d80-d48d618dfe25",
   "metadata": {},
   "outputs": [],
   "source": [
    "start = 0\n",
    "stop = 40"
   ]
  },
  {
   "cell_type": "code",
   "execution_count": 29,
   "id": "4d5538bc-cd71-49a1-a36a-f2f84ec57b08",
   "metadata": {},
   "outputs": [
    {
     "data": {
      "text/plain": [
       "(array([ 0.        ,  0.81632653,  1.63265306,  2.44897959,  3.26530612,\n",
       "         4.08163265,  4.89795918,  5.71428571,  6.53061224,  7.34693878,\n",
       "         8.16326531,  8.97959184,  9.79591837, 10.6122449 , 11.42857143,\n",
       "        12.24489796, 13.06122449, 13.87755102, 14.69387755, 15.51020408,\n",
       "        16.32653061, 17.14285714, 17.95918367, 18.7755102 , 19.59183673,\n",
       "        20.40816327, 21.2244898 , 22.04081633, 22.85714286, 23.67346939,\n",
       "        24.48979592, 25.30612245, 26.12244898, 26.93877551, 27.75510204,\n",
       "        28.57142857, 29.3877551 , 30.20408163, 31.02040816, 31.83673469,\n",
       "        32.65306122, 33.46938776, 34.28571429, 35.10204082, 35.91836735,\n",
       "        36.73469388, 37.55102041, 38.36734694, 39.18367347, 40.        ]),\n",
       " 0.8163265306122449)"
      ]
     },
     "execution_count": 29,
     "metadata": {},
     "output_type": "execute_result"
    }
   ],
   "source": [
    "np.linspace(start, stop, num=50, endpoint=True, retstep=True, dtype=None, axis=0)"
   ]
  },
  {
   "cell_type": "markdown",
   "id": "fff3313d-e7d9-4366-a8f3-7b304e62d8ce",
   "metadata": {},
   "source": [
    "### Parametreler\n",
    "\n",
    "- **start:** Oluşturulacak dizinin başlangıç değeri.\n",
    "- **stop:** Oluşturulacak dizinin bitiş değeri.\n",
    "- **num (opsiyonel):** Dizi içinde yer alacak olan örnek sayısı (default: 50).\n",
    "- **endpoint (opsiyonel):** True ise, bitiş değeri dizinin son elemanı olarak dahil edilir; False ise dahil edilmez (default: True).\n",
    "- **retstep (opsiyonel):** True ise, fonksiyon aynı zamanda örnekler arasındaki adım değerini de döndürür (default: False).\n",
    "- **dtype (opsiyonel):** Çıktı dizisinin veri tipi (default: None).\n",
    "- **axis (opsiyonel):** Oluşturulan dizinin yerleştirileceği eksen (default: 0).\n"
   ]
  },
  {
   "cell_type": "code",
   "execution_count": 30,
   "id": "0bef349c-ebc1-4738-a074-e580ed87e50f",
   "metadata": {},
   "outputs": [
    {
     "data": {
      "text/plain": [
       "array([ 0.,  5., 10., 15., 20.])"
      ]
     },
     "execution_count": 30,
     "metadata": {},
     "output_type": "execute_result"
    }
   ],
   "source": [
    "np.linspace(0,20,5)"
   ]
  },
  {
   "cell_type": "code",
   "execution_count": 31,
   "id": "ed6f3309-9cc8-4593-9706-4fcef25ae50c",
   "metadata": {},
   "outputs": [],
   "source": [
    "# Gördüğün gibi hepsinin arasında 5 kadar uzaklık var"
   ]
  },
  {
   "cell_type": "code",
   "execution_count": 32,
   "id": "faea6651-ea40-4ebc-bc2a-372337b3615d",
   "metadata": {},
   "outputs": [
    {
     "data": {
      "text/plain": [
       "array([ 0.,  4.,  8., 12., 16., 20.])"
      ]
     },
     "execution_count": 32,
     "metadata": {},
     "output_type": "execute_result"
    }
   ],
   "source": [
    "np.linspace(0,20,6)"
   ]
  },
  {
   "cell_type": "code",
   "execution_count": 33,
   "id": "eb77cc47-28af-4972-b2bb-f84fd5d655de",
   "metadata": {},
   "outputs": [],
   "source": [
    "# Burada her bir elemanın arasında 4 birimlik mesafe var"
   ]
  },
  {
   "cell_type": "code",
   "execution_count": 34,
   "id": "288d11c7-6733-41b3-b703-662ea65ca7d9",
   "metadata": {},
   "outputs": [
    {
     "data": {
      "text/plain": [
       "(array([ 0.        ,  0.52631579,  1.05263158,  1.57894737,  2.10526316,\n",
       "         2.63157895,  3.15789474,  3.68421053,  4.21052632,  4.73684211,\n",
       "         5.26315789,  5.78947368,  6.31578947,  6.84210526,  7.36842105,\n",
       "         7.89473684,  8.42105263,  8.94736842,  9.47368421, 10.        ]),\n",
       " 0.5263157894736842)"
      ]
     },
     "execution_count": 34,
     "metadata": {},
     "output_type": "execute_result"
    }
   ],
   "source": [
    "np.linspace(0,10,20, retstep = True)"
   ]
  },
  {
   "cell_type": "code",
   "execution_count": 35,
   "id": "8fc6d9fc-4fca-422d-8828-50b68bb9fb77",
   "metadata": {},
   "outputs": [],
   "source": [
    "# her eleman arasındaki mesafe  0.5263157894736842 olacak ayarladı topllamda da 10 sayı yaptı"
   ]
  },
  {
   "cell_type": "code",
   "execution_count": 36,
   "id": "38330dbf-ad86-49ed-a55d-5766233ea4f9",
   "metadata": {},
   "outputs": [
    {
     "data": {
      "text/plain": [
       "(array([ 0.        ,  1.11111111,  2.22222222,  3.33333333,  4.44444444,\n",
       "         5.55555556,  6.66666667,  7.77777778,  8.88888889, 10.        ]),\n",
       " 1.1111111111111112)"
      ]
     },
     "execution_count": 36,
     "metadata": {},
     "output_type": "execute_result"
    }
   ],
   "source": [
    "np.linspace(0,10,10, retstep = True)"
   ]
  },
  {
   "cell_type": "markdown",
   "id": "c45e0ed8-23e3-41bc-8a1b-3e50cb98220d",
   "metadata": {},
   "source": [
    "# Eye"
   ]
  },
  {
   "cell_type": "code",
   "execution_count": 37,
   "id": "7e7233a0-d28d-4936-8606-f5fa600e7e54",
   "metadata": {},
   "outputs": [],
   "source": [
    "## Birim matrix oluşturur"
   ]
  },
  {
   "cell_type": "code",
   "execution_count": 38,
   "id": "5bc7d47e-eca0-4769-85d6-329ddfabda5e",
   "metadata": {},
   "outputs": [
    {
     "data": {
      "text/plain": [
       "array([[1., 0., 0.],\n",
       "       [0., 1., 0.],\n",
       "       [0., 0., 1.]])"
      ]
     },
     "execution_count": 38,
     "metadata": {},
     "output_type": "execute_result"
    }
   ],
   "source": [
    "np.eye(3)"
   ]
  },
  {
   "cell_type": "code",
   "execution_count": 39,
   "id": "8d7194ed-1880-4caf-b914-7a51791d49b2",
   "metadata": {},
   "outputs": [
    {
     "data": {
      "text/plain": [
       "array([[1., 0., 0., 0., 0., 0., 0., 0., 0., 0.],\n",
       "       [0., 1., 0., 0., 0., 0., 0., 0., 0., 0.],\n",
       "       [0., 0., 1., 0., 0., 0., 0., 0., 0., 0.],\n",
       "       [0., 0., 0., 1., 0., 0., 0., 0., 0., 0.],\n",
       "       [0., 0., 0., 0., 1., 0., 0., 0., 0., 0.],\n",
       "       [0., 0., 0., 0., 0., 1., 0., 0., 0., 0.],\n",
       "       [0., 0., 0., 0., 0., 0., 1., 0., 0., 0.],\n",
       "       [0., 0., 0., 0., 0., 0., 0., 1., 0., 0.],\n",
       "       [0., 0., 0., 0., 0., 0., 0., 0., 1., 0.],\n",
       "       [0., 0., 0., 0., 0., 0., 0., 0., 0., 1.]])"
      ]
     },
     "execution_count": 39,
     "metadata": {},
     "output_type": "execute_result"
    }
   ],
   "source": [
    "np.eye(10)"
   ]
  },
  {
   "cell_type": "markdown",
   "id": "6e69a8e3-06d5-42e6-9aef-fb0f47a66a3d",
   "metadata": {},
   "source": [
    "# Random"
   ]
  },
  {
   "cell_type": "markdown",
   "id": "929f5a63-84cc-4fc9-aab1-40c6f5cbccd5",
   "metadata": {},
   "source": [
    "Python'da random kütüphanesi, rastgele sayılar üretmek ve rastgele veri seçimi yapmak için kullanılan bir modüldür. Bu kütüphane, oyun geliştirme, veri analizi ve simülasyon gibi birçok alanda yaygın olarak kullanılı"
   ]
  },
  {
   "cell_type": "code",
   "execution_count": 40,
   "id": "89720762-55e9-4e1e-91e7-a118e97542f1",
   "metadata": {},
   "outputs": [
    {
     "data": {
      "text/plain": [
       "array([-1.57218135,  0.43586389, -0.82511276, -0.7607201 ])"
      ]
     },
     "execution_count": 40,
     "metadata": {},
     "output_type": "execute_result"
    }
   ],
   "source": [
    "np.random.randn(4)"
   ]
  },
  {
   "cell_type": "code",
   "execution_count": 41,
   "id": "9e8bacd6-017a-4909-a039-2e37ee52fa77",
   "metadata": {},
   "outputs": [],
   "source": [
    "## Burada tek boyutlu bir numpy dizisi oluştururur"
   ]
  },
  {
   "cell_type": "code",
   "execution_count": 42,
   "id": "807275f0-e459-4f40-a324-fa5ea2bd2d9a",
   "metadata": {},
   "outputs": [
    {
     "data": {
      "text/plain": [
       "array([[ 1.47644683, -1.1205145 ,  1.50468002,  0.3751231 ],\n",
       "       [ 0.77865227,  0.09747463,  1.78327369,  0.03482542],\n",
       "       [-0.42581488, -1.80206762, -2.40247421, -2.36095734],\n",
       "       [ 1.69156934,  0.87479609,  0.627997  , -1.07874182]])"
      ]
     },
     "execution_count": 42,
     "metadata": {},
     "output_type": "execute_result"
    }
   ],
   "source": [
    "np.random.randn(4,4)"
   ]
  },
  {
   "cell_type": "code",
   "execution_count": 43,
   "id": "f83bcec2-a744-4b50-bdc1-d7dca9881ded",
   "metadata": {},
   "outputs": [],
   "source": [
    "# Burda da 4,4 2 boyutlu bir numpy dizisi oluşturduk"
   ]
  },
  {
   "cell_type": "code",
   "execution_count": 44,
   "id": "0401e3f1-cd37-4817-92a4-9e6bc4bef834",
   "metadata": {},
   "outputs": [
    {
     "data": {
      "text/plain": [
       "9"
      ]
     },
     "execution_count": 44,
     "metadata": {},
     "output_type": "execute_result"
    }
   ],
   "source": [
    "np.random.randint(1,10)"
   ]
  },
  {
   "cell_type": "code",
   "execution_count": 45,
   "id": "76605697-179e-4fec-8086-434484b3c571",
   "metadata": {},
   "outputs": [],
   "source": [
    "## İlle de numpy dizisi oluşturmak zorunda değilsin int'de oluşturabiliyorsun \n",
    "## randint(1,10) 1'le 10 arasında rastgale bir int üretir ve onu yazdırırır 10 dahil değil"
   ]
  },
  {
   "cell_type": "code",
   "execution_count": 46,
   "id": "7bdc4792-5673-46a9-a887-ae88f87dc973",
   "metadata": {},
   "outputs": [],
   "source": [
    "# 1 dahil 10 dahil değil"
   ]
  },
  {
   "cell_type": "code",
   "execution_count": 47,
   "id": "4a62b5d3-fc27-4e32-99ab-081a5189e99c",
   "metadata": {},
   "outputs": [
    {
     "data": {
      "text/plain": [
       "array([8, 3, 2, 1, 2])"
      ]
     },
     "execution_count": 47,
     "metadata": {},
     "output_type": "execute_result"
    }
   ],
   "source": [
    "np.random.randint(1,10,5)"
   ]
  },
  {
   "cell_type": "code",
   "execution_count": 48,
   "id": "fe666714-b72a-4df1-ad50-5fb013a9baff",
   "metadata": {},
   "outputs": [],
   "source": [
    "# Bu şekilde innt değerlerden oluşan bir numpy disizide oluştrabiliriz"
   ]
  },
  {
   "cell_type": "code",
   "execution_count": 49,
   "id": "b4ffbcbb-21b7-4094-9ad3-7be71388733b",
   "metadata": {},
   "outputs": [
    {
     "data": {
      "text/plain": [
       "array([137, 132,   7, 230,  57])"
      ]
     },
     "execution_count": 49,
     "metadata": {},
     "output_type": "execute_result"
    }
   ],
   "source": [
    "np.random.randint(1,300,5)"
   ]
  },
  {
   "cell_type": "code",
   "execution_count": 50,
   "id": "b22c36f7-7688-4a8d-b8b5-66b4c2afe908",
   "metadata": {},
   "outputs": [],
   "source": [
    "# Büyükten küçüğe küçükten büyüğe değil tamamen rastgele bir şekilde oluştururr"
   ]
  },
  {
   "cell_type": "code",
   "execution_count": 51,
   "id": "26dec6d6-271f-4e14-aa6a-bfb2ed61c764",
   "metadata": {},
   "outputs": [],
   "source": [
    "benim_numpy_dizim = np.arange(30)"
   ]
  },
  {
   "cell_type": "code",
   "execution_count": 52,
   "id": "43686e0a-a71f-472e-805e-50e9330a4423",
   "metadata": {},
   "outputs": [
    {
     "data": {
      "text/plain": [
       "array([ 0,  1,  2,  3,  4,  5,  6,  7,  8,  9, 10, 11, 12, 13, 14, 15, 16,\n",
       "       17, 18, 19, 20, 21, 22, 23, 24, 25, 26, 27, 28, 29])"
      ]
     },
     "execution_count": 52,
     "metadata": {},
     "output_type": "execute_result"
    }
   ],
   "source": [
    "benim_numpy_dizim"
   ]
  },
  {
   "cell_type": "code",
   "execution_count": 53,
   "id": "f580bc45-062d-4a40-9626-ba52c58a48c3",
   "metadata": {},
   "outputs": [],
   "source": [
    "# 30 elemanlı bir dizi olusturduk ve gördüğün gibi bir değişkene atadık"
   ]
  },
  {
   "cell_type": "code",
   "execution_count": 54,
   "id": "66930f4b-51fe-438f-b768-b21dfaaf564c",
   "metadata": {},
   "outputs": [],
   "source": [
    "benim_randon_dizim = np.random.randint(0,100,30)"
   ]
  },
  {
   "cell_type": "code",
   "execution_count": 55,
   "id": "c86d6502-8545-4726-9278-76cb33012f9a",
   "metadata": {},
   "outputs": [
    {
     "data": {
      "text/plain": [
       "array([77,  1, 10, 94, 72,  7, 81, 32, 21, 89, 97, 99, 54, 60, 70, 66, 88,\n",
       "       54, 86, 70, 62, 74, 80, 54,  1, 29, 70, 11, 88, 45])"
      ]
     },
     "execution_count": 55,
     "metadata": {},
     "output_type": "execute_result"
    }
   ],
   "source": [
    "benim_randon_dizim"
   ]
  },
  {
   "cell_type": "code",
   "execution_count": 56,
   "id": "fe641a99-5ab1-4c8e-b540-84fd52f88ee3",
   "metadata": {},
   "outputs": [],
   "source": [
    "# 0,100 arasında 30 elemanlı bie dizi oluşturduk"
   ]
  },
  {
   "cell_type": "code",
   "execution_count": null,
   "id": "206bac03-f1a6-4b65-93c5-323f50ac56b5",
   "metadata": {},
   "outputs": [],
   "source": []
  },
  {
   "cell_type": "markdown",
   "id": "1ae6fee5-4a09-4326-84a9-1b192c4315f0",
   "metadata": {},
   "source": [
    "# Numpy Dizi Metodları"
   ]
  },
  {
   "cell_type": "code",
   "execution_count": 57,
   "id": "6cb8a3d1-84e0-4b62-8ce4-e9fe03d8bdd8",
   "metadata": {},
   "outputs": [],
   "source": [
    "numpy_dizi = np.arange(30)"
   ]
  },
  {
   "cell_type": "code",
   "execution_count": 58,
   "id": "19e98d8e-0643-4ea8-89f0-f1e8dd1ecdf6",
   "metadata": {},
   "outputs": [
    {
     "data": {
      "text/plain": [
       "array([ 0,  1,  2,  3,  4,  5,  6,  7,  8,  9, 10, 11, 12, 13, 14, 15, 16,\n",
       "       17, 18, 19, 20, 21, 22, 23, 24, 25, 26, 27, 28, 29])"
      ]
     },
     "execution_count": 58,
     "metadata": {},
     "output_type": "execute_result"
    }
   ],
   "source": [
    "numpy_dizi"
   ]
  },
  {
   "cell_type": "code",
   "execution_count": 59,
   "id": "6624db8b-0949-4244-b8c7-6817f7098cb8",
   "metadata": {},
   "outputs": [],
   "source": [
    "# Elimizde 30 elemanlı bir dizi var Bu dizi methodları neler"
   ]
  },
  {
   "cell_type": "code",
   "execution_count": 60,
   "id": "38beba8b-9e3f-45bd-8c71-418e9bcd9307",
   "metadata": {},
   "outputs": [
    {
     "data": {
      "text/plain": [
       "array([[ 0,  1,  2,  3,  4],\n",
       "       [ 5,  6,  7,  8,  9],\n",
       "       [10, 11, 12, 13, 14],\n",
       "       [15, 16, 17, 18, 19],\n",
       "       [20, 21, 22, 23, 24],\n",
       "       [25, 26, 27, 28, 29]])"
      ]
     },
     "execution_count": 60,
     "metadata": {},
     "output_type": "execute_result"
    }
   ],
   "source": [
    "numpy_dizi.reshape(6,5)"
   ]
  },
  {
   "cell_type": "code",
   "execution_count": 61,
   "id": "0e56ab9f-a0f0-4d5f-be62-0debda5d76b1",
   "metadata": {},
   "outputs": [
    {
     "data": {
      "text/plain": [
       "array([[ 0,  1,  2,  3,  4,  5],\n",
       "       [ 6,  7,  8,  9, 10, 11],\n",
       "       [12, 13, 14, 15, 16, 17],\n",
       "       [18, 19, 20, 21, 22, 23],\n",
       "       [24, 25, 26, 27, 28, 29]])"
      ]
     },
     "execution_count": 61,
     "metadata": {},
     "output_type": "execute_result"
    }
   ],
   "source": [
    "numpy_dizi.reshape(5,6)"
   ]
  },
  {
   "cell_type": "code",
   "execution_count": 62,
   "id": "cfd25f2a-d73e-4d67-a94b-1747d66b3d63",
   "metadata": {},
   "outputs": [],
   "source": [
    "# reshape(yeniden şekillendir) ile dizimi matris ifadesine çevirebilirim."
   ]
  },
  {
   "cell_type": "code",
   "execution_count": 63,
   "id": "aef93d14-4b95-49c7-87da-6ee786d53ef2",
   "metadata": {},
   "outputs": [
    {
     "ename": "ValueError",
     "evalue": "cannot reshape array of size 30 into shape (5,5)",
     "output_type": "error",
     "traceback": [
      "\u001b[1;31m---------------------------------------------------------------------------\u001b[0m",
      "\u001b[1;31mValueError\u001b[0m                                Traceback (most recent call last)",
      "Cell \u001b[1;32mIn[63], line 1\u001b[0m\n\u001b[1;32m----> 1\u001b[0m numpy_dizi\u001b[38;5;241m.\u001b[39mreshape(\u001b[38;5;241m5\u001b[39m,\u001b[38;5;241m5\u001b[39m)\n",
      "\u001b[1;31mValueError\u001b[0m: cannot reshape array of size 30 into shape (5,5)"
     ]
    }
   ],
   "source": [
    "numpy_dizi.reshape(5,5)"
   ]
  },
  {
   "cell_type": "code",
   "execution_count": 64,
   "id": "01a3e7d8-8e5f-4c8e-84ef-081bbe5900d5",
   "metadata": {},
   "outputs": [],
   "source": [
    "# Bu şelilde yazdığımda hata verecektir çünkü 30 elemanlı biz diyiyi 5'e 5'lik bir matris'e oluşturacağım"
   ]
  },
  {
   "cell_type": "code",
   "execution_count": 65,
   "id": "04734ed2-3991-4ee4-b150-935685cdcdd2",
   "metadata": {},
   "outputs": [
    {
     "data": {
      "text/plain": [
       "29"
      ]
     },
     "execution_count": 65,
     "metadata": {},
     "output_type": "execute_result"
    }
   ],
   "source": [
    "numpy_dizi.max()"
   ]
  },
  {
   "cell_type": "code",
   "execution_count": 66,
   "id": "0d77030f-a62f-4e4d-b76c-4628125f3140",
   "metadata": {},
   "outputs": [],
   "source": [
    "# Bir dizindedi max değeri verri"
   ]
  },
  {
   "cell_type": "code",
   "execution_count": 67,
   "id": "c5c9669c-4f25-4977-8d57-1e5794385379",
   "metadata": {},
   "outputs": [
    {
     "data": {
      "text/plain": [
       "0"
      ]
     },
     "execution_count": 67,
     "metadata": {},
     "output_type": "execute_result"
    }
   ],
   "source": [
    "numpy_dizi.min()"
   ]
  },
  {
   "cell_type": "code",
   "execution_count": 68,
   "id": "c38e9f1f-a9be-4747-b8b9-b91a7a6e98a1",
   "metadata": {},
   "outputs": [],
   "source": [
    "# minumum değeri gösteriyor"
   ]
  },
  {
   "cell_type": "code",
   "execution_count": 69,
   "id": "6279b9a2-a2d0-4635-8805-0856f0a5cad6",
   "metadata": {},
   "outputs": [
    {
     "data": {
      "text/plain": [
       "29"
      ]
     },
     "execution_count": 69,
     "metadata": {},
     "output_type": "execute_result"
    }
   ],
   "source": [
    "numpy_dizi.argmax()"
   ]
  },
  {
   "cell_type": "code",
   "execution_count": 70,
   "id": "850998f4-75cb-4da5-8cf4-ac910516da88",
   "metadata": {},
   "outputs": [],
   "source": [
    "## max değerin kaçıncı indexde olduğu bilgisini verecektir"
   ]
  },
  {
   "cell_type": "code",
   "execution_count": 71,
   "id": "c4837aeb-3056-476c-be3d-3f7fc6226bb5",
   "metadata": {},
   "outputs": [
    {
     "data": {
      "text/plain": [
       "0"
      ]
     },
     "execution_count": 71,
     "metadata": {},
     "output_type": "execute_result"
    }
   ],
   "source": [
    "numpy_dizi.argmin()"
   ]
  },
  {
   "cell_type": "code",
   "execution_count": 72,
   "id": "499c754c-a8cd-4801-a4c3-46993d004fae",
   "metadata": {},
   "outputs": [],
   "source": [
    "# min değerin kaçıncı indexde olduğu bilgisine ulaşacaksın"
   ]
  },
  {
   "cell_type": "code",
   "execution_count": 73,
   "id": "3bc71bc9-c035-4ca6-a40a-86efa0995030",
   "metadata": {},
   "outputs": [
    {
     "data": {
      "text/plain": [
       "array([ 0,  1,  2,  3,  4,  5,  6,  7,  8,  9, 10, 11, 12, 13, 14, 15, 16,\n",
       "       17, 18, 19, 20, 21, 22, 23, 24, 25, 26, 27, 28, 29])"
      ]
     },
     "execution_count": 73,
     "metadata": {},
     "output_type": "execute_result"
    }
   ],
   "source": [
    "numpy_dizi"
   ]
  },
  {
   "cell_type": "code",
   "execution_count": 75,
   "id": "c7b023ac-f8ae-408c-84e2-5c37d0e9798b",
   "metadata": {},
   "outputs": [],
   "source": [
    "# reshape(6,5) şeklindeki ifade orginal veriyi değiştirmiyor eğer bu (6,5) bir matris\n",
    "# şeklinde bir görünüm istiyorsan onun için bir değişkene ataman gerekecek"
   ]
  },
  {
   "cell_type": "code",
   "execution_count": 76,
   "id": "0eee6ea7-09c3-4087-9151-72bf69176b0d",
   "metadata": {},
   "outputs": [],
   "source": [
    "reshape_dizim = numpy_dizi.reshape(5,6)"
   ]
  },
  {
   "cell_type": "code",
   "execution_count": 77,
   "id": "c0bbd77d-4cc2-4eb3-9aaa-bf390e15a603",
   "metadata": {},
   "outputs": [
    {
     "data": {
      "text/plain": [
       "(5, 6)"
      ]
     },
     "execution_count": 77,
     "metadata": {},
     "output_type": "execute_result"
    }
   ],
   "source": [
    "reshape_dizim.shape"
   ]
  },
  {
   "cell_type": "code",
   "execution_count": 78,
   "id": "c8ba5441-f8f7-452d-9b40-891239df2c76",
   "metadata": {},
   "outputs": [],
   "source": [
    "# Bu bizim ifademizin şeklini veriyor"
   ]
  }
 ],
 "metadata": {
  "kernelspec": {
   "display_name": "Python 3 (ipykernel)",
   "language": "python",
   "name": "python3"
  },
  "language_info": {
   "codemirror_mode": {
    "name": "ipython",
    "version": 3
   },
   "file_extension": ".py",
   "mimetype": "text/x-python",
   "name": "python",
   "nbconvert_exporter": "python",
   "pygments_lexer": "ipython3",
   "version": "3.9.20"
  }
 },
 "nbformat": 4,
 "nbformat_minor": 5
}
