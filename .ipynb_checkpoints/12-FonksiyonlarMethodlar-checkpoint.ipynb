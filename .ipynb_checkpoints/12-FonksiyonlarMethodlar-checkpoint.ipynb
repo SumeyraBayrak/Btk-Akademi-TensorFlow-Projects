{
 "cells": [
  {
   "cell_type": "markdown",
   "id": "611049ee-61f2-4bff-8988-5daae2854fbf",
   "metadata": {},
   "source": [
    "# Fonksiyon ve Methodlar"
   ]
  },
  {
   "cell_type": "code",
   "execution_count": 4,
   "id": "4fb25800-649a-4d50-a739-cb5a019941b2",
   "metadata": {},
   "outputs": [],
   "source": [
    " benim_adım = \"Sumeyra Bayrak\""
   ]
  },
  {
   "cell_type": "code",
   "execution_count": 9,
   "id": "113c543b-f3cb-4e8e-b139-78431eeef98b",
   "metadata": {},
   "outputs": [],
   "source": [
    "benim_adım_upper = benim_adım.upper()"
   ]
  },
  {
   "cell_type": "code",
   "execution_count": 10,
   "id": "49fe6bd2-9ed1-44ee-9265-221a881c0faf",
   "metadata": {},
   "outputs": [
    {
     "data": {
      "text/plain": [
       "'Sumeyra Bayrak'"
      ]
     },
     "execution_count": 10,
     "metadata": {},
     "output_type": "execute_result"
    }
   ],
   "source": [
    "benim_adım"
   ]
  },
  {
   "cell_type": "code",
   "execution_count": 11,
   "id": "718341df-c559-4852-b964-7967d9e945e5",
   "metadata": {},
   "outputs": [
    {
     "data": {
      "text/plain": [
       "'SUMEYRA BAYRAK'"
      ]
     },
     "execution_count": 11,
     "metadata": {},
     "output_type": "execute_result"
    }
   ],
   "source": [
    "benim_adım_upper"
   ]
  },
  {
   "cell_type": "code",
   "execution_count": 7,
   "id": "ca629a08-e11e-473a-a3bf-68d0a93a3168",
   "metadata": {},
   "outputs": [],
   "source": [
    "# upper method'u tum string karakterleri \n",
    "# büyük harf'e çevirir fakat string ifadeyi değiştirmez bir kopyasını oluşturur"
   ]
  },
  {
   "cell_type": "code",
   "execution_count": 12,
   "id": "243e1cb2-098f-47e7-9fb0-23a42425fe52",
   "metadata": {},
   "outputs": [
    {
     "name": "stdout",
     "output_type": "stream",
     "text": [
      "Help on built-in function upper:\n",
      "\n",
      "upper() method of builtins.str instance\n",
      "    Return a copy of the string converted to uppercase.\n",
      "\n"
     ]
    }
   ],
   "source": [
    "help(benim_adım_upper.upper)"
   ]
  },
  {
   "cell_type": "code",
   "execution_count": 13,
   "id": "a64fa4ca-7133-40b6-b3d0-91f5fc01271f",
   "metadata": {},
   "outputs": [],
   "source": [
    "# Return a copy of the string burada da dediği gibi asıl string üzerinde değişiklik\n",
    "# yapmıyor bir copy oluşturuyor."
   ]
  },
  {
   "cell_type": "code",
   "execution_count": 14,
   "id": "1a493cc5-66a1-44fc-bbd0-810cd2dc8ab9",
   "metadata": {},
   "outputs": [],
   "source": [
    "def ilkFonksiyon():\n",
    "    print(\"ilk fonksiyonum\")"
   ]
  },
  {
   "cell_type": "code",
   "execution_count": 15,
   "id": "c34ac350-09e1-4d30-a8e1-72754c4a4fb9",
   "metadata": {},
   "outputs": [],
   "source": [
    "# Python bize kurulu method'lar getiriyor onun haricinde biz de kendi fonksiyonlarımızı\n",
    "# yazabiliyoruz "
   ]
  },
  {
   "cell_type": "code",
   "execution_count": 16,
   "id": "0353b94a-0296-4db7-8e5c-b11fcde03ab4",
   "metadata": {},
   "outputs": [],
   "source": [
    "def ilk_fonksiyon():\n",
    "    print(\"İlk Fonksiyonum\")    "
   ]
  },
  {
   "cell_type": "code",
   "execution_count": 17,
   "id": "20abad50-7c72-444f-a6c7-6960e922380c",
   "metadata": {},
   "outputs": [
    {
     "name": "stdout",
     "output_type": "stream",
     "text": [
      "İlk Fonksiyonum\n"
     ]
    }
   ],
   "source": [
    "ilk_fonksiyon()"
   ]
  },
  {
   "cell_type": "code",
   "execution_count": 18,
   "id": "13f267d7-576a-4a5c-af3c-ddb6582c5c19",
   "metadata": {},
   "outputs": [],
   "source": [
    "# def anahtar kelimesi ile fonksiyon oluşturabiliyoruz ve ilk_fonksiyon() şeklinde\n",
    "# çağırdığızızda altındaki kod bloğu çalışacaktır"
   ]
  },
  {
   "cell_type": "code",
   "execution_count": 1,
   "id": "136e98b1-62b7-4a64-a008-2d7a379ab1ce",
   "metadata": {},
   "outputs": [],
   "source": [
    "# Faksiyonlar, kodalarımızı düzenli yazma olanağı sağlıyor\n",
    "# Fonksiyor bir kod bloğunu birden fazla yazmamamızı önler. istediğimiz zaman fonksiyonu çağırabiliriz.\n",
    "# Fonsiyorlar, girdi ve çıktı işlemleri yapabiliyoruz"
   ]
  },
  {
   "cell_type": "markdown",
   "id": "1a18be8d-a087-46d9-9b00-c4f01cd7ea3d",
   "metadata": {},
   "source": [
    "## İnput & return"
   ]
  },
  {
   "cell_type": "code",
   "execution_count": 7,
   "id": "0f0fae93-d0c1-4e25-92ed-85244482c98d",
   "metadata": {},
   "outputs": [],
   "source": [
    "def merhaba_dunya(name):\n",
    "    print(\"Merhaba\")\n",
    "    print(name)"
   ]
  },
  {
   "cell_type": "code",
   "execution_count": 11,
   "id": "6aa860bd-aa24-4328-9598-1074aa91cde2",
   "metadata": {},
   "outputs": [
    {
     "ename": "TypeError",
     "evalue": "merhaba_dunya() missing 1 required positional argument: 'name'",
     "output_type": "error",
     "traceback": [
      "\u001b[1;31m---------------------------------------------------------------------------\u001b[0m",
      "\u001b[1;31mTypeError\u001b[0m                                 Traceback (most recent call last)",
      "Cell \u001b[1;32mIn[11], line 1\u001b[0m\n\u001b[1;32m----> 1\u001b[0m merhaba_dunya()\n",
      "\u001b[1;31mTypeError\u001b[0m: merhaba_dunya() missing 1 required positional argument: 'name'"
     ]
    }
   ],
   "source": [
    "merhaba_dunya()"
   ]
  },
  {
   "cell_type": "code",
   "execution_count": null,
   "id": "08beb463-350b-4c15-843e-78d305659394",
   "metadata": {},
   "outputs": [],
   "source": [
    "# missing 1 required positional argument: 'name' fonsiyonun içinde bir arguman kullanmanı dile getiriyor"
   ]
  },
  {
   "cell_type": "code",
   "execution_count": 12,
   "id": "86e4882a-b70f-4633-ba52-58922836e217",
   "metadata": {},
   "outputs": [
    {
     "name": "stdout",
     "output_type": "stream",
     "text": [
      "Merhaba\n",
      "sumeyra\n"
     ]
    }
   ],
   "source": [
    "merhaba_dunya(\"sumeyra\")"
   ]
  },
  {
   "cell_type": "code",
   "execution_count": 13,
   "id": "47bf717d-bd52-4a0f-bf23-b2e606be7256",
   "metadata": {},
   "outputs": [
    {
     "name": "stdout",
     "output_type": "stream",
     "text": [
      "Merhaba\n",
      "Python\n"
     ]
    }
   ],
   "source": [
    "merhaba_dunya(\"Python\")"
   ]
  },
  {
   "cell_type": "code",
   "execution_count": 19,
   "id": "aee165ca-901d-4bc4-821e-a9c32999b6df",
   "metadata": {},
   "outputs": [],
   "source": [
    "def merhaba(isim = \"sumeyra\"):\n",
    "    print(\"merhaba\")\n",
    "    print(isim)"
   ]
  },
  {
   "cell_type": "code",
   "execution_count": 20,
   "id": "b80071da-96d2-458d-8625-4f78d9db775d",
   "metadata": {},
   "outputs": [
    {
     "name": "stdout",
     "output_type": "stream",
     "text": [
      "merhaba\n",
      "sumeyra\n"
     ]
    }
   ],
   "source": [
    "merhaba()"
   ]
  },
  {
   "cell_type": "code",
   "execution_count": 17,
   "id": "b67820b8-7392-4d47-bcda-5d42f3e3ce51",
   "metadata": {},
   "outputs": [],
   "source": [
    "# !! isim = \"sumeyra\" bu şekilde yazdığımızda girdi girilmediğinde sumeyra ismi print edilecek"
   ]
  },
  {
   "cell_type": "code",
   "execution_count": 21,
   "id": "b1d1fc9d-8387-429a-a4e7-f95f1b1ffb36",
   "metadata": {},
   "outputs": [
    {
     "name": "stdout",
     "output_type": "stream",
     "text": [
      "merhaba\n",
      "Hasan\n"
     ]
    }
   ],
   "source": [
    "merhaba(\"Hasan\")"
   ]
  },
  {
   "cell_type": "code",
   "execution_count": 22,
   "id": "3decc62f-232d-42e5-a900-e8919abe4b37",
   "metadata": {},
   "outputs": [],
   "source": [
    "# parametre yazıldığında ise gördüğün gibi çıktı olarak alacaksın"
   ]
  },
  {
   "cell_type": "code",
   "execution_count": 23,
   "id": "06914b8a-0587-49b3-9145-665af6685c4f",
   "metadata": {},
   "outputs": [],
   "source": [
    "def toplama(numara1, numara2):\n",
    "    sonuc = numara1 + numara2\n",
    "    print(sonuc)"
   ]
  },
  {
   "cell_type": "code",
   "execution_count": 24,
   "id": "bc3628cd-5a4e-4364-8e14-514fedc690d4",
   "metadata": {},
   "outputs": [
    {
     "name": "stdout",
     "output_type": "stream",
     "text": [
      "500\n"
     ]
    }
   ],
   "source": [
    "toplama(200, 300)"
   ]
  },
  {
   "cell_type": "code",
   "execution_count": 25,
   "id": "8d7e26a5-019e-4662-b882-3cdd0e8ae838",
   "metadata": {},
   "outputs": [
    {
     "name": "stdout",
     "output_type": "stream",
     "text": [
      "-150\n"
     ]
    }
   ],
   "source": [
    "toplama(-200, 50)"
   ]
  },
  {
   "cell_type": "code",
   "execution_count": 26,
   "id": "69b86224-f7e4-486d-8d7f-8be116e0d836",
   "metadata": {},
   "outputs": [],
   "source": [
    "# iki parametre ile fonksiyon yazabiliiyoruz."
   ]
  },
  {
   "cell_type": "code",
   "execution_count": 28,
   "id": "5ed9b9f5-d945-4a10-a399-096ba8c2fd80",
   "metadata": {},
   "outputs": [],
   "source": [
    "def superToplama(num1, num2, num3):\n",
    "    print(num1 + num2 + num3)"
   ]
  },
  {
   "cell_type": "code",
   "execution_count": 29,
   "id": "73490069-9634-46fe-8b18-1a33263bd414",
   "metadata": {},
   "outputs": [
    {
     "name": "stdout",
     "output_type": "stream",
     "text": [
      "90\n"
     ]
    }
   ],
   "source": [
    "superToplama(10,20,60)"
   ]
  },
  {
   "cell_type": "code",
   "execution_count": 30,
   "id": "7eb5ff0a-f379-4d6a-8b2c-8e4e2d362dc0",
   "metadata": {},
   "outputs": [],
   "source": [
    "# Kaç tane parametre kullanığın bir önemi 1,2,3 ve daha fazla parametre kullanabilirsin"
   ]
  },
  {
   "cell_type": "code",
   "execution_count": 31,
   "id": "1f0dfbb1-c26a-4780-bf0f-5e2b492bfbad",
   "metadata": {},
   "outputs": [
    {
     "name": "stdout",
     "output_type": "stream",
     "text": [
      "50\n"
     ]
    }
   ],
   "source": [
    "yeni_değisken = toplama(20, 30)"
   ]
  },
  {
   "cell_type": "code",
   "execution_count": 33,
   "id": "0cc881cb-0f23-485b-b8dd-d832df1002e1",
   "metadata": {},
   "outputs": [],
   "source": [
    "yeni_değisken"
   ]
  },
  {
   "cell_type": "code",
   "execution_count": 34,
   "id": "bc4387af-4b86-41b3-ae5e-6e943b2a161e",
   "metadata": {},
   "outputs": [
    {
     "data": {
      "text/plain": [
       "NoneType"
      ]
     },
     "execution_count": 34,
     "metadata": {},
     "output_type": "execute_result"
    }
   ],
   "source": [
    "type(yeni_değisken)"
   ]
  },
  {
   "cell_type": "code",
   "execution_count": 36,
   "id": "6e2fc290-6816-467e-8b83-412154be2c3b",
   "metadata": {},
   "outputs": [],
   "source": [
    "# ilk başta sana 50 değerini vermiş olsada toplama adlı fonksiyon sana bir değer dönmüyor\n",
    "# NoneType, bu değerin boş olduğunu yani; bir ifadeye yaok fonsiyon bir değer veriyor ama döndürmüyor"
   ]
  },
  {
   "cell_type": "code",
   "execution_count": 38,
   "id": "b32786e1-93ca-4a50-9ad8-50dbe115c129",
   "metadata": {},
   "outputs": [],
   "source": [
    "def dondurmeliToplama(num1, num2):\n",
    "    return num1 + num2"
   ]
  },
  {
   "cell_type": "code",
   "execution_count": 39,
   "id": "08a1a139-65c9-4d67-b2da-5c27e8e20070",
   "metadata": {},
   "outputs": [],
   "source": [
    "yeni_sonuc = dondurmeliToplama(20,30)"
   ]
  },
  {
   "cell_type": "code",
   "execution_count": 41,
   "id": "69293142-39af-42ea-ac91-d2a1de4179b5",
   "metadata": {},
   "outputs": [
    {
     "data": {
      "text/plain": [
       "50"
      ]
     },
     "execution_count": 41,
     "metadata": {},
     "output_type": "execute_result"
    }
   ],
   "source": [
    "yeni_sonuc"
   ]
  },
  {
   "cell_type": "code",
   "execution_count": 42,
   "id": "74bc5765-d146-4acb-9962-343880a46508",
   "metadata": {},
   "outputs": [
    {
     "data": {
      "text/plain": [
       "int"
      ]
     },
     "execution_count": 42,
     "metadata": {},
     "output_type": "execute_result"
    }
   ],
   "source": [
    "type(yeni_sonuc)"
   ]
  },
  {
   "cell_type": "code",
   "execution_count": null,
   "id": "4ebfe136-d88f-4d6d-9563-52df0ff20e97",
   "metadata": {},
   "outputs": [],
   "source": []
  },
  {
   "cell_type": "code",
   "execution_count": 43,
   "id": "83d0d9eb-985b-4514-807b-6179fbbd45ef",
   "metadata": {},
   "outputs": [],
   "source": [
    "# fonsiyonda Return kullanıldığında hem sana işlem sonucunu veriyor hem de çıktıyı bir değişkene atayabiliyorsun"
   ]
  },
  {
   "cell_type": "markdown",
   "id": "beb20cc2-e000-4a1c-94d6-1797aec682d8",
   "metadata": {},
   "source": [
    "# Args & kwargs (KeyWord Args)\n"
   ]
  },
  {
   "cell_type": "code",
   "execution_count": 7,
   "id": "b21f0317-efbe-42e6-a4b5-c10f4debb40f",
   "metadata": {},
   "outputs": [],
   "source": [
    "def yeniToplama(*args):\n",
    "    return sum(args)"
   ]
  },
  {
   "cell_type": "code",
   "execution_count": 49,
   "id": "408374cf-14ed-4c8d-a871-17c7b2323718",
   "metadata": {},
   "outputs": [],
   "source": [
    "# sum : Python toplama fonsiyonu\n",
    "# *args anlamı kullanıcının isteğine bağlı arguman sayısı olabilir demek 1,3,70 olamabirlir sınır yok"
   ]
  },
  {
   "cell_type": "code",
   "execution_count": 51,
   "id": "80c072d2-1084-438b-a3c5-11900ed907a1",
   "metadata": {},
   "outputs": [
    {
     "data": {
      "text/plain": [
       "130"
      ]
     },
     "execution_count": 51,
     "metadata": {},
     "output_type": "execute_result"
    }
   ],
   "source": [
    "yeniToplama(20,40,70)"
   ]
  },
  {
   "cell_type": "code",
   "execution_count": 52,
   "id": "0ffb09aa-a1b8-4f41-827e-c5780b2ec4c9",
   "metadata": {},
   "outputs": [
    {
     "data": {
      "text/plain": [
       "20"
      ]
     },
     "execution_count": 52,
     "metadata": {},
     "output_type": "execute_result"
    }
   ],
   "source": [
    "yeniToplama(20)"
   ]
  },
  {
   "cell_type": "code",
   "execution_count": 53,
   "id": "a265e1e0-8e4f-4074-bf86-83ab93412f42",
   "metadata": {},
   "outputs": [
    {
     "data": {
      "text/plain": [
       "418"
      ]
     },
     "execution_count": 53,
     "metadata": {},
     "output_type": "execute_result"
    }
   ],
   "source": [
    "yeniToplama(20,70,80,90,100,5,42,6,2,3)"
   ]
  },
  {
   "cell_type": "code",
   "execution_count": 54,
   "id": "16755e95-b7c0-4072-9943-3e6af38d57c8",
   "metadata": {},
   "outputs": [],
   "source": [
    "# Gördüğün gibi tamamen isteğine bağlı olarak argüman yazabilirsin"
   ]
  },
  {
   "cell_type": "code",
   "execution_count": 1,
   "id": "9b3e60ea-23ba-47fc-9eff-c9b3918a4d8d",
   "metadata": {},
   "outputs": [],
   "source": [
    "def benim_fonksiyonum(*args):\n",
    "    return args"
   ]
  },
  {
   "cell_type": "code",
   "execution_count": 4,
   "id": "5f9ba565-9589-4342-bce2-847c0029bdc2",
   "metadata": {},
   "outputs": [
    {
     "data": {
      "text/plain": [
       "(20, 30, 40)"
      ]
     },
     "execution_count": 4,
     "metadata": {},
     "output_type": "execute_result"
    }
   ],
   "source": [
    "benim_fonksiyonum(20,30,40)"
   ]
  },
  {
   "cell_type": "code",
   "execution_count": 2,
   "id": "8d584ee1-42ce-44d0-be40-7a81201c79e0",
   "metadata": {},
   "outputs": [
    {
     "data": {
      "text/plain": [
       "tuple"
      ]
     },
     "execution_count": 2,
     "metadata": {},
     "output_type": "execute_result"
    }
   ],
   "source": [
    "type(benim_fonksiyonum(20,30,40))"
   ]
  },
  {
   "cell_type": "code",
   "execution_count": 6,
   "id": "08efbba1-2c78-4db0-a432-46e79b2f9cc4",
   "metadata": {},
   "outputs": [],
   "source": [
    "# Gördüğün gibi *ars'la şeklinde argüman yazdığında sana bir tuple döndürecektir."
   ]
  },
  {
   "cell_type": "code",
   "execution_count": 8,
   "id": "c5e1d27b-21b6-4031-8443-7161b42aec37",
   "metadata": {},
   "outputs": [],
   "source": [
    "def ornek_fonksiyon(**kwargs):\n",
    "    return(kwargs)"
   ]
  },
  {
   "cell_type": "code",
   "execution_count": 9,
   "id": "3ac44f4c-d465-49be-aa43-4b344278865b",
   "metadata": {},
   "outputs": [
    {
     "data": {
      "text/plain": [
       "{'muz': 100, 'elma': 200, 'ananas': 300}"
      ]
     },
     "execution_count": 9,
     "metadata": {},
     "output_type": "execute_result"
    }
   ],
   "source": [
    "ornek_fonksiyon(muz = 100, elma = 200, ananas = 300)"
   ]
  },
  {
   "cell_type": "code",
   "execution_count": 10,
   "id": "1555d02d-3602-4fd5-93d4-1d2b192ab050",
   "metadata": {},
   "outputs": [
    {
     "data": {
      "text/plain": [
       "dict"
      ]
     },
     "execution_count": 10,
     "metadata": {},
     "output_type": "execute_result"
    }
   ],
   "source": [
    "type(ornek_fonksiyon(muz = 100, elma = 200, ananas = 300))"
   ]
  },
  {
   "cell_type": "code",
   "execution_count": 11,
   "id": "63e1457c-f167-4d2b-a554-0615e4501bfc",
   "metadata": {},
   "outputs": [],
   "source": [
    "# **kwargs ile bir argüman yazdığında key ve value şeklinde değer yazabilirsin v esana dict döner"
   ]
  },
  {
   "cell_type": "code",
   "execution_count": 12,
   "id": "c3e99bdd-1f87-4fe8-9fc5-1ea721e573ee",
   "metadata": {},
   "outputs": [],
   "source": [
    "def keyWordKontrolu(**kwargs):\n",
    "    if \"sumeyra\" in kwargs:\n",
    "        print(\"sumeyra var\")\n",
    "    else:\n",
    "        print(\"sumeyyra yok\")"
   ]
  },
  {
   "cell_type": "code",
   "execution_count": 13,
   "id": "b818a9fd-7b3d-4453-9c97-126982cb4a5e",
   "metadata": {},
   "outputs": [
    {
     "name": "stdout",
     "output_type": "stream",
     "text": [
      "sumeyra var\n"
     ]
    }
   ],
   "source": [
    "keyWordKontrolu(sumeyra = 26, lale = 42, lili = 70)"
   ]
  },
  {
   "cell_type": "code",
   "execution_count": 14,
   "id": "70d9dca8-7c72-4d54-b74a-4d107f80f231",
   "metadata": {},
   "outputs": [],
   "source": [
    "# Gördüğün gibi **kwargs ile key kontrolüde yapabiliyorsun "
   ]
  }
 ],
 "metadata": {
  "kernelspec": {
   "display_name": "Python 3 (ipykernel)",
   "language": "python",
   "name": "python3"
  },
  "language_info": {
   "codemirror_mode": {
    "name": "ipython",
    "version": 3
   },
   "file_extension": ".py",
   "mimetype": "text/x-python",
   "name": "python",
   "nbconvert_exporter": "python",
   "pygments_lexer": "ipython3",
   "version": "3.12.4"
  }
 },
 "nbformat": 4,
 "nbformat_minor": 5
}
