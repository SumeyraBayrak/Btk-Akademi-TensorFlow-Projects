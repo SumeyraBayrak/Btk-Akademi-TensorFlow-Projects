{
 "cells": [
  {
   "cell_type": "markdown",
   "id": "beefe6a9-05f7-490b-aed8-5a2d11b0cedb",
   "metadata": {},
   "source": [
    "https://numpy.org/doc/stable/user/index.html\n",
    "Dökümasyonlara buradan bakabilirsin"
   ]
  },
  {
   "cell_type": "markdown",
   "id": "60586b16-8004-45e9-9b7a-4527d182fe05",
   "metadata": {},
   "source": [
    "# Numpy Array"
   ]
  },
  {
   "cell_type": "code",
   "execution_count": 3,
   "id": "c6506d8b-73cd-4f56-a990-579a33575be0",
   "metadata": {},
   "outputs": [],
   "source": [
    "benim_listem = [20,30,40]"
   ]
  },
  {
   "cell_type": "code",
   "execution_count": 4,
   "id": "e5ab03db-8c0a-4f20-b74b-fd2d72057eec",
   "metadata": {},
   "outputs": [
    {
     "data": {
      "text/plain": [
       "list"
      ]
     },
     "execution_count": 4,
     "metadata": {},
     "output_type": "execute_result"
    }
   ],
   "source": [
    "type(benim_listem)"
   ]
  },
  {
   "cell_type": "code",
   "execution_count": 5,
   "id": "5ce1c8fd-ea81-4ee9-a3fb-d577126526b0",
   "metadata": {},
   "outputs": [],
   "source": [
    "import numpy as np"
   ]
  },
  {
   "cell_type": "code",
   "execution_count": 6,
   "id": "d35c05a6-9fef-4ed3-a64d-011d41d210c3",
   "metadata": {},
   "outputs": [
    {
     "data": {
      "text/plain": [
       "array([20, 30, 40])"
      ]
     },
     "execution_count": 6,
     "metadata": {},
     "output_type": "execute_result"
    }
   ],
   "source": [
    "np.array(benim_listem)"
   ]
  },
  {
   "cell_type": "code",
   "execution_count": 7,
   "id": "57101c07-a2e1-43f1-8fda-274933635f12",
   "metadata": {},
   "outputs": [
    {
     "data": {
      "text/plain": [
       "numpy.ndarray"
      ]
     },
     "execution_count": 7,
     "metadata": {},
     "output_type": "execute_result"
    }
   ],
   "source": [
    "type(np.array(benim_listem))"
   ]
  },
  {
   "cell_type": "code",
   "execution_count": 8,
   "id": "fe942ef5-271b-4725-9feb-26c2aac402cb",
   "metadata": {},
   "outputs": [],
   "source": [
    "# Numpy dizisine çevirdik list elemanını "
   ]
  },
  {
   "cell_type": "code",
   "execution_count": 9,
   "id": "f5369883-8eae-49a7-b849-05815a8fb8f3",
   "metadata": {},
   "outputs": [],
   "source": [
    "matrixListesi = [[10,20,30], [40,50,60],[70,80,90]]"
   ]
  },
  {
   "cell_type": "code",
   "execution_count": 10,
   "id": "1249ec30-fa5a-4db8-919a-64f7b8222656",
   "metadata": {},
   "outputs": [],
   "source": [
    "## Burada, list içersinde list oluşturduk. "
   ]
  },
  {
   "cell_type": "code",
   "execution_count": 11,
   "id": "21519070-3616-48a7-8f49-db9cad42b1fe",
   "metadata": {},
   "outputs": [
    {
     "data": {
      "text/plain": [
       "[40, 50, 60]"
      ]
     },
     "execution_count": 11,
     "metadata": {},
     "output_type": "execute_result"
    }
   ],
   "source": [
    "matrixListesi[1]"
   ]
  },
  {
   "cell_type": "code",
   "execution_count": 12,
   "id": "f0ef1506-9735-46cf-ab35-762b5c831d66",
   "metadata": {},
   "outputs": [
    {
     "data": {
      "text/plain": [
       "40"
      ]
     },
     "execution_count": 12,
     "metadata": {},
     "output_type": "execute_result"
    }
   ],
   "source": [
    "matrixListesi[1][0]"
   ]
  },
  {
   "cell_type": "code",
   "execution_count": 13,
   "id": "f4340b2b-c15b-47bc-8dc3-f045fba2898e",
   "metadata": {},
   "outputs": [],
   "source": [
    "## Burada list'in elemanlarına ulaştık"
   ]
  },
  {
   "cell_type": "code",
   "execution_count": 14,
   "id": "3c171aae-76db-4c6d-b8eb-42bcb2fcef34",
   "metadata": {},
   "outputs": [
    {
     "data": {
      "text/plain": [
       "array([[10, 20, 30],\n",
       "       [40, 50, 60],\n",
       "       [70, 80, 90]])"
      ]
     },
     "execution_count": 14,
     "metadata": {},
     "output_type": "execute_result"
    }
   ],
   "source": [
    "np.array(matrixListesi)"
   ]
  },
  {
   "cell_type": "code",
   "execution_count": 15,
   "id": "dae3110f-8774-4f05-a02b-65ac840a9934",
   "metadata": {},
   "outputs": [],
   "source": [
    "## np.array() ile list'i dizine çevirebiliyoruz\n",
    "## Neden Numpy Dizinine çeviiriz?\n",
    "# Matrix şekilde görünüm elde edebiliyoruz bu da bize veri ile kolay çalışma imkanı sunar\n",
    "# Matrix'imizin bir satırı veya sutunu referans verme imkanı sunar"
   ]
  },
  {
   "cell_type": "markdown",
   "id": "d348307f-aedc-48dc-8578-ea11e74c5810",
   "metadata": {},
   "source": [
    "Not: Numpy dizileri list'lerden dönüştürmek zorunda değiliz hatırlarsan range()\n",
    "fonksiyonu ile list oluşturabiliyorduk aynı şekilde numpy dizilerinide farklı methodlarla oluşturabiliriz."
   ]
  },
  {
   "cell_type": "markdown",
   "id": "24f2dd12-8f13-4797-9df6-cf5712c8f048",
   "metadata": {},
   "source": [
    "# Arange"
   ]
  },
  {
   "cell_type": "code",
   "execution_count": 16,
   "id": "fa33c3fe-b144-4c0d-9419-1bf05df00890",
   "metadata": {},
   "outputs": [
    {
     "data": {
      "text/plain": [
       "[0, 1, 2, 3, 4, 5, 6, 7, 8, 9]"
      ]
     },
     "execution_count": 16,
     "metadata": {},
     "output_type": "execute_result"
    }
   ],
   "source": [
    "list(range(0, 10))"
   ]
  },
  {
   "cell_type": "code",
   "execution_count": 17,
   "id": "0fa56715-405f-4b33-9e0d-aaefe44169de",
   "metadata": {},
   "outputs": [],
   "source": [
    "# Biz range ile list oluşturabiliyoruz"
   ]
  },
  {
   "cell_type": "code",
   "execution_count": 18,
   "id": "1d5672a6-952f-4451-b99d-fb00beae586f",
   "metadata": {},
   "outputs": [
    {
     "data": {
      "text/plain": [
       "array([0, 1, 2, 3, 4, 5, 6, 7, 8, 9])"
      ]
     },
     "execution_count": 18,
     "metadata": {},
     "output_type": "execute_result"
    }
   ],
   "source": [
    "np.arange(0,10)"
   ]
  },
  {
   "cell_type": "code",
   "execution_count": 19,
   "id": "75d4b0e3-3cd8-4a2e-9ad6-66d9a9f110b1",
   "metadata": {},
   "outputs": [],
   "source": [
    "# Numpy dizilerinde ise biz np.arange ile kendi dizilerimizi oluşturabiliyoruz."
   ]
  },
  {
   "cell_type": "code",
   "execution_count": 20,
   "id": "9e26f3d0-4b78-4aa5-b9f2-62958299f6d0",
   "metadata": {},
   "outputs": [
    {
     "data": {
      "text/plain": [
       "array([0, 2, 4, 6, 8])"
      ]
     },
     "execution_count": 20,
     "metadata": {},
     "output_type": "execute_result"
    }
   ],
   "source": [
    "np.arange(0,10,2)"
   ]
  },
  {
   "cell_type": "code",
   "execution_count": 21,
   "id": "3a227c11-6bd7-4d4b-93c6-cfc3f6dba4a2",
   "metadata": {},
   "outputs": [],
   "source": [
    "## Aynı şekikilde arange de step size elemanı verebiliyoruz."
   ]
  },
  {
   "cell_type": "code",
   "execution_count": 22,
   "id": "a29054f5-727e-48f9-bc10-e55235264b48",
   "metadata": {},
   "outputs": [
    {
     "data": {
      "text/plain": [
       "array([ 0,  2,  4,  6,  8, 10, 12, 14, 16, 18])"
      ]
     },
     "execution_count": 22,
     "metadata": {},
     "output_type": "execute_result"
    }
   ],
   "source": [
    "np.arange(0,20,2)"
   ]
  },
  {
   "cell_type": "markdown",
   "id": "5cded64c-26a3-4cec-8d92-b51d441e2f37",
   "metadata": {},
   "source": [
    "# Zeros"
   ]
  },
  {
   "cell_type": "code",
   "execution_count": 23,
   "id": "2a4629ed-8e8e-4643-9c7c-0ff3331efa87",
   "metadata": {},
   "outputs": [],
   "source": [
    "# Sıfırdan oluşan bir dizin oluşturmak istediğimizde kullanıyorz"
   ]
  },
  {
   "cell_type": "code",
   "execution_count": 24,
   "id": "96495472-6d6c-409a-9287-b52023c84c89",
   "metadata": {},
   "outputs": [
    {
     "data": {
      "text/plain": [
       "array([0., 0., 0., 0., 0.])"
      ]
     },
     "execution_count": 24,
     "metadata": {},
     "output_type": "execute_result"
    }
   ],
   "source": [
    "np.zeros(5)"
   ]
  },
  {
   "cell_type": "code",
   "execution_count": 25,
   "id": "4c837956-582a-4ac0-b737-9cf92b13cdde",
   "metadata": {},
   "outputs": [
    {
     "data": {
      "text/plain": [
       "array([[0., 0., 0., 0., 0.],\n",
       "       [0., 0., 0., 0., 0.],\n",
       "       [0., 0., 0., 0., 0.],\n",
       "       [0., 0., 0., 0., 0.],\n",
       "       [0., 0., 0., 0., 0.]])"
      ]
     },
     "execution_count": 25,
     "metadata": {},
     "output_type": "execute_result"
    }
   ],
   "source": [
    "np.zeros((5,5))"
   ]
  },
  {
   "cell_type": "markdown",
   "id": "39279b38-578b-4ef7-96e7-f2a2af85171a",
   "metadata": {},
   "source": [
    "# One"
   ]
  },
  {
   "cell_type": "code",
   "execution_count": 26,
   "id": "81d5f600-752b-4ff5-9e83-9ed79ff2ea06",
   "metadata": {},
   "outputs": [],
   "source": [
    "# Birden oluşan bir dizin oluşturmak içiin kullanıyoruz"
   ]
  },
  {
   "cell_type": "code",
   "execution_count": 27,
   "id": "91f11751-4953-45d5-acb3-8deaeb59c280",
   "metadata": {},
   "outputs": [
    {
     "data": {
      "text/plain": [
       "array([1., 1., 1., 1., 1.])"
      ]
     },
     "execution_count": 27,
     "metadata": {},
     "output_type": "execute_result"
    }
   ],
   "source": [
    "np.ones(5)"
   ]
  },
  {
   "cell_type": "code",
   "execution_count": 28,
   "id": "c90bf595-3a43-48e0-a125-04009eb5873d",
   "metadata": {},
   "outputs": [
    {
     "data": {
      "text/plain": [
       "array([[1., 1., 1., 1., 1.],\n",
       "       [1., 1., 1., 1., 1.],\n",
       "       [1., 1., 1., 1., 1.],\n",
       "       [1., 1., 1., 1., 1.],\n",
       "       [1., 1., 1., 1., 1.]])"
      ]
     },
     "execution_count": 28,
     "metadata": {},
     "output_type": "execute_result"
    }
   ],
   "source": [
    "np.ones((5,5))"
   ]
  },
  {
   "cell_type": "markdown",
   "id": "ff473e4f-efcb-41a6-bc92-56a8776aaf73",
   "metadata": {},
   "source": [
    "# Linspace "
   ]
  },
  {
   "cell_type": "markdown",
   "id": "771d5880-9008-4f4e-a65e-05ae41481264",
   "metadata": {},
   "source": [
    "## `linspace` Fonksiyonunun Kullanımı\n",
    "\n",
    "`linspace`, NumPy kütüphanesinde bulunan bir fonksiyondur ve belirli bir aralıkta eşit aralıklarla yerleştirilmiş sayılardan oluşan bir dizi (array) oluşturmak için kullanılır. Özellikle sayısal analiz ve bilimsel hesaplamalarda yaygın olarak kullanılır.\n",
    "\n",
    "### Söz Dizimi"
   ]
  },
  {
   "cell_type": "code",
   "execution_count": 29,
   "id": "2abdf694-086e-4a3f-8d80-d48d618dfe25",
   "metadata": {},
   "outputs": [],
   "source": [
    "start = 0\n",
    "stop = 40"
   ]
  },
  {
   "cell_type": "code",
   "execution_count": 37,
   "id": "4d5538bc-cd71-49a1-a36a-f2f84ec57b08",
   "metadata": {},
   "outputs": [
    {
     "data": {
      "text/plain": [
       "(array([ 0.        ,  0.81632653,  1.63265306,  2.44897959,  3.26530612,\n",
       "         4.08163265,  4.89795918,  5.71428571,  6.53061224,  7.34693878,\n",
       "         8.16326531,  8.97959184,  9.79591837, 10.6122449 , 11.42857143,\n",
       "        12.24489796, 13.06122449, 13.87755102, 14.69387755, 15.51020408,\n",
       "        16.32653061, 17.14285714, 17.95918367, 18.7755102 , 19.59183673,\n",
       "        20.40816327, 21.2244898 , 22.04081633, 22.85714286, 23.67346939,\n",
       "        24.48979592, 25.30612245, 26.12244898, 26.93877551, 27.75510204,\n",
       "        28.57142857, 29.3877551 , 30.20408163, 31.02040816, 31.83673469,\n",
       "        32.65306122, 33.46938776, 34.28571429, 35.10204082, 35.91836735,\n",
       "        36.73469388, 37.55102041, 38.36734694, 39.18367347, 40.        ]),\n",
       " 0.8163265306122449)"
      ]
     },
     "execution_count": 37,
     "metadata": {},
     "output_type": "execute_result"
    }
   ],
   "source": [
    "np.linspace(start, stop, num=50, endpoint=True, retstep=True, dtype=None, axis=0)"
   ]
  },
  {
   "cell_type": "markdown",
   "id": "fff3313d-e7d9-4366-a8f3-7b304e62d8ce",
   "metadata": {},
   "source": [
    "### Parametreler\n",
    "\n",
    "- **start:** Oluşturulacak dizinin başlangıç değeri.\n",
    "- **stop:** Oluşturulacak dizinin bitiş değeri.\n",
    "- **num (opsiyonel):** Dizi içinde yer alacak olan örnek sayısı (default: 50).\n",
    "- **endpoint (opsiyonel):** True ise, bitiş değeri dizinin son elemanı olarak dahil edilir; False ise dahil edilmez (default: True).\n",
    "- **retstep (opsiyonel):** True ise, fonksiyon aynı zamanda örnekler arasındaki adım değerini de döndürür (default: False).\n",
    "- **dtype (opsiyonel):** Çıktı dizisinin veri tipi (default: None).\n",
    "- **axis (opsiyonel):** Oluşturulan dizinin yerleştirileceği eksen (default: 0).\n"
   ]
  },
  {
   "cell_type": "code",
   "execution_count": 33,
   "id": "0bef349c-ebc1-4738-a074-e580ed87e50f",
   "metadata": {},
   "outputs": [
    {
     "data": {
      "text/plain": [
       "array([ 0.,  5., 10., 15., 20.])"
      ]
     },
     "execution_count": 33,
     "metadata": {},
     "output_type": "execute_result"
    }
   ],
   "source": [
    "np.linspace(0,20,5)"
   ]
  },
  {
   "cell_type": "code",
   "execution_count": 34,
   "id": "ed6f3309-9cc8-4593-9706-4fcef25ae50c",
   "metadata": {},
   "outputs": [],
   "source": [
    "# Gördüğün gibi hepsinin arasında 5 kadar uzaklık var"
   ]
  },
  {
   "cell_type": "code",
   "execution_count": 35,
   "id": "faea6651-ea40-4ebc-bc2a-372337b3615d",
   "metadata": {},
   "outputs": [
    {
     "data": {
      "text/plain": [
       "array([ 0.,  4.,  8., 12., 16., 20.])"
      ]
     },
     "execution_count": 35,
     "metadata": {},
     "output_type": "execute_result"
    }
   ],
   "source": [
    "np.linspace(0,20,6)"
   ]
  },
  {
   "cell_type": "code",
   "execution_count": 36,
   "id": "eb77cc47-28af-4972-b2bb-f84fd5d655de",
   "metadata": {},
   "outputs": [],
   "source": [
    "# Burada her bir elemanın arasında 4 birimlik mesafe var"
   ]
  },
  {
   "cell_type": "code",
   "execution_count": 40,
   "id": "288d11c7-6733-41b3-b703-662ea65ca7d9",
   "metadata": {},
   "outputs": [
    {
     "data": {
      "text/plain": [
       "(array([ 0.        ,  0.52631579,  1.05263158,  1.57894737,  2.10526316,\n",
       "         2.63157895,  3.15789474,  3.68421053,  4.21052632,  4.73684211,\n",
       "         5.26315789,  5.78947368,  6.31578947,  6.84210526,  7.36842105,\n",
       "         7.89473684,  8.42105263,  8.94736842,  9.47368421, 10.        ]),\n",
       " 0.5263157894736842)"
      ]
     },
     "execution_count": 40,
     "metadata": {},
     "output_type": "execute_result"
    }
   ],
   "source": [
    "np.linspace(0,10,20, retstep = True)"
   ]
  },
  {
   "cell_type": "code",
   "execution_count": 41,
   "id": "8fc6d9fc-4fca-422d-8828-50b68bb9fb77",
   "metadata": {},
   "outputs": [],
   "source": [
    "# her eleman arasındaki mesafe  0.5263157894736842 olacak ayarladı topllamda da 10 sayı yaptı"
   ]
  },
  {
   "cell_type": "code",
   "execution_count": 47,
   "id": "38330dbf-ad86-49ed-a55d-5766233ea4f9",
   "metadata": {},
   "outputs": [
    {
     "data": {
      "text/plain": [
       "(array([ 0.        ,  1.11111111,  2.22222222,  3.33333333,  4.44444444,\n",
       "         5.55555556,  6.66666667,  7.77777778,  8.88888889, 10.        ]),\n",
       " 1.1111111111111112)"
      ]
     },
     "execution_count": 47,
     "metadata": {},
     "output_type": "execute_result"
    }
   ],
   "source": [
    "np.linspace(0,10,10, retstep = True)"
   ]
  },
  {
   "cell_type": "markdown",
   "id": "c45e0ed8-23e3-41bc-8a1b-3e50cb98220d",
   "metadata": {},
   "source": [
    "# Eye"
   ]
  },
  {
   "cell_type": "code",
   "execution_count": 48,
   "id": "7e7233a0-d28d-4936-8606-f5fa600e7e54",
   "metadata": {},
   "outputs": [],
   "source": [
    "## Birim matrix oluşturur"
   ]
  },
  {
   "cell_type": "code",
   "execution_count": 51,
   "id": "5bc7d47e-eca0-4769-85d6-329ddfabda5e",
   "metadata": {},
   "outputs": [
    {
     "data": {
      "text/plain": [
       "array([[1., 0., 0.],\n",
       "       [0., 1., 0.],\n",
       "       [0., 0., 1.]])"
      ]
     },
     "execution_count": 51,
     "metadata": {},
     "output_type": "execute_result"
    }
   ],
   "source": [
    "np.eye(3)"
   ]
  },
  {
   "cell_type": "code",
   "execution_count": 52,
   "id": "8d7194ed-1880-4caf-b914-7a51791d49b2",
   "metadata": {},
   "outputs": [
    {
     "data": {
      "text/plain": [
       "array([[1., 0., 0., 0., 0., 0., 0., 0., 0., 0.],\n",
       "       [0., 1., 0., 0., 0., 0., 0., 0., 0., 0.],\n",
       "       [0., 0., 1., 0., 0., 0., 0., 0., 0., 0.],\n",
       "       [0., 0., 0., 1., 0., 0., 0., 0., 0., 0.],\n",
       "       [0., 0., 0., 0., 1., 0., 0., 0., 0., 0.],\n",
       "       [0., 0., 0., 0., 0., 1., 0., 0., 0., 0.],\n",
       "       [0., 0., 0., 0., 0., 0., 1., 0., 0., 0.],\n",
       "       [0., 0., 0., 0., 0., 0., 0., 1., 0., 0.],\n",
       "       [0., 0., 0., 0., 0., 0., 0., 0., 1., 0.],\n",
       "       [0., 0., 0., 0., 0., 0., 0., 0., 0., 1.]])"
      ]
     },
     "execution_count": 52,
     "metadata": {},
     "output_type": "execute_result"
    }
   ],
   "source": [
    "np.eye(10)"
   ]
  }
 ],
 "metadata": {
  "kernelspec": {
   "display_name": "Python 3 (ipykernel)",
   "language": "python",
   "name": "python3"
  },
  "language_info": {
   "codemirror_mode": {
    "name": "ipython",
    "version": 3
   },
   "file_extension": ".py",
   "mimetype": "text/x-python",
   "name": "python",
   "nbconvert_exporter": "python",
   "pygments_lexer": "ipython3",
   "version": "3.12.4"
  }
 },
 "nbformat": 4,
 "nbformat_minor": 5
}
