{
 "cells": [
  {
   "cell_type": "code",
   "execution_count": 1,
   "id": "1827fbf3-9ab4-4460-8980-0455359cffa7",
   "metadata": {},
   "outputs": [],
   "source": [
    "benim_listem = list()"
   ]
  },
  {
   "cell_type": "code",
   "execution_count": 2,
   "id": "cc0e5ad9-d915-45c8-8a22-d121ab3aeddd",
   "metadata": {},
   "outputs": [
    {
     "data": {
      "text/plain": [
       "list"
      ]
     },
     "execution_count": 2,
     "metadata": {},
     "output_type": "execute_result"
    }
   ],
   "source": [
    "type(benim_listem)"
   ]
  },
  {
   "cell_type": "markdown",
   "id": "239f43fe-5ce2-4416-9c23-195f071c86c8",
   "metadata": {},
   "source": [
    "# instance & attribute"
   ]
  },
  {
   "cell_type": "code",
   "execution_count": null,
   "id": "a0535468-a6c7-4a6d-ad1e-df7116ae8799",
   "metadata": {},
   "outputs": [],
   "source": []
  }
 ],
 "metadata": {
  "kernelspec": {
   "display_name": "Python 3 (ipykernel)",
   "language": "python",
   "name": "python3"
  },
  "language_info": {
   "codemirror_mode": {
    "name": "ipython",
    "version": 3
   },
   "file_extension": ".py",
   "mimetype": "text/x-python",
   "name": "python",
   "nbconvert_exporter": "python",
   "pygments_lexer": "ipython3",
   "version": "3.12.4"
  }
 },
 "nbformat": 4,
 "nbformat_minor": 5
}
