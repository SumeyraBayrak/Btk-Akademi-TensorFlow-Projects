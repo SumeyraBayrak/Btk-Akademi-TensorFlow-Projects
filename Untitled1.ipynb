{
 "cells": [
  {
   "cell_type": "code",
   "execution_count": 1,
   "id": "7580dc66-a935-46f0-9146-8ee4e8f941f3",
   "metadata": {},
   "outputs": [
    {
     "data": {
      "image/png": "[encoded data removed]",
      "text/plain": [
       "<Figure size 640x480 with 1 Axes>"
      ]
     },
     "metadata": {},
     "output_type": "display_data"
    }
   ],
   "source": [
    "import matplotlib.pyplot as plt\n",
    "\n",
    "# Örnek veri\n",
    "x = [1, 2, 3, 4, 5]\n",
    "y = [2, 4, 5, 4, 5]\n",
    "\n",
    "# Scatter plot oluşturma\n",
    "plt.scatter(x, y)\n",
    "\n",
    "# Grafiği gösterme\n",
    "plt.xlabel(\"X Ekseni\")\n",
    "plt.ylabel(\"Y Ekseni\")\n",
    "plt.title(\"Scatter Plot Örneği\")\n",
    "plt.show()\n"
   ]
  },
  {
   "cell_type": "code",
   "execution_count": 2,
   "id": "a3f61bd8-ecd0-45f5-a618-4e8a791728a3",
   "metadata": {},
   "outputs": [
    {
     "name": "stdout",
     "output_type": "stream",
     "text": [
      "Outlier'lar temizlenmiş veri:\n",
      "   değerler\n",
      "1        12\n",
      "2        12\n",
      "3        13\n",
      "4        12\n",
      "5        14\n",
      "6        12\n",
      "7        13\n"
     ]
    }
   ],
   "source": [
    "import numpy as np\n",
    "import pandas as pd\n",
    "\n",
    "# Örnek veri seti\n",
    "data = {'değerler': [10, 12, 12, 13, 12, 14, 12, 13, 300]}  # 300 bir outlier\n",
    "df = pd.DataFrame(data)\n",
    "\n",
    "# Q1 ve Q3 hesaplama\n",
    "Q1 = df['değerler'].quantile(0.25)\n",
    "Q3 = df['değerler'].quantile(0.75)\n",
    "IQR = Q3 - Q1\n",
    "\n",
    "# Outlier sınırları\n",
    "lower_bound = Q1 - 1.5 * IQR\n",
    "upper_bound = Q3 + 1.5 * IQR\n",
    "\n",
    "# Outlier'ları filtreleme\n",
    "filtered_df = df[(df['değerler'] >= lower_bound) & (df['değerler'] <= upper_bound)]\n",
    "\n",
    "print(\"Outlier'lar temizlenmiş veri:\")\n",
    "print(filtered_df)\n",
    "\n"
   ]
  },
  {
   "cell_type": "code",
   "execution_count": 3,
   "id": "63210355-35c4-4ab9-ae52-89b000d9bafb",
   "metadata": {},
   "outputs": [
    {
     "name": "stdout",
     "output_type": "stream",
     "text": [
      "{'player1': 2, 'player2': 1}\n"
     ]
    }
   ],
   "source": [
    "# Tally list için bir sözlük oluşturma\n",
    "tally_list = {\"player1\": 0, \"player2\": 0}\n",
    "\n",
    "# Puan ekleme fonksiyonu\n",
    "def add_point(player):\n",
    "    if player in tally_list:\n",
    "        tally_list[player] += 1\n",
    "\n",
    "# Örnek: Oyunculara puan ekleyelim\n",
    "add_point(\"player1\")\n",
    "add_point(\"player2\")\n",
    "add_point(\"player1\")\n",
    "\n",
    "# Tally list çıktısı\n",
    "print(tally_list)\n"
   ]
  },
  {
   "cell_type": "code",
   "execution_count": null,
   "id": "6b498d12-97f9-4af1-a8fa-b13dc6aa78ea",
   "metadata": {},
   "outputs": [],
   "source": []
  }
 ],
 "metadata": {
  "kernelspec": {
   "display_name": "Python 3 (ipykernel)",
   "language": "python",
   "name": "python3"
  },
  "language_info": {
   "codemirror_mode": {
    "name": "ipython",
    "version": 3
   },
   "file_extension": ".py",
   "mimetype": "text/x-python",
   "name": "python",
   "nbconvert_exporter": "python",
   "pygments_lexer": "ipython3",
   "version": "3.9.19"
  }
 },
 "nbformat": 4,
 "nbformat_minor": 5
}
