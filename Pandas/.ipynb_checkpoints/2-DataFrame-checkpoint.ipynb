{
 "cells": [
  {
   "cell_type": "code",
   "execution_count": 5,
   "id": "0809d4ab-867d-43fe-8468-e15b014753a3",
   "metadata": {},
   "outputs": [],
   "source": [
    "import pandas as pd\n",
    "import numpy as np"
   ]
  },
  {
   "cell_type": "code",
   "execution_count": 6,
   "id": "e6407e6d-2119-4eac-b060-bfb8407c2961",
   "metadata": {},
   "outputs": [],
   "source": [
    "data = np.random.randn(4,3)"
   ]
  },
  {
   "cell_type": "code",
   "execution_count": 7,
   "id": "b2731449-9f51-4fbe-9b39-a8ca1de67652",
   "metadata": {},
   "outputs": [
    {
     "data": {
      "text/plain": [
       "array([[ 1.15954886, -0.98578447,  0.00978522],\n",
       "       [ 0.31062502,  1.6156915 , -0.36537748],\n",
       "       [-1.4867171 ,  1.06946547, -1.47711444],\n",
       "       [-0.9904984 ,  0.2672383 ,  0.19184943]])"
      ]
     },
     "execution_count": 7,
     "metadata": {},
     "output_type": "execute_result"
    }
   ],
   "source": [
    "data"
   ]
  },
  {
   "cell_type": "code",
   "execution_count": 8,
   "id": "a75c2168-d089-4d5f-ad7b-f4efe19a2526",
   "metadata": {},
   "outputs": [],
   "source": [
    "data_frame = pd.DataFrame(data)"
   ]
  },
  {
   "cell_type": "code",
   "execution_count": 9,
   "id": "e62dd415-81e8-4530-9f8f-dc7bb6898262",
   "metadata": {},
   "outputs": [
    {
     "data": {
      "text/html": [
       "<div>\n",
       "<style scoped>\n",
       "    .dataframe tbody tr th:only-of-type {\n",
       "        vertical-align: middle;\n",
       "    }\n",
       "\n",
       "    .dataframe tbody tr th {\n",
       "        vertical-align: top;\n",
       "    }\n",
       "\n",
       "    .dataframe thead th {\n",
       "        text-align: right;\n",
       "    }\n",
       "</style>\n",
       "<table border=\"1\" class=\"dataframe\">\n",
       "  <thead>\n",
       "    <tr style=\"text-align: right;\">\n",
       "      <th></th>\n",
       "      <th>0</th>\n",
       "      <th>1</th>\n",
       "      <th>2</th>\n",
       "    </tr>\n",
       "  </thead>\n",
       "  <tbody>\n",
       "    <tr>\n",
       "      <th>0</th>\n",
       "      <td>1.159549</td>\n",
       "      <td>-0.985784</td>\n",
       "      <td>0.009785</td>\n",
       "    </tr>\n",
       "    <tr>\n",
       "      <th>1</th>\n",
       "      <td>0.310625</td>\n",
       "      <td>1.615692</td>\n",
       "      <td>-0.365377</td>\n",
       "    </tr>\n",
       "    <tr>\n",
       "      <th>2</th>\n",
       "      <td>-1.486717</td>\n",
       "      <td>1.069465</td>\n",
       "      <td>-1.477114</td>\n",
       "    </tr>\n",
       "    <tr>\n",
       "      <th>3</th>\n",
       "      <td>-0.990498</td>\n",
       "      <td>0.267238</td>\n",
       "      <td>0.191849</td>\n",
       "    </tr>\n",
       "  </tbody>\n",
       "</table>\n",
       "</div>"
      ],
      "text/plain": [
       "          0         1         2\n",
       "0  1.159549 -0.985784  0.009785\n",
       "1  0.310625  1.615692 -0.365377\n",
       "2 -1.486717  1.069465 -1.477114\n",
       "3 -0.990498  0.267238  0.191849"
      ]
     },
     "execution_count": 9,
     "metadata": {},
     "output_type": "execute_result"
    }
   ],
   "source": [
    "data_frame"
   ]
  },
  {
   "cell_type": "code",
   "execution_count": 10,
   "id": "83e7c718-7808-4063-ac8d-8cf57d2844de",
   "metadata": {},
   "outputs": [],
   "source": [
    "# DataFrame birden fala serinin birleşimi ve her sütun bir seridir. Dikka edersen sadece etiket label'ları yok\n",
    "# Bunları excel toblosu olarakta karşımıza çıkartır "
   ]
  },
  {
   "cell_type": "markdown",
   "id": "52022fb7-58e5-40eb-a678-a57e689c34c7",
   "metadata": {},
   "source": [
    "### DataFrame Nedir?\n",
    "\n",
    "- **DataFrame**, iki boyutlu, etiketli bir veri yapısıdır. Tablo benzeri bir yapıya sahiptir ve satırlar ile sütunlardan oluşur. \n",
    "\n",
    "- **Satırlar** ve **sütunlar** hem adlara (etiketlere) hem de dizinlere (index) sahip olabilir.\n",
    "- DataFrame, aynı anda çeşitli veri türlerini (string, integer, float, vb.) barındırabilir.\n"
   ]
  },
  {
   "cell_type": "code",
   "execution_count": 11,
   "id": "69194438-fc2a-40d2-853a-edb62c378a90",
   "metadata": {},
   "outputs": [
    {
     "data": {
      "text/plain": [
       "0    1.159549\n",
       "1    0.310625\n",
       "2   -1.486717\n",
       "3   -0.990498\n",
       "Name: 0, dtype: float64"
      ]
     },
     "execution_count": 11,
     "metadata": {},
     "output_type": "execute_result"
    }
   ],
   "source": [
    "data_frame[0]"
   ]
  },
  {
   "cell_type": "code",
   "execution_count": 12,
   "id": "13d1c618-d90e-4662-9a33-20426f004b3b",
   "metadata": {},
   "outputs": [],
   "source": [
    "# 0. index'i istediğimizde de bizim karşımıza bir seriyi çıkartıyor"
   ]
  },
  {
   "cell_type": "markdown",
   "id": "a8fdce5d-80f9-4332-a1da-eb844d45093b",
   "metadata": {},
   "source": [
    "# DataFrame Satır ve Sutün İsimlendirme"
   ]
  },
  {
   "cell_type": "code",
   "execution_count": 13,
   "id": "169833e4-815d-4930-9e70-5451cdbdc607",
   "metadata": {},
   "outputs": [],
   "source": [
    "yeni_data_Frame = pd.DataFrame(data, index=[\"Atil\", \"Zeynep\", \"Atlas\", \"Mehmet\"], columns = [\"Maas\", \"Yas\", \"Calisma Saaati\"])"
   ]
  },
  {
   "cell_type": "code",
   "execution_count": 14,
   "id": "eba9eba7-514f-46ea-8557-b5a7a9f1c390",
   "metadata": {},
   "outputs": [
    {
     "data": {
      "text/html": [
       "<div>\n",
       "<style scoped>\n",
       "    .dataframe tbody tr th:only-of-type {\n",
       "        vertical-align: middle;\n",
       "    }\n",
       "\n",
       "    .dataframe tbody tr th {\n",
       "        vertical-align: top;\n",
       "    }\n",
       "\n",
       "    .dataframe thead th {\n",
       "        text-align: right;\n",
       "    }\n",
       "</style>\n",
       "<table border=\"1\" class=\"dataframe\">\n",
       "  <thead>\n",
       "    <tr style=\"text-align: right;\">\n",
       "      <th></th>\n",
       "      <th>Maas</th>\n",
       "      <th>Yas</th>\n",
       "      <th>Calisma Saaati</th>\n",
       "    </tr>\n",
       "  </thead>\n",
       "  <tbody>\n",
       "    <tr>\n",
       "      <th>Atil</th>\n",
       "      <td>1.159549</td>\n",
       "      <td>-0.985784</td>\n",
       "      <td>0.009785</td>\n",
       "    </tr>\n",
       "    <tr>\n",
       "      <th>Zeynep</th>\n",
       "      <td>0.310625</td>\n",
       "      <td>1.615692</td>\n",
       "      <td>-0.365377</td>\n",
       "    </tr>\n",
       "    <tr>\n",
       "      <th>Atlas</th>\n",
       "      <td>-1.486717</td>\n",
       "      <td>1.069465</td>\n",
       "      <td>-1.477114</td>\n",
       "    </tr>\n",
       "    <tr>\n",
       "      <th>Mehmet</th>\n",
       "      <td>-0.990498</td>\n",
       "      <td>0.267238</td>\n",
       "      <td>0.191849</td>\n",
       "    </tr>\n",
       "  </tbody>\n",
       "</table>\n",
       "</div>"
      ],
      "text/plain": [
       "            Maas       Yas  Calisma Saaati\n",
       "Atil    1.159549 -0.985784        0.009785\n",
       "Zeynep  0.310625  1.615692       -0.365377\n",
       "Atlas  -1.486717  1.069465       -1.477114\n",
       "Mehmet -0.990498  0.267238        0.191849"
      ]
     },
     "execution_count": 14,
     "metadata": {},
     "output_type": "execute_result"
    }
   ],
   "source": [
    "yeni_data_Frame"
   ]
  },
  {
   "cell_type": "code",
   "execution_count": 15,
   "id": "35c5153f-decb-4a82-a402-e8fcf6da18e0",
   "metadata": {},
   "outputs": [],
   "source": [
    "## Gördüğün gibi elimizde data'yı net bir şekilde gösteren bir tablo oluşturtuk"
   ]
  },
  {
   "cell_type": "code",
   "execution_count": 16,
   "id": "c80165d9-b885-433b-9cf9-50e2890a96e7",
   "metadata": {},
   "outputs": [
    {
     "data": {
      "text/plain": [
       "Atil     -0.985784\n",
       "Zeynep    1.615692\n",
       "Atlas     1.069465\n",
       "Mehmet    0.267238\n",
       "Name: Yas, dtype: float64"
      ]
     },
     "execution_count": 16,
     "metadata": {},
     "output_type": "execute_result"
    }
   ],
   "source": [
    "yeni_data_Frame[\"Yas\"]"
   ]
  },
  {
   "cell_type": "code",
   "execution_count": 17,
   "id": "5109f2a9-4b78-4c90-958a-f6b1dfef533e",
   "metadata": {},
   "outputs": [
    {
     "data": {
      "text/plain": [
       "Atil      1.159549\n",
       "Zeynep    0.310625\n",
       "Atlas    -1.486717\n",
       "Mehmet   -0.990498\n",
       "Name: Maas, dtype: float64"
      ]
     },
     "execution_count": 17,
     "metadata": {},
     "output_type": "execute_result"
    }
   ],
   "source": [
    "yeni_data_Frame[\"Maas\"]"
   ]
  },
  {
   "cell_type": "code",
   "execution_count": 18,
   "id": "65bbf57a-cb3e-4a9c-a7cb-32573d0c82e8",
   "metadata": {},
   "outputs": [],
   "source": [
    "## Gördüğün gi serinin column ismi ile istediğin seriyi elde edebiliyorsun"
   ]
  },
  {
   "cell_type": "code",
   "execution_count": 19,
   "id": "cc97aaa7-2ac2-49af-befb-9d9d1ce54387",
   "metadata": {},
   "outputs": [
    {
     "data": {
      "text/html": [
       "<div>\n",
       "<style scoped>\n",
       "    .dataframe tbody tr th:only-of-type {\n",
       "        vertical-align: middle;\n",
       "    }\n",
       "\n",
       "    .dataframe tbody tr th {\n",
       "        vertical-align: top;\n",
       "    }\n",
       "\n",
       "    .dataframe thead th {\n",
       "        text-align: right;\n",
       "    }\n",
       "</style>\n",
       "<table border=\"1\" class=\"dataframe\">\n",
       "  <thead>\n",
       "    <tr style=\"text-align: right;\">\n",
       "      <th></th>\n",
       "      <th>Calisma Saaati</th>\n",
       "      <th>Maas</th>\n",
       "    </tr>\n",
       "  </thead>\n",
       "  <tbody>\n",
       "    <tr>\n",
       "      <th>Atil</th>\n",
       "      <td>0.009785</td>\n",
       "      <td>1.159549</td>\n",
       "    </tr>\n",
       "    <tr>\n",
       "      <th>Zeynep</th>\n",
       "      <td>-0.365377</td>\n",
       "      <td>0.310625</td>\n",
       "    </tr>\n",
       "    <tr>\n",
       "      <th>Atlas</th>\n",
       "      <td>-1.477114</td>\n",
       "      <td>-1.486717</td>\n",
       "    </tr>\n",
       "    <tr>\n",
       "      <th>Mehmet</th>\n",
       "      <td>0.191849</td>\n",
       "      <td>-0.990498</td>\n",
       "    </tr>\n",
       "  </tbody>\n",
       "</table>\n",
       "</div>"
      ],
      "text/plain": [
       "        Calisma Saaati      Maas\n",
       "Atil          0.009785  1.159549\n",
       "Zeynep       -0.365377  0.310625\n",
       "Atlas        -1.477114 -1.486717\n",
       "Mehmet        0.191849 -0.990498"
      ]
     },
     "execution_count": 19,
     "metadata": {},
     "output_type": "execute_result"
    }
   ],
   "source": [
    "yeni_data_Frame[[\"Calisma Saaati\", \"Maas\"]]"
   ]
  },
  {
   "cell_type": "code",
   "execution_count": 20,
   "id": "93525bb9-a1e4-4c43-b3ca-32786001abbd",
   "metadata": {},
   "outputs": [],
   "source": [
    "## [liste] bir liste ile birden fazla seri'ide taablo şeklinde gösterebilirsin"
   ]
  },
  {
   "cell_type": "markdown",
   "id": "35db1ccb-3f16-4736-93b0-21dac241851b",
   "metadata": {},
   "source": [
    "# DataFrame 'de satır bilgisi alma"
   ]
  },
  {
   "cell_type": "code",
   "execution_count": 21,
   "id": "bc3763f3-312d-4118-a890-b737415832b6",
   "metadata": {},
   "outputs": [
    {
     "data": {
      "text/plain": [
       "Maas              1.159549\n",
       "Yas              -0.985784\n",
       "Calisma Saaati    0.009785\n",
       "Name: Atil, dtype: float64"
      ]
     },
     "execution_count": 21,
     "metadata": {},
     "output_type": "execute_result"
    }
   ],
   "source": [
    "yeni_data_Frame.loc[\"Atil\"]"
   ]
  },
  {
   "cell_type": "code",
   "execution_count": 22,
   "id": "bf42c132-408a-4a82-b2f1-854f907a9709",
   "metadata": {},
   "outputs": [
    {
     "data": {
      "text/plain": [
       "Maas              0.310625\n",
       "Yas               1.615692\n",
       "Calisma Saaati   -0.365377\n",
       "Name: Zeynep, dtype: float64"
      ]
     },
     "execution_count": 22,
     "metadata": {},
     "output_type": "execute_result"
    }
   ],
   "source": [
    "yeni_data_Frame.iloc[1]"
   ]
  },
  {
   "cell_type": "code",
   "execution_count": 23,
   "id": "8e1f50a4-468a-408f-a329-d50911ce213e",
   "metadata": {},
   "outputs": [],
   "source": [
    "# loc[] ile bir dataFrame 'de satır bilgisine ulacabilirsi loc = located\n",
    "# iloc ile de index bilgisi ile calumn bilgisini alabiliyoruz iloc= index located"
   ]
  },
  {
   "cell_type": "markdown",
   "id": "9f0bc965-8105-420c-92a7-7a30dc77f010",
   "metadata": {},
   "source": [
    "## DataFrame' e Bir Seri Ekleme "
   ]
  },
  {
   "cell_type": "code",
   "execution_count": 24,
   "id": "651e26ce-ec70-4f10-ba99-22685e7aa358",
   "metadata": {},
   "outputs": [],
   "source": [
    "yeni_data_Frame[\"Emeklilik Yasi\"] = yeni_data_Frame[\"Yas\"] +  yeni_data_Frame[\"Yas\"]"
   ]
  },
  {
   "cell_type": "code",
   "execution_count": 25,
   "id": "66f05584-2292-4cb1-84f2-049ccba101ad",
   "metadata": {},
   "outputs": [
    {
     "data": {
      "text/html": [
       "<div>\n",
       "<style scoped>\n",
       "    .dataframe tbody tr th:only-of-type {\n",
       "        vertical-align: middle;\n",
       "    }\n",
       "\n",
       "    .dataframe tbody tr th {\n",
       "        vertical-align: top;\n",
       "    }\n",
       "\n",
       "    .dataframe thead th {\n",
       "        text-align: right;\n",
       "    }\n",
       "</style>\n",
       "<table border=\"1\" class=\"dataframe\">\n",
       "  <thead>\n",
       "    <tr style=\"text-align: right;\">\n",
       "      <th></th>\n",
       "      <th>Maas</th>\n",
       "      <th>Yas</th>\n",
       "      <th>Calisma Saaati</th>\n",
       "      <th>Emeklilik Yasi</th>\n",
       "    </tr>\n",
       "  </thead>\n",
       "  <tbody>\n",
       "    <tr>\n",
       "      <th>Atil</th>\n",
       "      <td>1.159549</td>\n",
       "      <td>-0.985784</td>\n",
       "      <td>0.009785</td>\n",
       "      <td>-1.971569</td>\n",
       "    </tr>\n",
       "    <tr>\n",
       "      <th>Zeynep</th>\n",
       "      <td>0.310625</td>\n",
       "      <td>1.615692</td>\n",
       "      <td>-0.365377</td>\n",
       "      <td>3.231383</td>\n",
       "    </tr>\n",
       "    <tr>\n",
       "      <th>Atlas</th>\n",
       "      <td>-1.486717</td>\n",
       "      <td>1.069465</td>\n",
       "      <td>-1.477114</td>\n",
       "      <td>2.138931</td>\n",
       "    </tr>\n",
       "    <tr>\n",
       "      <th>Mehmet</th>\n",
       "      <td>-0.990498</td>\n",
       "      <td>0.267238</td>\n",
       "      <td>0.191849</td>\n",
       "      <td>0.534477</td>\n",
       "    </tr>\n",
       "  </tbody>\n",
       "</table>\n",
       "</div>"
      ],
      "text/plain": [
       "            Maas       Yas  Calisma Saaati  Emeklilik Yasi\n",
       "Atil    1.159549 -0.985784        0.009785       -1.971569\n",
       "Zeynep  0.310625  1.615692       -0.365377        3.231383\n",
       "Atlas  -1.486717  1.069465       -1.477114        2.138931\n",
       "Mehmet -0.990498  0.267238        0.191849        0.534477"
      ]
     },
     "execution_count": 25,
     "metadata": {},
     "output_type": "execute_result"
    }
   ],
   "source": [
    "yeni_data_Frame"
   ]
  },
  {
   "cell_type": "code",
   "execution_count": 26,
   "id": "e1fa102a-bd85-421d-920b-6fbdc93a6e52",
   "metadata": {},
   "outputs": [],
   "source": [
    "# Bu şekilde DataFrame 'e sutün eklemesi yapabilirsin"
   ]
  },
  {
   "cell_type": "markdown",
   "id": "ae71aa8d-cc06-4e87-a1fc-d09c4209fbd9",
   "metadata": {},
   "source": [
    "# DataFrame Satır veya Sutün Silme"
   ]
  },
  {
   "cell_type": "code",
   "execution_count": 27,
   "id": "85014289-abfa-49f9-b210-489a21422398",
   "metadata": {},
   "outputs": [
    {
     "data": {
      "text/html": [
       "<div>\n",
       "<style scoped>\n",
       "    .dataframe tbody tr th:only-of-type {\n",
       "        vertical-align: middle;\n",
       "    }\n",
       "\n",
       "    .dataframe tbody tr th {\n",
       "        vertical-align: top;\n",
       "    }\n",
       "\n",
       "    .dataframe thead th {\n",
       "        text-align: right;\n",
       "    }\n",
       "</style>\n",
       "<table border=\"1\" class=\"dataframe\">\n",
       "  <thead>\n",
       "    <tr style=\"text-align: right;\">\n",
       "      <th></th>\n",
       "      <th>Maas</th>\n",
       "      <th>Yas</th>\n",
       "      <th>Calisma Saaati</th>\n",
       "    </tr>\n",
       "  </thead>\n",
       "  <tbody>\n",
       "    <tr>\n",
       "      <th>Atil</th>\n",
       "      <td>1.159549</td>\n",
       "      <td>-0.985784</td>\n",
       "      <td>0.009785</td>\n",
       "    </tr>\n",
       "    <tr>\n",
       "      <th>Zeynep</th>\n",
       "      <td>0.310625</td>\n",
       "      <td>1.615692</td>\n",
       "      <td>-0.365377</td>\n",
       "    </tr>\n",
       "    <tr>\n",
       "      <th>Atlas</th>\n",
       "      <td>-1.486717</td>\n",
       "      <td>1.069465</td>\n",
       "      <td>-1.477114</td>\n",
       "    </tr>\n",
       "    <tr>\n",
       "      <th>Mehmet</th>\n",
       "      <td>-0.990498</td>\n",
       "      <td>0.267238</td>\n",
       "      <td>0.191849</td>\n",
       "    </tr>\n",
       "  </tbody>\n",
       "</table>\n",
       "</div>"
      ],
      "text/plain": [
       "            Maas       Yas  Calisma Saaati\n",
       "Atil    1.159549 -0.985784        0.009785\n",
       "Zeynep  0.310625  1.615692       -0.365377\n",
       "Atlas  -1.486717  1.069465       -1.477114\n",
       "Mehmet -0.990498  0.267238        0.191849"
      ]
     },
     "execution_count": 27,
     "metadata": {},
     "output_type": "execute_result"
    }
   ],
   "source": [
    "yeni_data_Frame.drop(\"Emeklilik Yasi\", axis= 1)"
   ]
  },
  {
   "cell_type": "code",
   "execution_count": 28,
   "id": "9f3b4018-6767-42bd-95a7-84b8da89ccbb",
   "metadata": {},
   "outputs": [
    {
     "data": {
      "text/html": [
       "<div>\n",
       "<style scoped>\n",
       "    .dataframe tbody tr th:only-of-type {\n",
       "        vertical-align: middle;\n",
       "    }\n",
       "\n",
       "    .dataframe tbody tr th {\n",
       "        vertical-align: top;\n",
       "    }\n",
       "\n",
       "    .dataframe thead th {\n",
       "        text-align: right;\n",
       "    }\n",
       "</style>\n",
       "<table border=\"1\" class=\"dataframe\">\n",
       "  <thead>\n",
       "    <tr style=\"text-align: right;\">\n",
       "      <th></th>\n",
       "      <th>Maas</th>\n",
       "      <th>Yas</th>\n",
       "      <th>Calisma Saaati</th>\n",
       "      <th>Emeklilik Yasi</th>\n",
       "    </tr>\n",
       "  </thead>\n",
       "  <tbody>\n",
       "    <tr>\n",
       "      <th>Zeynep</th>\n",
       "      <td>0.310625</td>\n",
       "      <td>1.615692</td>\n",
       "      <td>-0.365377</td>\n",
       "      <td>3.231383</td>\n",
       "    </tr>\n",
       "    <tr>\n",
       "      <th>Atlas</th>\n",
       "      <td>-1.486717</td>\n",
       "      <td>1.069465</td>\n",
       "      <td>-1.477114</td>\n",
       "      <td>2.138931</td>\n",
       "    </tr>\n",
       "    <tr>\n",
       "      <th>Mehmet</th>\n",
       "      <td>-0.990498</td>\n",
       "      <td>0.267238</td>\n",
       "      <td>0.191849</td>\n",
       "      <td>0.534477</td>\n",
       "    </tr>\n",
       "  </tbody>\n",
       "</table>\n",
       "</div>"
      ],
      "text/plain": [
       "            Maas       Yas  Calisma Saaati  Emeklilik Yasi\n",
       "Zeynep  0.310625  1.615692       -0.365377        3.231383\n",
       "Atlas  -1.486717  1.069465       -1.477114        2.138931\n",
       "Mehmet -0.990498  0.267238        0.191849        0.534477"
      ]
     },
     "execution_count": 28,
     "metadata": {},
     "output_type": "execute_result"
    }
   ],
   "source": [
    "yeni_data_Frame.drop(\"Atil\", axis= 0)"
   ]
  },
  {
   "cell_type": "code",
   "execution_count": 29,
   "id": "8a9ffd11-d0c6-41d5-8fad-17d8854ebb33",
   "metadata": {},
   "outputs": [],
   "source": [
    "## axis = 0 (satır) ve  axis = 1 (sütun) drop ile satır yada sutün'ü silebilirsin"
   ]
  },
  {
   "cell_type": "code",
   "execution_count": 30,
   "id": "93e2d4ae-d804-47d9-aa78-f688e6d1ce57",
   "metadata": {},
   "outputs": [
    {
     "data": {
      "text/html": [
       "<div>\n",
       "<style scoped>\n",
       "    .dataframe tbody tr th:only-of-type {\n",
       "        vertical-align: middle;\n",
       "    }\n",
       "\n",
       "    .dataframe tbody tr th {\n",
       "        vertical-align: top;\n",
       "    }\n",
       "\n",
       "    .dataframe thead th {\n",
       "        text-align: right;\n",
       "    }\n",
       "</style>\n",
       "<table border=\"1\" class=\"dataframe\">\n",
       "  <thead>\n",
       "    <tr style=\"text-align: right;\">\n",
       "      <th></th>\n",
       "      <th>Maas</th>\n",
       "      <th>Yas</th>\n",
       "      <th>Calisma Saaati</th>\n",
       "      <th>Emeklilik Yasi</th>\n",
       "    </tr>\n",
       "  </thead>\n",
       "  <tbody>\n",
       "    <tr>\n",
       "      <th>Atil</th>\n",
       "      <td>1.159549</td>\n",
       "      <td>-0.985784</td>\n",
       "      <td>0.009785</td>\n",
       "      <td>-1.971569</td>\n",
       "    </tr>\n",
       "    <tr>\n",
       "      <th>Zeynep</th>\n",
       "      <td>0.310625</td>\n",
       "      <td>1.615692</td>\n",
       "      <td>-0.365377</td>\n",
       "      <td>3.231383</td>\n",
       "    </tr>\n",
       "    <tr>\n",
       "      <th>Atlas</th>\n",
       "      <td>-1.486717</td>\n",
       "      <td>1.069465</td>\n",
       "      <td>-1.477114</td>\n",
       "      <td>2.138931</td>\n",
       "    </tr>\n",
       "    <tr>\n",
       "      <th>Mehmet</th>\n",
       "      <td>-0.990498</td>\n",
       "      <td>0.267238</td>\n",
       "      <td>0.191849</td>\n",
       "      <td>0.534477</td>\n",
       "    </tr>\n",
       "  </tbody>\n",
       "</table>\n",
       "</div>"
      ],
      "text/plain": [
       "            Maas       Yas  Calisma Saaati  Emeklilik Yasi\n",
       "Atil    1.159549 -0.985784        0.009785       -1.971569\n",
       "Zeynep  0.310625  1.615692       -0.365377        3.231383\n",
       "Atlas  -1.486717  1.069465       -1.477114        2.138931\n",
       "Mehmet -0.990498  0.267238        0.191849        0.534477"
      ]
     },
     "execution_count": 30,
     "metadata": {},
     "output_type": "execute_result"
    }
   ],
   "source": [
    " yeni_data_Frame"
   ]
  },
  {
   "cell_type": "code",
   "execution_count": 31,
   "id": "d85d1774-3d87-4fb4-9522-661edfa1bff9",
   "metadata": {},
   "outputs": [],
   "source": [
    "## Drop() özellikle belirtmezseniz orjinal veride değişiklik yapmıyor"
   ]
  },
  {
   "cell_type": "code",
   "execution_count": 32,
   "id": "20713315-300c-4e43-a76f-1eb0c6414298",
   "metadata": {},
   "outputs": [],
   "source": [
    "yeni_data_Frame.drop(\"Emeklilik Yasi\", axis = 1, inplace = True)"
   ]
  },
  {
   "cell_type": "code",
   "execution_count": 33,
   "id": "fe1a8ac8-8fff-45d6-8382-84e4df84afb2",
   "metadata": {},
   "outputs": [
    {
     "data": {
      "text/html": [
       "<div>\n",
       "<style scoped>\n",
       "    .dataframe tbody tr th:only-of-type {\n",
       "        vertical-align: middle;\n",
       "    }\n",
       "\n",
       "    .dataframe tbody tr th {\n",
       "        vertical-align: top;\n",
       "    }\n",
       "\n",
       "    .dataframe thead th {\n",
       "        text-align: right;\n",
       "    }\n",
       "</style>\n",
       "<table border=\"1\" class=\"dataframe\">\n",
       "  <thead>\n",
       "    <tr style=\"text-align: right;\">\n",
       "      <th></th>\n",
       "      <th>Maas</th>\n",
       "      <th>Yas</th>\n",
       "      <th>Calisma Saaati</th>\n",
       "    </tr>\n",
       "  </thead>\n",
       "  <tbody>\n",
       "    <tr>\n",
       "      <th>Atil</th>\n",
       "      <td>1.159549</td>\n",
       "      <td>-0.985784</td>\n",
       "      <td>0.009785</td>\n",
       "    </tr>\n",
       "    <tr>\n",
       "      <th>Zeynep</th>\n",
       "      <td>0.310625</td>\n",
       "      <td>1.615692</td>\n",
       "      <td>-0.365377</td>\n",
       "    </tr>\n",
       "    <tr>\n",
       "      <th>Atlas</th>\n",
       "      <td>-1.486717</td>\n",
       "      <td>1.069465</td>\n",
       "      <td>-1.477114</td>\n",
       "    </tr>\n",
       "    <tr>\n",
       "      <th>Mehmet</th>\n",
       "      <td>-0.990498</td>\n",
       "      <td>0.267238</td>\n",
       "      <td>0.191849</td>\n",
       "    </tr>\n",
       "  </tbody>\n",
       "</table>\n",
       "</div>"
      ],
      "text/plain": [
       "            Maas       Yas  Calisma Saaati\n",
       "Atil    1.159549 -0.985784        0.009785\n",
       "Zeynep  0.310625  1.615692       -0.365377\n",
       "Atlas  -1.486717  1.069465       -1.477114\n",
       "Mehmet -0.990498  0.267238        0.191849"
      ]
     },
     "execution_count": 33,
     "metadata": {},
     "output_type": "execute_result"
    }
   ],
   "source": [
    "yeni_data_Frame"
   ]
  },
  {
   "cell_type": "code",
   "execution_count": 34,
   "id": "030c3cbb-ea79-4e11-8fa3-9a6bad3b8353",
   "metadata": {},
   "outputs": [],
   "source": [
    "### inplace = True ile orgnal veride kalıcı olarak veri değişikliği yapabiyoruz\n",
    "### Yani, yeni_data_Frame deki Emeklilik Yasi serisini silebiliyoruz"
   ]
  },
  {
   "cell_type": "code",
   "execution_count": 35,
   "id": "516992c0-b077-470c-9d6b-875c6d95a44c",
   "metadata": {},
   "outputs": [
    {
     "data": {
      "text/plain": [
       "Maas              1.159549\n",
       "Yas              -0.985784\n",
       "Calisma Saaati    0.009785\n",
       "Name: Atil, dtype: float64"
      ]
     },
     "execution_count": 35,
     "metadata": {},
     "output_type": "execute_result"
    }
   ],
   "source": [
    "yeni_data_Frame.loc[\"Atil\"]"
   ]
  },
  {
   "cell_type": "code",
   "execution_count": 36,
   "id": "b889a2fd-b8b8-43bd-b789-914d4c3c0cd1",
   "metadata": {},
   "outputs": [
    {
     "data": {
      "text/plain": [
       "-0.9857844686818641"
      ]
     },
     "execution_count": 36,
     "metadata": {},
     "output_type": "execute_result"
    }
   ],
   "source": [
    "yeni_data_Frame.loc[\"Atil\"][\"Yas\"]"
   ]
  },
  {
   "cell_type": "code",
   "execution_count": 37,
   "id": "4cd7ffcf-8200-475a-bac4-e975b0703640",
   "metadata": {},
   "outputs": [
    {
     "data": {
      "text/plain": [
       "-0.9857844686818641"
      ]
     },
     "execution_count": 37,
     "metadata": {},
     "output_type": "execute_result"
    }
   ],
   "source": [
    "yeni_data_Frame.loc[\"Atil\", \"Yas\"]"
   ]
  },
  {
   "cell_type": "code",
   "execution_count": 38,
   "id": "7dc46196-326b-4aa9-8cba-b254dab53f87",
   "metadata": {},
   "outputs": [],
   "source": [
    "### Gördüğün gibi satır bilgisine bu şekilde ulaşabiliyorsun"
   ]
  },
  {
   "cell_type": "code",
   "execution_count": 39,
   "id": "19ac90b6-338d-4673-9b40-c9e500835e8f",
   "metadata": {},
   "outputs": [
    {
     "data": {
      "text/html": [
       "<div>\n",
       "<style scoped>\n",
       "    .dataframe tbody tr th:only-of-type {\n",
       "        vertical-align: middle;\n",
       "    }\n",
       "\n",
       "    .dataframe tbody tr th {\n",
       "        vertical-align: top;\n",
       "    }\n",
       "\n",
       "    .dataframe thead th {\n",
       "        text-align: right;\n",
       "    }\n",
       "</style>\n",
       "<table border=\"1\" class=\"dataframe\">\n",
       "  <thead>\n",
       "    <tr style=\"text-align: right;\">\n",
       "      <th></th>\n",
       "      <th>Maas</th>\n",
       "      <th>Yas</th>\n",
       "      <th>Calisma Saaati</th>\n",
       "    </tr>\n",
       "  </thead>\n",
       "  <tbody>\n",
       "    <tr>\n",
       "      <th>Atil</th>\n",
       "      <td>1.159549</td>\n",
       "      <td>-0.985784</td>\n",
       "      <td>0.009785</td>\n",
       "    </tr>\n",
       "    <tr>\n",
       "      <th>Zeynep</th>\n",
       "      <td>0.310625</td>\n",
       "      <td>1.615692</td>\n",
       "      <td>-0.365377</td>\n",
       "    </tr>\n",
       "    <tr>\n",
       "      <th>Atlas</th>\n",
       "      <td>-1.486717</td>\n",
       "      <td>1.069465</td>\n",
       "      <td>-1.477114</td>\n",
       "    </tr>\n",
       "    <tr>\n",
       "      <th>Mehmet</th>\n",
       "      <td>-0.990498</td>\n",
       "      <td>0.267238</td>\n",
       "      <td>0.191849</td>\n",
       "    </tr>\n",
       "  </tbody>\n",
       "</table>\n",
       "</div>"
      ],
      "text/plain": [
       "            Maas       Yas  Calisma Saaati\n",
       "Atil    1.159549 -0.985784        0.009785\n",
       "Zeynep  0.310625  1.615692       -0.365377\n",
       "Atlas  -1.486717  1.069465       -1.477114\n",
       "Mehmet -0.990498  0.267238        0.191849"
      ]
     },
     "execution_count": 39,
     "metadata": {},
     "output_type": "execute_result"
    }
   ],
   "source": [
    "yeni_data_Frame"
   ]
  },
  {
   "cell_type": "code",
   "execution_count": 40,
   "id": "71488432-dfad-4f56-8f73-506adb645d42",
   "metadata": {},
   "outputs": [],
   "source": [
    "boolean = yeni_data_Frame < 0"
   ]
  },
  {
   "cell_type": "code",
   "execution_count": 41,
   "id": "73b8170b-22fa-4fbd-9b31-1b071d4896fb",
   "metadata": {},
   "outputs": [
    {
     "data": {
      "text/html": [
       "<div>\n",
       "<style scoped>\n",
       "    .dataframe tbody tr th:only-of-type {\n",
       "        vertical-align: middle;\n",
       "    }\n",
       "\n",
       "    .dataframe tbody tr th {\n",
       "        vertical-align: top;\n",
       "    }\n",
       "\n",
       "    .dataframe thead th {\n",
       "        text-align: right;\n",
       "    }\n",
       "</style>\n",
       "<table border=\"1\" class=\"dataframe\">\n",
       "  <thead>\n",
       "    <tr style=\"text-align: right;\">\n",
       "      <th></th>\n",
       "      <th>Maas</th>\n",
       "      <th>Yas</th>\n",
       "      <th>Calisma Saaati</th>\n",
       "    </tr>\n",
       "  </thead>\n",
       "  <tbody>\n",
       "    <tr>\n",
       "      <th>Atil</th>\n",
       "      <td>False</td>\n",
       "      <td>True</td>\n",
       "      <td>False</td>\n",
       "    </tr>\n",
       "    <tr>\n",
       "      <th>Zeynep</th>\n",
       "      <td>False</td>\n",
       "      <td>False</td>\n",
       "      <td>True</td>\n",
       "    </tr>\n",
       "    <tr>\n",
       "      <th>Atlas</th>\n",
       "      <td>True</td>\n",
       "      <td>False</td>\n",
       "      <td>True</td>\n",
       "    </tr>\n",
       "    <tr>\n",
       "      <th>Mehmet</th>\n",
       "      <td>True</td>\n",
       "      <td>False</td>\n",
       "      <td>False</td>\n",
       "    </tr>\n",
       "  </tbody>\n",
       "</table>\n",
       "</div>"
      ],
      "text/plain": [
       "         Maas    Yas  Calisma Saaati\n",
       "Atil    False   True           False\n",
       "Zeynep  False  False            True\n",
       "Atlas    True  False            True\n",
       "Mehmet   True  False           False"
      ]
     },
     "execution_count": 41,
     "metadata": {},
     "output_type": "execute_result"
    }
   ],
   "source": [
    "boolean"
   ]
  },
  {
   "cell_type": "code",
   "execution_count": 42,
   "id": "2d04b04a-8e5c-48cf-b794-3f161e44435d",
   "metadata": {},
   "outputs": [
    {
     "data": {
      "text/html": [
       "<div>\n",
       "<style scoped>\n",
       "    .dataframe tbody tr th:only-of-type {\n",
       "        vertical-align: middle;\n",
       "    }\n",
       "\n",
       "    .dataframe tbody tr th {\n",
       "        vertical-align: top;\n",
       "    }\n",
       "\n",
       "    .dataframe thead th {\n",
       "        text-align: right;\n",
       "    }\n",
       "</style>\n",
       "<table border=\"1\" class=\"dataframe\">\n",
       "  <thead>\n",
       "    <tr style=\"text-align: right;\">\n",
       "      <th></th>\n",
       "      <th>Maas</th>\n",
       "      <th>Yas</th>\n",
       "      <th>Calisma Saaati</th>\n",
       "    </tr>\n",
       "  </thead>\n",
       "  <tbody>\n",
       "    <tr>\n",
       "      <th>Atil</th>\n",
       "      <td>NaN</td>\n",
       "      <td>-0.985784</td>\n",
       "      <td>NaN</td>\n",
       "    </tr>\n",
       "    <tr>\n",
       "      <th>Zeynep</th>\n",
       "      <td>NaN</td>\n",
       "      <td>NaN</td>\n",
       "      <td>-0.365377</td>\n",
       "    </tr>\n",
       "    <tr>\n",
       "      <th>Atlas</th>\n",
       "      <td>-1.486717</td>\n",
       "      <td>NaN</td>\n",
       "      <td>-1.477114</td>\n",
       "    </tr>\n",
       "    <tr>\n",
       "      <th>Mehmet</th>\n",
       "      <td>-0.990498</td>\n",
       "      <td>NaN</td>\n",
       "      <td>NaN</td>\n",
       "    </tr>\n",
       "  </tbody>\n",
       "</table>\n",
       "</div>"
      ],
      "text/plain": [
       "            Maas       Yas  Calisma Saaati\n",
       "Atil         NaN -0.985784             NaN\n",
       "Zeynep       NaN       NaN       -0.365377\n",
       "Atlas  -1.486717       NaN       -1.477114\n",
       "Mehmet -0.990498       NaN             NaN"
      ]
     },
     "execution_count": 42,
     "metadata": {},
     "output_type": "execute_result"
    }
   ],
   "source": [
    "yeni_data_Frame[boolean]"
   ]
  },
  {
   "cell_type": "code",
   "execution_count": 43,
   "id": "b32358a9-7584-4d7a-a140-820f5e1c5e19",
   "metadata": {},
   "outputs": [],
   "source": [
    "# Gördüğün gibi sadece sıfırdan küçük değerleri görüntülüyor olmayanları ise NaN şeklinde görüntülüyor"
   ]
  },
  {
   "cell_type": "code",
   "execution_count": 44,
   "id": "00458ebf-1631-404b-b073-a3c3e64eac0d",
   "metadata": {},
   "outputs": [
    {
     "data": {
      "text/html": [
       "<div>\n",
       "<style scoped>\n",
       "    .dataframe tbody tr th:only-of-type {\n",
       "        vertical-align: middle;\n",
       "    }\n",
       "\n",
       "    .dataframe tbody tr th {\n",
       "        vertical-align: top;\n",
       "    }\n",
       "\n",
       "    .dataframe thead th {\n",
       "        text-align: right;\n",
       "    }\n",
       "</style>\n",
       "<table border=\"1\" class=\"dataframe\">\n",
       "  <thead>\n",
       "    <tr style=\"text-align: right;\">\n",
       "      <th></th>\n",
       "      <th>Maas</th>\n",
       "      <th>Yas</th>\n",
       "      <th>Calisma Saaati</th>\n",
       "    </tr>\n",
       "  </thead>\n",
       "  <tbody>\n",
       "    <tr>\n",
       "      <th>Atil</th>\n",
       "      <td>NaN</td>\n",
       "      <td>-0.985784</td>\n",
       "      <td>NaN</td>\n",
       "    </tr>\n",
       "    <tr>\n",
       "      <th>Zeynep</th>\n",
       "      <td>NaN</td>\n",
       "      <td>NaN</td>\n",
       "      <td>-0.365377</td>\n",
       "    </tr>\n",
       "    <tr>\n",
       "      <th>Atlas</th>\n",
       "      <td>-1.486717</td>\n",
       "      <td>NaN</td>\n",
       "      <td>-1.477114</td>\n",
       "    </tr>\n",
       "    <tr>\n",
       "      <th>Mehmet</th>\n",
       "      <td>-0.990498</td>\n",
       "      <td>NaN</td>\n",
       "      <td>NaN</td>\n",
       "    </tr>\n",
       "  </tbody>\n",
       "</table>\n",
       "</div>"
      ],
      "text/plain": [
       "            Maas       Yas  Calisma Saaati\n",
       "Atil         NaN -0.985784             NaN\n",
       "Zeynep       NaN       NaN       -0.365377\n",
       "Atlas  -1.486717       NaN       -1.477114\n",
       "Mehmet -0.990498       NaN             NaN"
      ]
     },
     "execution_count": 44,
     "metadata": {},
     "output_type": "execute_result"
    }
   ],
   "source": [
    "yeni_data_Frame[yeni_data_Frame < 0]"
   ]
  },
  {
   "cell_type": "code",
   "execution_count": 45,
   "id": "2b19eb2e-0eca-4d4a-927f-2b17a1ed71b6",
   "metadata": {},
   "outputs": [],
   "source": [
    "# Bu şekilde de istediğimizi elde edebiliyorruz"
   ]
  },
  {
   "cell_type": "code",
   "execution_count": 46,
   "id": "5a585e57-7df3-4c7d-8067-be37766284e7",
   "metadata": {},
   "outputs": [
    {
     "data": {
      "text/html": [
       "<div>\n",
       "<style scoped>\n",
       "    .dataframe tbody tr th:only-of-type {\n",
       "        vertical-align: middle;\n",
       "    }\n",
       "\n",
       "    .dataframe tbody tr th {\n",
       "        vertical-align: top;\n",
       "    }\n",
       "\n",
       "    .dataframe thead th {\n",
       "        text-align: right;\n",
       "    }\n",
       "</style>\n",
       "<table border=\"1\" class=\"dataframe\">\n",
       "  <thead>\n",
       "    <tr style=\"text-align: right;\">\n",
       "      <th></th>\n",
       "      <th>Maas</th>\n",
       "      <th>Yas</th>\n",
       "      <th>Calisma Saaati</th>\n",
       "    </tr>\n",
       "  </thead>\n",
       "  <tbody>\n",
       "    <tr>\n",
       "      <th>Zeynep</th>\n",
       "      <td>0.310625</td>\n",
       "      <td>1.615692</td>\n",
       "      <td>-0.365377</td>\n",
       "    </tr>\n",
       "    <tr>\n",
       "      <th>Atlas</th>\n",
       "      <td>-1.486717</td>\n",
       "      <td>1.069465</td>\n",
       "      <td>-1.477114</td>\n",
       "    </tr>\n",
       "    <tr>\n",
       "      <th>Mehmet</th>\n",
       "      <td>-0.990498</td>\n",
       "      <td>0.267238</td>\n",
       "      <td>0.191849</td>\n",
       "    </tr>\n",
       "  </tbody>\n",
       "</table>\n",
       "</div>"
      ],
      "text/plain": [
       "            Maas       Yas  Calisma Saaati\n",
       "Zeynep  0.310625  1.615692       -0.365377\n",
       "Atlas  -1.486717  1.069465       -1.477114\n",
       "Mehmet -0.990498  0.267238        0.191849"
      ]
     },
     "execution_count": 46,
     "metadata": {},
     "output_type": "execute_result"
    }
   ],
   "source": [
    "yeni_data_Frame[yeni_data_Frame[\"Yas\"] > 0]"
   ]
  },
  {
   "cell_type": "code",
   "execution_count": 47,
   "id": "59c6cb3f-bf0e-4c8b-8f89-6765451eb818",
   "metadata": {},
   "outputs": [],
   "source": [
    "### Burada, yeni_data_Frame[\"Yas\"] > 0 ile sadece pozitif değerleri karşına çıkartıyor \n",
    "### Gördüğün gibi, negatif olan sutünları karşımıza çıkartıyor pozitif olanaları ise siliyor"
   ]
  },
  {
   "cell_type": "code",
   "execution_count": 48,
   "id": "f3580dd6-c8f8-436b-9cca-f2494ea4dec7",
   "metadata": {},
   "outputs": [
    {
     "data": {
      "text/html": [
       "<div>\n",
       "<style scoped>\n",
       "    .dataframe tbody tr th:only-of-type {\n",
       "        vertical-align: middle;\n",
       "    }\n",
       "\n",
       "    .dataframe tbody tr th {\n",
       "        vertical-align: top;\n",
       "    }\n",
       "\n",
       "    .dataframe thead th {\n",
       "        text-align: right;\n",
       "    }\n",
       "</style>\n",
       "<table border=\"1\" class=\"dataframe\">\n",
       "  <thead>\n",
       "    <tr style=\"text-align: right;\">\n",
       "      <th></th>\n",
       "      <th>Maas</th>\n",
       "      <th>Yas</th>\n",
       "      <th>Calisma Saaati</th>\n",
       "    </tr>\n",
       "  </thead>\n",
       "  <tbody>\n",
       "    <tr>\n",
       "      <th>Atil</th>\n",
       "      <td>1.159549</td>\n",
       "      <td>-0.985784</td>\n",
       "      <td>0.009785</td>\n",
       "    </tr>\n",
       "    <tr>\n",
       "      <th>Mehmet</th>\n",
       "      <td>-0.990498</td>\n",
       "      <td>0.267238</td>\n",
       "      <td>0.191849</td>\n",
       "    </tr>\n",
       "  </tbody>\n",
       "</table>\n",
       "</div>"
      ],
      "text/plain": [
       "            Maas       Yas  Calisma Saaati\n",
       "Atil    1.159549 -0.985784        0.009785\n",
       "Mehmet -0.990498  0.267238        0.191849"
      ]
     },
     "execution_count": 48,
     "metadata": {},
     "output_type": "execute_result"
    }
   ],
   "source": [
    "yeni_data_Frame[yeni_data_Frame[\"Calisma Saaati\"] > 0]"
   ]
  },
  {
   "cell_type": "code",
   "execution_count": 49,
   "id": "9be11d29-05b4-4420-8be3-496b5fc6d02c",
   "metadata": {},
   "outputs": [],
   "source": [
    "# Sacece pozitif olan Çalışma Saati değerlerini karşımıza çıkartıyor"
   ]
  },
  {
   "cell_type": "markdown",
   "id": "1987c99a-3799-4fd8-adfd-77bb8e8e8f96",
   "metadata": {},
   "source": [
    "# DataFrame İndex Değiştirme / Organize Etme"
   ]
  },
  {
   "cell_type": "code",
   "execution_count": 50,
   "id": "996d7f28-478e-42f0-b127-72c6706e4fb2",
   "metadata": {},
   "outputs": [],
   "source": [
    "index = np.random.randn(5,6)"
   ]
  },
  {
   "cell_type": "code",
   "execution_count": 51,
   "id": "1eb7bfcd-dd11-405d-a3ec-317fbe08198f",
   "metadata": {},
   "outputs": [],
   "source": [
    "index_dataframe = pd.DataFrame(data = index, index=[\"Sumeyra\", \"Melinda\", \"Lale\", \"Lila\", \"Onur\"], columns = [\"Sınav1\", \"Sınav2\", \"Sınav3\", \"Sınav4\", \"Sınav5\", \"NotOrtalaması\"])"
   ]
  },
  {
   "cell_type": "code",
   "execution_count": 52,
   "id": "ffb23329-4829-44cd-8844-efdb9911190f",
   "metadata": {},
   "outputs": [
    {
     "data": {
      "text/html": [
       "<div>\n",
       "<style scoped>\n",
       "    .dataframe tbody tr th:only-of-type {\n",
       "        vertical-align: middle;\n",
       "    }\n",
       "\n",
       "    .dataframe tbody tr th {\n",
       "        vertical-align: top;\n",
       "    }\n",
       "\n",
       "    .dataframe thead th {\n",
       "        text-align: right;\n",
       "    }\n",
       "</style>\n",
       "<table border=\"1\" class=\"dataframe\">\n",
       "  <thead>\n",
       "    <tr style=\"text-align: right;\">\n",
       "      <th></th>\n",
       "      <th>Sınav1</th>\n",
       "      <th>Sınav2</th>\n",
       "      <th>Sınav3</th>\n",
       "      <th>Sınav4</th>\n",
       "      <th>Sınav5</th>\n",
       "      <th>NotOrtalaması</th>\n",
       "    </tr>\n",
       "  </thead>\n",
       "  <tbody>\n",
       "    <tr>\n",
       "      <th>Sumeyra</th>\n",
       "      <td>0.081451</td>\n",
       "      <td>0.321592</td>\n",
       "      <td>0.879080</td>\n",
       "      <td>0.227991</td>\n",
       "      <td>-0.491279</td>\n",
       "      <td>-1.681653</td>\n",
       "    </tr>\n",
       "    <tr>\n",
       "      <th>Melinda</th>\n",
       "      <td>-1.739263</td>\n",
       "      <td>-0.068861</td>\n",
       "      <td>-1.092672</td>\n",
       "      <td>-0.053195</td>\n",
       "      <td>-0.373378</td>\n",
       "      <td>-0.653061</td>\n",
       "    </tr>\n",
       "    <tr>\n",
       "      <th>Lale</th>\n",
       "      <td>-0.227575</td>\n",
       "      <td>0.544027</td>\n",
       "      <td>1.688569</td>\n",
       "      <td>0.984046</td>\n",
       "      <td>-0.514877</td>\n",
       "      <td>0.094745</td>\n",
       "    </tr>\n",
       "    <tr>\n",
       "      <th>Lila</th>\n",
       "      <td>0.823813</td>\n",
       "      <td>-1.293035</td>\n",
       "      <td>0.484873</td>\n",
       "      <td>-0.655469</td>\n",
       "      <td>0.296417</td>\n",
       "      <td>-0.581882</td>\n",
       "    </tr>\n",
       "    <tr>\n",
       "      <th>Onur</th>\n",
       "      <td>-0.197844</td>\n",
       "      <td>-0.832831</td>\n",
       "      <td>0.236901</td>\n",
       "      <td>0.055327</td>\n",
       "      <td>-0.141087</td>\n",
       "      <td>0.928222</td>\n",
       "    </tr>\n",
       "  </tbody>\n",
       "</table>\n",
       "</div>"
      ],
      "text/plain": [
       "           Sınav1    Sınav2    Sınav3    Sınav4    Sınav5  NotOrtalaması\n",
       "Sumeyra  0.081451  0.321592  0.879080  0.227991 -0.491279      -1.681653\n",
       "Melinda -1.739263 -0.068861 -1.092672 -0.053195 -0.373378      -0.653061\n",
       "Lale    -0.227575  0.544027  1.688569  0.984046 -0.514877       0.094745\n",
       "Lila     0.823813 -1.293035  0.484873 -0.655469  0.296417      -0.581882\n",
       "Onur    -0.197844 -0.832831  0.236901  0.055327 -0.141087       0.928222"
      ]
     },
     "execution_count": 52,
     "metadata": {},
     "output_type": "execute_result"
    }
   ],
   "source": [
    "index_dataframe"
   ]
  },
  {
   "cell_type": "code",
   "execution_count": 53,
   "id": "cbe9b35f-1d8a-4005-8e9c-32320d8c05e8",
   "metadata": {},
   "outputs": [
    {
     "data": {
      "text/html": [
       "<div>\n",
       "<style scoped>\n",
       "    .dataframe tbody tr th:only-of-type {\n",
       "        vertical-align: middle;\n",
       "    }\n",
       "\n",
       "    .dataframe tbody tr th {\n",
       "        vertical-align: top;\n",
       "    }\n",
       "\n",
       "    .dataframe thead th {\n",
       "        text-align: right;\n",
       "    }\n",
       "</style>\n",
       "<table border=\"1\" class=\"dataframe\">\n",
       "  <thead>\n",
       "    <tr style=\"text-align: right;\">\n",
       "      <th></th>\n",
       "      <th>index</th>\n",
       "      <th>Sınav1</th>\n",
       "      <th>Sınav2</th>\n",
       "      <th>Sınav3</th>\n",
       "      <th>Sınav4</th>\n",
       "      <th>Sınav5</th>\n",
       "      <th>NotOrtalaması</th>\n",
       "    </tr>\n",
       "  </thead>\n",
       "  <tbody>\n",
       "    <tr>\n",
       "      <th>0</th>\n",
       "      <td>Sumeyra</td>\n",
       "      <td>0.081451</td>\n",
       "      <td>0.321592</td>\n",
       "      <td>0.879080</td>\n",
       "      <td>0.227991</td>\n",
       "      <td>-0.491279</td>\n",
       "      <td>-1.681653</td>\n",
       "    </tr>\n",
       "    <tr>\n",
       "      <th>1</th>\n",
       "      <td>Melinda</td>\n",
       "      <td>-1.739263</td>\n",
       "      <td>-0.068861</td>\n",
       "      <td>-1.092672</td>\n",
       "      <td>-0.053195</td>\n",
       "      <td>-0.373378</td>\n",
       "      <td>-0.653061</td>\n",
       "    </tr>\n",
       "    <tr>\n",
       "      <th>2</th>\n",
       "      <td>Lale</td>\n",
       "      <td>-0.227575</td>\n",
       "      <td>0.544027</td>\n",
       "      <td>1.688569</td>\n",
       "      <td>0.984046</td>\n",
       "      <td>-0.514877</td>\n",
       "      <td>0.094745</td>\n",
       "    </tr>\n",
       "    <tr>\n",
       "      <th>3</th>\n",
       "      <td>Lila</td>\n",
       "      <td>0.823813</td>\n",
       "      <td>-1.293035</td>\n",
       "      <td>0.484873</td>\n",
       "      <td>-0.655469</td>\n",
       "      <td>0.296417</td>\n",
       "      <td>-0.581882</td>\n",
       "    </tr>\n",
       "    <tr>\n",
       "      <th>4</th>\n",
       "      <td>Onur</td>\n",
       "      <td>-0.197844</td>\n",
       "      <td>-0.832831</td>\n",
       "      <td>0.236901</td>\n",
       "      <td>0.055327</td>\n",
       "      <td>-0.141087</td>\n",
       "      <td>0.928222</td>\n",
       "    </tr>\n",
       "  </tbody>\n",
       "</table>\n",
       "</div>"
      ],
      "text/plain": [
       "     index    Sınav1    Sınav2    Sınav3    Sınav4    Sınav5  NotOrtalaması\n",
       "0  Sumeyra  0.081451  0.321592  0.879080  0.227991 -0.491279      -1.681653\n",
       "1  Melinda -1.739263 -0.068861 -1.092672 -0.053195 -0.373378      -0.653061\n",
       "2     Lale -0.227575  0.544027  1.688569  0.984046 -0.514877       0.094745\n",
       "3     Lila  0.823813 -1.293035  0.484873 -0.655469  0.296417      -0.581882\n",
       "4     Onur -0.197844 -0.832831  0.236901  0.055327 -0.141087       0.928222"
      ]
     },
     "execution_count": 53,
     "metadata": {},
     "output_type": "execute_result"
    }
   ],
   "source": [
    "index_dataframe.reset_index()"
   ]
  },
  {
   "cell_type": "markdown",
   "id": "eb5e2492-4fb3-40b4-8c7f-601deff67afb",
   "metadata": {},
   "source": [
    "DataFrame.reset_index() fonksiyonu, bir Pandas DataFrame'in indeksini sıfırlamak için kullanılır.\n",
    "- reset_index() fonksiyonu, DataFrame'in indeksini sıfırlar ve varsayılan olarak eski indeksleri bir sütun olarak tutar.\n",
    "- Eğer eski indeksleri tamamen atmak isterseniz, şu şekilde kullanabilirsiniz: df.reset_index(drop=True)."
   ]
  },
  {
   "cell_type": "code",
   "execution_count": 54,
   "id": "558de4cb-baee-4250-b4b6-73bf4a65e2bb",
   "metadata": {},
   "outputs": [
    {
     "data": {
      "text/html": [
       "<div>\n",
       "<style scoped>\n",
       "    .dataframe tbody tr th:only-of-type {\n",
       "        vertical-align: middle;\n",
       "    }\n",
       "\n",
       "    .dataframe tbody tr th {\n",
       "        vertical-align: top;\n",
       "    }\n",
       "\n",
       "    .dataframe thead th {\n",
       "        text-align: right;\n",
       "    }\n",
       "</style>\n",
       "<table border=\"1\" class=\"dataframe\">\n",
       "  <thead>\n",
       "    <tr style=\"text-align: right;\">\n",
       "      <th></th>\n",
       "      <th>Sınav1</th>\n",
       "      <th>Sınav2</th>\n",
       "      <th>Sınav3</th>\n",
       "      <th>Sınav4</th>\n",
       "      <th>Sınav5</th>\n",
       "      <th>NotOrtalaması</th>\n",
       "    </tr>\n",
       "  </thead>\n",
       "  <tbody>\n",
       "    <tr>\n",
       "      <th>0</th>\n",
       "      <td>0.081451</td>\n",
       "      <td>0.321592</td>\n",
       "      <td>0.879080</td>\n",
       "      <td>0.227991</td>\n",
       "      <td>-0.491279</td>\n",
       "      <td>-1.681653</td>\n",
       "    </tr>\n",
       "    <tr>\n",
       "      <th>1</th>\n",
       "      <td>-1.739263</td>\n",
       "      <td>-0.068861</td>\n",
       "      <td>-1.092672</td>\n",
       "      <td>-0.053195</td>\n",
       "      <td>-0.373378</td>\n",
       "      <td>-0.653061</td>\n",
       "    </tr>\n",
       "    <tr>\n",
       "      <th>2</th>\n",
       "      <td>-0.227575</td>\n",
       "      <td>0.544027</td>\n",
       "      <td>1.688569</td>\n",
       "      <td>0.984046</td>\n",
       "      <td>-0.514877</td>\n",
       "      <td>0.094745</td>\n",
       "    </tr>\n",
       "    <tr>\n",
       "      <th>3</th>\n",
       "      <td>0.823813</td>\n",
       "      <td>-1.293035</td>\n",
       "      <td>0.484873</td>\n",
       "      <td>-0.655469</td>\n",
       "      <td>0.296417</td>\n",
       "      <td>-0.581882</td>\n",
       "    </tr>\n",
       "    <tr>\n",
       "      <th>4</th>\n",
       "      <td>-0.197844</td>\n",
       "      <td>-0.832831</td>\n",
       "      <td>0.236901</td>\n",
       "      <td>0.055327</td>\n",
       "      <td>-0.141087</td>\n",
       "      <td>0.928222</td>\n",
       "    </tr>\n",
       "  </tbody>\n",
       "</table>\n",
       "</div>"
      ],
      "text/plain": [
       "     Sınav1    Sınav2    Sınav3    Sınav4    Sınav5  NotOrtalaması\n",
       "0  0.081451  0.321592  0.879080  0.227991 -0.491279      -1.681653\n",
       "1 -1.739263 -0.068861 -1.092672 -0.053195 -0.373378      -0.653061\n",
       "2 -0.227575  0.544027  1.688569  0.984046 -0.514877       0.094745\n",
       "3  0.823813 -1.293035  0.484873 -0.655469  0.296417      -0.581882\n",
       "4 -0.197844 -0.832831  0.236901  0.055327 -0.141087       0.928222"
      ]
     },
     "execution_count": 54,
     "metadata": {},
     "output_type": "execute_result"
    }
   ],
   "source": [
    "index_dataframe.reset_index(drop = True )"
   ]
  },
  {
   "cell_type": "code",
   "execution_count": 55,
   "id": "5bcc0ded-0126-4a2c-beab-be26a76d9232",
   "metadata": {},
   "outputs": [],
   "source": [
    "# drop = True sayesinde eski değerleri 0,1.. şeklinde sayılarla tutarken drop methodu\n",
    "# ile eski değerleri tamammen siler bu şekilde "
   ]
  },
  {
   "cell_type": "code",
   "execution_count": 56,
   "id": "8b116c83-3f5b-44b4-a19d-7bd92b0ace23",
   "metadata": {},
   "outputs": [
    {
     "data": {
      "text/html": [
       "<div>\n",
       "<style scoped>\n",
       "    .dataframe tbody tr th:only-of-type {\n",
       "        vertical-align: middle;\n",
       "    }\n",
       "\n",
       "    .dataframe tbody tr th {\n",
       "        vertical-align: top;\n",
       "    }\n",
       "\n",
       "    .dataframe thead th {\n",
       "        text-align: right;\n",
       "    }\n",
       "</style>\n",
       "<table border=\"1\" class=\"dataframe\">\n",
       "  <thead>\n",
       "    <tr style=\"text-align: right;\">\n",
       "      <th></th>\n",
       "      <th>Sınav1</th>\n",
       "      <th>Sınav2</th>\n",
       "      <th>Sınav3</th>\n",
       "      <th>Sınav4</th>\n",
       "      <th>Sınav5</th>\n",
       "      <th>NotOrtalaması</th>\n",
       "    </tr>\n",
       "  </thead>\n",
       "  <tbody>\n",
       "    <tr>\n",
       "      <th>Sumeyra</th>\n",
       "      <td>0.081451</td>\n",
       "      <td>0.321592</td>\n",
       "      <td>0.879080</td>\n",
       "      <td>0.227991</td>\n",
       "      <td>-0.491279</td>\n",
       "      <td>-1.681653</td>\n",
       "    </tr>\n",
       "    <tr>\n",
       "      <th>Melinda</th>\n",
       "      <td>-1.739263</td>\n",
       "      <td>-0.068861</td>\n",
       "      <td>-1.092672</td>\n",
       "      <td>-0.053195</td>\n",
       "      <td>-0.373378</td>\n",
       "      <td>-0.653061</td>\n",
       "    </tr>\n",
       "    <tr>\n",
       "      <th>Lale</th>\n",
       "      <td>-0.227575</td>\n",
       "      <td>0.544027</td>\n",
       "      <td>1.688569</td>\n",
       "      <td>0.984046</td>\n",
       "      <td>-0.514877</td>\n",
       "      <td>0.094745</td>\n",
       "    </tr>\n",
       "    <tr>\n",
       "      <th>Lila</th>\n",
       "      <td>0.823813</td>\n",
       "      <td>-1.293035</td>\n",
       "      <td>0.484873</td>\n",
       "      <td>-0.655469</td>\n",
       "      <td>0.296417</td>\n",
       "      <td>-0.581882</td>\n",
       "    </tr>\n",
       "    <tr>\n",
       "      <th>Onur</th>\n",
       "      <td>-0.197844</td>\n",
       "      <td>-0.832831</td>\n",
       "      <td>0.236901</td>\n",
       "      <td>0.055327</td>\n",
       "      <td>-0.141087</td>\n",
       "      <td>0.928222</td>\n",
       "    </tr>\n",
       "  </tbody>\n",
       "</table>\n",
       "</div>"
      ],
      "text/plain": [
       "           Sınav1    Sınav2    Sınav3    Sınav4    Sınav5  NotOrtalaması\n",
       "Sumeyra  0.081451  0.321592  0.879080  0.227991 -0.491279      -1.681653\n",
       "Melinda -1.739263 -0.068861 -1.092672 -0.053195 -0.373378      -0.653061\n",
       "Lale    -0.227575  0.544027  1.688569  0.984046 -0.514877       0.094745\n",
       "Lila     0.823813 -1.293035  0.484873 -0.655469  0.296417      -0.581882\n",
       "Onur    -0.197844 -0.832831  0.236901  0.055327 -0.141087       0.928222"
      ]
     },
     "execution_count": 56,
     "metadata": {},
     "output_type": "execute_result"
    }
   ],
   "source": [
    "index_dataframe"
   ]
  },
  {
   "cell_type": "code",
   "execution_count": 57,
   "id": "a198c4df-d5e6-4186-80bd-cf4861fb6952",
   "metadata": {},
   "outputs": [],
   "source": [
    "## Gördüğün gibi orjinal veriyi kalıcı olarak değiştirmez"
   ]
  },
  {
   "cell_type": "markdown",
   "id": "2f50c700-9cbb-48c2-ad5d-379346eb8d3c",
   "metadata": {},
   "source": [
    "## Kalıcı olarak DataFrame'de Değişiklik Yapma:"
   ]
  },
  {
   "cell_type": "code",
   "execution_count": 58,
   "id": "ffacd7be-642e-4004-bfc0-00effa6fde29",
   "metadata": {},
   "outputs": [],
   "source": [
    "yeni_index_listesi = [\"Sum\", \"Meli\", \"la\", \"li\", \"On\"]"
   ]
  },
  {
   "cell_type": "code",
   "execution_count": 59,
   "id": "809818a9-f7cd-4582-82c1-c98b577c5949",
   "metadata": {},
   "outputs": [],
   "source": [
    "## Öncelikle belirleyeceğin değerleri bir değişkene ata"
   ]
  },
  {
   "cell_type": "code",
   "execution_count": 60,
   "id": "4dbb1714-c266-4974-b755-1493f0cfb9c5",
   "metadata": {},
   "outputs": [],
   "source": [
    "index_dataframe[\"Yeni İndex\"] = yeni_index_listesi"
   ]
  },
  {
   "cell_type": "code",
   "execution_count": 61,
   "id": "4b66e8a9-96bf-42f3-a0c9-fc0b9abb2f72",
   "metadata": {},
   "outputs": [
    {
     "data": {
      "text/html": [
       "<div>\n",
       "<style scoped>\n",
       "    .dataframe tbody tr th:only-of-type {\n",
       "        vertical-align: middle;\n",
       "    }\n",
       "\n",
       "    .dataframe tbody tr th {\n",
       "        vertical-align: top;\n",
       "    }\n",
       "\n",
       "    .dataframe thead th {\n",
       "        text-align: right;\n",
       "    }\n",
       "</style>\n",
       "<table border=\"1\" class=\"dataframe\">\n",
       "  <thead>\n",
       "    <tr style=\"text-align: right;\">\n",
       "      <th></th>\n",
       "      <th>Sınav1</th>\n",
       "      <th>Sınav2</th>\n",
       "      <th>Sınav3</th>\n",
       "      <th>Sınav4</th>\n",
       "      <th>Sınav5</th>\n",
       "      <th>NotOrtalaması</th>\n",
       "      <th>Yeni İndex</th>\n",
       "    </tr>\n",
       "  </thead>\n",
       "  <tbody>\n",
       "    <tr>\n",
       "      <th>Sumeyra</th>\n",
       "      <td>0.081451</td>\n",
       "      <td>0.321592</td>\n",
       "      <td>0.879080</td>\n",
       "      <td>0.227991</td>\n",
       "      <td>-0.491279</td>\n",
       "      <td>-1.681653</td>\n",
       "      <td>Sum</td>\n",
       "    </tr>\n",
       "    <tr>\n",
       "      <th>Melinda</th>\n",
       "      <td>-1.739263</td>\n",
       "      <td>-0.068861</td>\n",
       "      <td>-1.092672</td>\n",
       "      <td>-0.053195</td>\n",
       "      <td>-0.373378</td>\n",
       "      <td>-0.653061</td>\n",
       "      <td>Meli</td>\n",
       "    </tr>\n",
       "    <tr>\n",
       "      <th>Lale</th>\n",
       "      <td>-0.227575</td>\n",
       "      <td>0.544027</td>\n",
       "      <td>1.688569</td>\n",
       "      <td>0.984046</td>\n",
       "      <td>-0.514877</td>\n",
       "      <td>0.094745</td>\n",
       "      <td>la</td>\n",
       "    </tr>\n",
       "    <tr>\n",
       "      <th>Lila</th>\n",
       "      <td>0.823813</td>\n",
       "      <td>-1.293035</td>\n",
       "      <td>0.484873</td>\n",
       "      <td>-0.655469</td>\n",
       "      <td>0.296417</td>\n",
       "      <td>-0.581882</td>\n",
       "      <td>li</td>\n",
       "    </tr>\n",
       "    <tr>\n",
       "      <th>Onur</th>\n",
       "      <td>-0.197844</td>\n",
       "      <td>-0.832831</td>\n",
       "      <td>0.236901</td>\n",
       "      <td>0.055327</td>\n",
       "      <td>-0.141087</td>\n",
       "      <td>0.928222</td>\n",
       "      <td>On</td>\n",
       "    </tr>\n",
       "  </tbody>\n",
       "</table>\n",
       "</div>"
      ],
      "text/plain": [
       "           Sınav1    Sınav2    Sınav3    Sınav4    Sınav5  NotOrtalaması  \\\n",
       "Sumeyra  0.081451  0.321592  0.879080  0.227991 -0.491279      -1.681653   \n",
       "Melinda -1.739263 -0.068861 -1.092672 -0.053195 -0.373378      -0.653061   \n",
       "Lale    -0.227575  0.544027  1.688569  0.984046 -0.514877       0.094745   \n",
       "Lila     0.823813 -1.293035  0.484873 -0.655469  0.296417      -0.581882   \n",
       "Onur    -0.197844 -0.832831  0.236901  0.055327 -0.141087       0.928222   \n",
       "\n",
       "        Yeni İndex  \n",
       "Sumeyra        Sum  \n",
       "Melinda       Meli  \n",
       "Lale            la  \n",
       "Lila            li  \n",
       "Onur            On  "
      ]
     },
     "execution_count": 61,
     "metadata": {},
     "output_type": "execute_result"
    }
   ],
   "source": [
    "index_dataframe"
   ]
  },
  {
   "cell_type": "code",
   "execution_count": 62,
   "id": "2e4c87f6-b895-43d3-ac23-db599b85870e",
   "metadata": {},
   "outputs": [],
   "source": [
    "## Sonra dataFrame' e yeni index'imizi bir seri gibi ekliyoruz"
   ]
  },
  {
   "cell_type": "code",
   "execution_count": 63,
   "id": "768a4cb5-e1ff-46c6-9f7a-bb869707d974",
   "metadata": {},
   "outputs": [
    {
     "data": {
      "text/html": [
       "<div>\n",
       "<style scoped>\n",
       "    .dataframe tbody tr th:only-of-type {\n",
       "        vertical-align: middle;\n",
       "    }\n",
       "\n",
       "    .dataframe tbody tr th {\n",
       "        vertical-align: top;\n",
       "    }\n",
       "\n",
       "    .dataframe thead th {\n",
       "        text-align: right;\n",
       "    }\n",
       "</style>\n",
       "<table border=\"1\" class=\"dataframe\">\n",
       "  <thead>\n",
       "    <tr style=\"text-align: right;\">\n",
       "      <th></th>\n",
       "      <th>Sınav1</th>\n",
       "      <th>Sınav2</th>\n",
       "      <th>Sınav3</th>\n",
       "      <th>Sınav4</th>\n",
       "      <th>Sınav5</th>\n",
       "      <th>NotOrtalaması</th>\n",
       "    </tr>\n",
       "    <tr>\n",
       "      <th>Yeni İndex</th>\n",
       "      <th></th>\n",
       "      <th></th>\n",
       "      <th></th>\n",
       "      <th></th>\n",
       "      <th></th>\n",
       "      <th></th>\n",
       "    </tr>\n",
       "  </thead>\n",
       "  <tbody>\n",
       "    <tr>\n",
       "      <th>Sum</th>\n",
       "      <td>0.081451</td>\n",
       "      <td>0.321592</td>\n",
       "      <td>0.879080</td>\n",
       "      <td>0.227991</td>\n",
       "      <td>-0.491279</td>\n",
       "      <td>-1.681653</td>\n",
       "    </tr>\n",
       "    <tr>\n",
       "      <th>Meli</th>\n",
       "      <td>-1.739263</td>\n",
       "      <td>-0.068861</td>\n",
       "      <td>-1.092672</td>\n",
       "      <td>-0.053195</td>\n",
       "      <td>-0.373378</td>\n",
       "      <td>-0.653061</td>\n",
       "    </tr>\n",
       "    <tr>\n",
       "      <th>la</th>\n",
       "      <td>-0.227575</td>\n",
       "      <td>0.544027</td>\n",
       "      <td>1.688569</td>\n",
       "      <td>0.984046</td>\n",
       "      <td>-0.514877</td>\n",
       "      <td>0.094745</td>\n",
       "    </tr>\n",
       "    <tr>\n",
       "      <th>li</th>\n",
       "      <td>0.823813</td>\n",
       "      <td>-1.293035</td>\n",
       "      <td>0.484873</td>\n",
       "      <td>-0.655469</td>\n",
       "      <td>0.296417</td>\n",
       "      <td>-0.581882</td>\n",
       "    </tr>\n",
       "    <tr>\n",
       "      <th>On</th>\n",
       "      <td>-0.197844</td>\n",
       "      <td>-0.832831</td>\n",
       "      <td>0.236901</td>\n",
       "      <td>0.055327</td>\n",
       "      <td>-0.141087</td>\n",
       "      <td>0.928222</td>\n",
       "    </tr>\n",
       "  </tbody>\n",
       "</table>\n",
       "</div>"
      ],
      "text/plain": [
       "              Sınav1    Sınav2    Sınav3    Sınav4    Sınav5  NotOrtalaması\n",
       "Yeni İndex                                                                 \n",
       "Sum         0.081451  0.321592  0.879080  0.227991 -0.491279      -1.681653\n",
       "Meli       -1.739263 -0.068861 -1.092672 -0.053195 -0.373378      -0.653061\n",
       "la         -0.227575  0.544027  1.688569  0.984046 -0.514877       0.094745\n",
       "li          0.823813 -1.293035  0.484873 -0.655469  0.296417      -0.581882\n",
       "On         -0.197844 -0.832831  0.236901  0.055327 -0.141087       0.928222"
      ]
     },
     "execution_count": 63,
     "metadata": {},
     "output_type": "execute_result"
    }
   ],
   "source": [
    "index_dataframe.set_index(\"Yeni İndex\")"
   ]
  },
  {
   "cell_type": "code",
   "execution_count": 64,
   "id": "e55af4b6-f37c-4694-a19d-b9612d0cf698",
   "metadata": {},
   "outputs": [],
   "source": [
    "# En son, set_index() ile eski index değerleri değiştiriyoruz."
   ]
  },
  {
   "cell_type": "code",
   "execution_count": 65,
   "id": "b6c16470-10b0-43c0-9235-a345830f59e3",
   "metadata": {},
   "outputs": [
    {
     "data": {
      "text/html": [
       "<div>\n",
       "<style scoped>\n",
       "    .dataframe tbody tr th:only-of-type {\n",
       "        vertical-align: middle;\n",
       "    }\n",
       "\n",
       "    .dataframe tbody tr th {\n",
       "        vertical-align: top;\n",
       "    }\n",
       "\n",
       "    .dataframe thead th {\n",
       "        text-align: right;\n",
       "    }\n",
       "</style>\n",
       "<table border=\"1\" class=\"dataframe\">\n",
       "  <thead>\n",
       "    <tr style=\"text-align: right;\">\n",
       "      <th></th>\n",
       "      <th>Sınav1</th>\n",
       "      <th>Sınav2</th>\n",
       "      <th>Sınav3</th>\n",
       "      <th>Sınav4</th>\n",
       "      <th>Sınav5</th>\n",
       "      <th>NotOrtalaması</th>\n",
       "      <th>Yeni İndex</th>\n",
       "    </tr>\n",
       "  </thead>\n",
       "  <tbody>\n",
       "    <tr>\n",
       "      <th>Sumeyra</th>\n",
       "      <td>0.081451</td>\n",
       "      <td>0.321592</td>\n",
       "      <td>0.879080</td>\n",
       "      <td>0.227991</td>\n",
       "      <td>-0.491279</td>\n",
       "      <td>-1.681653</td>\n",
       "      <td>Sum</td>\n",
       "    </tr>\n",
       "    <tr>\n",
       "      <th>Melinda</th>\n",
       "      <td>-1.739263</td>\n",
       "      <td>-0.068861</td>\n",
       "      <td>-1.092672</td>\n",
       "      <td>-0.053195</td>\n",
       "      <td>-0.373378</td>\n",
       "      <td>-0.653061</td>\n",
       "      <td>Meli</td>\n",
       "    </tr>\n",
       "    <tr>\n",
       "      <th>Lale</th>\n",
       "      <td>-0.227575</td>\n",
       "      <td>0.544027</td>\n",
       "      <td>1.688569</td>\n",
       "      <td>0.984046</td>\n",
       "      <td>-0.514877</td>\n",
       "      <td>0.094745</td>\n",
       "      <td>la</td>\n",
       "    </tr>\n",
       "    <tr>\n",
       "      <th>Lila</th>\n",
       "      <td>0.823813</td>\n",
       "      <td>-1.293035</td>\n",
       "      <td>0.484873</td>\n",
       "      <td>-0.655469</td>\n",
       "      <td>0.296417</td>\n",
       "      <td>-0.581882</td>\n",
       "      <td>li</td>\n",
       "    </tr>\n",
       "    <tr>\n",
       "      <th>Onur</th>\n",
       "      <td>-0.197844</td>\n",
       "      <td>-0.832831</td>\n",
       "      <td>0.236901</td>\n",
       "      <td>0.055327</td>\n",
       "      <td>-0.141087</td>\n",
       "      <td>0.928222</td>\n",
       "      <td>On</td>\n",
       "    </tr>\n",
       "  </tbody>\n",
       "</table>\n",
       "</div>"
      ],
      "text/plain": [
       "           Sınav1    Sınav2    Sınav3    Sınav4    Sınav5  NotOrtalaması  \\\n",
       "Sumeyra  0.081451  0.321592  0.879080  0.227991 -0.491279      -1.681653   \n",
       "Melinda -1.739263 -0.068861 -1.092672 -0.053195 -0.373378      -0.653061   \n",
       "Lale    -0.227575  0.544027  1.688569  0.984046 -0.514877       0.094745   \n",
       "Lila     0.823813 -1.293035  0.484873 -0.655469  0.296417      -0.581882   \n",
       "Onur    -0.197844 -0.832831  0.236901  0.055327 -0.141087       0.928222   \n",
       "\n",
       "        Yeni İndex  \n",
       "Sumeyra        Sum  \n",
       "Melinda       Meli  \n",
       "Lale            la  \n",
       "Lila            li  \n",
       "Onur            On  "
      ]
     },
     "execution_count": 65,
     "metadata": {},
     "output_type": "execute_result"
    }
   ],
   "source": [
    "index_dataframe"
   ]
  },
  {
   "cell_type": "code",
   "execution_count": 66,
   "id": "21e41c07-1f90-4aa3-8136-222514103037",
   "metadata": {},
   "outputs": [],
   "source": [
    "## Fakat burada da orginal veride değişiklik yapıldı "
   ]
  },
  {
   "cell_type": "code",
   "execution_count": 67,
   "id": "0b2ac451-fb7b-4317-8ff1-c72fcd063c03",
   "metadata": {},
   "outputs": [],
   "source": [
    "index_dataframe.set_index(\"Yeni İndex\", inplace = True)"
   ]
  },
  {
   "cell_type": "code",
   "execution_count": 68,
   "id": "3b2ce19a-ae93-43ea-8a97-c16c76ff7cd9",
   "metadata": {},
   "outputs": [
    {
     "data": {
      "text/html": [
       "<div>\n",
       "<style scoped>\n",
       "    .dataframe tbody tr th:only-of-type {\n",
       "        vertical-align: middle;\n",
       "    }\n",
       "\n",
       "    .dataframe tbody tr th {\n",
       "        vertical-align: top;\n",
       "    }\n",
       "\n",
       "    .dataframe thead th {\n",
       "        text-align: right;\n",
       "    }\n",
       "</style>\n",
       "<table border=\"1\" class=\"dataframe\">\n",
       "  <thead>\n",
       "    <tr style=\"text-align: right;\">\n",
       "      <th></th>\n",
       "      <th>Sınav1</th>\n",
       "      <th>Sınav2</th>\n",
       "      <th>Sınav3</th>\n",
       "      <th>Sınav4</th>\n",
       "      <th>Sınav5</th>\n",
       "      <th>NotOrtalaması</th>\n",
       "    </tr>\n",
       "    <tr>\n",
       "      <th>Yeni İndex</th>\n",
       "      <th></th>\n",
       "      <th></th>\n",
       "      <th></th>\n",
       "      <th></th>\n",
       "      <th></th>\n",
       "      <th></th>\n",
       "    </tr>\n",
       "  </thead>\n",
       "  <tbody>\n",
       "    <tr>\n",
       "      <th>Sum</th>\n",
       "      <td>0.081451</td>\n",
       "      <td>0.321592</td>\n",
       "      <td>0.879080</td>\n",
       "      <td>0.227991</td>\n",
       "      <td>-0.491279</td>\n",
       "      <td>-1.681653</td>\n",
       "    </tr>\n",
       "    <tr>\n",
       "      <th>Meli</th>\n",
       "      <td>-1.739263</td>\n",
       "      <td>-0.068861</td>\n",
       "      <td>-1.092672</td>\n",
       "      <td>-0.053195</td>\n",
       "      <td>-0.373378</td>\n",
       "      <td>-0.653061</td>\n",
       "    </tr>\n",
       "    <tr>\n",
       "      <th>la</th>\n",
       "      <td>-0.227575</td>\n",
       "      <td>0.544027</td>\n",
       "      <td>1.688569</td>\n",
       "      <td>0.984046</td>\n",
       "      <td>-0.514877</td>\n",
       "      <td>0.094745</td>\n",
       "    </tr>\n",
       "    <tr>\n",
       "      <th>li</th>\n",
       "      <td>0.823813</td>\n",
       "      <td>-1.293035</td>\n",
       "      <td>0.484873</td>\n",
       "      <td>-0.655469</td>\n",
       "      <td>0.296417</td>\n",
       "      <td>-0.581882</td>\n",
       "    </tr>\n",
       "    <tr>\n",
       "      <th>On</th>\n",
       "      <td>-0.197844</td>\n",
       "      <td>-0.832831</td>\n",
       "      <td>0.236901</td>\n",
       "      <td>0.055327</td>\n",
       "      <td>-0.141087</td>\n",
       "      <td>0.928222</td>\n",
       "    </tr>\n",
       "  </tbody>\n",
       "</table>\n",
       "</div>"
      ],
      "text/plain": [
       "              Sınav1    Sınav2    Sınav3    Sınav4    Sınav5  NotOrtalaması\n",
       "Yeni İndex                                                                 \n",
       "Sum         0.081451  0.321592  0.879080  0.227991 -0.491279      -1.681653\n",
       "Meli       -1.739263 -0.068861 -1.092672 -0.053195 -0.373378      -0.653061\n",
       "la         -0.227575  0.544027  1.688569  0.984046 -0.514877       0.094745\n",
       "li          0.823813 -1.293035  0.484873 -0.655469  0.296417      -0.581882\n",
       "On         -0.197844 -0.832831  0.236901  0.055327 -0.141087       0.928222"
      ]
     },
     "execution_count": 68,
     "metadata": {},
     "output_type": "execute_result"
    }
   ],
   "source": [
    "index_dataframe"
   ]
  },
  {
   "cell_type": "code",
   "execution_count": 69,
   "id": "144010c8-5947-4231-8601-482e58341bed",
   "metadata": {},
   "outputs": [],
   "source": [
    "## inplace = True ile orginal veride kalıcı olarak değişiklik yapabiliyoruz"
   ]
  },
  {
   "cell_type": "code",
   "execution_count": 70,
   "id": "97467024-3860-44bb-9b11-b92bbabc0336",
   "metadata": {},
   "outputs": [
    {
     "data": {
      "text/plain": [
       "Sınav1           0.081451\n",
       "Sınav2           0.321592\n",
       "Sınav3           0.879080\n",
       "Sınav4           0.227991\n",
       "Sınav5          -0.491279\n",
       "NotOrtalaması   -1.681653\n",
       "Name: Sum, dtype: float64"
      ]
     },
     "execution_count": 70,
     "metadata": {},
     "output_type": "execute_result"
    }
   ],
   "source": [
    "index_dataframe.loc[\"Sum\"]"
   ]
  },
  {
   "cell_type": "code",
   "execution_count": 71,
   "id": "29d68d92-3fdb-47bc-82b9-7bc234aeee49",
   "metadata": {},
   "outputs": [],
   "source": [
    "## Gördüğün gibide çalışıyor ve satırı alabiliyorsun"
   ]
  },
  {
   "cell_type": "code",
   "execution_count": 72,
   "id": "08c3ce5b-cb25-4605-a3e5-589a7c490eb9",
   "metadata": {},
   "outputs": [],
   "source": [
    "ilkIndexler = [\"Simpson\", \"Simpson\", \"Simpson\", \"South Park\", \"South Park\", \"South Park\"]"
   ]
  },
  {
   "cell_type": "code",
   "execution_count": 73,
   "id": "7fca8b68-3316-4565-95d1-5bb9958df3f5",
   "metadata": {},
   "outputs": [],
   "source": [
    "icindekiler = [\"Homer\", \"Bart\", \"Marge\", \"Cartman\", \"Kenny\", \"Kyle\"]"
   ]
  },
  {
   "cell_type": "code",
   "execution_count": 74,
   "id": "2cbc4fbd-967f-4f16-9c37-2c0d38a7d539",
   "metadata": {},
   "outputs": [],
   "source": [
    "birlesmis_index = list(zip(ilkIndexler, icindekiler))"
   ]
  },
  {
   "cell_type": "code",
   "execution_count": 75,
   "id": "906708d5-025f-411e-95ca-ef3ce5655c65",
   "metadata": {},
   "outputs": [
    {
     "data": {
      "text/plain": [
       "[('Simpson', 'Homer'),\n",
       " ('Simpson', 'Bart'),\n",
       " ('Simpson', 'Marge'),\n",
       " ('South Park', 'Cartman'),\n",
       " ('South Park', 'Kenny'),\n",
       " ('South Park', 'Kyle')]"
      ]
     },
     "execution_count": 75,
     "metadata": {},
     "output_type": "execute_result"
    }
   ],
   "source": [
    "birlesmis_index"
   ]
  },
  {
   "cell_type": "markdown",
   "id": "5bedc3e0-7851-435b-81ca-c61dee0fb71b",
   "metadata": {},
   "source": [
    "## zip() Fonksiyonu Nedir?\r\n",
    "\r\n",
    "`zip()` fonksiyonu, birden fazla listeyi ya da **iterable** (iterasyon yapılabilen veri tipleri, örneğin `tuple` veya `set` gibi) veri tipini bir araya getirir ve her listedeki aynı indeksteki elemanları eşleştirerek bir `tuple` oluşturur. Bu `tuple`ları içeren bir **zip objesi** döner. Eğer bunu listeye çevirmek isterseniz `list()` fonksiyonunu kullanırsınız.\r\n"
   ]
  },
  {
   "cell_type": "code",
   "execution_count": 77,
   "id": "952b111e-4f8f-435f-a264-24a2c6747410",
   "metadata": {},
   "outputs": [],
   "source": [
    "birlesmis_indexs = pd.MultiIndex.from_tuples(birlesmis_index)"
   ]
  },
  {
   "cell_type": "code",
   "execution_count": 78,
   "id": "cfd9dce7-0a07-4815-a05b-2d192ab76826",
   "metadata": {},
   "outputs": [
    {
     "data": {
      "text/plain": [
       "MultiIndex([(   'Simpson',   'Homer'),\n",
       "            (   'Simpson',    'Bart'),\n",
       "            (   'Simpson',   'Marge'),\n",
       "            ('South Park', 'Cartman'),\n",
       "            ('South Park',   'Kenny'),\n",
       "            ('South Park',    'Kyle')],\n",
       "           )"
      ]
     },
     "execution_count": 78,
     "metadata": {},
     "output_type": "execute_result"
    }
   ],
   "source": [
    "birlesmis_indexs"
   ]
  },
  {
   "cell_type": "markdown",
   "id": "752ee9a6-075b-45d9-a049-4beba470ab9f",
   "metadata": {},
   "source": [
    "\n",
    "`pd.MultiIndex.from_tuples()` kullanarak tuple listesini çok seviyeli bir indekse dönüştürmek, veriyi daha hiyerarşik ve organize bir şekilde yapılandırmamıza olanak sağlar. Bu, özellikle karmaşık veri kümesi ve analizi gerektiren durumlarda çok faydalıdır.\n"
   ]
  },
  {
   "cell_type": "code",
   "execution_count": 82,
   "id": "c9d5b5a2-08da-4930-a644-899323e29ec5",
   "metadata": {},
   "outputs": [],
   "source": [
    "benim_cizgifilm_listem = [[40, \"A\"],[10, \"B\"],[30, \"C\"],[9, \"D\"],[10, \"E\"],[11, \"F\"]]"
   ]
  },
  {
   "cell_type": "code",
   "execution_count": 90,
   "id": "ce95dc1d-a9fe-4ef0-9ef4-3b301875942b",
   "metadata": {},
   "outputs": [],
   "source": [
    "cizgifilm_numpy_dizisi = np.array(benim_cizgifilm_listem)"
   ]
  },
  {
   "cell_type": "code",
   "execution_count": 93,
   "id": "8f593f5e-9b6f-4382-9d73-46ea92df4788",
   "metadata": {},
   "outputs": [],
   "source": [
    "cizgifilm_dataframe = pd.DataFrame(cizgifilm_numpy_dizisi, index = birlesmis_indexs, columns= [\"Yas\", \"Meslek\"])"
   ]
  },
  {
   "cell_type": "code",
   "execution_count": 89,
   "id": "dd69dcfd-1c62-411e-af2b-18cab54a0346",
   "metadata": {},
   "outputs": [
    {
     "data": {
      "text/html": [
       "<div>\n",
       "<style scoped>\n",
       "    .dataframe tbody tr th:only-of-type {\n",
       "        vertical-align: middle;\n",
       "    }\n",
       "\n",
       "    .dataframe tbody tr th {\n",
       "        vertical-align: top;\n",
       "    }\n",
       "\n",
       "    .dataframe thead th {\n",
       "        text-align: right;\n",
       "    }\n",
       "</style>\n",
       "<table border=\"1\" class=\"dataframe\">\n",
       "  <thead>\n",
       "    <tr style=\"text-align: right;\">\n",
       "      <th></th>\n",
       "      <th></th>\n",
       "      <th>Yas</th>\n",
       "      <th>Meslek</th>\n",
       "    </tr>\n",
       "  </thead>\n",
       "  <tbody>\n",
       "    <tr>\n",
       "      <th rowspan=\"3\" valign=\"top\">Simpson</th>\n",
       "      <th>Homer</th>\n",
       "      <td>40</td>\n",
       "      <td>A</td>\n",
       "    </tr>\n",
       "    <tr>\n",
       "      <th>Bart</th>\n",
       "      <td>10</td>\n",
       "      <td>B</td>\n",
       "    </tr>\n",
       "    <tr>\n",
       "      <th>Marge</th>\n",
       "      <td>30</td>\n",
       "      <td>C</td>\n",
       "    </tr>\n",
       "    <tr>\n",
       "      <th rowspan=\"3\" valign=\"top\">South Park</th>\n",
       "      <th>Cartman</th>\n",
       "      <td>9</td>\n",
       "      <td>D</td>\n",
       "    </tr>\n",
       "    <tr>\n",
       "      <th>Kenny</th>\n",
       "      <td>10</td>\n",
       "      <td>E</td>\n",
       "    </tr>\n",
       "    <tr>\n",
       "      <th>Kyle</th>\n",
       "      <td>11</td>\n",
       "      <td>F</td>\n",
       "    </tr>\n",
       "  </tbody>\n",
       "</table>\n",
       "</div>"
      ],
      "text/plain": [
       "                   Yas Meslek\n",
       "Simpson    Homer    40      A\n",
       "           Bart     10      B\n",
       "           Marge    30      C\n",
       "South Park Cartman   9      D\n",
       "           Kenny    10      E\n",
       "           Kyle     11      F"
      ]
     },
     "execution_count": 89,
     "metadata": {},
     "output_type": "execute_result"
    }
   ],
   "source": [
    "cizgifilm_dataframe"
   ]
  },
  {
   "cell_type": "code",
   "execution_count": 94,
   "id": "6626025c-7158-41cb-ac5f-8a5e6d7dae77",
   "metadata": {},
   "outputs": [],
   "source": [
    "# Gördüğün gibi verileri daha organize Yaptık"
   ]
  },
  {
   "cell_type": "code",
   "execution_count": 96,
   "id": "fec0273a-b9ab-4082-9b10-1f270c46e8f7",
   "metadata": {},
   "outputs": [
    {
     "data": {
      "text/html": [
       "<div>\n",
       "<style scoped>\n",
       "    .dataframe tbody tr th:only-of-type {\n",
       "        vertical-align: middle;\n",
       "    }\n",
       "\n",
       "    .dataframe tbody tr th {\n",
       "        vertical-align: top;\n",
       "    }\n",
       "\n",
       "    .dataframe thead th {\n",
       "        text-align: right;\n",
       "    }\n",
       "</style>\n",
       "<table border=\"1\" class=\"dataframe\">\n",
       "  <thead>\n",
       "    <tr style=\"text-align: right;\">\n",
       "      <th></th>\n",
       "      <th>Yas</th>\n",
       "      <th>Meslek</th>\n",
       "    </tr>\n",
       "  </thead>\n",
       "  <tbody>\n",
       "    <tr>\n",
       "      <th>Homer</th>\n",
       "      <td>40</td>\n",
       "      <td>A</td>\n",
       "    </tr>\n",
       "    <tr>\n",
       "      <th>Bart</th>\n",
       "      <td>10</td>\n",
       "      <td>B</td>\n",
       "    </tr>\n",
       "    <tr>\n",
       "      <th>Marge</th>\n",
       "      <td>30</td>\n",
       "      <td>C</td>\n",
       "    </tr>\n",
       "  </tbody>\n",
       "</table>\n",
       "</div>"
      ],
      "text/plain": [
       "      Yas Meslek\n",
       "Homer  40      A\n",
       "Bart   10      B\n",
       "Marge  30      C"
      ]
     },
     "execution_count": 96,
     "metadata": {},
     "output_type": "execute_result"
    }
   ],
   "source": [
    "cizgifilm_dataframe.loc[\"Simpson\"]"
   ]
  },
  {
   "cell_type": "code",
   "execution_count": 97,
   "id": "e2d582cb-bac1-4b4b-8af2-cb108c7aedaa",
   "metadata": {},
   "outputs": [
    {
     "data": {
      "text/html": [
       "<div>\n",
       "<style scoped>\n",
       "    .dataframe tbody tr th:only-of-type {\n",
       "        vertical-align: middle;\n",
       "    }\n",
       "\n",
       "    .dataframe tbody tr th {\n",
       "        vertical-align: top;\n",
       "    }\n",
       "\n",
       "    .dataframe thead th {\n",
       "        text-align: right;\n",
       "    }\n",
       "</style>\n",
       "<table border=\"1\" class=\"dataframe\">\n",
       "  <thead>\n",
       "    <tr style=\"text-align: right;\">\n",
       "      <th></th>\n",
       "      <th>Yas</th>\n",
       "      <th>Meslek</th>\n",
       "    </tr>\n",
       "  </thead>\n",
       "  <tbody>\n",
       "    <tr>\n",
       "      <th>Cartman</th>\n",
       "      <td>9</td>\n",
       "      <td>D</td>\n",
       "    </tr>\n",
       "    <tr>\n",
       "      <th>Kenny</th>\n",
       "      <td>10</td>\n",
       "      <td>E</td>\n",
       "    </tr>\n",
       "    <tr>\n",
       "      <th>Kyle</th>\n",
       "      <td>11</td>\n",
       "      <td>F</td>\n",
       "    </tr>\n",
       "  </tbody>\n",
       "</table>\n",
       "</div>"
      ],
      "text/plain": [
       "        Yas Meslek\n",
       "Cartman   9      D\n",
       "Kenny    10      E\n",
       "Kyle     11      F"
      ]
     },
     "execution_count": 97,
     "metadata": {},
     "output_type": "execute_result"
    }
   ],
   "source": [
    "cizgifilm_dataframe.loc[\"South Park\"]"
   ]
  },
  {
   "cell_type": "code",
   "execution_count": 99,
   "id": "182760b7-358e-4e2a-ba06-219bbb8f1a6a",
   "metadata": {},
   "outputs": [
    {
     "data": {
      "text/plain": [
       "Yas       40\n",
       "Meslek     A\n",
       "Name: Homer, dtype: object"
      ]
     },
     "execution_count": 99,
     "metadata": {},
     "output_type": "execute_result"
    }
   ],
   "source": [
    " cizgifilm_dataframe.loc[\"Simpson\"].loc[\"Homer\"]"
   ]
  },
  {
   "cell_type": "code",
   "execution_count": 102,
   "id": "75dc42a3-21cf-4ebf-9e44-0b82ca58af8d",
   "metadata": {},
   "outputs": [],
   "source": [
    "## Gördüğün gibi Multi index taplolarıda oluşturabiliyoruz ve diğer DataFrame 'de satır bilgilerine nasıl ulaşıyorsak aynı şekilde\n",
    "## Multi index DataFramede de yapabiliyoruz"
   ]
  },
  {
   "cell_type": "code",
   "execution_count": 103,
   "id": "806268be-359d-4a8e-abd9-873b635b3eb5",
   "metadata": {},
   "outputs": [],
   "source": [
    "cizgifilm_dataframe.index.names = [\"Film_Adı\", \"İsim\"]"
   ]
  },
  {
   "cell_type": "code",
   "execution_count": 104,
   "id": "fb41cef5-032e-45e8-80a4-566bfcd9b82b",
   "metadata": {},
   "outputs": [
    {
     "data": {
      "text/html": [
       "<div>\n",
       "<style scoped>\n",
       "    .dataframe tbody tr th:only-of-type {\n",
       "        vertical-align: middle;\n",
       "    }\n",
       "\n",
       "    .dataframe tbody tr th {\n",
       "        vertical-align: top;\n",
       "    }\n",
       "\n",
       "    .dataframe thead th {\n",
       "        text-align: right;\n",
       "    }\n",
       "</style>\n",
       "<table border=\"1\" class=\"dataframe\">\n",
       "  <thead>\n",
       "    <tr style=\"text-align: right;\">\n",
       "      <th></th>\n",
       "      <th></th>\n",
       "      <th>Yas</th>\n",
       "      <th>Meslek</th>\n",
       "    </tr>\n",
       "    <tr>\n",
       "      <th>Film_Adı</th>\n",
       "      <th>İsim</th>\n",
       "      <th></th>\n",
       "      <th></th>\n",
       "    </tr>\n",
       "  </thead>\n",
       "  <tbody>\n",
       "    <tr>\n",
       "      <th rowspan=\"3\" valign=\"top\">Simpson</th>\n",
       "      <th>Homer</th>\n",
       "      <td>40</td>\n",
       "      <td>A</td>\n",
       "    </tr>\n",
       "    <tr>\n",
       "      <th>Bart</th>\n",
       "      <td>10</td>\n",
       "      <td>B</td>\n",
       "    </tr>\n",
       "    <tr>\n",
       "      <th>Marge</th>\n",
       "      <td>30</td>\n",
       "      <td>C</td>\n",
       "    </tr>\n",
       "    <tr>\n",
       "      <th rowspan=\"3\" valign=\"top\">South Park</th>\n",
       "      <th>Cartman</th>\n",
       "      <td>9</td>\n",
       "      <td>D</td>\n",
       "    </tr>\n",
       "    <tr>\n",
       "      <th>Kenny</th>\n",
       "      <td>10</td>\n",
       "      <td>E</td>\n",
       "    </tr>\n",
       "    <tr>\n",
       "      <th>Kyle</th>\n",
       "      <td>11</td>\n",
       "      <td>F</td>\n",
       "    </tr>\n",
       "  </tbody>\n",
       "</table>\n",
       "</div>"
      ],
      "text/plain": [
       "                   Yas Meslek\n",
       "Film_Adı   İsim              \n",
       "Simpson    Homer    40      A\n",
       "           Bart     10      B\n",
       "           Marge    30      C\n",
       "South Park Cartman   9      D\n",
       "           Kenny    10      E\n",
       "           Kyle     11      F"
      ]
     },
     "execution_count": 104,
     "metadata": {},
     "output_type": "execute_result"
    }
   ],
   "source": [
    "cizgifilm_dataframe"
   ]
  },
  {
   "cell_type": "code",
   "execution_count": 105,
   "id": "7ebe4b34-0f26-4d35-8e4f-17678c69201b",
   "metadata": {},
   "outputs": [],
   "source": [
    "## Burada da isim verme işlemi yapabiliyoruz"
   ]
  }
 ],
 "metadata": {
  "kernelspec": {
   "display_name": "Python 3 (ipykernel)",
   "language": "python",
   "name": "python3"
  },
  "language_info": {
   "codemirror_mode": {
    "name": "ipython",
    "version": 3
   },
   "file_extension": ".py",
   "mimetype": "text/x-python",
   "name": "python",
   "nbconvert_exporter": "python",
   "pygments_lexer": "ipython3",
   "version": "3.12.4"
  }
 },
 "nbformat": 4,
 "nbformat_minor": 5
}
