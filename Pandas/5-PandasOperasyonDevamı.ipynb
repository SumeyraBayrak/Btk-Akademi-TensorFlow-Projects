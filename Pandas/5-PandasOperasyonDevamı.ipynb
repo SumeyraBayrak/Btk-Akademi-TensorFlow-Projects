{
 "cells": [
  {
   "cell_type": "code",
   "execution_count": 4,
   "id": "907f2184-124b-4276-839a-852aaa1b64eb",
   "metadata": {},
   "outputs": [],
   "source": [
    "import numpy as np\n",
    "import pandas as pd"
   ]
  },
  {
   "cell_type": "code",
   "execution_count": 5,
   "id": "45b0855c-fcba-4912-b706-2b02837a3bc9",
   "metadata": {},
   "outputs": [],
   "source": [
    "sozluk1 = {\n",
    "          \"Isim\": [\"Ahmet\", \"Mehmet\", \"Zeynep\", \"Atıl\"],\n",
    "          \"Spor\" : [\"Kosu\", \"Yüzme\", \"Kosu\", \"Basketbol\"],\n",
    "          \"Kalori\": [100, 200, 300, 400]\n",
    "          }"
   ]
  },
  {
   "cell_type": "code",
   "execution_count": 6,
   "id": "0131c67d-08a6-4464-9e1d-70ccb8a1d963",
   "metadata": {},
   "outputs": [],
   "source": [
    "data_frame1 = pd.DataFrame(sozluk1, index = [0,1,2,3])"
   ]
  },
  {
   "cell_type": "code",
   "execution_count": 7,
   "id": "9ffba6b1-2062-4d51-a09a-924be37fe757",
   "metadata": {},
   "outputs": [
    {
     "data": {
      "text/html": [
       "<div>\n",
       "<style scoped>\n",
       "    .dataframe tbody tr th:only-of-type {\n",
       "        vertical-align: middle;\n",
       "    }\n",
       "\n",
       "    .dataframe tbody tr th {\n",
       "        vertical-align: top;\n",
       "    }\n",
       "\n",
       "    .dataframe thead th {\n",
       "        text-align: right;\n",
       "    }\n",
       "</style>\n",
       "<table border=\"1\" class=\"dataframe\">\n",
       "  <thead>\n",
       "    <tr style=\"text-align: right;\">\n",
       "      <th></th>\n",
       "      <th>Isim</th>\n",
       "      <th>Spor</th>\n",
       "      <th>Kalori</th>\n",
       "    </tr>\n",
       "  </thead>\n",
       "  <tbody>\n",
       "    <tr>\n",
       "      <th>0</th>\n",
       "      <td>Ahmet</td>\n",
       "      <td>Kosu</td>\n",
       "      <td>100</td>\n",
       "    </tr>\n",
       "    <tr>\n",
       "      <th>1</th>\n",
       "      <td>Mehmet</td>\n",
       "      <td>Yüzme</td>\n",
       "      <td>200</td>\n",
       "    </tr>\n",
       "    <tr>\n",
       "      <th>2</th>\n",
       "      <td>Zeynep</td>\n",
       "      <td>Kosu</td>\n",
       "      <td>300</td>\n",
       "    </tr>\n",
       "    <tr>\n",
       "      <th>3</th>\n",
       "      <td>Atıl</td>\n",
       "      <td>Basketbol</td>\n",
       "      <td>400</td>\n",
       "    </tr>\n",
       "  </tbody>\n",
       "</table>\n",
       "</div>"
      ],
      "text/plain": [
       "     Isim       Spor  Kalori\n",
       "0   Ahmet       Kosu     100\n",
       "1  Mehmet      Yüzme     200\n",
       "2  Zeynep       Kosu     300\n",
       "3    Atıl  Basketbol     400"
      ]
     },
     "execution_count": 7,
     "metadata": {},
     "output_type": "execute_result"
    }
   ],
   "source": [
    "data_frame1"
   ]
  },
  {
   "cell_type": "code",
   "execution_count": 8,
   "id": "833ffbf7-1bf1-49fa-8a53-27bb216beee6",
   "metadata": {},
   "outputs": [],
   "source": [
    "sozluk2 = {\"Isim\": [\"Osman\", \"Levent\", \"Atlas\", \"Fatma\"],\n",
    "          \"Spor\" : [\"Kosu\", \"Yüzme\", \"Kosu\", \"Basketbol\"],\n",
    "          \"Kalori\": [200, 100, 50, 300]\n",
    "          }"
   ]
  },
  {
   "cell_type": "code",
   "execution_count": 9,
   "id": "1b9f8c31-1dec-46dd-96cc-e3ca9e0be4e3",
   "metadata": {},
   "outputs": [],
   "source": [
    "data_frame2 = pd.DataFrame(sozluk2, index = [4,5,6,7])"
   ]
  },
  {
   "cell_type": "code",
   "execution_count": 10,
   "id": "4e6195c2-346b-463a-9bb5-ad80c7f75968",
   "metadata": {},
   "outputs": [
    {
     "data": {
      "text/html": [
       "<div>\n",
       "<style scoped>\n",
       "    .dataframe tbody tr th:only-of-type {\n",
       "        vertical-align: middle;\n",
       "    }\n",
       "\n",
       "    .dataframe tbody tr th {\n",
       "        vertical-align: top;\n",
       "    }\n",
       "\n",
       "    .dataframe thead th {\n",
       "        text-align: right;\n",
       "    }\n",
       "</style>\n",
       "<table border=\"1\" class=\"dataframe\">\n",
       "  <thead>\n",
       "    <tr style=\"text-align: right;\">\n",
       "      <th></th>\n",
       "      <th>Isim</th>\n",
       "      <th>Spor</th>\n",
       "      <th>Kalori</th>\n",
       "    </tr>\n",
       "  </thead>\n",
       "  <tbody>\n",
       "    <tr>\n",
       "      <th>4</th>\n",
       "      <td>Osman</td>\n",
       "      <td>Kosu</td>\n",
       "      <td>200</td>\n",
       "    </tr>\n",
       "    <tr>\n",
       "      <th>5</th>\n",
       "      <td>Levent</td>\n",
       "      <td>Yüzme</td>\n",
       "      <td>100</td>\n",
       "    </tr>\n",
       "    <tr>\n",
       "      <th>6</th>\n",
       "      <td>Atlas</td>\n",
       "      <td>Kosu</td>\n",
       "      <td>50</td>\n",
       "    </tr>\n",
       "    <tr>\n",
       "      <th>7</th>\n",
       "      <td>Fatma</td>\n",
       "      <td>Basketbol</td>\n",
       "      <td>300</td>\n",
       "    </tr>\n",
       "  </tbody>\n",
       "</table>\n",
       "</div>"
      ],
      "text/plain": [
       "     Isim       Spor  Kalori\n",
       "4   Osman       Kosu     200\n",
       "5  Levent      Yüzme     100\n",
       "6   Atlas       Kosu      50\n",
       "7   Fatma  Basketbol     300"
      ]
     },
     "execution_count": 10,
     "metadata": {},
     "output_type": "execute_result"
    }
   ],
   "source": [
    "data_frame2"
   ]
  },
  {
   "cell_type": "code",
   "execution_count": 11,
   "id": "8e15b553-03f3-4690-8671-6cb9b9835a3d",
   "metadata": {},
   "outputs": [],
   "source": [
    "sozluk3 = {\n",
    "    \"Isim\": [\"Ayse\", \"Mahmut\", \"Duygu\", \"Nur\"],\n",
    "    \"Spor\": [\"Kosu\", \"Yüzme\", \"Badminton\", \"Tenis\"],\n",
    "    \"Kalori\": [200, 100, 50, 300]\n",
    "}"
   ]
  },
  {
   "cell_type": "code",
   "execution_count": 12,
   "id": "6626febf-68da-4593-b53e-f57b1aa2fefa",
   "metadata": {},
   "outputs": [],
   "source": [
    "data_frame3 = pd.DataFrame(sozluk3, index = [8,9,10,11])"
   ]
  },
  {
   "cell_type": "code",
   "execution_count": 13,
   "id": "e3a29d19-89d3-434a-85ac-2c3e62a52c71",
   "metadata": {},
   "outputs": [
    {
     "data": {
      "text/html": [
       "<div>\n",
       "<style scoped>\n",
       "    .dataframe tbody tr th:only-of-type {\n",
       "        vertical-align: middle;\n",
       "    }\n",
       "\n",
       "    .dataframe tbody tr th {\n",
       "        vertical-align: top;\n",
       "    }\n",
       "\n",
       "    .dataframe thead th {\n",
       "        text-align: right;\n",
       "    }\n",
       "</style>\n",
       "<table border=\"1\" class=\"dataframe\">\n",
       "  <thead>\n",
       "    <tr style=\"text-align: right;\">\n",
       "      <th></th>\n",
       "      <th>Isim</th>\n",
       "      <th>Spor</th>\n",
       "      <th>Kalori</th>\n",
       "    </tr>\n",
       "  </thead>\n",
       "  <tbody>\n",
       "    <tr>\n",
       "      <th>8</th>\n",
       "      <td>Ayse</td>\n",
       "      <td>Kosu</td>\n",
       "      <td>200</td>\n",
       "    </tr>\n",
       "    <tr>\n",
       "      <th>9</th>\n",
       "      <td>Mahmut</td>\n",
       "      <td>Yüzme</td>\n",
       "      <td>100</td>\n",
       "    </tr>\n",
       "    <tr>\n",
       "      <th>10</th>\n",
       "      <td>Duygu</td>\n",
       "      <td>Badminton</td>\n",
       "      <td>50</td>\n",
       "    </tr>\n",
       "    <tr>\n",
       "      <th>11</th>\n",
       "      <td>Nur</td>\n",
       "      <td>Tenis</td>\n",
       "      <td>300</td>\n",
       "    </tr>\n",
       "  </tbody>\n",
       "</table>\n",
       "</div>"
      ],
      "text/plain": [
       "      Isim       Spor  Kalori\n",
       "8     Ayse       Kosu     200\n",
       "9   Mahmut      Yüzme     100\n",
       "10   Duygu  Badminton      50\n",
       "11     Nur      Tenis     300"
      ]
     },
     "execution_count": 13,
     "metadata": {},
     "output_type": "execute_result"
    }
   ],
   "source": [
    "data_frame3"
   ]
  },
  {
   "cell_type": "markdown",
   "id": "1a22aaa4-54ea-413f-8552-ce266da322bc",
   "metadata": {},
   "source": [
    "# Concatenation"
   ]
  },
  {
   "cell_type": "code",
   "execution_count": 16,
   "id": "9e0a6f43-6f64-4f45-9171-eed281b027a0",
   "metadata": {
    "scrolled": true
   },
   "outputs": [
    {
     "data": {
      "text/html": [
       "<div>\n",
       "<style scoped>\n",
       "    .dataframe tbody tr th:only-of-type {\n",
       "        vertical-align: middle;\n",
       "    }\n",
       "\n",
       "    .dataframe tbody tr th {\n",
       "        vertical-align: top;\n",
       "    }\n",
       "\n",
       "    .dataframe thead th {\n",
       "        text-align: right;\n",
       "    }\n",
       "</style>\n",
       "<table border=\"1\" class=\"dataframe\">\n",
       "  <thead>\n",
       "    <tr style=\"text-align: right;\">\n",
       "      <th></th>\n",
       "      <th>Isim</th>\n",
       "      <th>Spor</th>\n",
       "      <th>Kalori</th>\n",
       "    </tr>\n",
       "  </thead>\n",
       "  <tbody>\n",
       "    <tr>\n",
       "      <th>0</th>\n",
       "      <td>Ahmet</td>\n",
       "      <td>Kosu</td>\n",
       "      <td>100</td>\n",
       "    </tr>\n",
       "    <tr>\n",
       "      <th>1</th>\n",
       "      <td>Mehmet</td>\n",
       "      <td>Yüzme</td>\n",
       "      <td>200</td>\n",
       "    </tr>\n",
       "    <tr>\n",
       "      <th>2</th>\n",
       "      <td>Zeynep</td>\n",
       "      <td>Kosu</td>\n",
       "      <td>300</td>\n",
       "    </tr>\n",
       "    <tr>\n",
       "      <th>3</th>\n",
       "      <td>Atıl</td>\n",
       "      <td>Basketbol</td>\n",
       "      <td>400</td>\n",
       "    </tr>\n",
       "    <tr>\n",
       "      <th>4</th>\n",
       "      <td>Osman</td>\n",
       "      <td>Kosu</td>\n",
       "      <td>200</td>\n",
       "    </tr>\n",
       "    <tr>\n",
       "      <th>5</th>\n",
       "      <td>Levent</td>\n",
       "      <td>Yüzme</td>\n",
       "      <td>100</td>\n",
       "    </tr>\n",
       "    <tr>\n",
       "      <th>6</th>\n",
       "      <td>Atlas</td>\n",
       "      <td>Kosu</td>\n",
       "      <td>50</td>\n",
       "    </tr>\n",
       "    <tr>\n",
       "      <th>7</th>\n",
       "      <td>Fatma</td>\n",
       "      <td>Basketbol</td>\n",
       "      <td>300</td>\n",
       "    </tr>\n",
       "    <tr>\n",
       "      <th>8</th>\n",
       "      <td>Ayse</td>\n",
       "      <td>Kosu</td>\n",
       "      <td>200</td>\n",
       "    </tr>\n",
       "    <tr>\n",
       "      <th>9</th>\n",
       "      <td>Mahmut</td>\n",
       "      <td>Yüzme</td>\n",
       "      <td>100</td>\n",
       "    </tr>\n",
       "    <tr>\n",
       "      <th>10</th>\n",
       "      <td>Duygu</td>\n",
       "      <td>Badminton</td>\n",
       "      <td>50</td>\n",
       "    </tr>\n",
       "    <tr>\n",
       "      <th>11</th>\n",
       "      <td>Nur</td>\n",
       "      <td>Tenis</td>\n",
       "      <td>300</td>\n",
       "    </tr>\n",
       "  </tbody>\n",
       "</table>\n",
       "</div>"
      ],
      "text/plain": [
       "      Isim       Spor  Kalori\n",
       "0    Ahmet       Kosu     100\n",
       "1   Mehmet      Yüzme     200\n",
       "2   Zeynep       Kosu     300\n",
       "3     Atıl  Basketbol     400\n",
       "4    Osman       Kosu     200\n",
       "5   Levent      Yüzme     100\n",
       "6    Atlas       Kosu      50\n",
       "7    Fatma  Basketbol     300\n",
       "8     Ayse       Kosu     200\n",
       "9   Mahmut      Yüzme     100\n",
       "10   Duygu  Badminton      50\n",
       "11     Nur      Tenis     300"
      ]
     },
     "execution_count": 16,
     "metadata": {},
     "output_type": "execute_result"
    }
   ],
   "source": [
    "pd.concat([data_frame1, data_frame2, data_frame3])"
   ]
  },
  {
   "cell_type": "code",
   "execution_count": 15,
   "id": "889ddf8c-5ad1-44e2-835f-062a766365c6",
   "metadata": {},
   "outputs": [],
   "source": [
    "## concat ile birden fazla taployu birbirine bağlar. Birleştime işlemini kolayca yapabilirsin"
   ]
  },
  {
   "cell_type": "code",
   "execution_count": null,
   "id": "d3e6fd72-fbe5-4f0e-b6a9-d8fddb4025de",
   "metadata": {},
   "outputs": [],
   "source": []
  },
  {
   "cell_type": "code",
   "execution_count": null,
   "id": "bf1f2f4a-2698-420c-948a-72a4811b7069",
   "metadata": {},
   "outputs": [],
   "source": []
  },
  {
   "cell_type": "markdown",
   "id": "b1ce95c7-2641-4262-8757-db438114c1e3",
   "metadata": {},
   "source": [
    "# Pandas DataFrame Birleştirme (`merge` Fonksiyonu)\r\n",
    "\r\n",
    "**Pandas** kütüphanesi, veri analizi ve manipülasyonu için kullanılır. `merge()` fonksiyonu, SQL'deki **JOIN** işlemine benzer şekilde iki DataFrame'i birleştirir.\r\n",
    "\r\n",
    "## a) Temel Kavramlar\r\n",
    "- **`on`**: Hangi sütuna göre birleştirme yapılacağını belirtir.\r\n",
    "- **`how`**: Birleştirmenin tipi (`inner`, `left`, `right`, `outer`).\r\n",
    "\r\n",
    "## b) Birleştirme Türleri\r\n",
    "- **`inner`**: Kesişim. Yalnızca her iki DataFrame'deki ortak değerleri içerir.\r\n",
    "- **`left`**: Sol birleşim. Sol DataFrame'deki tüm satırları ve sağ DataFrame'deki eşleşen satırları içerir.\r\n",
    "- **`right`**: Sağ birleşim. Sağ DataFrame'deki tüm satırları ve sol DataFrame'deki eşleşen satırları içerir.\r\n",
    "- **`outer`**: Birleşim. Her iki DataFrame'deki tüm satırları içerir; eksik değerler `NaN` olarak gösterilir.\r\n"
   ]
  },
  {
   "cell_type": "code",
   "execution_count": 18,
   "id": "71ccfeb2-2fe7-4ca6-a3d5-4be75d2b35b3",
   "metadata": {},
   "outputs": [],
   "source": [
    "mergeSozluk1 = {\"Isım\" : [\"Ahmet\", \"Mehmet\", \"Zeynep\", \"Atıl\"],\n",
    "               \"Spor\" : [\"Koşu\", \"Yüzme\", \"Koşu\", \"Basketbol\"]\n",
    "               }"
   ]
  },
  {
   "cell_type": "code",
   "execution_count": 20,
   "id": "46c93b94-0052-452b-9694-fa5913dd9a60",
   "metadata": {},
   "outputs": [],
   "source": [
    "merge_dataframe1 = pd.DataFrame(mergeSozluk1)"
   ]
  },
  {
   "cell_type": "code",
   "execution_count": 21,
   "id": "eefb6ee7-0ca1-4c06-9bf5-27831f8af4d9",
   "metadata": {},
   "outputs": [
    {
     "data": {
      "text/html": [
       "<div>\n",
       "<style scoped>\n",
       "    .dataframe tbody tr th:only-of-type {\n",
       "        vertical-align: middle;\n",
       "    }\n",
       "\n",
       "    .dataframe tbody tr th {\n",
       "        vertical-align: top;\n",
       "    }\n",
       "\n",
       "    .dataframe thead th {\n",
       "        text-align: right;\n",
       "    }\n",
       "</style>\n",
       "<table border=\"1\" class=\"dataframe\">\n",
       "  <thead>\n",
       "    <tr style=\"text-align: right;\">\n",
       "      <th></th>\n",
       "      <th>Isım</th>\n",
       "      <th>Spor</th>\n",
       "    </tr>\n",
       "  </thead>\n",
       "  <tbody>\n",
       "    <tr>\n",
       "      <th>0</th>\n",
       "      <td>Ahmet</td>\n",
       "      <td>Koşu</td>\n",
       "    </tr>\n",
       "    <tr>\n",
       "      <th>1</th>\n",
       "      <td>Mehmet</td>\n",
       "      <td>Yüzme</td>\n",
       "    </tr>\n",
       "    <tr>\n",
       "      <th>2</th>\n",
       "      <td>Zeynep</td>\n",
       "      <td>Koşu</td>\n",
       "    </tr>\n",
       "    <tr>\n",
       "      <th>3</th>\n",
       "      <td>Atıl</td>\n",
       "      <td>Basketbol</td>\n",
       "    </tr>\n",
       "  </tbody>\n",
       "</table>\n",
       "</div>"
      ],
      "text/plain": [
       "     Isım       Spor\n",
       "0   Ahmet       Koşu\n",
       "1  Mehmet      Yüzme\n",
       "2  Zeynep       Koşu\n",
       "3    Atıl  Basketbol"
      ]
     },
     "execution_count": 21,
     "metadata": {},
     "output_type": "execute_result"
    }
   ],
   "source": [
    "merge_dataframe1"
   ]
  },
  {
   "cell_type": "code",
   "execution_count": 24,
   "id": "5ee65826-eade-4cad-b50a-98138b30c329",
   "metadata": {},
   "outputs": [],
   "source": [
    "mergeSozluk2 = {\"Isım\" : [\"Ahmet\", \"Mehmet\", \"Zeynep\", \"Atıl\"],\n",
    "               \"Kalori\" : [100, 200, 150, 250]\n",
    "               }"
   ]
  },
  {
   "cell_type": "code",
   "execution_count": 26,
   "id": "b367ab77-2331-434d-bc18-577134c3ab20",
   "metadata": {},
   "outputs": [],
   "source": [
    "merge_dataframe2 = pd.DataFrame(mergeSozluk2)"
   ]
  },
  {
   "cell_type": "code",
   "execution_count": 27,
   "id": "404c53b6-9f1b-495e-9aa4-5f5e253d2ca9",
   "metadata": {},
   "outputs": [
    {
     "data": {
      "text/html": [
       "<div>\n",
       "<style scoped>\n",
       "    .dataframe tbody tr th:only-of-type {\n",
       "        vertical-align: middle;\n",
       "    }\n",
       "\n",
       "    .dataframe tbody tr th {\n",
       "        vertical-align: top;\n",
       "    }\n",
       "\n",
       "    .dataframe thead th {\n",
       "        text-align: right;\n",
       "    }\n",
       "</style>\n",
       "<table border=\"1\" class=\"dataframe\">\n",
       "  <thead>\n",
       "    <tr style=\"text-align: right;\">\n",
       "      <th></th>\n",
       "      <th>Isım</th>\n",
       "      <th>Kalori</th>\n",
       "    </tr>\n",
       "  </thead>\n",
       "  <tbody>\n",
       "    <tr>\n",
       "      <th>0</th>\n",
       "      <td>Ahmet</td>\n",
       "      <td>100</td>\n",
       "    </tr>\n",
       "    <tr>\n",
       "      <th>1</th>\n",
       "      <td>Mehmet</td>\n",
       "      <td>200</td>\n",
       "    </tr>\n",
       "    <tr>\n",
       "      <th>2</th>\n",
       "      <td>Zeynep</td>\n",
       "      <td>150</td>\n",
       "    </tr>\n",
       "    <tr>\n",
       "      <th>3</th>\n",
       "      <td>Atıl</td>\n",
       "      <td>250</td>\n",
       "    </tr>\n",
       "  </tbody>\n",
       "</table>\n",
       "</div>"
      ],
      "text/plain": [
       "     Isım  Kalori\n",
       "0   Ahmet     100\n",
       "1  Mehmet     200\n",
       "2  Zeynep     150\n",
       "3    Atıl     250"
      ]
     },
     "execution_count": 27,
     "metadata": {},
     "output_type": "execute_result"
    }
   ],
   "source": [
    "merge_dataframe2"
   ]
  },
  {
   "cell_type": "code",
   "execution_count": 30,
   "id": "e3c86a35-a96b-4f9c-982c-1b94666a03c2",
   "metadata": {},
   "outputs": [
    {
     "data": {
      "text/html": [
       "<div>\n",
       "<style scoped>\n",
       "    .dataframe tbody tr th:only-of-type {\n",
       "        vertical-align: middle;\n",
       "    }\n",
       "\n",
       "    .dataframe tbody tr th {\n",
       "        vertical-align: top;\n",
       "    }\n",
       "\n",
       "    .dataframe thead th {\n",
       "        text-align: right;\n",
       "    }\n",
       "</style>\n",
       "<table border=\"1\" class=\"dataframe\">\n",
       "  <thead>\n",
       "    <tr style=\"text-align: right;\">\n",
       "      <th></th>\n",
       "      <th>Isım</th>\n",
       "      <th>Spor</th>\n",
       "      <th>Kalori</th>\n",
       "    </tr>\n",
       "  </thead>\n",
       "  <tbody>\n",
       "    <tr>\n",
       "      <th>0</th>\n",
       "      <td>Ahmet</td>\n",
       "      <td>Koşu</td>\n",
       "      <td>100</td>\n",
       "    </tr>\n",
       "    <tr>\n",
       "      <th>1</th>\n",
       "      <td>Mehmet</td>\n",
       "      <td>Yüzme</td>\n",
       "      <td>200</td>\n",
       "    </tr>\n",
       "    <tr>\n",
       "      <th>2</th>\n",
       "      <td>Zeynep</td>\n",
       "      <td>Koşu</td>\n",
       "      <td>150</td>\n",
       "    </tr>\n",
       "    <tr>\n",
       "      <th>3</th>\n",
       "      <td>Atıl</td>\n",
       "      <td>Basketbol</td>\n",
       "      <td>250</td>\n",
       "    </tr>\n",
       "  </tbody>\n",
       "</table>\n",
       "</div>"
      ],
      "text/plain": [
       "     Isım       Spor  Kalori\n",
       "0   Ahmet       Koşu     100\n",
       "1  Mehmet      Yüzme     200\n",
       "2  Zeynep       Koşu     150\n",
       "3    Atıl  Basketbol     250"
      ]
     },
     "execution_count": 30,
     "metadata": {},
     "output_type": "execute_result"
    }
   ],
   "source": [
    "pd.merge(merge_dataframe1, merge_dataframe2, on= \"Isım\")"
   ]
  },
  {
   "cell_type": "code",
   "execution_count": 33,
   "id": "a2b0084e-a6d1-4163-80c9-97b2a99b06d7",
   "metadata": {},
   "outputs": [],
   "source": [
    "## Gödüğün gibi burada, Sutün birleştirme işlemi yapıldı\n",
    "##1 Birleştireceğin DataFrame leri seçmen gerekiyor \n",
    "##2 on ile ortak olan değerleri belirlemen ve göstermen lazım\n",
    "\n",
    "## iki dataframe i tek dökümasyonda tolamak için kullanıyoruz"
   ]
  },
  {
   "cell_type": "code",
   "execution_count": 35,
   "id": "d5b18030-8fa7-4147-83de-61066cab8893",
   "metadata": {},
   "outputs": [],
   "source": [
    "maas_sozluk = {\n",
    "    \"isim\": [\"Atıl\", \"Zeynep\", \"Mehmet\", \"Ahmet\"],\n",
    "    \"Departman\": [\"Yazılım\", \"Satıs\", \"Pazarlama\", \"Yazılım\"],\n",
    "    \"Maas\" : [200,300,400,500]\n",
    "}"
   ]
  },
  {
   "cell_type": "code",
   "execution_count": 36,
   "id": "aa3a68b1-48b9-4573-bf45-c3273f2e26cb",
   "metadata": {},
   "outputs": [],
   "source": [
    "maas_dataframe = pd.DataFrame(maas_sozluk)"
   ]
  },
  {
   "cell_type": "code",
   "execution_count": 37,
   "id": "076fb4e9-f2ef-4a07-8c08-773500660777",
   "metadata": {},
   "outputs": [
    {
     "data": {
      "text/html": [
       "<div>\n",
       "<style scoped>\n",
       "    .dataframe tbody tr th:only-of-type {\n",
       "        vertical-align: middle;\n",
       "    }\n",
       "\n",
       "    .dataframe tbody tr th {\n",
       "        vertical-align: top;\n",
       "    }\n",
       "\n",
       "    .dataframe thead th {\n",
       "        text-align: right;\n",
       "    }\n",
       "</style>\n",
       "<table border=\"1\" class=\"dataframe\">\n",
       "  <thead>\n",
       "    <tr style=\"text-align: right;\">\n",
       "      <th></th>\n",
       "      <th>isim</th>\n",
       "      <th>Departman</th>\n",
       "      <th>Maas</th>\n",
       "    </tr>\n",
       "  </thead>\n",
       "  <tbody>\n",
       "    <tr>\n",
       "      <th>0</th>\n",
       "      <td>Atıl</td>\n",
       "      <td>Yazılım</td>\n",
       "      <td>200</td>\n",
       "    </tr>\n",
       "    <tr>\n",
       "      <th>1</th>\n",
       "      <td>Zeynep</td>\n",
       "      <td>Satıs</td>\n",
       "      <td>300</td>\n",
       "    </tr>\n",
       "    <tr>\n",
       "      <th>2</th>\n",
       "      <td>Mehmet</td>\n",
       "      <td>Pazarlama</td>\n",
       "      <td>400</td>\n",
       "    </tr>\n",
       "    <tr>\n",
       "      <th>3</th>\n",
       "      <td>Ahmet</td>\n",
       "      <td>Yazılım</td>\n",
       "      <td>500</td>\n",
       "    </tr>\n",
       "  </tbody>\n",
       "</table>\n",
       "</div>"
      ],
      "text/plain": [
       "     isim  Departman  Maas\n",
       "0    Atıl    Yazılım   200\n",
       "1  Zeynep      Satıs   300\n",
       "2  Mehmet  Pazarlama   400\n",
       "3   Ahmet    Yazılım   500"
      ]
     },
     "execution_count": 37,
     "metadata": {},
     "output_type": "execute_result"
    }
   ],
   "source": [
    "maas_dataframe"
   ]
  },
  {
   "cell_type": "code",
   "execution_count": 38,
   "id": "c48b3289-8236-4ead-b805-547ca4a9ac3d",
   "metadata": {},
   "outputs": [
    {
     "data": {
      "text/plain": [
       "array(['Yazılım', 'Satıs', 'Pazarlama'], dtype=object)"
      ]
     },
     "execution_count": 38,
     "metadata": {},
     "output_type": "execute_result"
    }
   ],
   "source": [
    "maas_dataframe[\"Departman\"].unique()"
   ]
  },
  {
   "cell_type": "markdown",
   "id": "eea71ace-4c45-4170-a19f-4389b92ecd44",
   "metadata": {},
   "source": [
    "unique() fonksiyonu, bir veri kümesinde tekrarlayan elemanları çıkarıp sadece benzersiz (unique) elemanları bulmamızı sağlar. Bu, veri setinde hangi değerlerin olduğunu görmek istediğimizde kullanışlıdır."
   ]
  },
  {
   "cell_type": "code",
   "execution_count": 39,
   "id": "584d96e6-97d0-4afc-8119-093bc3cce5df",
   "metadata": {},
   "outputs": [
    {
     "data": {
      "text/plain": [
       "3"
      ]
     },
     "execution_count": 39,
     "metadata": {},
     "output_type": "execute_result"
    }
   ],
   "source": [
    "maas_dataframe[\"Departman\"].nunique()"
   ]
  },
  {
   "cell_type": "code",
   "execution_count": 40,
   "id": "b8497ad7-1cdd-4082-9f4e-0ebd19e76021",
   "metadata": {},
   "outputs": [],
   "source": [
    "# number of unique yani benzirsiz veri sayısını karşına çıkaracaktır"
   ]
  },
  {
   "cell_type": "code",
   "execution_count": 42,
   "id": "ac91569b-2599-47d9-a255-d538b847a831",
   "metadata": {},
   "outputs": [
    {
     "data": {
      "text/plain": [
       "Departman\n",
       "Yazılım      2\n",
       "Satıs        1\n",
       "Pazarlama    1\n",
       "Name: count, dtype: int64"
      ]
     },
     "execution_count": 42,
     "metadata": {},
     "output_type": "execute_result"
    }
   ],
   "source": [
    "maas_dataframe[\"Departman\"].value_counts()"
   ]
  },
  {
   "cell_type": "code",
   "execution_count": 43,
   "id": "6890f46c-7b30-48f4-abc3-091278f0081d",
   "metadata": {},
   "outputs": [],
   "source": [
    "## value_counts ise sana veri sayıyısı ve verileri karşına çıkarır"
   ]
  },
  {
   "cell_type": "markdown",
   "id": "b37d711a-6b3e-4514-aff8-951a00307b68",
   "metadata": {},
   "source": [
    "# DataFrame 'lerde kendi oluşturduğum fonksiyonları kullanmak."
   ]
  },
  {
   "cell_type": "code",
   "execution_count": 46,
   "id": "c064da8a-94f7-42e8-84a2-1d4ba81b3b63",
   "metadata": {},
   "outputs": [],
   "source": [
    "def bruttenNete(maas):\n",
    "    return maas * 0.66"
   ]
  },
  {
   "cell_type": "code",
   "execution_count": 47,
   "id": "af4171cf-d368-485c-a4e5-a3d195b4c9d0",
   "metadata": {},
   "outputs": [
    {
     "data": {
      "text/plain": [
       "0    132.0\n",
       "1    198.0\n",
       "2    264.0\n",
       "3    330.0\n",
       "Name: Maas, dtype: float64"
      ]
     },
     "execution_count": 47,
     "metadata": {},
     "output_type": "execute_result"
    }
   ],
   "source": [
    "maas_dataframe[\"Maas\"].apply(bruttenNete)"
   ]
  },
  {
   "cell_type": "code",
   "execution_count": 50,
   "id": "1367b09b-5fb3-47d7-84cb-dea7bf25ddc1",
   "metadata": {},
   "outputs": [],
   "source": [
    "## apply() method'u ile istediğin bir fonksiyonu DataFrame ' e uygulayabilirsin"
   ]
  },
  {
   "cell_type": "code",
   "execution_count": 51,
   "id": "82f50635-585a-4505-b234-3bd9f1331797",
   "metadata": {},
   "outputs": [],
   "source": [
    "## Burada DataFrame'deki maas değerinin %66 'sını buldu."
   ]
  },
  {
   "cell_type": "code",
   "execution_count": 53,
   "id": "f1444bce-aa99-4932-9757-b9dc41a93602",
   "metadata": {},
   "outputs": [
    {
     "data": {
      "text/html": [
       "<div>\n",
       "<style scoped>\n",
       "    .dataframe tbody tr th:only-of-type {\n",
       "        vertical-align: middle;\n",
       "    }\n",
       "\n",
       "    .dataframe tbody tr th {\n",
       "        vertical-align: top;\n",
       "    }\n",
       "\n",
       "    .dataframe thead th {\n",
       "        text-align: right;\n",
       "    }\n",
       "</style>\n",
       "<table border=\"1\" class=\"dataframe\">\n",
       "  <thead>\n",
       "    <tr style=\"text-align: right;\">\n",
       "      <th></th>\n",
       "      <th>isim</th>\n",
       "      <th>Departman</th>\n",
       "      <th>Maas</th>\n",
       "    </tr>\n",
       "  </thead>\n",
       "  <tbody>\n",
       "    <tr>\n",
       "      <th>0</th>\n",
       "      <td>False</td>\n",
       "      <td>False</td>\n",
       "      <td>False</td>\n",
       "    </tr>\n",
       "    <tr>\n",
       "      <th>1</th>\n",
       "      <td>False</td>\n",
       "      <td>False</td>\n",
       "      <td>False</td>\n",
       "    </tr>\n",
       "    <tr>\n",
       "      <th>2</th>\n",
       "      <td>False</td>\n",
       "      <td>False</td>\n",
       "      <td>False</td>\n",
       "    </tr>\n",
       "    <tr>\n",
       "      <th>3</th>\n",
       "      <td>False</td>\n",
       "      <td>False</td>\n",
       "      <td>False</td>\n",
       "    </tr>\n",
       "  </tbody>\n",
       "</table>\n",
       "</div>"
      ],
      "text/plain": [
       "    isim  Departman   Maas\n",
       "0  False      False  False\n",
       "1  False      False  False\n",
       "2  False      False  False\n",
       "3  False      False  False"
      ]
     },
     "execution_count": 53,
     "metadata": {},
     "output_type": "execute_result"
    }
   ],
   "source": [
    "maas_dataframe.isnull()"
   ]
  },
  {
   "cell_type": "code",
   "execution_count": 54,
   "id": "9d51e276-fdff-4c72-9795-d4eb4ae631f4",
   "metadata": {},
   "outputs": [],
   "source": [
    "## isnull(), Burada sana boş değer olup olmadığını kontrol ediyor"
   ]
  },
  {
   "cell_type": "code",
   "execution_count": 56,
   "id": "5edf2672-03af-47d1-86ac-15155aab1438",
   "metadata": {},
   "outputs": [],
   "source": [
    "yeni_bir_veri = {\n",
    "    \"Karakter Sınıfı\" : [\"South Park\", \"South Park\", \"Simpson\", \"Simpson\"],\n",
    "    \"Karakter Ismi\" : [\"Carman\", \"Kenny\", \"Homer\", \"Bart\"],\n",
    "    \"Karakter Yas\" : [9,10,50,20]\n",
    "}"
   ]
  },
  {
   "cell_type": "code",
   "execution_count": 57,
   "id": "331c10ef-1215-4ab2-be28-b33495391e72",
   "metadata": {},
   "outputs": [],
   "source": [
    "karakterDF = pd.DataFrame(yeni_bir_veri)"
   ]
  },
  {
   "cell_type": "code",
   "execution_count": 58,
   "id": "0e8c189f-69e2-479e-b4f2-4adcf9c54ef0",
   "metadata": {},
   "outputs": [
    {
     "data": {
      "text/html": [
       "<div>\n",
       "<style scoped>\n",
       "    .dataframe tbody tr th:only-of-type {\n",
       "        vertical-align: middle;\n",
       "    }\n",
       "\n",
       "    .dataframe tbody tr th {\n",
       "        vertical-align: top;\n",
       "    }\n",
       "\n",
       "    .dataframe thead th {\n",
       "        text-align: right;\n",
       "    }\n",
       "</style>\n",
       "<table border=\"1\" class=\"dataframe\">\n",
       "  <thead>\n",
       "    <tr style=\"text-align: right;\">\n",
       "      <th></th>\n",
       "      <th>Karakter Sınıfı</th>\n",
       "      <th>Karakter Ismi</th>\n",
       "      <th>Karakter Yas</th>\n",
       "    </tr>\n",
       "  </thead>\n",
       "  <tbody>\n",
       "    <tr>\n",
       "      <th>0</th>\n",
       "      <td>South Park</td>\n",
       "      <td>Carman</td>\n",
       "      <td>9</td>\n",
       "    </tr>\n",
       "    <tr>\n",
       "      <th>1</th>\n",
       "      <td>South Park</td>\n",
       "      <td>Kenny</td>\n",
       "      <td>10</td>\n",
       "    </tr>\n",
       "    <tr>\n",
       "      <th>2</th>\n",
       "      <td>Simpson</td>\n",
       "      <td>Homer</td>\n",
       "      <td>50</td>\n",
       "    </tr>\n",
       "    <tr>\n",
       "      <th>3</th>\n",
       "      <td>Simpson</td>\n",
       "      <td>Bart</td>\n",
       "      <td>20</td>\n",
       "    </tr>\n",
       "  </tbody>\n",
       "</table>\n",
       "</div>"
      ],
      "text/plain": [
       "  Karakter Sınıfı Karakter Ismi  Karakter Yas\n",
       "0      South Park        Carman             9\n",
       "1      South Park         Kenny            10\n",
       "2         Simpson         Homer            50\n",
       "3         Simpson          Bart            20"
      ]
     },
     "execution_count": 58,
     "metadata": {},
     "output_type": "execute_result"
    }
   ],
   "source": [
    "karakterDF"
   ]
  },
  {
   "cell_type": "code",
   "execution_count": 61,
   "id": "5be04ab0-c41a-4639-9600-374a53052e4c",
   "metadata": {},
   "outputs": [
    {
     "data": {
      "text/html": [
       "<div>\n",
       "<style scoped>\n",
       "    .dataframe tbody tr th:only-of-type {\n",
       "        vertical-align: middle;\n",
       "    }\n",
       "\n",
       "    .dataframe tbody tr th {\n",
       "        vertical-align: top;\n",
       "    }\n",
       "\n",
       "    .dataframe thead th {\n",
       "        text-align: right;\n",
       "    }\n",
       "</style>\n",
       "<table border=\"1\" class=\"dataframe\">\n",
       "  <thead>\n",
       "    <tr style=\"text-align: right;\">\n",
       "      <th></th>\n",
       "      <th></th>\n",
       "      <th>Karakter Yas</th>\n",
       "    </tr>\n",
       "    <tr>\n",
       "      <th>Karakter Sınıfı</th>\n",
       "      <th>Karakter Ismi</th>\n",
       "      <th></th>\n",
       "    </tr>\n",
       "  </thead>\n",
       "  <tbody>\n",
       "    <tr>\n",
       "      <th rowspan=\"2\" valign=\"top\">Simpson</th>\n",
       "      <th>Bart</th>\n",
       "      <td>20.0</td>\n",
       "    </tr>\n",
       "    <tr>\n",
       "      <th>Homer</th>\n",
       "      <td>50.0</td>\n",
       "    </tr>\n",
       "    <tr>\n",
       "      <th rowspan=\"2\" valign=\"top\">South Park</th>\n",
       "      <th>Carman</th>\n",
       "      <td>9.0</td>\n",
       "    </tr>\n",
       "    <tr>\n",
       "      <th>Kenny</th>\n",
       "      <td>10.0</td>\n",
       "    </tr>\n",
       "  </tbody>\n",
       "</table>\n",
       "</div>"
      ],
      "text/plain": [
       "                               Karakter Yas\n",
       "Karakter Sınıfı Karakter Ismi              \n",
       "Simpson         Bart                   20.0\n",
       "                Homer                  50.0\n",
       "South Park      Carman                  9.0\n",
       "                Kenny                  10.0"
      ]
     },
     "execution_count": 61,
     "metadata": {},
     "output_type": "execute_result"
    }
   ],
   "source": [
    "karakterDF.pivot_table(values = \"Karakter Yas\", index = [\"Karakter Sınıfı\", \"Karakter Ismi\"])"
   ]
  },
  {
   "cell_type": "code",
   "execution_count": null,
   "id": "bf4ee13f-3851-473a-89e4-07fb9002708a",
   "metadata": {},
   "outputs": [],
   "source": [
    "## pivot_table() ile kolayca brleştirme işlemi yapabiliyorsun"
   ]
  },
  {
   "cell_type": "markdown",
   "id": "053d67b5-1c28-436c-bade-d56214cd1064",
   "metadata": {},
   "source": [
    "pivot_table() fonksiyonu, bir DataFrame'deki verileri belirli sütunlara göre gruplandırarak, bu grupların özet istatistiklerini (örneğin, ortalama, toplam, maksimum gibi) hesaplayan ve sonuçları iki boyutlu bir tablo şeklinde sunan güçlü bir araçtır. Bu fonksiyon, özellikle büyük veri setlerinde anlamlı özet bilgiler çıkarmak için çok kullanışlıdır.\n",
    "\n",
    "Özetle, pivot_table() fonksiyonuyla, verilerinizi gruplandırabilir, bu grupların istatistiklerini hesaplayabilir ve sonuçları tablo olarak organize edebilirsiniz."
   ]
  },
  {
   "cell_type": "code",
   "execution_count": 68,
   "id": "e63e1698-23ef-4ab5-817e-2475318d4a39",
   "metadata": {},
   "outputs": [],
   "source": [
    "yeni_bir_veri2 = {\n",
    "    \"Karakter Sınıfı\" : [\"South Park\", \"South Park\", \"Simpson\", \"Simpson\", \"Simpson\"],\n",
    "    \"Karakter Ismi\" : [\"Carman\", \"Kenny\", \"Homer\", \"Bart\", \"Bart\"],\n",
    "    \"Karakter Yas\" : [9,10,50,20,100]\n",
    "}"
   ]
  },
  {
   "cell_type": "code",
   "execution_count": 74,
   "id": "35be52b8-533e-4f35-aaff-d6d3dd695ff1",
   "metadata": {},
   "outputs": [],
   "source": [
    "karakterDF2 = pd.DataFrame(yeni_bir_veri2)"
   ]
  },
  {
   "cell_type": "code",
   "execution_count": 86,
   "id": "6f931ceb-545d-4bdb-a6de-2802f4e11280",
   "metadata": {},
   "outputs": [
    {
     "data": {
      "text/html": [
       "<div>\n",
       "<style scoped>\n",
       "    .dataframe tbody tr th:only-of-type {\n",
       "        vertical-align: middle;\n",
       "    }\n",
       "\n",
       "    .dataframe tbody tr th {\n",
       "        vertical-align: top;\n",
       "    }\n",
       "\n",
       "    .dataframe thead th {\n",
       "        text-align: right;\n",
       "    }\n",
       "</style>\n",
       "<table border=\"1\" class=\"dataframe\">\n",
       "  <thead>\n",
       "    <tr style=\"text-align: right;\">\n",
       "      <th></th>\n",
       "      <th></th>\n",
       "      <th>Karakter Yas</th>\n",
       "    </tr>\n",
       "    <tr>\n",
       "      <th>Karakter Sınıfı</th>\n",
       "      <th>Karakter Ismi</th>\n",
       "      <th></th>\n",
       "    </tr>\n",
       "  </thead>\n",
       "  <tbody>\n",
       "    <tr>\n",
       "      <th rowspan=\"2\" valign=\"top\">Simpson</th>\n",
       "      <th>Bart</th>\n",
       "      <td>60.0</td>\n",
       "    </tr>\n",
       "    <tr>\n",
       "      <th>Homer</th>\n",
       "      <td>50.0</td>\n",
       "    </tr>\n",
       "    <tr>\n",
       "      <th rowspan=\"2\" valign=\"top\">South Park</th>\n",
       "      <th>Carman</th>\n",
       "      <td>9.0</td>\n",
       "    </tr>\n",
       "    <tr>\n",
       "      <th>Kenny</th>\n",
       "      <td>10.0</td>\n",
       "    </tr>\n",
       "  </tbody>\n",
       "</table>\n",
       "</div>"
      ],
      "text/plain": [
       "                               Karakter Yas\n",
       "Karakter Sınıfı Karakter Ismi              \n",
       "Simpson         Bart                   60.0\n",
       "                Homer                  50.0\n",
       "South Park      Carman                  9.0\n",
       "                Kenny                  10.0"
      ]
     },
     "execution_count": 86,
     "metadata": {},
     "output_type": "execute_result"
    }
   ],
   "source": [
    "karakterDF2.pivot_table(values='Karakter Yas', \n",
    "                                   index=['Karakter Sınıfı', 'Karakter Ismi'], \n",
    "                                   aggfunc=\"mean\")"
   ]
  },
  {
   "cell_type": "markdown",
   "id": "38017dd8-75b8-4ef3-bf10-41c726530a27",
   "metadata": {},
   "source": [
    "## Özet İstatistikler\n",
    "\n",
    "- **mean**: Ortalama\n",
    "- **sum**: Toplam\n",
    "- **max**: Maksimum\n",
    "- **min**: Minimum\n",
    "- **count**: Sayı\n",
    "- **std**: Standart sapma\n",
    "- **var**: Varyans\n"
   ]
  },
  {
   "cell_type": "code",
   "execution_count": 87,
   "id": "efc6f0f7-4526-4fc6-9bfb-eba4ff79cffd",
   "metadata": {},
   "outputs": [],
   "source": [
    "## aggfunc() method'una bu ifadelerden birini kullanarak değeri elde edebilirsin"
   ]
  },
  {
   "cell_type": "code",
   "execution_count": 88,
   "id": "940501e3-6ad8-4e39-8869-798d97deb938",
   "metadata": {},
   "outputs": [],
   "source": [
    "## Örnek:\n",
    "    ## bart 100 ve 20 ortalaması 60 Tır \n",
    "    ## bart 100 ve 20 sum(toplamı) 120 \n",
    "    ## bart 100 ve 20 max(Maksimum değeri) 100 en büyük değeri verir"
   ]
  }
 ],
 "metadata": {
  "kernelspec": {
   "display_name": "Python 3 (ipykernel)",
   "language": "python",
   "name": "python3"
  },
  "language_info": {
   "codemirror_mode": {
    "name": "ipython",
    "version": 3
   },
   "file_extension": ".py",
   "mimetype": "text/x-python",
   "name": "python",
   "nbconvert_exporter": "python",
   "pygments_lexer": "ipython3",
   "version": "3.12.4"
  }
 },
 "nbformat": 4,
 "nbformat_minor": 5
}
