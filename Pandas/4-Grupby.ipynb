{
 "cells": [
  {
   "cell_type": "markdown",
   "id": "8f716d12-1694-4b39-a8c4-a2388f9d018c",
   "metadata": {},
   "source": [
    "# Groupby"
   ]
  },
  {
   "cell_type": "markdown",
   "id": "c03f1b51-9a56-4315-8fdd-f84b5666af1e",
   "metadata": {},
   "source": [
    "## `groupby()` Fonksiyonu\n",
    "\n",
    "`groupby()` fonksiyonu, pandas kütüphanesinde veri kümelerini belirli bir kritere göre gruplandırmak için kullanılan çok güçlü bir araçtır. Genellikle büyük veri kümelerini analiz ederken, belirli kategorilere göre veri grupları üzerinde toplu işlemler (toplama, ortalama alma, sayma vb.) yapmak için kullanılır.\n",
    "\n",
    "### `groupby()` Fonksiyonunun Temel Mantığı\n",
    "\n",
    "1. **Gruplama (Splitting)**: Veriyi belirli bir kritere göre gruplar.\n",
    "2. **Uygulama (Applying)**: Gruplara bir işlev uygular (örneğin, toplam alma, ortalama hesaplama vb.).\n",
    "3. **Birleştirme (Combining)**: İşlemi tamamlar ve sonuçları bir araya getirir.\n"
   ]
  },
  {
   "cell_type": "code",
   "execution_count": 22,
   "id": "4f97ca63-1552-460e-8f8b-a41064cca7f5",
   "metadata": {},
   "outputs": [],
   "source": [
    "import pandas as pd\n",
    "import numpy as np"
   ]
  },
  {
   "cell_type": "code",
   "execution_count": 23,
   "id": "3710b860-d15d-4492-8aec-8f79e2933578",
   "metadata": {},
   "outputs": [],
   "source": [
    "calısan_bilgi_dict = {\n",
    "    \"Departman\": [\"Yazılım\", \"Yazılım\", \"Yazılım\", \"Pazarlama\", \"Pazarlama\", \"Hukuk\", \"Hukuk\"],\n",
    "    \"Calısan Ismi\": [\"Ahmet\", \"Mehmet\", \"Atil\", \"Burak\", \"Zeynep\", \"Fatma\", \"Zeynep\"],\n",
    "    \"Maas\": [100, 200, 300, 400, 500,600,700]\n",
    "}"
   ]
  },
  {
   "cell_type": "code",
   "execution_count": 24,
   "id": "723e9db3-d241-488c-8929-d89d8f017118",
   "metadata": {},
   "outputs": [],
   "source": [
    "calisan_bilgi_dataframe = pd.DataFrame(calısan_bilgi_dict)"
   ]
  },
  {
   "cell_type": "code",
   "execution_count": 25,
   "id": "6f3d8519-8b7e-4853-819c-e3fd69ecc53c",
   "metadata": {},
   "outputs": [
    {
     "data": {
      "text/html": [
       "<div>\n",
       "<style scoped>\n",
       "    .dataframe tbody tr th:only-of-type {\n",
       "        vertical-align: middle;\n",
       "    }\n",
       "\n",
       "    .dataframe tbody tr th {\n",
       "        vertical-align: top;\n",
       "    }\n",
       "\n",
       "    .dataframe thead th {\n",
       "        text-align: right;\n",
       "    }\n",
       "</style>\n",
       "<table border=\"1\" class=\"dataframe\">\n",
       "  <thead>\n",
       "    <tr style=\"text-align: right;\">\n",
       "      <th></th>\n",
       "      <th>Departman</th>\n",
       "      <th>Calısan Ismi</th>\n",
       "      <th>Maas</th>\n",
       "    </tr>\n",
       "  </thead>\n",
       "  <tbody>\n",
       "    <tr>\n",
       "      <th>0</th>\n",
       "      <td>Yazılım</td>\n",
       "      <td>Ahmet</td>\n",
       "      <td>100</td>\n",
       "    </tr>\n",
       "    <tr>\n",
       "      <th>1</th>\n",
       "      <td>Yazılım</td>\n",
       "      <td>Mehmet</td>\n",
       "      <td>200</td>\n",
       "    </tr>\n",
       "    <tr>\n",
       "      <th>2</th>\n",
       "      <td>Yazılım</td>\n",
       "      <td>Atil</td>\n",
       "      <td>300</td>\n",
       "    </tr>\n",
       "    <tr>\n",
       "      <th>3</th>\n",
       "      <td>Pazarlama</td>\n",
       "      <td>Burak</td>\n",
       "      <td>400</td>\n",
       "    </tr>\n",
       "    <tr>\n",
       "      <th>4</th>\n",
       "      <td>Pazarlama</td>\n",
       "      <td>Zeynep</td>\n",
       "      <td>500</td>\n",
       "    </tr>\n",
       "    <tr>\n",
       "      <th>5</th>\n",
       "      <td>Hukuk</td>\n",
       "      <td>Fatma</td>\n",
       "      <td>600</td>\n",
       "    </tr>\n",
       "    <tr>\n",
       "      <th>6</th>\n",
       "      <td>Hukuk</td>\n",
       "      <td>Zeynep</td>\n",
       "      <td>700</td>\n",
       "    </tr>\n",
       "  </tbody>\n",
       "</table>\n",
       "</div>"
      ],
      "text/plain": [
       "   Departman Calısan Ismi  Maas\n",
       "0    Yazılım        Ahmet   100\n",
       "1    Yazılım       Mehmet   200\n",
       "2    Yazılım         Atil   300\n",
       "3  Pazarlama        Burak   400\n",
       "4  Pazarlama       Zeynep   500\n",
       "5      Hukuk        Fatma   600\n",
       "6      Hukuk       Zeynep   700"
      ]
     },
     "execution_count": 25,
     "metadata": {},
     "output_type": "execute_result"
    }
   ],
   "source": [
    "calisan_bilgi_dataframe"
   ]
  },
  {
   "cell_type": "code",
   "execution_count": 26,
   "id": "2c6c38fa-a29b-4621-b90a-ddbd18a5635c",
   "metadata": {},
   "outputs": [],
   "source": [
    "# Biz daha önce multi index yapmıştık yani index'leri gruplandımıştık şimdi sutünları gruplandıracağız"
   ]
  },
  {
   "cell_type": "code",
   "execution_count": 33,
   "id": "7c9e61f7-a0fa-4e31-847f-455abf63a50d",
   "metadata": {},
   "outputs": [],
   "source": [
    "calısan_bilgi_grupobjesi = calisan_bilgi_dataframe.groupby(\"Departman\")"
   ]
  },
  {
   "cell_type": "code",
   "execution_count": 34,
   "id": "d35b56c5-333f-4b32-b60c-14e24d50075d",
   "metadata": {},
   "outputs": [
    {
     "data": {
      "text/html": [
       "<div>\n",
       "<style scoped>\n",
       "    .dataframe tbody tr th:only-of-type {\n",
       "        vertical-align: middle;\n",
       "    }\n",
       "\n",
       "    .dataframe tbody tr th {\n",
       "        vertical-align: top;\n",
       "    }\n",
       "\n",
       "    .dataframe thead th {\n",
       "        text-align: right;\n",
       "    }\n",
       "</style>\n",
       "<table border=\"1\" class=\"dataframe\">\n",
       "  <thead>\n",
       "    <tr style=\"text-align: right;\">\n",
       "      <th></th>\n",
       "      <th>Calısan Ismi</th>\n",
       "      <th>Maas</th>\n",
       "    </tr>\n",
       "    <tr>\n",
       "      <th>Departman</th>\n",
       "      <th></th>\n",
       "      <th></th>\n",
       "    </tr>\n",
       "  </thead>\n",
       "  <tbody>\n",
       "    <tr>\n",
       "      <th>Hukuk</th>\n",
       "      <td>2</td>\n",
       "      <td>2</td>\n",
       "    </tr>\n",
       "    <tr>\n",
       "      <th>Pazarlama</th>\n",
       "      <td>2</td>\n",
       "      <td>2</td>\n",
       "    </tr>\n",
       "    <tr>\n",
       "      <th>Yazılım</th>\n",
       "      <td>3</td>\n",
       "      <td>3</td>\n",
       "    </tr>\n",
       "  </tbody>\n",
       "</table>\n",
       "</div>"
      ],
      "text/plain": [
       "           Calısan Ismi  Maas\n",
       "Departman                    \n",
       "Hukuk                 2     2\n",
       "Pazarlama             2     2\n",
       "Yazılım               3     3"
      ]
     },
     "execution_count": 34,
     "metadata": {},
     "output_type": "execute_result"
    }
   ],
   "source": [
    "calısan_bilgi_grupobjesi.count()"
   ]
  },
  {
   "cell_type": "code",
   "execution_count": 35,
   "id": "b34f7d37-aad6-47b8-b1bd-b1378cbba8f6",
   "metadata": {},
   "outputs": [],
   "source": [
    "## DataFrame' mi grupladıktan sonra count() ile hukuk,yazılım veya pazarlama alanında kaçtane veri olduğunu görebilirsin"
   ]
  },
  {
   "cell_type": "code",
   "execution_count": 38,
   "id": "b91887b9-a006-4898-bb58-b4ec792bd5d0",
   "metadata": {},
   "outputs": [
    {
     "data": {
      "text/html": [
       "<div>\n",
       "<style scoped>\n",
       "    .dataframe tbody tr th:only-of-type {\n",
       "        vertical-align: middle;\n",
       "    }\n",
       "\n",
       "    .dataframe tbody tr th {\n",
       "        vertical-align: top;\n",
       "    }\n",
       "\n",
       "    .dataframe thead th {\n",
       "        text-align: right;\n",
       "    }\n",
       "</style>\n",
       "<table border=\"1\" class=\"dataframe\">\n",
       "  <thead>\n",
       "    <tr style=\"text-align: right;\">\n",
       "      <th></th>\n",
       "      <th>Maas</th>\n",
       "    </tr>\n",
       "    <tr>\n",
       "      <th>Departman</th>\n",
       "      <th></th>\n",
       "    </tr>\n",
       "  </thead>\n",
       "  <tbody>\n",
       "    <tr>\n",
       "      <th>Hukuk</th>\n",
       "      <td>650.0</td>\n",
       "    </tr>\n",
       "    <tr>\n",
       "      <th>Pazarlama</th>\n",
       "      <td>450.0</td>\n",
       "    </tr>\n",
       "    <tr>\n",
       "      <th>Yazılım</th>\n",
       "      <td>200.0</td>\n",
       "    </tr>\n",
       "  </tbody>\n",
       "</table>\n",
       "</div>"
      ],
      "text/plain": [
       "            Maas\n",
       "Departman       \n",
       "Hukuk      650.0\n",
       "Pazarlama  450.0\n",
       "Yazılım    200.0"
      ]
     },
     "execution_count": 38,
     "metadata": {},
     "output_type": "execute_result"
    }
   ],
   "source": [
    "calısan_bilgi_grupobjesi.mean(numeric_only=True)"
   ]
  },
  {
   "cell_type": "code",
   "execution_count": 39,
   "id": "c12220f8-34d3-4aaa-a19d-d0a7e9bb8a70",
   "metadata": {},
   "outputs": [],
   "source": [
    "## Maas ortamala mams bilgisini sana verir"
   ]
  },
  {
   "cell_type": "code",
   "execution_count": 40,
   "id": "375822be-342f-4055-99c1-fce63ee3c11d",
   "metadata": {},
   "outputs": [
    {
     "data": {
      "text/html": [
       "<div>\n",
       "<style scoped>\n",
       "    .dataframe tbody tr th:only-of-type {\n",
       "        vertical-align: middle;\n",
       "    }\n",
       "\n",
       "    .dataframe tbody tr th {\n",
       "        vertical-align: top;\n",
       "    }\n",
       "\n",
       "    .dataframe thead th {\n",
       "        text-align: right;\n",
       "    }\n",
       "</style>\n",
       "<table border=\"1\" class=\"dataframe\">\n",
       "  <thead>\n",
       "    <tr style=\"text-align: right;\">\n",
       "      <th></th>\n",
       "      <th>Calısan Ismi</th>\n",
       "      <th>Maas</th>\n",
       "    </tr>\n",
       "    <tr>\n",
       "      <th>Departman</th>\n",
       "      <th></th>\n",
       "      <th></th>\n",
       "    </tr>\n",
       "  </thead>\n",
       "  <tbody>\n",
       "    <tr>\n",
       "      <th>Hukuk</th>\n",
       "      <td>Fatma</td>\n",
       "      <td>600</td>\n",
       "    </tr>\n",
       "    <tr>\n",
       "      <th>Pazarlama</th>\n",
       "      <td>Burak</td>\n",
       "      <td>400</td>\n",
       "    </tr>\n",
       "    <tr>\n",
       "      <th>Yazılım</th>\n",
       "      <td>Ahmet</td>\n",
       "      <td>100</td>\n",
       "    </tr>\n",
       "  </tbody>\n",
       "</table>\n",
       "</div>"
      ],
      "text/plain": [
       "          Calısan Ismi  Maas\n",
       "Departman                   \n",
       "Hukuk            Fatma   600\n",
       "Pazarlama        Burak   400\n",
       "Yazılım          Ahmet   100"
      ]
     },
     "execution_count": 40,
     "metadata": {},
     "output_type": "execute_result"
    }
   ],
   "source": [
    "calısan_bilgi_grupobjesi.min()"
   ]
  },
  {
   "cell_type": "code",
   "execution_count": 41,
   "id": "8cb5548c-0db3-4eb9-9782-9d270cd3d652",
   "metadata": {},
   "outputs": [],
   "source": [
    "## Her gruptan en az maası alanı verir"
   ]
  },
  {
   "cell_type": "code",
   "execution_count": 42,
   "id": "e2137b9b-1289-40db-a15a-dedfbc5d4de1",
   "metadata": {},
   "outputs": [
    {
     "data": {
      "text/html": [
       "<div>\n",
       "<style scoped>\n",
       "    .dataframe tbody tr th:only-of-type {\n",
       "        vertical-align: middle;\n",
       "    }\n",
       "\n",
       "    .dataframe tbody tr th {\n",
       "        vertical-align: top;\n",
       "    }\n",
       "\n",
       "    .dataframe thead th {\n",
       "        text-align: right;\n",
       "    }\n",
       "</style>\n",
       "<table border=\"1\" class=\"dataframe\">\n",
       "  <thead>\n",
       "    <tr style=\"text-align: right;\">\n",
       "      <th></th>\n",
       "      <th>Calısan Ismi</th>\n",
       "      <th>Maas</th>\n",
       "    </tr>\n",
       "    <tr>\n",
       "      <th>Departman</th>\n",
       "      <th></th>\n",
       "      <th></th>\n",
       "    </tr>\n",
       "  </thead>\n",
       "  <tbody>\n",
       "    <tr>\n",
       "      <th>Hukuk</th>\n",
       "      <td>Zeynep</td>\n",
       "      <td>700</td>\n",
       "    </tr>\n",
       "    <tr>\n",
       "      <th>Pazarlama</th>\n",
       "      <td>Zeynep</td>\n",
       "      <td>500</td>\n",
       "    </tr>\n",
       "    <tr>\n",
       "      <th>Yazılım</th>\n",
       "      <td>Mehmet</td>\n",
       "      <td>300</td>\n",
       "    </tr>\n",
       "  </tbody>\n",
       "</table>\n",
       "</div>"
      ],
      "text/plain": [
       "          Calısan Ismi  Maas\n",
       "Departman                   \n",
       "Hukuk           Zeynep   700\n",
       "Pazarlama       Zeynep   500\n",
       "Yazılım         Mehmet   300"
      ]
     },
     "execution_count": 42,
     "metadata": {},
     "output_type": "execute_result"
    }
   ],
   "source": [
    "calısan_bilgi_grupobjesi.max()"
   ]
  },
  {
   "cell_type": "code",
   "execution_count": 43,
   "id": "4755f6cf-d366-4b4b-b32f-e06a2aebc1ab",
   "metadata": {},
   "outputs": [],
   "source": [
    "## max maas bilgisini veriyor"
   ]
  },
  {
   "cell_type": "code",
   "execution_count": 44,
   "id": "fbee042f-5354-4a42-a9ea-03b7e6094f4d",
   "metadata": {},
   "outputs": [
    {
     "data": {
      "text/html": [
       "<div>\n",
       "<style scoped>\n",
       "    .dataframe tbody tr th:only-of-type {\n",
       "        vertical-align: middle;\n",
       "    }\n",
       "\n",
       "    .dataframe tbody tr th {\n",
       "        vertical-align: top;\n",
       "    }\n",
       "\n",
       "    .dataframe thead tr th {\n",
       "        text-align: left;\n",
       "    }\n",
       "\n",
       "    .dataframe thead tr:last-of-type th {\n",
       "        text-align: right;\n",
       "    }\n",
       "</style>\n",
       "<table border=\"1\" class=\"dataframe\">\n",
       "  <thead>\n",
       "    <tr>\n",
       "      <th></th>\n",
       "      <th colspan=\"8\" halign=\"left\">Maas</th>\n",
       "    </tr>\n",
       "    <tr>\n",
       "      <th></th>\n",
       "      <th>count</th>\n",
       "      <th>mean</th>\n",
       "      <th>std</th>\n",
       "      <th>min</th>\n",
       "      <th>25%</th>\n",
       "      <th>50%</th>\n",
       "      <th>75%</th>\n",
       "      <th>max</th>\n",
       "    </tr>\n",
       "    <tr>\n",
       "      <th>Departman</th>\n",
       "      <th></th>\n",
       "      <th></th>\n",
       "      <th></th>\n",
       "      <th></th>\n",
       "      <th></th>\n",
       "      <th></th>\n",
       "      <th></th>\n",
       "      <th></th>\n",
       "    </tr>\n",
       "  </thead>\n",
       "  <tbody>\n",
       "    <tr>\n",
       "      <th>Hukuk</th>\n",
       "      <td>2.0</td>\n",
       "      <td>650.0</td>\n",
       "      <td>70.710678</td>\n",
       "      <td>600.0</td>\n",
       "      <td>625.0</td>\n",
       "      <td>650.0</td>\n",
       "      <td>675.0</td>\n",
       "      <td>700.0</td>\n",
       "    </tr>\n",
       "    <tr>\n",
       "      <th>Pazarlama</th>\n",
       "      <td>2.0</td>\n",
       "      <td>450.0</td>\n",
       "      <td>70.710678</td>\n",
       "      <td>400.0</td>\n",
       "      <td>425.0</td>\n",
       "      <td>450.0</td>\n",
       "      <td>475.0</td>\n",
       "      <td>500.0</td>\n",
       "    </tr>\n",
       "    <tr>\n",
       "      <th>Yazılım</th>\n",
       "      <td>3.0</td>\n",
       "      <td>200.0</td>\n",
       "      <td>100.000000</td>\n",
       "      <td>100.0</td>\n",
       "      <td>150.0</td>\n",
       "      <td>200.0</td>\n",
       "      <td>250.0</td>\n",
       "      <td>300.0</td>\n",
       "    </tr>\n",
       "  </tbody>\n",
       "</table>\n",
       "</div>"
      ],
      "text/plain": [
       "           Maas                                                      \n",
       "          count   mean         std    min    25%    50%    75%    max\n",
       "Departman                                                            \n",
       "Hukuk       2.0  650.0   70.710678  600.0  625.0  650.0  675.0  700.0\n",
       "Pazarlama   2.0  450.0   70.710678  400.0  425.0  450.0  475.0  500.0\n",
       "Yazılım     3.0  200.0  100.000000  100.0  150.0  200.0  250.0  300.0"
      ]
     },
     "execution_count": 44,
     "metadata": {},
     "output_type": "execute_result"
    }
   ],
   "source": [
    "calısan_bilgi_grupobjesi.describe()"
   ]
  },
  {
   "cell_type": "code",
   "execution_count": 45,
   "id": "21359cab-e0b6-4830-8213-29e1e3655977",
   "metadata": {},
   "outputs": [],
   "source": [
    "# describe ilede tüm bilgileri elde edebiliyooruz."
   ]
  }
 ],
 "metadata": {
  "kernelspec": {
   "display_name": "Python 3 (ipykernel)",
   "language": "python",
   "name": "python3"
  },
  "language_info": {
   "codemirror_mode": {
    "name": "ipython",
    "version": 3
   },
   "file_extension": ".py",
   "mimetype": "text/x-python",
   "name": "python",
   "nbconvert_exporter": "python",
   "pygments_lexer": "ipython3",
   "version": "3.12.4"
  }
 },
 "nbformat": 4,
 "nbformat_minor": 5
}
