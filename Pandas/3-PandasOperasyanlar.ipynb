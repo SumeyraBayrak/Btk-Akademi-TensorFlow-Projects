{
 "cells": [
  {
   "cell_type": "code",
   "execution_count": 2,
   "id": "f5069a15-1f96-4f1e-9942-ca707d486753",
   "metadata": {},
   "outputs": [],
   "source": [
    "import pandas as pd\n",
    "import numpy as np"
   ]
  },
  {
   "cell_type": "code",
   "execution_count": 5,
   "id": "d200c9dc-614f-4f7d-aadf-9f4795971750",
   "metadata": {},
   "outputs": [],
   "source": [
    "sozluk_verisi = {\"Istanbul\": [30,29,np.nan], \"Ankara\" : [20, np.nan, 25], \"izmir\": [40,39,38]}\n",
    "havaDurumuDataFrame = pd.DataFrame(sozluk_verisi)"
   ]
  },
  {
   "cell_type": "code",
   "execution_count": 6,
   "id": "d4a60c95-5c85-4e53-b2b1-81f9c42ba751",
   "metadata": {},
   "outputs": [
    {
     "data": {
      "text/html": [
       "<div>\n",
       "<style scoped>\n",
       "    .dataframe tbody tr th:only-of-type {\n",
       "        vertical-align: middle;\n",
       "    }\n",
       "\n",
       "    .dataframe tbody tr th {\n",
       "        vertical-align: top;\n",
       "    }\n",
       "\n",
       "    .dataframe thead th {\n",
       "        text-align: right;\n",
       "    }\n",
       "</style>\n",
       "<table border=\"1\" class=\"dataframe\">\n",
       "  <thead>\n",
       "    <tr style=\"text-align: right;\">\n",
       "      <th></th>\n",
       "      <th>Istanbul</th>\n",
       "      <th>Ankara</th>\n",
       "      <th>izmir</th>\n",
       "    </tr>\n",
       "  </thead>\n",
       "  <tbody>\n",
       "    <tr>\n",
       "      <th>0</th>\n",
       "      <td>30.0</td>\n",
       "      <td>20.0</td>\n",
       "      <td>40</td>\n",
       "    </tr>\n",
       "    <tr>\n",
       "      <th>1</th>\n",
       "      <td>29.0</td>\n",
       "      <td>NaN</td>\n",
       "      <td>39</td>\n",
       "    </tr>\n",
       "    <tr>\n",
       "      <th>2</th>\n",
       "      <td>NaN</td>\n",
       "      <td>25.0</td>\n",
       "      <td>38</td>\n",
       "    </tr>\n",
       "  </tbody>\n",
       "</table>\n",
       "</div>"
      ],
      "text/plain": [
       "   Istanbul  Ankara  izmir\n",
       "0      30.0    20.0     40\n",
       "1      29.0     NaN     39\n",
       "2       NaN    25.0     38"
      ]
     },
     "execution_count": 6,
     "metadata": {},
     "output_type": "execute_result"
    }
   ],
   "source": [
    "havaDurumuDataFrame"
   ]
  },
  {
   "cell_type": "code",
   "execution_count": 8,
   "id": "2b65427c-4512-47b3-b3fd-f23d096e37ae",
   "metadata": {},
   "outputs": [],
   "source": [
    "### Biz bir yerden data çektiğimizde bazı veri bilgileri eksik olabiliyor Biz bunları np.nan şeklinde gösteriyoruz.\n",
    "### ve dataFrame olarak ekrana yazdırıyoruz."
   ]
  },
  {
   "cell_type": "markdown",
   "id": "cb8fd0c9-5d4c-4134-a8ef-779384edeb6e",
   "metadata": {},
   "source": [
    "# Dropna()"
   ]
  },
  {
   "cell_type": "markdown",
   "id": "f2cfed3b-ccbf-4d80-a7bd-664a27d95c7c",
   "metadata": {},
   "source": [
    "## `dropna()` Fonksiyonu\n",
    "\n",
    "`dropna()` fonksiyonu, pandas DataFrame'lerinde veya Series'lerde eksik (NaN) değerleri temizlemek için kullanılır. Bu fonksiyon, eksik verilerin olduğu satırları veya sütunları kaldırmanıza yardımcı olur."
   ]
  },
  {
   "cell_type": "code",
   "execution_count": 9,
   "id": "31f3e53f-d215-4660-88c9-0fee3db4563e",
   "metadata": {},
   "outputs": [
    {
     "data": {
      "text/html": [
       "<div>\n",
       "<style scoped>\n",
       "    .dataframe tbody tr th:only-of-type {\n",
       "        vertical-align: middle;\n",
       "    }\n",
       "\n",
       "    .dataframe tbody tr th {\n",
       "        vertical-align: top;\n",
       "    }\n",
       "\n",
       "    .dataframe thead th {\n",
       "        text-align: right;\n",
       "    }\n",
       "</style>\n",
       "<table border=\"1\" class=\"dataframe\">\n",
       "  <thead>\n",
       "    <tr style=\"text-align: right;\">\n",
       "      <th></th>\n",
       "      <th>Istanbul</th>\n",
       "      <th>Ankara</th>\n",
       "      <th>izmir</th>\n",
       "    </tr>\n",
       "  </thead>\n",
       "  <tbody>\n",
       "    <tr>\n",
       "      <th>0</th>\n",
       "      <td>30.0</td>\n",
       "      <td>20.0</td>\n",
       "      <td>40</td>\n",
       "    </tr>\n",
       "  </tbody>\n",
       "</table>\n",
       "</div>"
      ],
      "text/plain": [
       "   Istanbul  Ankara  izmir\n",
       "0      30.0    20.0     40"
      ]
     },
     "execution_count": 9,
     "metadata": {},
     "output_type": "execute_result"
    }
   ],
   "source": [
    "havaDurumuDataFrame.dropna()"
   ]
  },
  {
   "cell_type": "markdown",
   "id": "10ea34f3-f269-41f4-b934-b69ea5649dc8",
   "metadata": {},
   "source": [
    "## `dropna()` Fonksiyonunda Kullanılabilecek Parametreler\n",
    "\n",
    "### `axis`\n",
    "\n",
    "- **`axis=0` (varsayılan)**: Satırları kontrol eder. Eğer bir satırda eksik değer varsa, o satır kaldırılır.\n",
    "- **`axis=1`**: Sütunları kontrol eder. Eğer bir sütunda eksik değer varsa, o sütun kaldırılır."
   ]
  },
  {
   "cell_type": "code",
   "execution_count": 12,
   "id": "20a5c9a4-24fc-479b-9a02-48b7ca021f21",
   "metadata": {},
   "outputs": [
    {
     "data": {
      "text/html": [
       "<div>\n",
       "<style scoped>\n",
       "    .dataframe tbody tr th:only-of-type {\n",
       "        vertical-align: middle;\n",
       "    }\n",
       "\n",
       "    .dataframe tbody tr th {\n",
       "        vertical-align: top;\n",
       "    }\n",
       "\n",
       "    .dataframe thead th {\n",
       "        text-align: right;\n",
       "    }\n",
       "</style>\n",
       "<table border=\"1\" class=\"dataframe\">\n",
       "  <thead>\n",
       "    <tr style=\"text-align: right;\">\n",
       "      <th></th>\n",
       "      <th>izmir</th>\n",
       "    </tr>\n",
       "  </thead>\n",
       "  <tbody>\n",
       "    <tr>\n",
       "      <th>0</th>\n",
       "      <td>40</td>\n",
       "    </tr>\n",
       "    <tr>\n",
       "      <th>1</th>\n",
       "      <td>39</td>\n",
       "    </tr>\n",
       "    <tr>\n",
       "      <th>2</th>\n",
       "      <td>38</td>\n",
       "    </tr>\n",
       "  </tbody>\n",
       "</table>\n",
       "</div>"
      ],
      "text/plain": [
       "   izmir\n",
       "0     40\n",
       "1     39\n",
       "2     38"
      ]
     },
     "execution_count": 12,
     "metadata": {},
     "output_type": "execute_result"
    }
   ],
   "source": [
    "havaDurumuDataFrame.dropna(axis= 1)"
   ]
  },
  {
   "cell_type": "code",
   "execution_count": 13,
   "id": "acc96c4a-33b8-4e81-aa7d-32924c01b567",
   "metadata": {},
   "outputs": [
    {
     "data": {
      "text/html": [
       "<div>\n",
       "<style scoped>\n",
       "    .dataframe tbody tr th:only-of-type {\n",
       "        vertical-align: middle;\n",
       "    }\n",
       "\n",
       "    .dataframe tbody tr th {\n",
       "        vertical-align: top;\n",
       "    }\n",
       "\n",
       "    .dataframe thead th {\n",
       "        text-align: right;\n",
       "    }\n",
       "</style>\n",
       "<table border=\"1\" class=\"dataframe\">\n",
       "  <thead>\n",
       "    <tr style=\"text-align: right;\">\n",
       "      <th></th>\n",
       "      <th>Istanbul</th>\n",
       "      <th>Ankara</th>\n",
       "      <th>izmir</th>\n",
       "    </tr>\n",
       "  </thead>\n",
       "  <tbody>\n",
       "    <tr>\n",
       "      <th>0</th>\n",
       "      <td>30.0</td>\n",
       "      <td>20.0</td>\n",
       "      <td>40</td>\n",
       "    </tr>\n",
       "  </tbody>\n",
       "</table>\n",
       "</div>"
      ],
      "text/plain": [
       "   Istanbul  Ankara  izmir\n",
       "0      30.0    20.0     40"
      ]
     },
     "execution_count": 13,
     "metadata": {},
     "output_type": "execute_result"
    }
   ],
   "source": [
    "havaDurumuDataFrame.dropna(axis= 0)"
   ]
  },
  {
   "cell_type": "code",
   "execution_count": 14,
   "id": "e2305fc1-ed3a-49f9-bf22-31e2242a004e",
   "metadata": {},
   "outputs": [],
   "source": [
    "## dropna(), eğer hiç bir satırda yada sütunda NaN yoksa o satırı veya o sutünü getiriyor"
   ]
  },
  {
   "cell_type": "markdown",
   "id": "308184fe-9c83-4d48-ba6b-84c5cba83d5f",
   "metadata": {},
   "source": [
    "# Thresh"
   ]
  },
  {
   "cell_type": "markdown",
   "id": "87055080-f795-4384-b171-fbd81fec32e4",
   "metadata": {},
   "source": [
    "## `thresh` Parametresi\n",
    "\n",
    "### Tanım\n",
    "\n",
    "`thresh` parametresi, bir satırda veya sütunda belirli sayıda geçerli (eksik olmayan) değeri bulundurarak bu satır veya sütunun tutulmasını sağlar. Yani, bir satır veya sütun, belirttiğiniz sayıda geçerli değeri içeriyorsa, eksik değerler olsa bile bu satır veya sütun `dropna()` işlemi sırasında kaldırılmaz."
   ]
  },
  {
   "cell_type": "code",
   "execution_count": 21,
   "id": "f6ad3687-3a23-414f-bdcf-c33700ff3066",
   "metadata": {},
   "outputs": [],
   "source": [
    "yeni_data = {\"Istanbul\": [30,29,np.nan], \"Ankara\" : [20, np.nan, np.nan], \"izmir\": [40,39,38]}\n",
    "yeni_data_frame = pd.DataFrame(yeni_data)"
   ]
  },
  {
   "cell_type": "code",
   "execution_count": 22,
   "id": "0b095f25-f19e-41e6-8f28-44b812e393aa",
   "metadata": {},
   "outputs": [
    {
     "data": {
      "text/html": [
       "<div>\n",
       "<style scoped>\n",
       "    .dataframe tbody tr th:only-of-type {\n",
       "        vertical-align: middle;\n",
       "    }\n",
       "\n",
       "    .dataframe tbody tr th {\n",
       "        vertical-align: top;\n",
       "    }\n",
       "\n",
       "    .dataframe thead th {\n",
       "        text-align: right;\n",
       "    }\n",
       "</style>\n",
       "<table border=\"1\" class=\"dataframe\">\n",
       "  <thead>\n",
       "    <tr style=\"text-align: right;\">\n",
       "      <th></th>\n",
       "      <th>Istanbul</th>\n",
       "      <th>izmir</th>\n",
       "    </tr>\n",
       "  </thead>\n",
       "  <tbody>\n",
       "    <tr>\n",
       "      <th>0</th>\n",
       "      <td>30.0</td>\n",
       "      <td>40</td>\n",
       "    </tr>\n",
       "    <tr>\n",
       "      <th>1</th>\n",
       "      <td>29.0</td>\n",
       "      <td>39</td>\n",
       "    </tr>\n",
       "    <tr>\n",
       "      <th>2</th>\n",
       "      <td>NaN</td>\n",
       "      <td>38</td>\n",
       "    </tr>\n",
       "  </tbody>\n",
       "</table>\n",
       "</div>"
      ],
      "text/plain": [
       "   Istanbul  izmir\n",
       "0      30.0     40\n",
       "1      29.0     39\n",
       "2       NaN     38"
      ]
     },
     "execution_count": 22,
     "metadata": {},
     "output_type": "execute_result"
    }
   ],
   "source": [
    "yeni_data_frame.dropna(axis= 1, thresh=2)"
   ]
  },
  {
   "cell_type": "code",
   "execution_count": 23,
   "id": "6a5a7ccf-20cf-40a7-b823-8080567191ad",
   "metadata": {},
   "outputs": [
    {
     "data": {
      "text/html": [
       "<div>\n",
       "<style scoped>\n",
       "    .dataframe tbody tr th:only-of-type {\n",
       "        vertical-align: middle;\n",
       "    }\n",
       "\n",
       "    .dataframe tbody tr th {\n",
       "        vertical-align: top;\n",
       "    }\n",
       "\n",
       "    .dataframe thead th {\n",
       "        text-align: right;\n",
       "    }\n",
       "</style>\n",
       "<table border=\"1\" class=\"dataframe\">\n",
       "  <thead>\n",
       "    <tr style=\"text-align: right;\">\n",
       "      <th></th>\n",
       "      <th>Istanbul</th>\n",
       "      <th>Ankara</th>\n",
       "      <th>izmir</th>\n",
       "    </tr>\n",
       "  </thead>\n",
       "  <tbody>\n",
       "    <tr>\n",
       "      <th>0</th>\n",
       "      <td>30.0</td>\n",
       "      <td>20.0</td>\n",
       "      <td>40</td>\n",
       "    </tr>\n",
       "    <tr>\n",
       "      <th>1</th>\n",
       "      <td>29.0</td>\n",
       "      <td>NaN</td>\n",
       "      <td>39</td>\n",
       "    </tr>\n",
       "    <tr>\n",
       "      <th>2</th>\n",
       "      <td>NaN</td>\n",
       "      <td>NaN</td>\n",
       "      <td>38</td>\n",
       "    </tr>\n",
       "  </tbody>\n",
       "</table>\n",
       "</div>"
      ],
      "text/plain": [
       "   Istanbul  Ankara  izmir\n",
       "0      30.0    20.0     40\n",
       "1      29.0     NaN     39\n",
       "2       NaN     NaN     38"
      ]
     },
     "execution_count": 23,
     "metadata": {},
     "output_type": "execute_result"
    }
   ],
   "source": [
    "yeni_data_frame"
   ]
  },
  {
   "cell_type": "markdown",
   "id": "bc6faf21-2026-4850-b4c1-868ba2de55f3",
   "metadata": {},
   "source": [
    "## fillna()"
   ]
  },
  {
   "cell_type": "markdown",
   "id": "b095956d-a173-4c63-a019-e62a26f9120f",
   "metadata": {},
   "source": [
    "## `fillna()` Fonksiyonu\n",
    "\n",
    "`fillna()` fonksiyonu, pandas DataFrame veya Series'lerde eksik (NaN) değerleri belirli bir değerle doldurmak için kullanılır. Bu fonksiyon, eksik verilerin yerine belirlediğiniz bir değeri koyarak veri setinizi daha eksiksiz ve analiz için daha uygun hale getirir.\n"
   ]
  },
  {
   "cell_type": "code",
   "execution_count": 27,
   "id": "2512094d-212c-4374-b2be-af20592684bf",
   "metadata": {},
   "outputs": [
    {
     "data": {
      "text/html": [
       "<div>\n",
       "<style scoped>\n",
       "    .dataframe tbody tr th:only-of-type {\n",
       "        vertical-align: middle;\n",
       "    }\n",
       "\n",
       "    .dataframe tbody tr th {\n",
       "        vertical-align: top;\n",
       "    }\n",
       "\n",
       "    .dataframe thead th {\n",
       "        text-align: right;\n",
       "    }\n",
       "</style>\n",
       "<table border=\"1\" class=\"dataframe\">\n",
       "  <thead>\n",
       "    <tr style=\"text-align: right;\">\n",
       "      <th></th>\n",
       "      <th>Istanbul</th>\n",
       "      <th>Ankara</th>\n",
       "      <th>izmir</th>\n",
       "    </tr>\n",
       "  </thead>\n",
       "  <tbody>\n",
       "    <tr>\n",
       "      <th>0</th>\n",
       "      <td>30.0</td>\n",
       "      <td>20.0</td>\n",
       "      <td>40</td>\n",
       "    </tr>\n",
       "    <tr>\n",
       "      <th>1</th>\n",
       "      <td>29.0</td>\n",
       "      <td>20.0</td>\n",
       "      <td>39</td>\n",
       "    </tr>\n",
       "    <tr>\n",
       "      <th>2</th>\n",
       "      <td>20.0</td>\n",
       "      <td>20.0</td>\n",
       "      <td>38</td>\n",
       "    </tr>\n",
       "  </tbody>\n",
       "</table>\n",
       "</div>"
      ],
      "text/plain": [
       "   Istanbul  Ankara  izmir\n",
       "0      30.0    20.0     40\n",
       "1      29.0    20.0     39\n",
       "2      20.0    20.0     38"
      ]
     },
     "execution_count": 27,
     "metadata": {},
     "output_type": "execute_result"
    }
   ],
   "source": [
    "yeni_data_frame.fillna(20)"
   ]
  },
  {
   "cell_type": "code",
   "execution_count": 28,
   "id": "35dc2460-6265-40b7-ba3a-45e49d692a52",
   "metadata": {},
   "outputs": [],
   "source": [
    "## Gördüğün gibi NaN olan değerleri 20 değerleri ile doldurdu bu şekilde eksik olan verileri doldurabilşirsin"
   ]
  }
 ],
 "metadata": {
  "kernelspec": {
   "display_name": "Python 3 (ipykernel)",
   "language": "python",
   "name": "python3"
  },
  "language_info": {
   "codemirror_mode": {
    "name": "ipython",
    "version": 3
   },
   "file_extension": ".py",
   "mimetype": "text/x-python",
   "name": "python",
   "nbconvert_exporter": "python",
   "pygments_lexer": "ipython3",
   "version": "3.12.4"
  }
 },
 "nbformat": 4,
 "nbformat_minor": 5
}
