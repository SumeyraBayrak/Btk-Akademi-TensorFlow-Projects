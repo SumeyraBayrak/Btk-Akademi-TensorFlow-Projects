{
 "cells": [
  {
   "cell_type": "code",
   "execution_count": 2,
   "id": "ad89fd5d-dc86-4e94-aece-6a0d9ac3fc09",
   "metadata": {},
   "outputs": [],
   "source": [
    "import numpy as np\n",
    "import pandas as pd"
   ]
  },
  {
   "cell_type": "markdown",
   "id": "6d0b32ea-7dc7-4da0-97bf-7d82320c5a38",
   "metadata": {},
   "source": [
    "## Series / Seriler"
   ]
  },
  {
   "cell_type": "code",
   "execution_count": 4,
   "id": "3d378926-20b7-49b9-96f9-5c623d546150",
   "metadata": {},
   "outputs": [],
   "source": [
    "# Pandas veri bilimininin Exceli olarak nitelendirilir"
   ]
  },
  {
   "cell_type": "code",
   "execution_count": 9,
   "id": "bb9ff08d-099e-4c3b-92e2-747fc064596a",
   "metadata": {},
   "outputs": [],
   "source": [
    "benim_dict = {\"Atıl\": 50, \"Zeynep\": 40, \"Mehmet\": 30}"
   ]
  },
  {
   "cell_type": "code",
   "execution_count": 11,
   "id": "63331fe5-7084-42dc-a6cd-729109eda181",
   "metadata": {},
   "outputs": [
    {
     "data": {
      "text/plain": [
       "Atıl      50\n",
       "Zeynep    40\n",
       "Mehmet    30\n",
       "dtype: int64"
      ]
     },
     "execution_count": 11,
     "metadata": {},
     "output_type": "execute_result"
    }
   ],
   "source": [
    "pd.Series(benim_dict)"
   ]
  },
  {
   "cell_type": "code",
   "execution_count": 12,
   "id": "4952320e-2d39-42c0-8dfe-df04a009bc38",
   "metadata": {},
   "outputs": [
    {
     "data": {
      "text/plain": [
       "pandas.core.series.Series"
      ]
     },
     "execution_count": 12,
     "metadata": {},
     "output_type": "execute_result"
    }
   ],
   "source": [
    "type(pd.Series(benim_dict))"
   ]
  },
  {
   "cell_type": "code",
   "execution_count": 13,
   "id": "5467b748-78b9-4336-956e-a6f013b1482b",
   "metadata": {},
   "outputs": [],
   "source": [
    "## Burada gördüğün gibi burada;\n",
    "## pd.Series() ile bir dict'i pandas Serisine çevirdik"
   ]
  },
  {
   "cell_type": "code",
   "execution_count": 8,
   "id": "c032251b-0867-4be4-9b60-b99e03654c20",
   "metadata": {},
   "outputs": [],
   "source": [
    "benim_yaşlarım = [50,40,30]\n",
    "benim_isimlerim = [\"Atıl\", \"Zeynep\", \"Mehmet\"]"
   ]
  },
  {
   "cell_type": "code",
   "execution_count": 14,
   "id": "696c2fc9-ec92-4cdc-9bce-981ed60aa412",
   "metadata": {},
   "outputs": [
    {
     "data": {
      "text/plain": [
       "0    50\n",
       "1    40\n",
       "2    30\n",
       "dtype: int64"
      ]
     },
     "execution_count": 14,
     "metadata": {},
     "output_type": "execute_result"
    }
   ],
   "source": [
    "pd.Series(benim_yaşlarım)"
   ]
  },
  {
   "cell_type": "code",
   "execution_count": 15,
   "id": "97803185-e57e-4d10-bb38-ca6394029268",
   "metadata": {},
   "outputs": [],
   "source": [
    "## gördüğün dipi bir list'ide pandas Series'e çevirebiliyoruz"
   ]
  },
  {
   "cell_type": "code",
   "execution_count": 17,
   "id": "97bd33e9-64d7-42c4-91b5-bffd8903ccae",
   "metadata": {},
   "outputs": [
    {
     "data": {
      "text/plain": [
       "Atıl      50\n",
       "Zeynep    40\n",
       "Mehmet    30\n",
       "dtype: int64"
      ]
     },
     "execution_count": 17,
     "metadata": {},
     "output_type": "execute_result"
    }
   ],
   "source": [
    "pd.Series(benim_yaşlarım, benim_isimlerim)"
   ]
  },
  {
   "cell_type": "code",
   "execution_count": 18,
   "id": "4dfe1aac-361d-4e8a-a0da-ccea7e863f9c",
   "metadata": {},
   "outputs": [],
   "source": [
    "## Bu şekilde de yapabiliriz fakat biraz karışıklığa sebep olabilir "
   ]
  },
  {
   "cell_type": "code",
   "execution_count": 19,
   "id": "22d0e672-edfd-4d8a-930c-cf2b9b28c4e6",
   "metadata": {},
   "outputs": [
    {
     "data": {
      "text/plain": [
       "Atıl      50\n",
       "Zeynep    40\n",
       "Mehmet    30\n",
       "dtype: int64"
      ]
     },
     "execution_count": 19,
     "metadata": {},
     "output_type": "execute_result"
    }
   ],
   "source": [
    "pd.Series(data=benim_yaşlarım, index=benim_isimlerim)"
   ]
  },
  {
   "cell_type": "code",
   "execution_count": 20,
   "id": "c7898e60-f0b3-4875-8d69-5b7ba7460cb9",
   "metadata": {},
   "outputs": [],
   "source": [
    "# pd.Series(data=benim_yaşlarım, index=benim_isimlerim) bu şekilde kullanım daha organize ve daha \n",
    "# düzenli bir Series oluşturmuş olduk"
   ]
  },
  {
   "cell_type": "markdown",
   "id": "193a4e21-e2f6-4b91-b81b-8278c454e51c",
   "metadata": {},
   "source": [
    "# Dizileri Series'e Çevirme"
   ]
  },
  {
   "cell_type": "code",
   "execution_count": 21,
   "id": "f3eafe62-175b-4c38-9a5c-99f085b3c12f",
   "metadata": {},
   "outputs": [],
   "source": [
    "numpy_dizisi = np.array([50,40,60])"
   ]
  },
  {
   "cell_type": "code",
   "execution_count": 22,
   "id": "4ab84351-d3c8-4f18-b3fa-e7daa6f2a72e",
   "metadata": {},
   "outputs": [
    {
     "data": {
      "text/plain": [
       "array([50, 40, 60])"
      ]
     },
     "execution_count": 22,
     "metadata": {},
     "output_type": "execute_result"
    }
   ],
   "source": [
    "numpy_dizisi"
   ]
  },
  {
   "cell_type": "code",
   "execution_count": 23,
   "id": "28957e77-cf3e-452d-8c59-4c3d34b6bcc4",
   "metadata": {},
   "outputs": [
    {
     "data": {
      "text/plain": [
       "0    50\n",
       "1    40\n",
       "2    60\n",
       "dtype: int32"
      ]
     },
     "execution_count": 23,
     "metadata": {},
     "output_type": "execute_result"
    }
   ],
   "source": [
    "pd.Series(numpy_dizisi)"
   ]
  },
  {
   "cell_type": "code",
   "execution_count": 24,
   "id": "223404f9-f934-4a20-a615-80c660dd8dff",
   "metadata": {},
   "outputs": [],
   "source": [
    "# Görsğün gibi numpy disissini pandas Series'ine çevirdik"
   ]
  },
  {
   "cell_type": "code",
   "execution_count": 26,
   "id": "5a872cf9-42d9-4c81-8fea-c00fa50cf1b7",
   "metadata": {},
   "outputs": [
    {
     "data": {
      "text/plain": [
       "Atıl      50\n",
       "Zeynep    40\n",
       "Mehmet    60\n",
       "dtype: int32"
      ]
     },
     "execution_count": 26,
     "metadata": {},
     "output_type": "execute_result"
    }
   ],
   "source": [
    "pd.Series(data=numpy_dizisi, index=benim_isimlerim)"
   ]
  },
  {
   "cell_type": "code",
   "execution_count": 28,
   "id": "a2d790b8-1801-4d1b-8182-d29458655d04",
   "metadata": {},
   "outputs": [],
   "source": [
    "## Bu şekilde index kısmına isim değerleri vererekte series oluşturabiliyoruz"
   ]
  },
  {
   "cell_type": "code",
   "execution_count": 30,
   "id": "05a6ea7a-2681-4d72-b3fd-a53929b5f6e7",
   "metadata": {},
   "outputs": [
    {
     "data": {
      "text/plain": [
       "1     Atil\n",
       "2    Atlas\n",
       "3    Osman\n",
       "dtype: object"
      ]
     },
     "execution_count": 30,
     "metadata": {},
     "output_type": "execute_result"
    }
   ],
   "source": [
    "pd.Series([\"Atil\", \"Atlas\", \"Osman\"], [1,2,3])"
   ]
  },
  {
   "cell_type": "code",
   "execution_count": 31,
   "id": "4531c9d6-5c25-48ea-8920-1bda6405b52c",
   "metadata": {},
   "outputs": [],
   "source": [
    "# Gordüğün gibi pandas seriess oldukça esnek istediğin gibi oluşturabiliyoraun"
   ]
  },
  {
   "cell_type": "code",
   "execution_count": null,
   "id": "30146f84-35af-4fdf-8fa1-8965685429ce",
   "metadata": {},
   "outputs": [],
   "source": []
  },
  {
   "cell_type": "code",
   "execution_count": 32,
   "id": "457328b4-6786-4c97-80a9-add767ee4e5d",
   "metadata": {},
   "outputs": [],
   "source": [
    "#### Let's make example"
   ]
  },
  {
   "cell_type": "code",
   "execution_count": 33,
   "id": "ae5c3c6b-442d-4fc6-a492-65aef17b1720",
   "metadata": {},
   "outputs": [],
   "source": [
    "yarısma_sonucu1 = pd.Series([10,5,1], [\"Atıl\", \"Atlas\", \"Osman\"])"
   ]
  },
  {
   "cell_type": "code",
   "execution_count": 34,
   "id": "fc84a045-b52a-4448-8deb-df47aa7b4147",
   "metadata": {},
   "outputs": [
    {
     "data": {
      "text/plain": [
       "Atıl     10\n",
       "Atlas     5\n",
       "Osman     1\n",
       "dtype: int64"
      ]
     },
     "execution_count": 34,
     "metadata": {},
     "output_type": "execute_result"
    }
   ],
   "source": [
    "yarısma_sonucu1"
   ]
  },
  {
   "cell_type": "code",
   "execution_count": 40,
   "id": "71fb5b67-147d-4591-83fe-175488ce5509",
   "metadata": {},
   "outputs": [],
   "source": [
    "yarısma_sonucu2 = pd.Series([20,10,8], [\"Atıl\", \"Atlas\", \"Osman\"])"
   ]
  },
  {
   "cell_type": "code",
   "execution_count": 41,
   "id": "b9550557-c70f-4e18-96fd-d2e52584ac90",
   "metadata": {},
   "outputs": [
    {
     "data": {
      "text/plain": [
       "Atıl     20\n",
       "Atlas    10\n",
       "Osman     8\n",
       "dtype: int64"
      ]
     },
     "execution_count": 41,
     "metadata": {},
     "output_type": "execute_result"
    }
   ],
   "source": [
    "yarısma_sonucu2"
   ]
  },
  {
   "cell_type": "markdown",
   "id": "e0435bdc-1a70-453e-bd57-26568dbd6551",
   "metadata": {},
   "source": [
    "## Python Series Dört İşlem "
   ]
  },
  {
   "cell_type": "code",
   "execution_count": 43,
   "id": "1a1e6b1b-4a5f-4983-a91b-e87375158d6e",
   "metadata": {},
   "outputs": [],
   "source": [
    "son_sonuc = yarısma_sonucu1 + yarısma_sonucu2"
   ]
  },
  {
   "cell_type": "code",
   "execution_count": 44,
   "id": "0bc1f0c3-b94f-4ad3-b713-41f1b41b7b89",
   "metadata": {},
   "outputs": [
    {
     "data": {
      "text/plain": [
       "Atıl     30\n",
       "Atlas    15\n",
       "Osman     9\n",
       "dtype: int64"
      ]
     },
     "execution_count": 44,
     "metadata": {},
     "output_type": "execute_result"
    }
   ],
   "source": [
    "son_sonuc"
   ]
  },
  {
   "cell_type": "code",
   "execution_count": 45,
   "id": "f6a5a7ba-00c1-47f5-83c9-6c26323d8edb",
   "metadata": {},
   "outputs": [],
   "source": [
    "# gördüğün gibi toplama işlemi yaptık python series arasında"
   ]
  },
  {
   "cell_type": "code",
   "execution_count": 51,
   "id": "16e5ad5a-7405-4974-a7f2-25cf45cbdcd7",
   "metadata": {},
   "outputs": [],
   "source": [
    "farklı_series1 = pd.Series([20,30,40,50], [\"a\",\"b\",\"c\",\"d\"])"
   ]
  },
  {
   "cell_type": "code",
   "execution_count": 52,
   "id": "fc14a0a2-9f28-457d-9de7-1f0846e41a8b",
   "metadata": {},
   "outputs": [],
   "source": [
    "farklı_series2 = pd.Series([10,5,3,1], [\"a\",\"c\",\"f\",\"g\"])"
   ]
  },
  {
   "cell_type": "code",
   "execution_count": 53,
   "id": "0313204e-30ee-4220-9704-ffe738afb363",
   "metadata": {},
   "outputs": [
    {
     "data": {
      "text/plain": [
       "a    20\n",
       "b    30\n",
       "c    40\n",
       "d    50\n",
       "dtype: int64"
      ]
     },
     "execution_count": 53,
     "metadata": {},
     "output_type": "execute_result"
    }
   ],
   "source": [
    "farklı_series1"
   ]
  },
  {
   "cell_type": "code",
   "execution_count": 54,
   "id": "cc0cbb5e-8bfd-4710-8599-44373a85ef73",
   "metadata": {},
   "outputs": [
    {
     "data": {
      "text/plain": [
       "a    10\n",
       "c     5\n",
       "f     3\n",
       "g     1\n",
       "dtype: int64"
      ]
     },
     "execution_count": 54,
     "metadata": {},
     "output_type": "execute_result"
    }
   ],
   "source": [
    "farklı_series2"
   ]
  },
  {
   "cell_type": "code",
   "execution_count": 55,
   "id": "dd1372e6-062f-4af0-88c6-d33e221d6db4",
   "metadata": {},
   "outputs": [
    {
     "data": {
      "text/plain": [
       "a    30.0\n",
       "b     NaN\n",
       "c    45.0\n",
       "d     NaN\n",
       "f     NaN\n",
       "g     NaN\n",
       "dtype: float64"
      ]
     },
     "execution_count": 55,
     "metadata": {},
     "output_type": "execute_result"
    }
   ],
   "source": [
    "farklı_series1 + farklı_series2"
   ]
  },
  {
   "cell_type": "code",
   "execution_count": 56,
   "id": "e46a1ad2-1234-48cb-9b70-9f1eeb766977",
   "metadata": {},
   "outputs": [],
   "source": [
    "## index ifadeleri aynı ise toplama yapar eğer değilse Nan Nat a nummber ifadesi dörner"
   ]
  }
 ],
 "metadata": {
  "kernelspec": {
   "display_name": "Python 3 (ipykernel)",
   "language": "python",
   "name": "python3"
  },
  "language_info": {
   "codemirror_mode": {
    "name": "ipython",
    "version": 3
   },
   "file_extension": ".py",
   "mimetype": "text/x-python",
   "name": "python",
   "nbconvert_exporter": "python",
   "pygments_lexer": "ipython3",
   "version": "3.12.4"
  }
 },
 "nbformat": 4,
 "nbformat_minor": 5
}
