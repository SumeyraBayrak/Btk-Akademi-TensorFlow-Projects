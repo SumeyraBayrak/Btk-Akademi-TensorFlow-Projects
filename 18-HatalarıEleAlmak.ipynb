{
 "cells": [
  {
   "cell_type": "code",
   "execution_count": 7,
   "id": "223ff102-1a2b-410d-b56c-75933dde2f39",
   "metadata": {},
   "outputs": [],
   "source": [
    "def toplama(numara1, numara2):\n",
    "    return numara1 + numara2"
   ]
  },
  {
   "cell_type": "code",
   "execution_count": 8,
   "id": "76d44381-5593-46e9-b138-b98bb68a8211",
   "metadata": {},
   "outputs": [
    {
     "name": "stdin",
     "output_type": "stream",
     "text": [
      "ilk numarayı giriniz:  10\n"
     ]
    }
   ],
   "source": [
    "x =  int(input(\"ilk numarayı giriniz: \"))"
   ]
  },
  {
   "cell_type": "code",
   "execution_count": 9,
   "id": "babe2072-f1dd-4194-8b73-95c4d4f29e6c",
   "metadata": {},
   "outputs": [
    {
     "name": "stdin",
     "output_type": "stream",
     "text": [
      "ikinci numarayı girirniz 20\n"
     ]
    }
   ],
   "source": [
    "y = int(input(\"ikinci numarayı girirniz\"))"
   ]
  },
  {
   "cell_type": "code",
   "execution_count": 10,
   "id": "0217e35d-a493-40a0-a340-8e7fa28b054d",
   "metadata": {},
   "outputs": [
    {
     "data": {
      "text/plain": [
       "30"
      ]
     },
     "execution_count": 10,
     "metadata": {},
     "output_type": "execute_result"
    }
   ],
   "source": [
    "toplama(x, y)"
   ]
  },
  {
   "cell_type": "code",
   "execution_count": 1,
   "id": "bc275890-079c-4939-9169-2af0503821e6",
   "metadata": {},
   "outputs": [],
   "source": [
    "# Gördüğün gibi bu işlemde sıkıntı yok toplama islemini görüntüledi.\n",
    "# Fakat ben x yerine sumeyra azdığında sitem çöker ve hata verir"
   ]
  },
  {
   "cell_type": "markdown",
   "id": "c6c4dedd-8cdb-4ce8-a87d-da3099d4bc41",
   "metadata": {},
   "source": [
    "# try & except & else & finally"
   ]
  },
  {
   "cell_type": "code",
   "execution_count": null,
   "id": "e7091b83-7804-4b7c-8dd3-e00c0d321b66",
   "metadata": {},
   "outputs": [
    {
     "name": "stdin",
     "output_type": "stream",
     "text": [
      "Numaranızı Giriniz 10\n"
     ]
    },
    {
     "name": "stdout",
     "output_type": "stream",
     "text": [
      "Teşekkürler\n",
      "finally çağırıldı\n"
     ]
    },
    {
     "name": "stdin",
     "output_type": "stream",
     "text": [
      "Numaranızı Giriniz Hasan\n"
     ]
    },
    {
     "name": "stdout",
     "output_type": "stream",
     "text": [
      "Lütfen gerçekten numara girirniz\n",
      "finally çağırıldı\n"
     ]
    },
    {
     "name": "stdin",
     "output_type": "stream",
     "text": [
      "Numaranızı Giriniz lara\n"
     ]
    },
    {
     "name": "stdout",
     "output_type": "stream",
     "text": [
      "Lütfen gerçekten numara girirniz\n",
      "finally çağırıldı\n"
     ]
    },
    {
     "name": "stdin",
     "output_type": "stream",
     "text": [
      "Numaranızı Giriniz 10\n"
     ]
    },
    {
     "name": "stdout",
     "output_type": "stream",
     "text": [
      "Teşekkürler\n",
      "finally çağırıldı\n"
     ]
    },
    {
     "name": "stdin",
     "output_type": "stream",
     "text": [
      "Numaranızı Giriniz 10\n"
     ]
    },
    {
     "name": "stdout",
     "output_type": "stream",
     "text": [
      "Teşekkürler\n",
      "finally çağırıldı\n"
     ]
    }
   ],
   "source": [
    "while True:\n",
    "    try:\n",
    "        benimInt = int(input(\"Numaranızı Giriniz\"))\n",
    "    except:\n",
    "        print(\"Lütfen gerçekten numara girirniz\")\n",
    "        continue\n",
    "    else:\n",
    "        print(\"Teşekkürler\")\n",
    "    finally:\n",
    "        print(\"finally çağırıldı\")"
   ]
  },
  {
   "cell_type": "code",
   "execution_count": null,
   "id": "31c4b260-3bd0-4166-8cd6-e58ca21474b8",
   "metadata": {},
   "outputs": [],
   "source": [
    "## while True:, eğer sonsuz döngüye girmesi için bu ifadeyi kullanıyoruz. Bu şekilde döngü\n",
    "## sürekli çalışak ve sonsuz bir döngü oluşturduk\n",
    "## try:, burada çalışacak olan kodumuzu yazıyoruz\n",
    "## except:, burada hata yaptığı sürece bu kod buloğu çalıştırılacak continue, ise hata olduğu sürece except kodunun başına dönecek\n",
    "## finally: bu her seferinde çalışacak olan kod bloğudur."
   ]
  }
 ],
 "metadata": {
  "kernelspec": {
   "display_name": "Python 3 (ipykernel)",
   "language": "python",
   "name": "python3"
  },
  "language_info": {
   "codemirror_mode": {
    "name": "ipython",
    "version": 3
   },
   "file_extension": ".py",
   "mimetype": "text/x-python",
   "name": "python",
   "nbconvert_exporter": "python",
   "pygments_lexer": "ipython3",
   "version": "3.9.20"
  }
 },
 "nbformat": 4,
 "nbformat_minor": 5
}
