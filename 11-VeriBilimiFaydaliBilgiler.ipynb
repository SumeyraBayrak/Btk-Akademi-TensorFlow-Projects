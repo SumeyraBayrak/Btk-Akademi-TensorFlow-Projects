{
 "cells": [
  {
   "cell_type": "code",
   "execution_count": 1,
   "id": "0b21e740-dd94-4920-bcc0-30fd5a670c61",
   "metadata": {},
   "outputs": [],
   "source": [
    " benim_listem = [0,1,2,3,4,5,6]"
   ]
  },
  {
   "cell_type": "code",
   "execution_count": 2,
   "id": "80a047ae-bc7d-4d57-81b0-934df1ab5e0f",
   "metadata": {},
   "outputs": [
    {
     "name": "stdout",
     "output_type": "stream",
     "text": [
      "0\n",
      "1\n",
      "2\n",
      "3\n",
      "4\n",
      "5\n",
      "6\n"
     ]
    }
   ],
   "source": [
    "for numara in benim_listem:\n",
    "    print(numara)"
   ]
  },
  {
   "cell_type": "markdown",
   "id": "69087454-98a9-4ff2-8773-8efb8426363e",
   "metadata": {},
   "source": [
    "# Range"
   ]
  },
  {
   "cell_type": "code",
   "execution_count": 4,
   "id": "725f7801-44ff-4678-900a-e25ba5bc91f3",
   "metadata": {},
   "outputs": [
    {
     "data": {
      "text/plain": [
       "range(0, 15)"
      ]
     },
     "execution_count": 4,
     "metadata": {},
     "output_type": "execute_result"
    }
   ],
   "source": [
    "range(15)"
   ]
  },
  {
   "cell_type": "code",
   "execution_count": 5,
   "id": "c794152d-d882-4cb8-bf33-71aa18e52688",
   "metadata": {},
   "outputs": [
    {
     "data": {
      "text/plain": [
       "[0, 1, 2, 3, 4, 5, 6, 7, 8, 9, 10, 11, 12, 13, 14]"
      ]
     },
     "execution_count": 5,
     "metadata": {},
     "output_type": "execute_result"
    }
   ],
   "source": [
    "list(range(15))"
   ]
  },
  {
   "cell_type": "code",
   "execution_count": 6,
   "id": "0a0ca3e2-50cd-4b70-8e67-20428f993dee",
   "metadata": {},
   "outputs": [],
   "source": [
    "# range(15) ifadesi, 0'dan başlayarak 15'e kadar (15 hariç) olan tam sayılardan oluşan bir aralık oluşturur."
   ]
  },
  {
   "cell_type": "code",
   "execution_count": 7,
   "id": "09fd4cd1-7499-4e41-848f-04ef07e86543",
   "metadata": {},
   "outputs": [
    {
     "data": {
      "text/plain": [
       "[0, 1, 2, 3, 4, 5, 6, 7, 8, 9, 10, 11, 12, 13, 14, 15, 16, 17, 18, 19]"
      ]
     },
     "execution_count": 7,
     "metadata": {},
     "output_type": "execute_result"
    }
   ],
   "source": [
    "list(range(20))"
   ]
  },
  {
   "cell_type": "code",
   "execution_count": 9,
   "id": "07dea909-d7ab-48ba-bf87-daa9b092d4d3",
   "metadata": {},
   "outputs": [
    {
     "name": "stdout",
     "output_type": "stream",
     "text": [
      "0\n",
      "5\n",
      "10\n",
      "15\n",
      "20\n",
      "25\n",
      "30\n",
      "35\n",
      "40\n",
      "45\n",
      "50\n",
      "55\n",
      "60\n",
      "65\n",
      "70\n"
     ]
    }
   ],
   "source": [
    "for numara2 in list(range(15)):\n",
    "    print(numara2 * 5)"
   ]
  },
  {
   "cell_type": "code",
   "execution_count": 10,
   "id": "0ff74eb8-6baf-4dc0-aaf3-5c63d20b0719",
   "metadata": {},
   "outputs": [],
   "source": [
    "# farklı farklı tek tek liste oluşturmak yerine \"range\" ile list'ler oluşturabilirim "
   ]
  },
  {
   "cell_type": "code",
   "execution_count": 12,
   "id": "486616b1-ac38-47c0-8b68-3ce03f0ec274",
   "metadata": {},
   "outputs": [],
   "source": [
    "# range(Başlangıç, Duruş, Step)\n",
    "# 2 , 10, 3 2' den başlar 10'da durur 3'er 3'er ilerler"
   ]
  },
  {
   "cell_type": "code",
   "execution_count": 13,
   "id": "185c7bad-218c-44e5-9fd1-59c3c6c9157f",
   "metadata": {},
   "outputs": [
    {
     "data": {
      "text/plain": [
       "[5, 9, 13, 17]"
      ]
     },
     "execution_count": 13,
     "metadata": {},
     "output_type": "execute_result"
    }
   ],
   "source": [
    "list(range(5, 21, 4))"
   ]
  },
  {
   "cell_type": "code",
   "execution_count": 14,
   "id": "a02ed8fb-bef5-4a5f-a9e0-1ebbb35676ed",
   "metadata": {},
   "outputs": [],
   "source": [
    "# Gördüğün gibi bir değişken oluşturmadan bir liste oluşturdum Bu da bana daha kolay kullanım sağlar"
   ]
  },
  {
   "cell_type": "markdown",
   "id": "e8487f87-ec80-456c-93b0-c3ea3e24eba3",
   "metadata": {},
   "source": [
    "# Enumerate"
   ]
  },
  {
   "cell_type": "markdown",
   "id": "4fd84d5b-6f99-40c4-a3d4-b61d9c854ed5",
   "metadata": {},
   "source": [
    "Python'da enumerate() fonksiyonu, bir liste, demet veya başka bir iterable üzerinde iterasyon yaparken, elemanların hem indeksini (sıra numarası) hem de değerini elde etmenizi sağlar. "
   ]
  },
  {
   "cell_type": "code",
   "execution_count": 1,
   "id": "150c94f6-9158-4869-8b00-f37d36cc9414",
   "metadata": {},
   "outputs": [
    {
     "name": "stdout",
     "output_type": "stream",
     "text": [
      "güncel numara: 5 güncel index: 0\n",
      "güncel numara: 6 güncel index: 1\n",
      "güncel numara: 7 güncel index: 2\n",
      "güncel numara: 8 güncel index: 3\n",
      "güncel numara: 9 güncel index: 4\n",
      "güncel numara: 10 güncel index: 5\n",
      "güncel numara: 11 güncel index: 6\n",
      "güncel numara: 12 güncel index: 7\n",
      "güncel numara: 13 güncel index: 8\n",
      "güncel numara: 14 güncel index: 9\n"
     ]
    }
   ],
   "source": [
    "index = 0\n",
    "for numara3 in list(range(5,15)):\n",
    "    print(f\"güncel numara: {numara3} güncel index: {index}\")\n",
    "    index = index + 1"
   ]
  },
  {
   "cell_type": "code",
   "execution_count": 20,
   "id": "b7a49011-2bfe-4f2f-b440-3b4c1b30ed74",
   "metadata": {},
   "outputs": [
    {
     "name": "stdout",
     "output_type": "stream",
     "text": [
      "(0, 5)\n",
      "(1, 6)\n",
      "(2, 7)\n",
      "(3, 8)\n",
      "(4, 9)\n",
      "(5, 10)\n",
      "(6, 11)\n",
      "(7, 12)\n",
      "(8, 13)\n",
      "(9, 14)\n"
     ]
    }
   ],
   "source": [
    "for numara4 in enumerate(list(range(5,15))):\n",
    "    print(numara4)"
   ]
  },
  {
   "cell_type": "code",
   "execution_count": 21,
   "id": "3da95643-ea22-49a1-991a-dad85ecf32fb",
   "metadata": {},
   "outputs": [],
   "source": [
    "# enumerate bize bir elemanın (index, değer) 'ini verir"
   ]
  },
  {
   "cell_type": "code",
   "execution_count": 22,
   "id": "be615b32-aae5-4ad2-8896-c7b53997d58c",
   "metadata": {},
   "outputs": [
    {
     "name": "stdout",
     "output_type": "stream",
     "text": [
      "0\n",
      "1\n",
      "2\n",
      "3\n",
      "4\n",
      "5\n",
      "6\n",
      "7\n",
      "8\n",
      "9\n"
     ]
    }
   ],
   "source": [
    "for index, number5 in enumerate(list(range(5,15))):\n",
    "    print(index)"
   ]
  },
  {
   "cell_type": "code",
   "execution_count": 24,
   "id": "c11b0ce8-2c9a-46bd-b4cf-b1102f66f8d5",
   "metadata": {},
   "outputs": [
    {
     "name": "stdout",
     "output_type": "stream",
     "text": [
      "5\n",
      "6\n",
      "7\n",
      "8\n",
      "9\n",
      "10\n",
      "11\n",
      "12\n",
      "13\n",
      "14\n"
     ]
    }
   ],
   "source": [
    "for index, number5 in enumerate(list(range(5,15))):\n",
    "    print(number5)"
   ]
  },
  {
   "cell_type": "code",
   "execution_count": null,
   "id": "2cd54aa6-4e00-4722-8bdb-ee5f0062a2f5",
   "metadata": {},
   "outputs": [],
   "source": [
    "# Gördüğün gi dict'teki gibi key ve değer'ine ulaşabiliyoruz Fakat burada \n",
    "# index2ine ve elemanınaa ayrı ayrı ulaşabiliyoruz"
   ]
  },
  {
   "cell_type": "markdown",
   "id": "56463d48-fdbf-42b4-9b33-30e74d9578c5",
   "metadata": {},
   "source": [
    "# ExTra Örnek:"
   ]
  },
  {
   "cell_type": "code",
   "execution_count": 25,
   "id": "76c3fe6f-9953-439a-a113-3d70c2d3aff1",
   "metadata": {},
   "outputs": [
    {
     "name": "stdout",
     "output_type": "stream",
     "text": [
      "Index: 0, Fruit: apple\n",
      "Index: 1, Fruit: banana\n",
      "Index: 2, Fruit: cherry\n"
     ]
    }
   ],
   "source": [
    "fruits = ['apple', 'banana', 'cherry']\n",
    "\n",
    "for index, fruit in enumerate(fruits):\n",
    "    print(f\"Index: {index}, Fruit: {fruit}\")"
   ]
  },
  {
   "cell_type": "markdown",
   "id": "6f24d762-28d4-4fa3-8108-fab7b2cd58d9",
   "metadata": {},
   "source": [
    "# Random"
   ]
  },
  {
   "cell_type": "code",
   "execution_count": 26,
   "id": "9cb18eb5-961e-4d57-85cc-4474032ea76e",
   "metadata": {},
   "outputs": [],
   "source": [
    "# Rasgele bir değer belirlemek için kullanırız."
   ]
  },
  {
   "cell_type": "code",
   "execution_count": 27,
   "id": "ee47af91-d626-46c5-b4a6-61ab2c3d299c",
   "metadata": {},
   "outputs": [],
   "source": [
    "from random import randint"
   ]
  },
  {
   "cell_type": "code",
   "execution_count": 30,
   "id": "1e431eab-2334-416b-bd2a-aebf05d714b5",
   "metadata": {},
   "outputs": [
    {
     "data": {
      "text/plain": [
       "52"
      ]
     },
     "execution_count": 30,
     "metadata": {},
     "output_type": "execute_result"
    }
   ],
   "source": [
    "randint(0,100)"
   ]
  },
  {
   "cell_type": "code",
   "execution_count": null,
   "id": "d42aed7a-081a-4edf-9da6-c5cf201dbc5b",
   "metadata": {},
   "outputs": [],
   "source": [
    "#randint(a, b)\n",
    "# a: Rastgele seçilecek sayılar arasındaki alt sınır (dahil).\n",
    "# b: Rastgele seçilecek sayılar arasındaki üst sınır (dahil)."
   ]
  },
  {
   "cell_type": "code",
   "execution_count": 31,
   "id": "e04a5869-f034-4b6c-857e-ba3cb7142165",
   "metadata": {},
   "outputs": [],
   "source": [
    "# yani: bize 0'la 100 arasında rastgele sayı üretir "
   ]
  },
  {
   "cell_type": "code",
   "execution_count": 32,
   "id": "4100107c-e377-4b30-9942-207433d75799",
   "metadata": {},
   "outputs": [],
   "source": [
    "yeni_liste2 = list(range(0,10))"
   ]
  },
  {
   "cell_type": "code",
   "execution_count": 33,
   "id": "d9ec28fb-5950-46e0-8dd1-ad5d44fa4622",
   "metadata": {},
   "outputs": [
    {
     "data": {
      "text/plain": [
       "[0, 1, 2, 3, 4, 5, 6, 7, 8, 9]"
      ]
     },
     "execution_count": 33,
     "metadata": {},
     "output_type": "execute_result"
    }
   ],
   "source": [
    "yeni_liste2"
   ]
  },
  {
   "cell_type": "code",
   "execution_count": 36,
   "id": "73d6eee4-e862-4fa9-a64d-da068e8b04ae",
   "metadata": {},
   "outputs": [
    {
     "data": {
      "text/plain": [
       "5"
      ]
     },
     "execution_count": 36,
     "metadata": {},
     "output_type": "execute_result"
    }
   ],
   "source": [
    "yeni_liste2[randint(0,9)]"
   ]
  },
  {
   "cell_type": "code",
   "execution_count": 37,
   "id": "8e61169e-c493-47c4-8c16-a4467ae29db5",
   "metadata": {},
   "outputs": [],
   "source": [
    "# Burada yeni_liste2 'den bir list elemanı seçmek istiyoruz ve bunu rastgele yapmak istiyoruz "
   ]
  },
  {
   "cell_type": "code",
   "execution_count": 38,
   "id": "932ee8e0-4ef7-422e-b24c-d3764add0187",
   "metadata": {},
   "outputs": [
    {
     "name": "stdout",
     "output_type": "stream",
     "text": [
      "elma\n"
     ]
    }
   ],
   "source": [
    "yeni_liste2 = ['elma', 'armut', 'muz', 'çilek', 'kiraz', 'üzüm', 'şeftali', 'karpuz', 'erik', 'kavun']\n",
    "rastgele_meyve = yeni_liste2[randint(0, 9)]\n",
    "print(rastgele_meyve)"
   ]
  },
  {
   "cell_type": "code",
   "execution_count": 39,
   "id": "de846af5-1495-4260-8c76-dd5ecabc40c5",
   "metadata": {},
   "outputs": [],
   "source": [
    "## Burada meyve ile örneğini yaptı yeni_liste2[1] oluduğunda\n",
    "## elma sonucunu elde ederiz "
   ]
  },
  {
   "cell_type": "markdown",
   "id": "48e921b8-2bb8-446c-ba08-85ec9fd13f28",
   "metadata": {},
   "source": [
    "# Suffle "
   ]
  },
  {
   "cell_type": "code",
   "execution_count": 45,
   "id": "c0cc5a3e-7025-4f68-945d-ec6a6f3289fb",
   "metadata": {},
   "outputs": [],
   "source": [
    "yeni_liste = [1,2,3,4,5,6,7,8,9]"
   ]
  },
  {
   "cell_type": "code",
   "execution_count": 46,
   "id": "bac07b68-65b4-43ae-aecf-c88cb9e5472f",
   "metadata": {},
   "outputs": [],
   "source": [
    "from random import shuffle"
   ]
  },
  {
   "cell_type": "code",
   "execution_count": 47,
   "id": "363f8f88-1455-4b84-afc7-d9f6dfaecc42",
   "metadata": {},
   "outputs": [],
   "source": [
    "shuffle(yeni_liste)"
   ]
  },
  {
   "cell_type": "code",
   "execution_count": 48,
   "id": "847322bb-fdc9-4883-8cb2-a9620cd3a76b",
   "metadata": {},
   "outputs": [
    {
     "data": {
      "text/plain": [
       "[2, 6, 9, 8, 4, 1, 7, 3, 5]"
      ]
     },
     "execution_count": 48,
     "metadata": {},
     "output_type": "execute_result"
    }
   ],
   "source": [
    "yeni_liste"
   ]
  },
  {
   "cell_type": "code",
   "execution_count": 49,
   "id": "a036627b-b13b-46f2-a6df-bb5217af3089",
   "metadata": {},
   "outputs": [],
   "source": [
    "# Suffle= karıştırak random bir yşekilde list elemanlarının yerini değiştiriyor"
   ]
  },
  {
   "cell_type": "markdown",
   "id": "d8f33448-09af-4ab2-88be-d325d94fa856",
   "metadata": {},
   "source": [
    "# Zip"
   ]
  },
  {
   "cell_type": "code",
   "execution_count": 51,
   "id": "c06c0bbc-4e34-4375-aedc-6520ba921f9d",
   "metadata": {},
   "outputs": [],
   "source": [
    "# zip = bir araya getirerek birleştirme"
   ]
  },
  {
   "cell_type": "code",
   "execution_count": 54,
   "id": "b48e3a77-c883-4a2c-b8b9-2c7d2d6fc87f",
   "metadata": {},
   "outputs": [],
   "source": [
    "yemek_listesi = [\"muz\", \"ananas\", \"elma\"]\n",
    "kalari_listesi = [10,200,300]\n",
    "gün_listesi = [\"pazartesi\", \"salı\", \"çarşamba\"]"
   ]
  },
  {
   "cell_type": "code",
   "execution_count": 55,
   "id": "3b757a26-a7ee-4214-854c-f8c5b32bd86c",
   "metadata": {},
   "outputs": [
    {
     "data": {
      "text/plain": [
       "zip"
      ]
     },
     "execution_count": 55,
     "metadata": {},
     "output_type": "execute_result"
    }
   ],
   "source": [
    "type(zip(yemek_listesi, kalari_listesi, gün_listesi))"
   ]
  },
  {
   "cell_type": "code",
   "execution_count": 56,
   "id": "1d0a545b-223d-44c1-803d-59c9dcf652bc",
   "metadata": {},
   "outputs": [
    {
     "data": {
      "text/plain": [
       "[('muz', 10, 'pazartesi'), ('ananas', 200, 'salı'), ('elma', 300, 'çarşamba')]"
      ]
     },
     "execution_count": 56,
     "metadata": {},
     "output_type": "execute_result"
    }
   ],
   "source": [
    "list(zip(yemek_listesi, kalari_listesi, gün_listesi))"
   ]
  },
  {
   "cell_type": "code",
   "execution_count": 57,
   "id": "e62beca2-bca0-4711-a28d-7dc761edeb8c",
   "metadata": {},
   "outputs": [],
   "source": [
    "## gördüğün gibi bir zip index number larına göre tuple oluşturuyor daha sonra da onu\n",
    "## list özelliği sayesinde tek bir list oluyor buda karmaşık yapıdan daha düzenli bir yapıya geçiriyor"
   ]
  },
  {
   "cell_type": "code",
   "execution_count": 59,
   "id": "3271a9ea-7c1c-43e8-ba96-3ad3d66a52a7",
   "metadata": {},
   "outputs": [],
   "source": [
    "ziplenmis_liste = list(zip(yemek_listesi, kalari_listesi, gün_listesi))"
   ]
  },
  {
   "cell_type": "code",
   "execution_count": 60,
   "id": "d36da5e8-9b31-4412-ad85-fd08bae4a992",
   "metadata": {},
   "outputs": [
    {
     "name": "stdout",
     "output_type": "stream",
     "text": [
      "<class 'tuple'>\n",
      "<class 'tuple'>\n",
      "<class 'tuple'>\n"
     ]
    }
   ],
   "source": [
    "for eleman in ziplenmis_liste:\n",
    "    print(type(eleman))"
   ]
  },
  {
   "cell_type": "code",
   "execution_count": 61,
   "id": "b34df9f0-1ecd-4146-b498-747e14601b76",
   "metadata": {},
   "outputs": [],
   "source": [
    "# gördüğün gibi elemanları type tuple "
   ]
  },
  {
   "cell_type": "code",
   "execution_count": 62,
   "id": "fca85a09-f3bf-4bdc-9fd5-c0773ab05550",
   "metadata": {},
   "outputs": [
    {
     "data": {
      "text/plain": [
       "[('muz', 10, 'pazartesi'), ('ananas', 200, 'salı'), ('elma', 300, 'çarşamba')]"
      ]
     },
     "execution_count": 62,
     "metadata": {},
     "output_type": "execute_result"
    }
   ],
   "source": [
    "ziplenmis_liste"
   ]
  },
  {
   "cell_type": "markdown",
   "id": "bfe542a0-2f79-4a87-a4a3-b22ec730ed97",
   "metadata": {},
   "source": [
    "# Listeler İleri Seviye:"
   ]
  },
  {
   "cell_type": "code",
   "execution_count": 66,
   "id": "87ed0d2f-e10a-4346-bc04-007cdfa2c24f",
   "metadata": {},
   "outputs": [
    {
     "name": "stdout",
     "output_type": "stream",
     "text": [
      "['s', 'u', 'm', 'e', 'y', 'r', 'a', ' ', 'b', 'a', 'y', 'r', 'a', 'k']\n"
     ]
    }
   ],
   "source": [
    "liste_ornegi = []\n",
    "benimString = \"sumeyra bayrak\"\n",
    "for harf in benimString:\n",
    "    liste_ornegi.append(harf)\n",
    "print(liste_ornegi)"
   ]
  },
  {
   "cell_type": "code",
   "execution_count": 67,
   "id": "f5b6a04b-ae75-4d0f-80a1-95dda13e4607",
   "metadata": {},
   "outputs": [],
   "source": [
    "# Gördüğün gibi:\n",
    "## Boş bir list oluşturuyoruz (bu şekilde list oluşturup daha sonra içini doldurabilirz)\n",
    "## Daha sonra stiring karakterlerini tek tek liste ekliyoruz"
   ]
  },
  {
   "cell_type": "code",
   "execution_count": 68,
   "id": "d45cef1c-20ce-478a-af27-e5d6055a9206",
   "metadata": {},
   "outputs": [],
   "source": [
    "yeni_string = \"atıl samancıoglu\""
   ]
  },
  {
   "cell_type": "code",
   "execution_count": 70,
   "id": "ba293f1d-3223-48cb-9b35-90d733058c05",
   "metadata": {},
   "outputs": [],
   "source": [
    "yeni_liste_ornegi = [eleman for eleman in yeni_string]"
   ]
  },
  {
   "cell_type": "code",
   "execution_count": 71,
   "id": "811f4772-d66e-4e3b-9785-c49bb881f13a",
   "metadata": {},
   "outputs": [
    {
     "data": {
      "text/plain": [
       "['a',\n",
       " 't',\n",
       " 'ı',\n",
       " 'l',\n",
       " ' ',\n",
       " 's',\n",
       " 'a',\n",
       " 'm',\n",
       " 'a',\n",
       " 'n',\n",
       " 'c',\n",
       " 'ı',\n",
       " 'o',\n",
       " 'g',\n",
       " 'l',\n",
       " 'u']"
      ]
     },
     "execution_count": 71,
     "metadata": {},
     "output_type": "execute_result"
    }
   ],
   "source": [
    "yeni_liste_ornegi"
   ]
  },
  {
   "cell_type": "code",
   "execution_count": 72,
   "id": "4d40b873-369a-4b2d-adca-66e3fa393a8a",
   "metadata": {},
   "outputs": [],
   "source": [
    "# Bu şekilde tek satırda append işlemi yapabiliyoruz."
   ]
  },
  {
   "cell_type": "code",
   "execution_count": 73,
   "id": "2f7f4a65-7057-4b56-a7f8-9048ba074a1d",
   "metadata": {},
   "outputs": [],
   "source": [
    "ikinci_liste_ornegi = [numara ** 5 for numara in list(range(0,10))]"
   ]
  },
  {
   "cell_type": "code",
   "execution_count": 75,
   "id": "dc6afbff-6950-4c27-84b8-d0d1a960d14a",
   "metadata": {},
   "outputs": [
    {
     "data": {
      "text/plain": [
       "[0, 1, 32, 243, 1024, 3125, 7776, 16807, 32768, 59049]"
      ]
     },
     "execution_count": 75,
     "metadata": {},
     "output_type": "execute_result"
    }
   ],
   "source": [
    "ikinci_liste_ornegi"
   ]
  },
  {
   "cell_type": "code",
   "execution_count": 76,
   "id": "51e7c161-96a7-4c37-8f22-47d9259efd24",
   "metadata": {},
   "outputs": [],
   "source": [
    "# Burada gördüğün gibi hem range hem de append kullanmadan tek satırda istediğin gibi list oluşturabiliriyoruz."
   ]
  }
 ],
 "metadata": {
  "kernelspec": {
   "display_name": "Python 3 (ipykernel)",
   "language": "python",
   "name": "python3"
  },
  "language_info": {
   "codemirror_mode": {
    "name": "ipython",
    "version": 3
   },
   "file_extension": ".py",
   "mimetype": "text/x-python",
   "name": "python",
   "nbconvert_exporter": "python",
   "pygments_lexer": "ipython3",
   "version": "3.9.20"
  }
 },
 "nbformat": 4,
 "nbformat_minor": 5
}
