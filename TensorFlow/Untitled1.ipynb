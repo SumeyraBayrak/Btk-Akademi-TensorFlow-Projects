{
 "cells": [
  {
   "cell_type": "code",
   "execution_count": 2,
   "id": "52bda85f-74d5-4525-b5f3-33b89fb98df6",
   "metadata": {},
   "outputs": [],
   "source": [
    "import numpy as np"
   ]
  },
  {
   "cell_type": "code",
   "execution_count": 4,
   "id": "3412ad7e-660f-436d-8d0d-62a2bf0d876f",
   "metadata": {},
   "outputs": [
    {
     "name": "stdout",
     "output_type": "stream",
     "text": [
      "0.005\n"
     ]
    }
   ],
   "source": [
    "class BasicCalculator():\n",
    "    def multiply(self, x, y):\n",
    "      \t# Use numpy to multiply x and y\n",
    "        return np.multiply(x, y)\n",
    "      \n",
    "    def divide(self, x, y):\n",
    "      \t# Use numpy to divide x and y\n",
    "        return np.divide(x, y)\n",
    "\n",
    "# Create a BasicCalculator\n",
    "basic_calculator = BasicCalculator()\n",
    "\n",
    "# Use the basic_calculator to divide 6 percent by 12\n",
    "print(basic_calculator.divide(0.06, 12))"
   ]
  },
  {
   "cell_type": "code",
   "execution_count": null,
   "id": "0f0461d5-7846-44a6-bee7-c2818389c7fe",
   "metadata": {},
   "outputs": [],
   "source": [
    "class BasicCalculator():\n",
    "  def divide(self, x, y):\n",
    "    return x / y\n",
    "\n",
    "# Create a class FinancialCalculator that inherits from BasicCalculator\n",
    "class FinancialCalculator(BasicCalculator):\n",
    "  def calculate_monthly_interest_rate(self, annual_interest_rate):\n",
    "    return self.divide(annual_interest_rate, 12) \n",
    "\n",
    "# Create a financial calculator\n",
    "financial_calculator = FinancialCalculator()\n",
    "\n",
    "# Print the monthly interest rate for a yearly rate of 6 percent\n",
    "print(financial_calculator.calculate_monthly_interest_rate(0.06))"
   ]
  },
  {
   "cell_type": "code",
   "execution_count": null,
   "id": "aab5913b-de5d-4543-831a-fe5023a55b75",
   "metadata": {},
   "outputs": [],
   "source": []
  }
 ],
 "metadata": {
  "kernelspec": {
   "display_name": "Python 3 (ipykernel)",
   "language": "python",
   "name": "python3"
  },
  "language_info": {
   "codemirror_mode": {
    "name": "ipython",
    "version": 3
   },
   "file_extension": ".py",
   "mimetype": "text/x-python",
   "name": "python",
   "nbconvert_exporter": "python",
   "pygments_lexer": "ipython3",
   "version": "3.9.20"
  }
 },
 "nbformat": 4,
 "nbformat_minor": 5
}
