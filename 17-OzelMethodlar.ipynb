{
 "cells": [
  {
   "cell_type": "code",
   "execution_count": 1,
   "id": "5e76d69a-d9dd-42bc-9cff-bdbba8bef3cb",
   "metadata": {},
   "outputs": [],
   "source": [
    "class Meyve():\n",
    "\n",
    "    def __init__(self, isim, kalori):\n",
    "        self.isim = isim\n",
    "        self.kalori = kalori"
   ]
  },
  {
   "cell_type": "code",
   "execution_count": 2,
   "id": "b187a7d3-5a98-4df9-bdb6-2cafe941ee09",
   "metadata": {},
   "outputs": [],
   "source": [
    "muz = Meyve(\"Muz\", 150)"
   ]
  },
  {
   "cell_type": "code",
   "execution_count": 3,
   "id": "446eef79-fea7-439c-ab1d-1b6b03dc1e55",
   "metadata": {},
   "outputs": [
    {
     "data": {
      "text/plain": [
       "150"
      ]
     },
     "execution_count": 3,
     "metadata": {},
     "output_type": "execute_result"
    }
   ],
   "source": [
    "muz.kalori"
   ]
  },
  {
   "cell_type": "code",
   "execution_count": 4,
   "id": "34b852f5-1fe9-4146-8e80-07b7ee4bec30",
   "metadata": {},
   "outputs": [
    {
     "name": "stdout",
     "output_type": "stream",
     "text": [
      "<__main__.Meyve object at 0x000002DC3567ED80>\n"
     ]
    }
   ],
   "source": [
    "print(muz)"
   ]
  },
  {
   "cell_type": "code",
   "execution_count": 5,
   "id": "aa168249-b68b-409f-badd-694a32ba6620",
   "metadata": {},
   "outputs": [],
   "source": [
    "benim_listem = [1,2,3,\"a\", 4.5]"
   ]
  },
  {
   "cell_type": "code",
   "execution_count": 6,
   "id": "506e523a-f61f-4526-b6fc-0e57a8ece7ec",
   "metadata": {},
   "outputs": [
    {
     "data": {
      "text/plain": [
       "5"
      ]
     },
     "execution_count": 6,
     "metadata": {},
     "output_type": "execute_result"
    }
   ],
   "source": [
    " len(benim_listem)"
   ]
  },
  {
   "cell_type": "code",
   "execution_count": 7,
   "id": "ea79eb1e-f7e6-4594-9b3c-1123eea53708",
   "metadata": {},
   "outputs": [
    {
     "ename": "TypeError",
     "evalue": "object of type 'Meyve' has no len()",
     "output_type": "error",
     "traceback": [
      "\u001b[1;31m---------------------------------------------------------------------------\u001b[0m",
      "\u001b[1;31mTypeError\u001b[0m                                 Traceback (most recent call last)",
      "Cell \u001b[1;32mIn[7], line 1\u001b[0m\n\u001b[1;32m----> 1\u001b[0m \u001b[38;5;28mlen\u001b[39m(muz)\n",
      "\u001b[1;31mTypeError\u001b[0m: object of type 'Meyve' has no len()"
     ]
    }
   ],
   "source": [
    "len(muz)"
   ]
  },
  {
   "cell_type": "code",
   "execution_count": 9,
   "id": "559b0017-5705-4769-b576-a469c4c9f103",
   "metadata": {},
   "outputs": [],
   "source": [
    "## bir object/nesne de len fonksiyonu kullanamayacağını dile getiriyor.\n",
    "## Burada Özel fonksiyonlar devreye giriyor.\n",
    "## Nedir Özel Fonksiyonlar?\n",
    "\n",
    "#### Python'daki özel fonksiyonlar (special functions), genellikle iki alt çizgi (__) ile başlayıp biten, sınıflara belirli davranışlar kazandırmak için kullanılan fonksiyonlardır.\n",
    "#### Bu fonksiyonlar, Python dilinde bazı standart işlemleri özelleştirmenize olanak tanır.\n",
    "# Örnek __init__ fonksiyonu bu, class çağırıdığında otamatik olarak çakıştırılan bir fonksiyondur"
   ]
  },
  {
   "cell_type": "code",
   "execution_count": 12,
   "id": "29e04e0a-5185-4b2c-88b3-cddd23eca495",
   "metadata": {},
   "outputs": [],
   "source": [
    "class Meyve2():\n",
    "\n",
    "    def __init__(self, isim, kalori):\n",
    "        self.isim = isim\n",
    "        self.kalori = kalori\n",
    "    def __str__(self):\n",
    "        return f\"{self.isim} şu kadar kaloriye sahiptir: {self.kalori}\"\n",
    "    def __len__(self):\n",
    "        return self.kalori"
   ]
  },
  {
   "cell_type": "code",
   "execution_count": 13,
   "id": "2e7e134e-6a5c-4411-a94c-39c4c26a325c",
   "metadata": {},
   "outputs": [],
   "source": [
    "muz2 = Meyve2(\"muz\", 100)"
   ]
  },
  {
   "cell_type": "code",
   "execution_count": 14,
   "id": "f8914ddd-cc14-41cf-ba9f-95e2a25309ad",
   "metadata": {},
   "outputs": [
    {
     "data": {
      "text/plain": [
       "100"
      ]
     },
     "execution_count": 14,
     "metadata": {},
     "output_type": "execute_result"
    }
   ],
   "source": [
    "muz2.kalori"
   ]
  },
  {
   "cell_type": "code",
   "execution_count": 16,
   "id": "a2cc181f-f422-4916-b714-cb296edd6dc1",
   "metadata": {},
   "outputs": [
    {
     "name": "stdout",
     "output_type": "stream",
     "text": [
      "muz şu kadar kaloriye sahiptir: 100\n"
     ]
    }
   ],
   "source": [
    "print(muz2)"
   ]
  },
  {
   "cell_type": "code",
   "execution_count": 17,
   "id": "b2e58f15-4977-4242-a3dd-fca52ebe1947",
   "metadata": {},
   "outputs": [],
   "source": [
    "#### __str__ özel fonsiyonu sayesinde bu çıktıyı aldık normalde konum bilgisine erişim sağlıyorduk"
   ]
  },
  {
   "cell_type": "code",
   "execution_count": 18,
   "id": "0766454e-3c18-47fa-a253-d76295dff2aa",
   "metadata": {},
   "outputs": [
    {
     "data": {
      "text/plain": [
       "100"
      ]
     },
     "execution_count": 18,
     "metadata": {},
     "output_type": "execute_result"
    }
   ],
   "source": [
    "len(muz2)"
   ]
  },
  {
   "cell_type": "code",
   "execution_count": null,
   "id": "06a41bce-8a64-44d1-81e7-ebfeb815bd7a",
   "metadata": {},
   "outputs": [],
   "source": [
    "### __len__ özel fonksiyon sayesinde hata almak yerine "
   ]
  },
  {
   "cell_type": "code",
   "execution_count": 19,
   "id": "59ae3ea9-9bc6-46f6-9c07-f6174e6cd223",
   "metadata": {},
   "outputs": [],
   "source": [
    "elma = Meyve(\"elma\", 150)"
   ]
  },
  {
   "cell_type": "code",
   "execution_count": 20,
   "id": "78d5a139-8627-41e3-b12d-431551ecb0eb",
   "metadata": {},
   "outputs": [
    {
     "name": "stdout",
     "output_type": "stream",
     "text": [
      "elma şu kadar kaloriye sahiptir: 150\n"
     ]
    }
   ],
   "source": [
    "print(elma)"
   ]
  },
  {
   "cell_type": "code",
   "execution_count": 21,
   "id": "ac68b6f8-9a3c-424f-84f0-ed0395caac62",
   "metadata": {},
   "outputs": [
    {
     "data": {
      "text/plain": [
       "150"
      ]
     },
     "execution_count": 21,
     "metadata": {},
     "output_type": "execute_result"
    }
   ],
   "source": [
    "len(elma)"
   ]
  },
  {
   "cell_type": "code",
   "execution_count": 22,
   "id": "1c028b67-9a0b-4bc4-b73c-478032e4cb22",
   "metadata": {},
   "outputs": [],
   "source": [
    "## __len__ len fonsiyonun içine nesne yazıldığında hata veriyordu fakat bu özel fonsiyon sayesinde kalori bilgisini verir "
   ]
  },
  {
   "cell_type": "code",
   "execution_count": 24,
   "id": "773db15a-3fb7-400d-8533-f9516db64169",
   "metadata": {},
   "outputs": [],
   "source": [
    "# https://www.tutorialsteacher.com/python/magic-methods-in-python \n",
    "## Tabi bu özel fonsiyonları tek tek incelemene gerk yok buradan tek tek bakabilirsin"
   ]
  }
 ],
 "metadata": {
  "kernelspec": {
   "display_name": "Python 3 (ipykernel)",
   "language": "python",
   "name": "python3"
  },
  "language_info": {
   "codemirror_mode": {
    "name": "ipython",
    "version": 3
   },
   "file_extension": ".py",
   "mimetype": "text/x-python",
   "name": "python",
   "nbconvert_exporter": "python",
   "pygments_lexer": "ipython3",
   "version": "3.9.20"
  }
 },
 "nbformat": 4,
 "nbformat_minor": 5
}
