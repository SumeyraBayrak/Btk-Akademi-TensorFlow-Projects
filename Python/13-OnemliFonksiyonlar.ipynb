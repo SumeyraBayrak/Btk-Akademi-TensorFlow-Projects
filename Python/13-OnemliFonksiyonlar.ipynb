{
 "cells": [
  {
   "cell_type": "code",
   "execution_count": 2,
   "id": "e181fd4a-7495-4b21-a1aa-3cfb75cdd7f5",
   "metadata": {},
   "outputs": [],
   "source": [
    "def bolme_islemi(numara):\n",
    "    return numara / 2"
   ]
  },
  {
   "cell_type": "code",
   "execution_count": 4,
   "id": "2b7938a5-071e-4119-b9a1-00ed5a00bbe9",
   "metadata": {},
   "outputs": [
    {
     "data": {
      "text/plain": [
       "10.0"
      ]
     },
     "execution_count": 4,
     "metadata": {},
     "output_type": "execute_result"
    }
   ],
   "source": [
    "bolme_islemi(20)"
   ]
  },
  {
   "cell_type": "code",
   "execution_count": 6,
   "id": "fe509f05-99ad-404a-aa59-e5241b07dcb9",
   "metadata": {},
   "outputs": [],
   "source": [
    "benim_liste = [1,2,3,4,5,6,7,8,9,10]"
   ]
  },
  {
   "cell_type": "code",
   "execution_count": 7,
   "id": "d54ebe73-0664-413d-a5d8-74567eda2642",
   "metadata": {},
   "outputs": [],
   "source": [
    "yeni_liste = []\n",
    "for eleman in benim_liste:\n",
    "    yeni_liste.append(bolme_islemi(eleman))"
   ]
  },
  {
   "cell_type": "code",
   "execution_count": 8,
   "id": "6c140be9-7493-48dd-997d-d1cc6879b2df",
   "metadata": {},
   "outputs": [
    {
     "data": {
      "text/plain": [
       "[0.5, 1.0, 1.5, 2.0, 2.5, 3.0, 3.5, 4.0, 4.5, 5.0]"
      ]
     },
     "execution_count": 8,
     "metadata": {},
     "output_type": "execute_result"
    }
   ],
   "source": [
    "yeni_liste"
   ]
  },
  {
   "cell_type": "code",
   "execution_count": 10,
   "id": "97dc4324-fac3-49b8-8fa4-651ced3abbf1",
   "metadata": {},
   "outputs": [],
   "source": [
    "# bolme_islemi adında bir fonksiyon yazdık elemanları 2 'ye böler\n",
    "# Bu fonsiyon'u ihtiyacımız olduğunda çağırabilirz"
   ]
  },
  {
   "cell_type": "markdown",
   "id": "5d9d070b-11f0-4603-b40c-4f847b362bb1",
   "metadata": {},
   "source": [
    "# Map"
   ]
  },
  {
   "cell_type": "code",
   "execution_count": 12,
   "id": "222d2396-78d9-47bd-9c66-5ac4bdd50d77",
   "metadata": {},
   "outputs": [
    {
     "data": {
      "text/plain": [
       "<map at 0x18f0f000970>"
      ]
     },
     "execution_count": 12,
     "metadata": {},
     "output_type": "execute_result"
    }
   ],
   "source": [
    "map(bolme_islemi, benim_liste)"
   ]
  },
  {
   "cell_type": "code",
   "execution_count": null,
   "id": "9bb4780c-0a38-4e45-a392-d2a21e43684d",
   "metadata": {},
   "outputs": [],
   "source": [
    "# burada map'i nereye kayıt ettiğini söyler 0x18f0f000970 bu konum kayıt yeri"
   ]
  },
  {
   "cell_type": "code",
   "execution_count": 13,
   "id": "91527d5c-5d43-47b3-bfac-78500420d850",
   "metadata": {},
   "outputs": [
    {
     "data": {
      "text/plain": [
       "[0.5, 1.0, 1.5, 2.0, 2.5, 3.0, 3.5, 4.0, 4.5, 5.0]"
      ]
     },
     "execution_count": 13,
     "metadata": {},
     "output_type": "execute_result"
    }
   ],
   "source": [
    "list(map(bolme_islemi, benim_liste))"
   ]
  },
  {
   "cell_type": "code",
   "execution_count": 14,
   "id": "72207080-096a-423b-b3f5-8dcda3bf4f29",
   "metadata": {},
   "outputs": [],
   "source": [
    "# map(foksiyon , args) şeklinde yazdık\n",
    "# list ile de liste dönüştürdük"
   ]
  },
  {
   "cell_type": "code",
   "execution_count": 15,
   "id": "feb5edd3-b541-45b8-9d0f-dd36cb7e447c",
   "metadata": {},
   "outputs": [],
   "source": [
    "def kontrolFonksiyonu(string):\n",
    "    return \"a\" in string"
   ]
  },
  {
   "cell_type": "code",
   "execution_count": 16,
   "id": "f5d062b5-f998-42e7-91dc-c09a1093c09f",
   "metadata": {},
   "outputs": [
    {
     "data": {
      "text/plain": [
       "True"
      ]
     },
     "execution_count": 16,
     "metadata": {},
     "output_type": "execute_result"
    }
   ],
   "source": [
    "kontrolFonksiyonu(\"atıl\")"
   ]
  },
  {
   "cell_type": "code",
   "execution_count": 17,
   "id": "ae825e08-abab-47d1-b596-ffaaf36bfbc3",
   "metadata": {},
   "outputs": [
    {
     "data": {
      "text/plain": [
       "False"
      ]
     },
     "execution_count": 17,
     "metadata": {},
     "output_type": "execute_result"
    }
   ],
   "source": [
    "kontrolFonksiyonu(\"zeynep\")"
   ]
  },
  {
   "cell_type": "code",
   "execution_count": 18,
   "id": "0c4bb663-7b95-4b14-bb2b-ab0fb9984e8d",
   "metadata": {},
   "outputs": [],
   "source": [
    "# kontrolFonksiyonu, bir string'in içinde \"a\" nın olup olmadığını kontrol ediyor."
   ]
  },
  {
   "cell_type": "code",
   "execution_count": 19,
   "id": "c78b9ad5-348a-47cb-be97-cd034a15484c",
   "metadata": {},
   "outputs": [],
   "source": [
    "string_listesi = [\"atıl\", \"samancıoglu\", \"atlas\", \"zeynep\", \"mehmet\", \"ahmet\", \"levent\"]"
   ]
  },
  {
   "cell_type": "code",
   "execution_count": 24,
   "id": "86d6cf91-549e-4026-9a9c-59f118483be4",
   "metadata": {},
   "outputs": [
    {
     "data": {
      "text/plain": [
       "[True, True, True, False, False, True, False]"
      ]
     },
     "execution_count": 24,
     "metadata": {},
     "output_type": "execute_result"
    }
   ],
   "source": [
    "list(map(kontrolFonksiyonu, string_listesi))"
   ]
  },
  {
   "cell_type": "code",
   "execution_count": 22,
   "id": "987a9408-4a78-4858-94b2-78c6ce573a2a",
   "metadata": {},
   "outputs": [],
   "source": [
    "# Yukarıda yaptığımız işlemi burada string üzerinde yaptık"
   ]
  },
  {
   "cell_type": "code",
   "execution_count": 25,
   "id": "7c859d0a-0875-40f6-afa5-6e51b07e3db3",
   "metadata": {},
   "outputs": [],
   "source": [
    "sonuc_listesi = list(map(kontrolFonksiyonu, string_listesi))"
   ]
  },
  {
   "cell_type": "code",
   "execution_count": 26,
   "id": "27568e6d-2b93-4526-97da-8f56af7113bf",
   "metadata": {},
   "outputs": [
    {
     "data": {
      "text/plain": [
       "4"
      ]
     },
     "execution_count": 26,
     "metadata": {},
     "output_type": "execute_result"
    }
   ],
   "source": [
    "sonuc_listesi.count(True)"
   ]
  },
  {
   "cell_type": "code",
   "execution_count": 28,
   "id": "690d6685-3ad8-454f-806d-d59de8ab40f9",
   "metadata": {},
   "outputs": [],
   "source": [
    "# Çıktıyı sonuc_listesi adındaki değişkene verdik \n",
    "# count ile fitreleme yaptık ve kaç tane tru olduğu bilgisine ulaştık"
   ]
  },
  {
   "cell_type": "markdown",
   "id": "6cfcae29-b25d-4936-8e9c-3f3c3f82fba5",
   "metadata": {},
   "source": [
    "# filter"
   ]
  },
  {
   "cell_type": "code",
   "execution_count": 30,
   "id": "5d177e7e-c138-42c7-8a44-cf88a3b3312d",
   "metadata": {},
   "outputs": [
    {
     "data": {
      "text/plain": [
       "['atıl', 'samancıoglu', 'atlas', 'ahmet']"
      ]
     },
     "execution_count": 30,
     "metadata": {},
     "output_type": "execute_result"
    }
   ],
   "source": [
    "list(filter(kontrolFonksiyonu, string_listesi))"
   ]
  },
  {
   "cell_type": "code",
   "execution_count": 31,
   "id": "542cef16-26f3-4b52-b82b-ed49cd402c24",
   "metadata": {},
   "outputs": [],
   "source": [
    "# filter fonsiyonu içerinde \"a\" değeri olan stringleri döndürür"
   ]
  },
  {
   "cell_type": "markdown",
   "id": "bfd3d8ba-7269-4588-bcb1-f6615e22c475",
   "metadata": {},
   "source": [
    "# lambda"
   ]
  },
  {
   "cell_type": "code",
   "execution_count": 34,
   "id": "e2f01ef5-69f5-434c-97c5-b13f7131c68a",
   "metadata": {},
   "outputs": [],
   "source": [
    "carpma = lambda numara : numara * 3"
   ]
  },
  {
   "cell_type": "code",
   "execution_count": 35,
   "id": "8e982f15-eaf6-4db9-9df4-f1f79aea6feb",
   "metadata": {},
   "outputs": [
    {
     "data": {
      "text/plain": [
       "30"
      ]
     },
     "execution_count": 35,
     "metadata": {},
     "output_type": "execute_result"
    }
   ],
   "source": [
    "carpma(10)"
   ]
  },
  {
   "cell_type": "code",
   "execution_count": 36,
   "id": "021d3c52-ab87-4f17-8c0b-b0be166c161a",
   "metadata": {},
   "outputs": [],
   "source": [
    "#lambda, Fonsiyonları tek satırda yazmak yada değişken gibi yazmak"
   ]
  },
  {
   "cell_type": "code",
   "execution_count": 37,
   "id": "620eace5-9b81-4dd4-a76d-37a6cf8c8325",
   "metadata": {},
   "outputs": [],
   "source": [
    "ornek_liste = [10, 20, 30]"
   ]
  },
  {
   "cell_type": "code",
   "execution_count": 39,
   "id": "fc20d154-d8a4-4ccd-9147-6590013ee2e4",
   "metadata": {},
   "outputs": [
    {
     "data": {
      "text/plain": [
       "[40, 80, 120]"
      ]
     },
     "execution_count": 39,
     "metadata": {},
     "output_type": "execute_result"
    }
   ],
   "source": [
    "list (map(lambda numara : numara * 4, ornek_liste))"
   ]
  },
  {
   "cell_type": "code",
   "execution_count": 40,
   "id": "3c24d1b3-9ebd-44a5-b3ca-4bf064a676d7",
   "metadata": {},
   "outputs": [],
   "source": [
    "# gördüğün gibi tek satırda fonsiyon yazdık ve map ile de bunu tek satırda yazdırdık"
   ]
  },
  {
   "cell_type": "code",
   "execution_count": null,
   "id": "c9b6863e-72f3-4c6c-acc8-f9d1a3993ebc",
   "metadata": {},
   "outputs": [],
   "source": []
  }
 ],
 "metadata": {
  "kernelspec": {
   "display_name": "Python 3 (ipykernel)",
   "language": "python",
   "name": "python3"
  },
  "language_info": {
   "codemirror_mode": {
    "name": "ipython",
    "version": 3
   },
   "file_extension": ".py",
   "mimetype": "text/x-python",
   "name": "python",
   "nbconvert_exporter": "python",
   "pygments_lexer": "ipython3",
   "version": "3.9.20"
  }
 },
 "nbformat": 4,
 "nbformat_minor": 5
}
