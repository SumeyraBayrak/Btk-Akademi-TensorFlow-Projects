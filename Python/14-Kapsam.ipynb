{
 "cells": [
  {
   "cell_type": "markdown",
   "id": "a8f8dbb8-184b-43fe-aaab-695348376037",
   "metadata": {},
   "source": [
    "# Scope"
   ]
  },
  {
   "cell_type": "code",
   "execution_count": 3,
   "id": "0a9135f6-2e81-4ade-b870-de0ed088854e",
   "metadata": {},
   "outputs": [],
   "source": [
    "numara = 20 \n",
    "\n",
    "def carpma(rakam):\n",
    "    numara = 10\n",
    "    return numara * rakam"
   ]
  },
  {
   "cell_type": "code",
   "execution_count": 4,
   "id": "b03cf99f-0d87-4e3e-bf6e-34d39d32f77a",
   "metadata": {},
   "outputs": [
    {
     "data": {
      "text/plain": [
       "50"
      ]
     },
     "execution_count": 4,
     "metadata": {},
     "output_type": "execute_result"
    }
   ],
   "source": [
    "carpma(5)"
   ]
  },
  {
   "cell_type": "code",
   "execution_count": 5,
   "id": "837fda78-5acb-4856-bde4-e172850df0fe",
   "metadata": {},
   "outputs": [
    {
     "name": "stdout",
     "output_type": "stream",
     "text": [
      "20\n"
     ]
    }
   ],
   "source": [
    "print(numara)"
   ]
  },
  {
   "cell_type": "code",
   "execution_count": 6,
   "id": "da8eebc3-9ca7-4204-af29-d2e01c3d7f93",
   "metadata": {},
   "outputs": [],
   "source": [
    "#biz iki tane numara değişkeni oluşturduk fakat\n",
    "# Biri, Fonsiyonun içinde \n",
    "# Digeri, global \n",
    "### Bunların bulundukları yer bizim erişimizi engelliyor birine istediğimizde ulaşırken diğerine ulaşamayız"
   ]
  },
  {
   "cell_type": "code",
   "execution_count": 7,
   "id": "456c7839-b243-40f7-a8b2-2e4ef89750b2",
   "metadata": {},
   "outputs": [],
   "source": [
    "x = 20 \n",
    "x = 10"
   ]
  },
  {
   "cell_type": "code",
   "execution_count": 8,
   "id": "a9ab3ffb-ebdb-44e1-b48b-cbbaf310e5bd",
   "metadata": {},
   "outputs": [
    {
     "data": {
      "text/plain": [
       "10"
      ]
     },
     "execution_count": 8,
     "metadata": {},
     "output_type": "execute_result"
    }
   ],
   "source": [
    "x"
   ]
  },
  {
   "cell_type": "code",
   "execution_count": 9,
   "id": "7bf8085e-7793-467d-9417-f4afca44b331",
   "metadata": {},
   "outputs": [],
   "source": [
    "# Stringler imutable o yüzden değiştirile bilir ve en son girilen değeri alırlar\n",
    "# kapsamları aynı iseler"
   ]
  },
  {
   "cell_type": "markdown",
   "id": "cf6fbb62-3ebf-4e7a-bb75-9751acb81074",
   "metadata": {},
   "source": [
    "# Lokal, Enclaosing, Global, Built-in Kapsamları"
   ]
  },
  {
   "cell_type": "code",
   "execution_count": 10,
   "id": "f968b52d-c827-402f-97f2-606aa37a21a2",
   "metadata": {},
   "outputs": [],
   "source": [
    "benim_adim = \"Sumeyra\""
   ]
  },
  {
   "cell_type": "code",
   "execution_count": 11,
   "id": "ebb30fd0-9797-4776-aac2-09fd106f6673",
   "metadata": {},
   "outputs": [],
   "source": [
    "# Global"
   ]
  },
  {
   "cell_type": "code",
   "execution_count": 12,
   "id": "31dfcd7b-65d2-43e7-883e-2a0346aaa524",
   "metadata": {},
   "outputs": [],
   "source": [
    "def benimFonsiyonum():\n",
    "    benim_adim = \"Leyla\"\n",
    "    # Enclosing\n",
    "    def icFonksiyonum():\n",
    "        benim_adim = \"Ayse\"\n",
    "        # Local\n",
    "        print(benim_adim)\n",
    "    icFonksiyonum()"
   ]
  },
  {
   "cell_type": "code",
   "execution_count": 13,
   "id": "05d6dcbf-59a9-41ad-b4a1-1141f7063587",
   "metadata": {},
   "outputs": [
    {
     "name": "stdout",
     "output_type": "stream",
     "text": [
      "Ayse\n"
     ]
    }
   ],
   "source": [
    "benimFonsiyonum()"
   ]
  },
  {
   "cell_type": "code",
   "execution_count": 14,
   "id": "10cdeb21-43d1-4a7b-8d7a-5d170389a7de",
   "metadata": {},
   "outputs": [],
   "source": [
    "### Eğer benim_adim = \"Ayse\" olamasaydı"
   ]
  },
  {
   "cell_type": "code",
   "execution_count": 15,
   "id": "f10fde32-8b90-4914-be03-16c4f2beaa3c",
   "metadata": {},
   "outputs": [],
   "source": [
    "def benimFonsiyonum():\n",
    "    benim_adim = \"Leyla\"\n",
    "    # Enclosing\n",
    "    def icFonksiyonum():\n",
    "        #benim_adim = \"Ayse\"\n",
    "        # Local\n",
    "        print(benim_adim)\n",
    "    icFonksiyonum()"
   ]
  },
  {
   "cell_type": "code",
   "execution_count": 16,
   "id": "a4d9cbd7-780b-4ddd-b812-b6087e5f09fa",
   "metadata": {},
   "outputs": [
    {
     "name": "stdout",
     "output_type": "stream",
     "text": [
      "Leyla\n"
     ]
    }
   ],
   "source": [
    "benimFonsiyonum()"
   ]
  },
  {
   "cell_type": "code",
   "execution_count": 17,
   "id": "76f1785f-8074-4692-a6be-2ccbab8eb358",
   "metadata": {},
   "outputs": [],
   "source": [
    "# Gördüğün gibi Enclosing olan benim_adim = \"Leyla\" değeri çalıştırılacaktı"
   ]
  },
  {
   "cell_type": "code",
   "execution_count": 18,
   "id": "9c9ef035-fbfd-42d3-b334-b04005bced89",
   "metadata": {},
   "outputs": [],
   "source": [
    "### Eger benim_adim = \"Leyla\" değişkeni olmasaydı"
   ]
  },
  {
   "cell_type": "code",
   "execution_count": 19,
   "id": "46fc04d2-22d2-497a-8d59-f2b6500658cf",
   "metadata": {},
   "outputs": [],
   "source": [
    "def benimFonsiyonum():\n",
    "    #benim_adim = \"Leyla\"\n",
    "    # Enclosing\n",
    "    def icFonksiyonum():\n",
    "        #benim_adim = \"Ayse\"\n",
    "        # Local\n",
    "        print(benim_adim)\n",
    "    icFonksiyonum()"
   ]
  },
  {
   "cell_type": "code",
   "execution_count": 20,
   "id": "83e79aaf-cbe2-4076-a686-fe08cb953b9f",
   "metadata": {},
   "outputs": [
    {
     "name": "stdout",
     "output_type": "stream",
     "text": [
      "Sumeyra\n"
     ]
    }
   ],
   "source": [
    "benimFonsiyonum()"
   ]
  },
  {
   "cell_type": "code",
   "execution_count": 21,
   "id": "5261e7e1-d726-4e37-9034-5437609bc2ff",
   "metadata": {},
   "outputs": [],
   "source": [
    "# Global olan benim_adim = \"Sumeyra\" değişkeni çalıştırılır"
   ]
  },
  {
   "cell_type": "code",
   "execution_count": 22,
   "id": "e649dc1a-6136-4345-95d2-595c5733d349",
   "metadata": {},
   "outputs": [],
   "source": [
    "#### Not: Eğer Globalde de böyle bir değişken yoksa Python'ın Built-in 'a bakar orada da yoksa hata verecektir"
   ]
  },
  {
   "cell_type": "code",
   "execution_count": 23,
   "id": "3545cbed-d344-43c6-9364-8288599f03c7",
   "metadata": {},
   "outputs": [],
   "source": [
    "y = 10 \n",
    "def yeni_fonksiyon(y):\n",
    "    print(y)\n",
    "    y = 5\n",
    "    print(y)\n",
    "    return y"
   ]
  },
  {
   "cell_type": "code",
   "execution_count": 24,
   "id": "b1716a36-d748-4777-b7f7-f02aa4b05c13",
   "metadata": {},
   "outputs": [
    {
     "name": "stdout",
     "output_type": "stream",
     "text": [
      "8\n",
      "5\n"
     ]
    },
    {
     "data": {
      "text/plain": [
       "5"
      ]
     },
     "execution_count": 24,
     "metadata": {},
     "output_type": "execute_result"
    }
   ],
   "source": [
    "yeni_fonksiyon(8)"
   ]
  },
  {
   "cell_type": "code",
   "execution_count": 25,
   "id": "e4389fbf-7c95-4698-9182-5302f06b3e26",
   "metadata": {},
   "outputs": [
    {
     "data": {
      "text/plain": [
       "10"
      ]
     },
     "execution_count": 25,
     "metadata": {},
     "output_type": "execute_result"
    }
   ],
   "source": [
    "y"
   ]
  },
  {
   "cell_type": "code",
   "execution_count": 26,
   "id": "9a97fee0-f517-41f8-b314-2ca5e01f7977",
   "metadata": {},
   "outputs": [],
   "source": [
    "# ilk önce LEGB kapsamlarına bakar\n",
    "# Kapsamları aynı ise hiearşik sıraya göre değerleri çalıştırır"
   ]
  },
  {
   "cell_type": "code",
   "execution_count": 27,
   "id": "8e48d1aa-6c95-4afb-8041-ee09ae4a16e4",
   "metadata": {},
   "outputs": [],
   "source": [
    "s = 10 \n",
    "\n",
    "def ornekFonksiyon():\n",
    "    global s\n",
    "    s = 5\n",
    "    print(s)"
   ]
  },
  {
   "cell_type": "code",
   "execution_count": 28,
   "id": "9221c4d7-0b64-4e23-85f7-84764d2ade57",
   "metadata": {},
   "outputs": [
    {
     "name": "stdout",
     "output_type": "stream",
     "text": [
      "5\n"
     ]
    }
   ],
   "source": [
    "ornekFonksiyon()"
   ]
  },
  {
   "cell_type": "code",
   "execution_count": 29,
   "id": "13eb45ae-5cef-47f6-aead-4e61f796c726",
   "metadata": {},
   "outputs": [
    {
     "data": {
      "text/plain": [
       "5"
      ]
     },
     "execution_count": 29,
     "metadata": {},
     "output_type": "execute_result"
    }
   ],
   "source": [
    "s"
   ]
  },
  {
   "cell_type": "code",
   "execution_count": 30,
   "id": "e432e788-6450-43fb-8733-0f8add545d1e",
   "metadata": {},
   "outputs": [],
   "source": [
    "# s global scobe\n",
    "# s = 5 Enclocing Scope ile biz değiştirtik fakat değişiklik s = 10 'da etkilesin istersek\n",
    "# global s bu ifadeyi kullanarak Global'da etkilenir"
   ]
  },
  {
   "cell_type": "code",
   "execution_count": null,
   "id": "a6342fa2-baed-4c4d-873f-7cb5f59e6a28",
   "metadata": {},
   "outputs": [],
   "source": []
  }
 ],
 "metadata": {
  "kernelspec": {
   "display_name": "Python 3 (ipykernel)",
   "language": "python",
   "name": "python3"
  },
  "language_info": {
   "codemirror_mode": {
    "name": "ipython",
    "version": 3
   },
   "file_extension": ".py",
   "mimetype": "text/x-python",
   "name": "python",
   "nbconvert_exporter": "python",
   "pygments_lexer": "ipython3",
   "version": "3.9.20"
  }
 },
 "nbformat": 4,
 "nbformat_minor": 5
}
