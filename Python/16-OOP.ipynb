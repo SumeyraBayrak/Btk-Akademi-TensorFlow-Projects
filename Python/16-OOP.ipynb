{
 "cells": [
  {
   "cell_type": "code",
   "execution_count": 1,
   "id": "1827fbf3-9ab4-4460-8980-0455359cffa7",
   "metadata": {},
   "outputs": [],
   "source": [
    "benim_listem = list()"
   ]
  },
  {
   "cell_type": "code",
   "execution_count": 2,
   "id": "cc0e5ad9-d915-45c8-8a22-d121ab3aeddd",
   "metadata": {},
   "outputs": [
    {
     "data": {
      "text/plain": [
       "list"
      ]
     },
     "execution_count": 2,
     "metadata": {},
     "output_type": "execute_result"
    }
   ],
   "source": [
    "type(benim_listem)"
   ]
  },
  {
   "cell_type": "markdown",
   "id": "239f43fe-5ce2-4416-9c23-195f071c86c8",
   "metadata": {},
   "source": [
    "# instance & attribute"
   ]
  },
  {
   "cell_type": "code",
   "execution_count": 1,
   "id": "a0535468-a6c7-4a6d-ad1e-df7116ae8799",
   "metadata": {},
   "outputs": [],
   "source": [
    "superKahramanAdi = \"Superman\"\n",
    "superKahramanYasi = 30\n",
    "superKahramanMeslegi = \"Gazzateci\""
   ]
  },
  {
   "cell_type": "code",
   "execution_count": 2,
   "id": "b0b42d1f-8b71-4516-9d6e-795c4a0e9718",
   "metadata": {},
   "outputs": [],
   "source": [
    "ikinciSuperKahramanAdi = \"Batman\"\n",
    "ikinciSuperKahramanYasi = 50\n",
    "ikinciSuperKahramanMesleği = \"Yazılımcı\""
   ]
  },
  {
   "cell_type": "code",
   "execution_count": 3,
   "id": "0eae9187-2ca7-4d12-8073-eacea8b97bb7",
   "metadata": {},
   "outputs": [],
   "source": [
    "## 2 super kahramanımız olduğunda bu işlem sorun oluşturmacacaktır fakat\n",
    "## binlerce super kahraman oluşturmak istediğimizde bellekte aşırı yer ve karmaşa üretir o yüzden class ları kullanıyoruz"
   ]
  },
  {
   "cell_type": "code",
   "execution_count": 5,
   "id": "97f8b336-ce5a-49f7-a49e-3f150a823853",
   "metadata": {},
   "outputs": [],
   "source": [
    "class SuperKahraman():\n",
    "    def __init__(self):\n",
    "        print(\"Init Çağırıldı\")"
   ]
  },
  {
   "cell_type": "code",
   "execution_count": 6,
   "id": "51137863-4ef6-4dc0-8922-88e5bbdfa85e",
   "metadata": {},
   "outputs": [
    {
     "name": "stdout",
     "output_type": "stream",
     "text": [
      "Init Çağırıldı\n"
     ]
    }
   ],
   "source": [
    "superman = SuperKahraman()"
   ]
  },
  {
   "cell_type": "code",
   "execution_count": 7,
   "id": "a1d4dff4-77c3-4777-94cd-8be21f6f6d9f",
   "metadata": {},
   "outputs": [
    {
     "name": "stdout",
     "output_type": "stream",
     "text": [
      "Init Çağırıldı\n"
     ]
    }
   ],
   "source": [
    "batman = SuperKahraman()"
   ]
  },
  {
   "cell_type": "code",
   "execution_count": 8,
   "id": "22f9cc29-6fcd-4a15-bc82-d1a02e6872ca",
   "metadata": {},
   "outputs": [],
   "source": [
    "## def __init__(self): Bu, Python'da yapıcı (constructor) metot olarak adlandırılır. Bir sınıftan yeni bir nesne oluşturulduğunda, bu metod otomatik olarak çalıştırılır.\n",
    "## Gördüğün gibi SuperKahraman() yatığızda her defasında method çalıştırıldı."
   ]
  },
  {
   "cell_type": "code",
   "execution_count": 9,
   "id": "1a480a6b-1c20-45e5-be10-92e61928effa",
   "metadata": {},
   "outputs": [],
   "source": [
    "class SuperKahraman2():\n",
    "    def __init__(self, isimInput, yasInput, meslekInput):\n",
    "        print(\"Init Çağırıldı\")\n",
    "        self.isim = isimInput\n",
    "        self.yas = yasInput\n",
    "        self.meslek = meslekInput"
   ]
  },
  {
   "cell_type": "code",
   "execution_count": 10,
   "id": "9db9e259-7c96-4354-8d0d-2ef01afe2d1c",
   "metadata": {},
   "outputs": [
    {
     "name": "stdout",
     "output_type": "stream",
     "text": [
      "Init Çağırıldı\n"
     ]
    }
   ],
   "source": [
    "superman2 = SuperKahraman2(\"Superman\", 30, \"Gazateci\")"
   ]
  },
  {
   "cell_type": "code",
   "execution_count": 11,
   "id": "46138fd7-bd9a-4661-abaa-ea8f8d9dad64",
   "metadata": {},
   "outputs": [
    {
     "data": {
      "text/plain": [
       "'Superman'"
      ]
     },
     "execution_count": 11,
     "metadata": {},
     "output_type": "execute_result"
    }
   ],
   "source": [
    "superman2.isim"
   ]
  },
  {
   "cell_type": "code",
   "execution_count": 12,
   "id": "c18be7b0-62b8-455f-b785-b6f08b18a88b",
   "metadata": {},
   "outputs": [
    {
     "data": {
      "text/plain": [
       "30"
      ]
     },
     "execution_count": 12,
     "metadata": {},
     "output_type": "execute_result"
    }
   ],
   "source": [
    "superman2.yas"
   ]
  },
  {
   "cell_type": "code",
   "execution_count": 13,
   "id": "c50e1a7d-9891-476e-bf35-98ad6ae67763",
   "metadata": {},
   "outputs": [],
   "source": [
    "## Burada gördüğün gibi 3 farklı attirubute var:\n",
    "## isim, yas, meslek bunlar instance ve biz bunları değişkenşmiz üzerinden çağırabiliyoruz."
   ]
  },
  {
   "cell_type": "code",
   "execution_count": 14,
   "id": "39c3eee7-7395-43d8-9fc8-4c98983d0e8f",
   "metadata": {},
   "outputs": [],
   "source": [
    "superman2.meslek = \"Yazılımcı\""
   ]
  },
  {
   "cell_type": "code",
   "execution_count": 19,
   "id": "88683584-ef41-47d3-8dbd-89a4346a8e2a",
   "metadata": {},
   "outputs": [
    {
     "data": {
      "text/plain": [
       "'Yazılımcı'"
      ]
     },
     "execution_count": 19,
     "metadata": {},
     "output_type": "execute_result"
    }
   ],
   "source": [
    "superman2.meslek"
   ]
  },
  {
   "cell_type": "code",
   "execution_count": 20,
   "id": "eb7522f6-5437-482c-b4af-a4cab952cad5",
   "metadata": {},
   "outputs": [],
   "source": [
    "# Gördüğün gibi daha sonradan bunlar üzeriden değişiklikte yapabiliyoruz."
   ]
  },
  {
   "cell_type": "code",
   "execution_count": 21,
   "id": "f6140ad6-7d65-43ed-97b1-bf4d904ed5fe",
   "metadata": {},
   "outputs": [],
   "source": [
    "## Burada gördüğün gibibi isim, yas, meslek adında 3 tane arguman verdik.\n",
    "## Peki biz class'ımız için hiç bir arguman yazmadan attribute  belirleyebiliyormuyuz\n",
    "### Ne demek istiyorum;"
   ]
  },
  {
   "cell_type": "code",
   "execution_count": 22,
   "id": "b0d3bf09-81d7-4ef3-8aad-f2b8d9e5f959",
   "metadata": {},
   "outputs": [],
   "source": [
    "class SuperKahraman3():\n",
    "\n",
    "    ozelGuc = \"Görünmezlik\"\n",
    "    \n",
    "    def __init__(self, isimInput, yasInput, meslekInput):\n",
    "        print(\"Init Çağırıldı\")\n",
    "        self.isim = isimInput\n",
    "        self.yas = yasInput\n",
    "        self.meslek = meslekInput"
   ]
  },
  {
   "cell_type": "code",
   "execution_count": 24,
   "id": "144557fb-3f3c-49be-925d-2e3a28bf54ae",
   "metadata": {},
   "outputs": [
    {
     "name": "stdout",
     "output_type": "stream",
     "text": [
      "Init Çağırıldı\n"
     ]
    }
   ],
   "source": [
    "superman3 = SuperKahraman3(\"Superman\", 50, \"Psikolog\")"
   ]
  },
  {
   "cell_type": "code",
   "execution_count": 25,
   "id": "d266b2a5-d67f-4c1b-8a1e-c776696a096d",
   "metadata": {},
   "outputs": [
    {
     "data": {
      "text/plain": [
       "'Görünmezlik'"
      ]
     },
     "execution_count": 25,
     "metadata": {},
     "output_type": "execute_result"
    }
   ],
   "source": [
    "superman3.ozelGuc"
   ]
  },
  {
   "cell_type": "code",
   "execution_count": 26,
   "id": "49e57bc3-fa33-4b65-b63e-996f668e18b2",
   "metadata": {},
   "outputs": [],
   "source": [
    "## Gördüğün gibi paremetre olarak girmedin fakat bu da class'ımızın attribute ' u olarak kabul edilir."
   ]
  },
  {
   "cell_type": "code",
   "execution_count": 27,
   "id": "eaa96ec7-9b58-4ae9-a8e7-12fc0eb5076a",
   "metadata": {},
   "outputs": [],
   "source": [
    "superman3.ozelGuc = \"Işın Saçmak\""
   ]
  },
  {
   "cell_type": "code",
   "execution_count": 28,
   "id": "aca33608-6e6d-43b2-8491-0eb088d7c405",
   "metadata": {},
   "outputs": [
    {
     "data": {
      "text/plain": [
       "'Işın Saçmak'"
      ]
     },
     "execution_count": 28,
     "metadata": {},
     "output_type": "execute_result"
    }
   ],
   "source": [
    "superman3.ozelGuc"
   ]
  },
  {
   "cell_type": "code",
   "execution_count": 29,
   "id": "6e7c3682-b400-4575-a926-38698c16c6dd",
   "metadata": {},
   "outputs": [],
   "source": [
    "# Gördüğün gibi bunuda diğerleri gibi değiştiribilirsin"
   ]
  },
  {
   "cell_type": "code",
   "execution_count": 33,
   "id": "e4ebf52d-8728-4a01-9814-2f5ea43e6802",
   "metadata": {},
   "outputs": [],
   "source": [
    "class SuperKahraman4():\n",
    "\n",
    "    ozelGuc = \"Görünmezlik\"\n",
    "    \n",
    "    def __init__(self, isim, yas, meslek):\n",
    "        print(\"Init Çağırıldı\")\n",
    "        self.isim = isim\n",
    "        self.yas = yas\n",
    "        self.meslek = meslek\n",
    "\n",
    "    def ornekMethod(self):\n",
    "        print(f\"ben SuperKahraman ve meslegim: {self.meslek}\")"
   ]
  },
  {
   "cell_type": "code",
   "execution_count": 35,
   "id": "55cf5522-bf00-4549-b225-19aafc2c4a88",
   "metadata": {},
   "outputs": [
    {
     "name": "stdout",
     "output_type": "stream",
     "text": [
      "Init Çağırıldı\n"
     ]
    }
   ],
   "source": [
    "superman4 = SuperKahraman4(\"Batman\", 20, \"Doctor\")"
   ]
  },
  {
   "cell_type": "code",
   "execution_count": 36,
   "id": "ccbad40a-7c82-4e0e-a143-709b1ff258a0",
   "metadata": {},
   "outputs": [
    {
     "name": "stdout",
     "output_type": "stream",
     "text": [
      "ben SuperKahraman ve meslegim: Doctor\n"
     ]
    }
   ],
   "source": [
    "superman4.ornekMethod()"
   ]
  },
  {
   "cell_type": "code",
   "execution_count": 37,
   "id": "6e900804-9f5b-4024-9bf7-abf1301c5f5c",
   "metadata": {},
   "outputs": [],
   "source": [
    "# Gördüğün gibi __init__ ile method'u oluşturmadığında otomatik olarak çalıştırılmaz\n",
    "# ornekMethod() adını yazarak çalıştırman gerekir \n",
    "# self.meslek self onemli çünkü atıfta bulunmanı sağlıyor bu sayede de bir önceki __init__ fonksiyonuunun attribuute'unu kullanabiliyorsun"
   ]
  },
  {
   "cell_type": "code",
   "execution_count": 38,
   "id": "919eb2f4-1e4b-4a38-b748-f0f9fc32e219",
   "metadata": {},
   "outputs": [],
   "source": [
    "## Not : self ile kumazsanız hata alırız aynı zamanda kullanımını öğrenmekte oldukça önemlidir."
   ]
  },
  {
   "cell_type": "code",
   "execution_count": 39,
   "id": "72825641-ec69-4f16-ad2c-5c660ec13cb9",
   "metadata": {},
   "outputs": [],
   "source": [
    "class Kopek():\n",
    "    def __init__(self, yas =5):\n",
    "        self.yas = yas"
   ]
  },
  {
   "cell_type": "code",
   "execution_count": 40,
   "id": "855935de-145b-44d3-a4ff-cae29038c3b5",
   "metadata": {},
   "outputs": [],
   "source": [
    "benimKopek = Kopek()"
   ]
  },
  {
   "cell_type": "code",
   "execution_count": 41,
   "id": "630a27ed-e7f4-4444-86a5-e00ec7a7987c",
   "metadata": {},
   "outputs": [],
   "source": [
    "## Bu şekilde bir class çağırdığımızda hata alırdık Neden?\n",
    "## Paremetre yok!! fakat\n",
    "## yas = 5 bu şekilde yazdığın için hata vermiyor çünkü yaş attribute'ünü 5 olarak kabul ediyor."
   ]
  },
  {
   "cell_type": "code",
   "execution_count": 42,
   "id": "59d31cf6-5da2-4444-a87a-99d6cf0d3ad6",
   "metadata": {},
   "outputs": [
    {
     "data": {
      "text/plain": [
       "5"
      ]
     },
     "execution_count": 42,
     "metadata": {},
     "output_type": "execute_result"
    }
   ],
   "source": [
    "benimKopek.yas"
   ]
  },
  {
   "cell_type": "code",
   "execution_count": 43,
   "id": "6c22159f-0541-4987-b127-ddf1f49e98b3",
   "metadata": {},
   "outputs": [],
   "source": [
    "# Gördüğün gibi 5 değerini verdi."
   ]
  },
  {
   "cell_type": "code",
   "execution_count": 44,
   "id": "354190d1-a5c7-4b48-a49c-40942e21bd69",
   "metadata": {},
   "outputs": [],
   "source": [
    "##### ÖÖÖÖÖrrrnneeekk:"
   ]
  },
  {
   "cell_type": "code",
   "execution_count": 54,
   "id": "d84c0d54-004b-41aa-82a3-bfb4cd4c02fd",
   "metadata": {},
   "outputs": [],
   "source": [
    " # Bir köpeğin insan yaşını hesapla (7 ile çarpımıdır)"
   ]
  },
  {
   "cell_type": "code",
   "execution_count": 63,
   "id": "9d604fbd-0829-49a9-b087-ff5fac0e4703",
   "metadata": {},
   "outputs": [],
   "source": [
    "class Kopek2():\n",
    "\n",
    "    yıl_carpanı = 7\n",
    "    \n",
    "    def __init__(self, yas =5):\n",
    "        self.yas = yas\n",
    "    def insan_yası_hesaplama(self):\n",
    "        return self.yas * self.yıl_carpanı"
   ]
  },
  {
   "cell_type": "code",
   "execution_count": 64,
   "id": "371ba282-98cb-4a96-a99b-456bd5fc2dbc",
   "metadata": {},
   "outputs": [],
   "source": [
    "benim_kopek2 = Kopek2(2)"
   ]
  },
  {
   "cell_type": "code",
   "execution_count": 65,
   "id": "970bc9fe-4389-45bc-b77b-3ccfd3c94225",
   "metadata": {},
   "outputs": [
    {
     "data": {
      "text/plain": [
       "14"
      ]
     },
     "execution_count": 65,
     "metadata": {},
     "output_type": "execute_result"
    }
   ],
   "source": [
    "benim_kopek2.insan_yası_hesaplama()"
   ]
  },
  {
   "cell_type": "markdown",
   "id": "186693bd-d0ac-4825-9b70-e01825948be4",
   "metadata": {},
   "source": [
    "# Inheritance (Kalıtım-Miras Alma)"
   ]
  },
  {
   "cell_type": "markdown",
   "id": "555a39af-062b-461c-b043-b7a464161df0",
   "metadata": {},
   "source": [
    "Kalıtım, nesne yönelimli programlamada bir sınıfın başka bir sınıfın özelliklerini ve metotlarını devralmasıdır. Bu, bir sınıfın başka bir sınıfın yeteneklerini kullanarak yeni bir sınıf oluşturmasına olanak tanır. Böylece aynı kodu tekrar yazmak zorunda kalmazsın."
   ]
  },
  {
   "cell_type": "code",
   "execution_count": 5,
   "id": "542543ab-d7ae-49d2-8132-782040a5b22d",
   "metadata": {},
   "outputs": [],
   "source": [
    "class Hayvan():\n",
    "    def __init__(self):\n",
    "        print(\"Hayvan sınıfı çağırıldı\")\n",
    "    def methot1(self):\n",
    "        print(\"Hayvan sınıfı method1 çağırıldı\")\n",
    "    def methot2(self):\n",
    "        print(\"Hayvan sınıfı method2 çağırıldı\")"
   ]
  },
  {
   "cell_type": "code",
   "execution_count": 6,
   "id": "efc14163-8518-493d-ad15-164a0ba5d02d",
   "metadata": {},
   "outputs": [
    {
     "name": "stdout",
     "output_type": "stream",
     "text": [
      "Hayvan sınıfı çağırıldı\n"
     ]
    }
   ],
   "source": [
    "benim_hayvan = Hayvan()"
   ]
  },
  {
   "cell_type": "code",
   "execution_count": 7,
   "id": "0891851f-d9f6-4f36-a09e-384d63481733",
   "metadata": {},
   "outputs": [
    {
     "name": "stdout",
     "output_type": "stream",
     "text": [
      "Hayvan sınıfı method1 çağırıldı\n"
     ]
    }
   ],
   "source": [
    "benim_hayvan.methot1()"
   ]
  },
  {
   "cell_type": "code",
   "execution_count": 9,
   "id": "e57beaa6-438a-4ee4-9be5-50c9e04b87d9",
   "metadata": {},
   "outputs": [
    {
     "name": "stdout",
     "output_type": "stream",
     "text": [
      "Hayvan sınıfı method2 çağırıldı\n"
     ]
    }
   ],
   "source": [
    "benim_hayvan.methot2()"
   ]
  },
  {
   "cell_type": "code",
   "execution_count": 10,
   "id": "2c227e7c-1f30-4e46-ac14-9504cd768593",
   "metadata": {},
   "outputs": [],
   "source": [
    "class Kedi(Hayvan):\n",
    "    def __init__(self):\n",
    "        Hayvan.__init__(self)\n",
    "        print(\"Kedi Sınıfı Çağırıldı\")"
   ]
  },
  {
   "cell_type": "markdown",
   "id": "b634e0cf-a270-4eb7-b222-34e08ff2b045",
   "metadata": {},
   "source": [
    "Hayvan Sınıfı: Bu, temel bir sınıftır. __init__ metodu, Hayvan sınıfından bir nesne oluşturulduğunda \"Hayvan Sınıfı Çağırıldı\" mesajını ekrana yazdırır.\n",
    "\n",
    "Kedi Sınıfı: Kedi sınıfı, Hayvan sınıfından kalıtım alır. Yani, Kedi sınıfı Hayvan sınıfının özelliklerini ve metotlarını kullanabilir. Kedi sınıfının __init__ metodunda önce Hayvan sınıfının __init__ metodu çağrılır, sonra \"Kedi Sınıfı Çağırıldı\" mesajı ekrana yazdırılır."
   ]
  },
  {
   "cell_type": "code",
   "execution_count": 12,
   "id": "93e3e098-d374-4f1c-95c7-e3eec7d1f29d",
   "metadata": {},
   "outputs": [
    {
     "name": "stdout",
     "output_type": "stream",
     "text": [
      "Hayvan sınıfı çağırıldı\n",
      "Kedi Sınıfı Çağırıldı\n"
     ]
    }
   ],
   "source": [
    "benim_kedim = Kedi()"
   ]
  },
  {
   "cell_type": "markdown",
   "id": "cda4abca-42ec-4a6d-b9e5-eac7a56b8614",
   "metadata": {},
   "source": [
    "Bu kodu çalıştırdığında, Kedi sınıfından bir nesne oluşturulduğunda, önce Hayvan sınıfı başlatılır ve ardından Kedi sınıfı başlatılır."
   ]
  },
  {
   "cell_type": "code",
   "execution_count": 15,
   "id": "15a7cfa4-e501-49de-a39a-7e4a588f38a3",
   "metadata": {},
   "outputs": [
    {
     "name": "stdout",
     "output_type": "stream",
     "text": [
      "Hayvan sınıfı method1 çağırıldı\n"
     ]
    }
   ],
   "source": [
    "benim_kedim.methot1()"
   ]
  },
  {
   "cell_type": "code",
   "execution_count": 16,
   "id": "5fa8035e-c9bc-4d47-82d6-b439f7635ac7",
   "metadata": {},
   "outputs": [
    {
     "name": "stdout",
     "output_type": "stream",
     "text": [
      "Hayvan sınıfı method2 çağırıldı\n"
     ]
    }
   ],
   "source": [
    "benim_kedim.methot2()"
   ]
  },
  {
   "cell_type": "markdown",
   "id": "af5510ac-bd56-445d-b40b-7d0a9b1b9c30",
   "metadata": {},
   "source": [
    "methot1 ve method2 kedi class'ının içinde olmamasına rağmen Hayvan class'ından inherit ettiğimiz için bu method'larıda kullanabiliyoruz"
   ]
  },
  {
   "cell_type": "code",
   "execution_count": 20,
   "id": "02124075-96ff-4e27-957c-51aac5c8c66f",
   "metadata": {},
   "outputs": [],
   "source": [
    "class Kedi2(Hayvan):\n",
    "    def __init__(self):\n",
    "        Hayvan.__init__(self)\n",
    "        print(\"Kedi Sınıfı Çağırıldı\")\n",
    "    def miyavla(self):\n",
    "        print(\"Miav\")"
   ]
  },
  {
   "cell_type": "code",
   "execution_count": 21,
   "id": "9883cb88-02ed-49e6-9d4d-c80f3a684081",
   "metadata": {},
   "outputs": [
    {
     "name": "stdout",
     "output_type": "stream",
     "text": [
      "Hayvan sınıfı çağırıldı\n",
      "Kedi Sınıfı Çağırıldı\n"
     ]
    }
   ],
   "source": [
    "benim_kedim2 = Kedi2()"
   ]
  },
  {
   "cell_type": "code",
   "execution_count": 22,
   "id": "2519d671-143a-4568-81ff-9d676276748d",
   "metadata": {},
   "outputs": [
    {
     "name": "stdout",
     "output_type": "stream",
     "text": [
      "Miav\n"
     ]
    }
   ],
   "source": [
    "benim_kedim2.miyavla()"
   ]
  },
  {
   "cell_type": "code",
   "execution_count": 23,
   "id": "cfdf1c74-189d-425b-94a2-8a15a6803459",
   "metadata": {},
   "outputs": [],
   "source": [
    "# Burada gördüğün gibi Hayvan class'ını inherit ettiğimiz için hem hayvan-class-method hemde kedi-class-method'ları kullanabiliyoruz."
   ]
  },
  {
   "cell_type": "code",
   "execution_count": 24,
   "id": "3613ab4d-8009-4898-858f-e7034793f016",
   "metadata": {},
   "outputs": [],
   "source": [
    "### Bilğin gibi ben Class Hayvan'dan method1'i ve method2'yi aldım \n",
    "### Peki ben Class Kedi method1 metho'u farklı çalışsın yada değiştirmek istersem:"
   ]
  },
  {
   "cell_type": "code",
   "execution_count": 35,
   "id": "dc0b6ea9-d2d7-4ea3-924b-8fbaeab09164",
   "metadata": {},
   "outputs": [],
   "source": [
    "class Kedi3(Hayvan):\n",
    "    def __init__(self):\n",
    "        Hayvan.__init__(self)\n",
    "        print(\"Kedi Sınıfı Çağırıldı\")\n",
    "    def miyavla(self):\n",
    "        print(\"Miav\")\n",
    "    ## overrite\n",
    "    def methot1(self):\n",
    "        print(\"Kedi sınıfındaki method1 çağırıldı\")"
   ]
  },
  {
   "cell_type": "code",
   "execution_count": 36,
   "id": "adda9bf7-6dcc-4aa8-99d6-bcd932ff4971",
   "metadata": {},
   "outputs": [
    {
     "name": "stdout",
     "output_type": "stream",
     "text": [
      "Hayvan sınıfı çağırıldı\n",
      "Kedi Sınıfı Çağırıldı\n"
     ]
    }
   ],
   "source": [
    "benim_kedim3 = Kedi3()"
   ]
  },
  {
   "cell_type": "code",
   "execution_count": 38,
   "id": "90173840-4ddb-4797-9075-e3a4886644ef",
   "metadata": {},
   "outputs": [
    {
     "name": "stdout",
     "output_type": "stream",
     "text": [
      "Kedi sınıfındaki method1 çağırıldı\n"
     ]
    }
   ],
   "source": [
    "benim_kedim3.methot1()"
   ]
  },
  {
   "cell_type": "code",
   "execution_count": 39,
   "id": "60acaa91-1e9b-42a3-bb59-babcefb3a17d",
   "metadata": {},
   "outputs": [],
   "source": [
    "## Gördüğün Gibi Class Hayvan'daki methot1 method'unu class Kedi değiştirebiliyorum ve artık o direktör çalışır"
   ]
  },
  {
   "cell_type": "markdown",
   "id": "a113a6cf-5537-4e4b-8235-50bd660f06d5",
   "metadata": {},
   "source": [
    "# Polymorphism"
   ]
  },
  {
   "cell_type": "code",
   "execution_count": 42,
   "id": "a5921626-2164-4c9d-9dc9-ac063a48f2de",
   "metadata": {},
   "outputs": [],
   "source": [
    "class Elma():\n",
    "    def __init__(self, isim):\n",
    "        self.isim = isim\n",
    "\n",
    "    def bilgi_ver(self):\n",
    "        return self.isim + \"150 kaloridir.\""
   ]
  },
  {
   "cell_type": "code",
   "execution_count": 59,
   "id": "e79d8aa0-c122-42f0-8f96-afd756ee85de",
   "metadata": {},
   "outputs": [],
   "source": [
    "class Muz():\n",
    "    def __init__(self, isim):\n",
    "        self.isim = isim\n",
    "    def bilgi_ver(self):\n",
    "        return self.isim + \"100 laloridir\""
   ]
  },
  {
   "cell_type": "code",
   "execution_count": 60,
   "id": "e31bb0bb-13d3-4608-9159-59da825ec422",
   "metadata": {},
   "outputs": [],
   "source": [
    "elma = Elma(\"elma\")"
   ]
  },
  {
   "cell_type": "code",
   "execution_count": 61,
   "id": "6d3f6e82-49e7-41c9-9d3a-fe3f7210cdf3",
   "metadata": {},
   "outputs": [],
   "source": [
    "muz = Muz(\"muz\")"
   ]
  },
  {
   "cell_type": "code",
   "execution_count": 62,
   "id": "67cbcc93-c502-4a93-80f4-fac28fd4ea1e",
   "metadata": {},
   "outputs": [],
   "source": [
    "## muz ve elma bir nesne/object dir"
   ]
  },
  {
   "cell_type": "code",
   "execution_count": 63,
   "id": "e26fb1a1-c588-4fcb-8a80-91168d6df9ac",
   "metadata": {},
   "outputs": [],
   "source": [
    "meyve_listesi = [elma, muz]"
   ]
  },
  {
   "cell_type": "code",
   "execution_count": 64,
   "id": "0c9a52b3-3365-4863-9f3d-51078e1480f8",
   "metadata": {},
   "outputs": [],
   "source": [
    "## Bunlar string ifadaler değildir! Biz elemanları Object/nesne olan 2 elemanlı list oluşturduk"
   ]
  },
  {
   "cell_type": "code",
   "execution_count": 65,
   "id": "637c2e8c-a8af-46bc-997c-ed9a767c692e",
   "metadata": {},
   "outputs": [
    {
     "name": "stdout",
     "output_type": "stream",
     "text": [
      "elma150 kaloridir.\n",
      "muz100 laloridir\n"
     ]
    }
   ],
   "source": [
    "for meyve in meyve_listesi:\n",
    "    print(meyve.bilgi_ver())"
   ]
  },
  {
   "cell_type": "code",
   "execution_count": 68,
   "id": "ff85919c-6d1f-4bbe-afde-8dc842feb967",
   "metadata": {},
   "outputs": [
    {
     "data": {
      "text/plain": [
       "'muz100 laloridir'"
      ]
     },
     "execution_count": 68,
     "metadata": {},
     "output_type": "execute_result"
    }
   ],
   "source": [
    "Elma(\"elma\").bilgi_ver()"
   ]
  },
  {
   "cell_type": "code",
   "execution_count": 70,
   "id": "a85a71ad-4a3f-4add-93ef-85a40d72b430",
   "metadata": {},
   "outputs": [
    {
     "data": {
      "text/plain": [
       "'muz100 laloridir'"
      ]
     },
     "execution_count": 70,
     "metadata": {},
     "output_type": "execute_result"
    }
   ],
   "source": [
    "Muz(\"muz\").bilgi_ver()"
   ]
  },
  {
   "cell_type": "markdown",
   "id": "fbb2f7d1-268f-4e00-8c19-42983a3a1a83",
   "metadata": {},
   "source": [
    "# Bu Normal Peki Polymorphism 'in özelliği nedir?"
   ]
  },
  {
   "cell_type": "markdown",
   "id": "7c0ced69-52da-4221-8c97-06195de6943e",
   "metadata": {},
   "source": [
    "Polymorphism, nesne yönelimli programlamada aynı isimdeki metotların farklı sınıflarda farklı şekilde çalışabilmesi anlamına gelir. Bu, aynı adı taşıyan bir metodun farklı nesnelerde farklı işler yapabilmesini sağlar."
   ]
  },
  {
   "cell_type": "code",
   "execution_count": 72,
   "id": "545a8446-729c-40d4-aa0e-1766c33aaa2d",
   "metadata": {},
   "outputs": [],
   "source": [
    "def bilgi_al(meyve):\n",
    "    print(meyve.bilgi_ver())"
   ]
  },
  {
   "cell_type": "code",
   "execution_count": 73,
   "id": "7a33053a-5c47-42db-ada1-cee32b0f3ff1",
   "metadata": {},
   "outputs": [
    {
     "name": "stdout",
     "output_type": "stream",
     "text": [
      "elma150 kaloridir.\n"
     ]
    }
   ],
   "source": [
    "bilgi_al(elma)"
   ]
  },
  {
   "cell_type": "code",
   "execution_count": 74,
   "id": "d499550f-7878-4dbd-9314-671034d55fc7",
   "metadata": {},
   "outputs": [
    {
     "name": "stdout",
     "output_type": "stream",
     "text": [
      "muz100 laloridir\n"
     ]
    }
   ],
   "source": [
    "bilgi_al(muz)"
   ]
  },
  {
   "cell_type": "code",
   "execution_count": 75,
   "id": "f5171d0a-5352-4b13-ad72-037597b5245d",
   "metadata": {},
   "outputs": [],
   "source": [
    "# Elma ve muz Class'ların icinde aynı isimde method olduğu için biz farklı nesneler girerek farklı çıktılar alabiiliyoruz"
   ]
  },
  {
   "cell_type": "markdown",
   "id": "79121db6-8171-4f5e-aa3c-29cc02e2476d",
   "metadata": {},
   "source": [
    "## Daha Fazla Örnek: "
   ]
  },
  {
   "cell_type": "code",
   "execution_count": 76,
   "id": "600c105a-c3ba-4e36-be7e-d6a57d48654f",
   "metadata": {},
   "outputs": [],
   "source": [
    "class Hayvan:\n",
    "    def ses_cikar(self):\n",
    "        print(\"Hayvan bir ses çıkarıyor\")\n",
    "\n",
    "class Kedi(Hayvan):\n",
    "    def ses_cikar(self):\n",
    "        print(\"Miyav!\")\n",
    "\n",
    "class Kopek(Hayvan):\n",
    "    def ses_cikar(self):\n",
    "        print(\"Hav!\")\n"
   ]
  },
  {
   "cell_type": "code",
   "execution_count": 77,
   "id": "d5a0e64f-2f06-489f-855f-aa3abeaf3d77",
   "metadata": {},
   "outputs": [],
   "source": [
    "def hayvan_sesi_cikar(hayvan):\n",
    "    hayvan.ses_cikar()"
   ]
  },
  {
   "cell_type": "code",
   "execution_count": 78,
   "id": "3ba48dce-8558-43a9-8ec8-029a51757f99",
   "metadata": {},
   "outputs": [],
   "source": [
    "kedi = Kedi()\n",
    "kopek = Kopek()"
   ]
  },
  {
   "cell_type": "code",
   "execution_count": 79,
   "id": "2c7cb8da-340d-4800-9c4a-268de92b48ef",
   "metadata": {},
   "outputs": [
    {
     "name": "stdout",
     "output_type": "stream",
     "text": [
      "Miyav!\n",
      "Hav!\n"
     ]
    }
   ],
   "source": [
    "hayvan_sesi_cikar(kedi)  # Çıktı: Miyav!\n",
    "hayvan_sesi_cikar(kopek) # Çıktı: Hav!"
   ]
  }
 ],
 "metadata": {
  "kernelspec": {
   "display_name": "Python 3 (ipykernel)",
   "language": "python",
   "name": "python3"
  },
  "language_info": {
   "codemirror_mode": {
    "name": "ipython",
    "version": 3
   },
   "file_extension": ".py",
   "mimetype": "text/x-python",
   "name": "python",
   "nbconvert_exporter": "python",
   "pygments_lexer": "ipython3",
   "version": "3.9.19"
  }
 },
 "nbformat": 4,
 "nbformat_minor": 5
}
