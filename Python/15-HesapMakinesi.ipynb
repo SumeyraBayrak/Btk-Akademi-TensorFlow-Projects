{
 "cells": [
  {
   "cell_type": "code",
   "execution_count": null,
   "id": "3411bc6c-c651-4ae7-8918-e706a2263167",
   "metadata": {},
   "outputs": [
    {
     "name": "stdin",
     "output_type": "stream",
     "text": [
      "İlk Sayıyı Girirniz:  20\n",
      "ikinci Sayıyı Giriniz:  ll\n"
     ]
    },
    {
     "name": "stdout",
     "output_type": "stream",
     "text": [
      "Lütfen geçerli sayı Girin\n"
     ]
    },
    {
     "name": "stdin",
     "output_type": "stream",
     "text": [
      "İlk Sayıyı Girirniz:  20\n",
      "ikinci Sayıyı Giriniz:  60\n",
      "isleminizi seçiniz +-*/ 6\n"
     ]
    },
    {
     "name": "stdout",
     "output_type": "stream",
     "text": [
      "Lütfen bunlardan birini seçiniz: +-*/\n"
     ]
    },
    {
     "name": "stdin",
     "output_type": "stream",
     "text": [
      "İlk Sayıyı Girirniz:  +\n"
     ]
    },
    {
     "name": "stdout",
     "output_type": "stream",
     "text": [
      "Lütfen geçerli sayı Girin\n"
     ]
    },
    {
     "name": "stdin",
     "output_type": "stream",
     "text": [
      "İlk Sayıyı Girirniz:  20\n",
      "ikinci Sayıyı Giriniz:  60\n",
      "isleminizi seçiniz +-*/ +\n"
     ]
    },
    {
     "name": "stdout",
     "output_type": "stream",
     "text": [
      "20 + 60 = 80\n"
     ]
    }
   ],
   "source": [
    "def hesapla(a, b, islem):\n",
    "    if islem not in \"+-*/\":\n",
    "        return(\"Lütfen bunlardan birini seçiniz: +-*/\")\n",
    "    if islem == \"+\":\n",
    "        return(str(a) + \" + \" +  str(b) + \" = \"  + str(a + b))\n",
    "    if islem == \"-\":\n",
    "        return(str(a) + \" - \" +  str(b) + \" = \" + str(a - b))\n",
    "    if islem == \"*\":\n",
    "        return(str(a) + \" * \" +  str(b) + \" = \" + str(a * b))\n",
    "    if islem == \"/\":\n",
    "        return(str(a) + \" / \" +  str(b) + \" = \" + str(a / b))\n",
    "while True:\n",
    "    try: \n",
    "        a = int(input(\"İlk Sayıyı Girirniz: \"))\n",
    "        b = int(input(\"ikinci Sayıyı Giriniz: \"))\n",
    "        islem = input(\"isleminizi seçiniz +-*/\")\n",
    "        print(hesapla(a,b,islem))\n",
    "    except:\n",
    "        print(\"Lütfen geçerli sayı Girin\")"
   ]
  },
  {
   "cell_type": "code",
   "execution_count": 2,
   "id": "f9dec57b-706f-4fa0-b2b2-8aaed79a3b97",
   "metadata": {},
   "outputs": [],
   "source": [
    "## Bu çalışan bir foksiyon fakat;\n",
    "### Eğer biz fonksiyonumuz her defasında tekrar tekrar çalışmasını istersek:\n",
    "#### while True: Yani : denlemi sonsuza kadar çalıştır demek\n",
    "### Eğer a veya b yerine farklı bir rakam girdiğinde sistem durmasınhata mesajı gödersin\n",
    "#### try: except \n",
    "### Eğer +-*/ işlemi yerine farklı bir ifade girerse\n",
    "#### not in +-*/"
   ]
  },
  {
   "cell_type": "code",
   "execution_count": null,
   "id": "3756b119-f330-44ea-b207-cdfb049002f0",
   "metadata": {},
   "outputs": [],
   "source": [
    "# Şuan'da işlem hata versede sistem çökmez! sadece hata mesajı gönderecektir."
   ]
  }
 ],
 "metadata": {
  "kernelspec": {
   "display_name": "Python 3 (ipykernel)",
   "language": "python",
   "name": "python3"
  },
  "language_info": {
   "codemirror_mode": {
    "name": "ipython",
    "version": 3
   },
   "file_extension": ".py",
   "mimetype": "text/x-python",
   "name": "python",
   "nbconvert_exporter": "python",
   "pygments_lexer": "ipython3",
   "version": "3.9.20"
  }
 },
 "nbformat": 4,
 "nbformat_minor": 5
}
