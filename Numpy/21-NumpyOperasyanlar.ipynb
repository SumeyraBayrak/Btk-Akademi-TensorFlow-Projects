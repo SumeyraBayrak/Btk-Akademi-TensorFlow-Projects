{
 "cells": [
  {
   "cell_type": "code",
   "execution_count": 1,
   "id": "2c2e9aae-0ded-4b57-b687-a2933d217cea",
   "metadata": {},
   "outputs": [],
   "source": [
    "import numpy as np"
   ]
  },
  {
   "cell_type": "code",
   "execution_count": 2,
   "id": "47670b65-356d-4033-89ca-d4bc29166414",
   "metadata": {},
   "outputs": [],
   "source": [
    "benim_dizim = np.arange(0,15)"
   ]
  },
  {
   "cell_type": "code",
   "execution_count": 3,
   "id": "eb2ede8d-504e-43dd-a71e-228a41b3e4b9",
   "metadata": {},
   "outputs": [
    {
     "data": {
      "text/plain": [
       "array([ 0,  1,  2,  3,  4,  5,  6,  7,  8,  9, 10, 11, 12, 13, 14])"
      ]
     },
     "execution_count": 3,
     "metadata": {},
     "output_type": "execute_result"
    }
   ],
   "source": [
    "benim_dizim"
   ]
  },
  {
   "cell_type": "code",
   "execution_count": 4,
   "id": "61c99f12-4bb2-4549-bcab-cab5cd987361",
   "metadata": {},
   "outputs": [
    {
     "data": {
      "text/plain": [
       "5"
      ]
     },
     "execution_count": 4,
     "metadata": {},
     "output_type": "execute_result"
    }
   ],
   "source": [
    "benim_dizim[5]"
   ]
  },
  {
   "cell_type": "code",
   "execution_count": 5,
   "id": "1a09cf68-627c-4e5d-bf6c-fa8c334d6c61",
   "metadata": {},
   "outputs": [],
   "source": [
    "# Gördüğün hibi nupy dizilerinde de aynı şekilde intexdeki elemanı çağırabiliriz"
   ]
  },
  {
   "cell_type": "code",
   "execution_count": 6,
   "id": "90b62f31-96d9-4766-b715-b8bc6db9ee8e",
   "metadata": {},
   "outputs": [
    {
     "data": {
      "text/plain": [
       "array([3, 4, 5, 6, 7])"
      ]
     },
     "execution_count": 6,
     "metadata": {},
     "output_type": "execute_result"
    }
   ],
   "source": [
    "benim_dizim[3:8]"
   ]
  },
  {
   "cell_type": "code",
   "execution_count": 7,
   "id": "b61a12eb-058a-46f2-b5e6-08a63922b21b",
   "metadata": {},
   "outputs": [],
   "source": [
    "## slicing işlemi aynı listteki gi istediğğin aralıktaki elemanları çağırabiliyorrsun"
   ]
  },
  {
   "cell_type": "code",
   "execution_count": 8,
   "id": "4ccaaccb-5077-4c38-84ed-291b0cf2df39",
   "metadata": {},
   "outputs": [],
   "source": [
    "benim_dizim[3:8] = -5 "
   ]
  },
  {
   "cell_type": "code",
   "execution_count": 9,
   "id": "b259ed2a-084b-405d-b923-5f73f2bdc692",
   "metadata": {},
   "outputs": [
    {
     "data": {
      "text/plain": [
       "array([ 0,  1,  2, -5, -5, -5, -5, -5,  8,  9, 10, 11, 12, 13, 14])"
      ]
     },
     "execution_count": 9,
     "metadata": {},
     "output_type": "execute_result"
    }
   ],
   "source": [
    "benim_dizim"
   ]
  },
  {
   "cell_type": "code",
   "execution_count": 10,
   "id": "5f78d608-0ce3-4508-aadf-65d74c9ede85",
   "metadata": {},
   "outputs": [],
   "source": [
    "## 3,4,5,6,7 index'leri -5 değeri ile değiştirdi ve orginal dizim'ede etki etti"
   ]
  },
  {
   "cell_type": "code",
   "execution_count": 11,
   "id": "33791039-0609-48d9-88d5-70db0e27d948",
   "metadata": {},
   "outputs": [],
   "source": [
    "## Let's make example:"
   ]
  },
  {
   "cell_type": "code",
   "execution_count": 12,
   "id": "c00b2f73-25ef-4199-9ae8-b3ee166a5712",
   "metadata": {},
   "outputs": [],
   "source": [
    "baska_dizi = np.arange(0,24)"
   ]
  },
  {
   "cell_type": "code",
   "execution_count": 13,
   "id": "25ef1bb4-f428-432f-b567-36a565fc4b04",
   "metadata": {},
   "outputs": [
    {
     "data": {
      "text/plain": [
       "array([ 0,  1,  2,  3,  4,  5,  6,  7,  8,  9, 10, 11, 12, 13, 14, 15, 16,\n",
       "       17, 18, 19, 20, 21, 22, 23])"
      ]
     },
     "execution_count": 13,
     "metadata": {},
     "output_type": "execute_result"
    }
   ],
   "source": [
    "baska_dizi"
   ]
  },
  {
   "cell_type": "code",
   "execution_count": 14,
   "id": "5f21d90a-5666-47c4-9c5f-34d13a13f6c0",
   "metadata": {},
   "outputs": [],
   "source": [
    "## Gördüğün gibi yeni bir dizi oluşturduk."
   ]
  },
  {
   "cell_type": "code",
   "execution_count": 23,
   "id": "1755d485-c9e2-4895-9646-2c243296d8fe",
   "metadata": {},
   "outputs": [],
   "source": [
    "slicing_dizi = baska_dizi[4:9]"
   ]
  },
  {
   "cell_type": "code",
   "execution_count": 24,
   "id": "12450ba5-462e-4d8b-af1a-a1a9a879eeba",
   "metadata": {},
   "outputs": [
    {
     "data": {
      "text/plain": [
       "array([4, 5, 6, 7, 8])"
      ]
     },
     "execution_count": 24,
     "metadata": {},
     "output_type": "execute_result"
    }
   ],
   "source": [
    "slicing_dizi"
   ]
  },
  {
   "cell_type": "code",
   "execution_count": 25,
   "id": "f03c87c5-2868-44f0-87c4-a6be642ecc84",
   "metadata": {},
   "outputs": [
    {
     "data": {
      "text/plain": [
       "array([ 0,  1,  2,  3,  4,  5,  6,  7,  8,  9, 10, 11, 12, 13, 14, 15, 16,\n",
       "       17, 18, 19, 20, 21, 22, 23])"
      ]
     },
     "execution_count": 25,
     "metadata": {},
     "output_type": "execute_result"
    }
   ],
   "source": [
    "baska_dizi"
   ]
  },
  {
   "cell_type": "code",
   "execution_count": 26,
   "id": "ae09c373-9cfc-4377-9226-c3da7d666bac",
   "metadata": {},
   "outputs": [],
   "source": [
    "## Gördüğün gibi şuan herhangi bir değişiklik yapmadık"
   ]
  },
  {
   "cell_type": "code",
   "execution_count": 27,
   "id": "eaac124f-929a-4118-9d39-da7afb039325",
   "metadata": {},
   "outputs": [],
   "source": [
    "# slicing_dizi = 700\n",
    "# type(slicing_dizi)\n",
    "# int\n",
    "## Bu şekilde Numpy diizisini int'e eşitledik fakat biz elemanları 700'e eşitlemek istersek"
   ]
  },
  {
   "cell_type": "code",
   "execution_count": 28,
   "id": "7ec2e004-5701-4a98-8894-52ef17d2ec51",
   "metadata": {},
   "outputs": [],
   "source": [
    "slicing_dizi[:] = 700"
   ]
  },
  {
   "cell_type": "code",
   "execution_count": 30,
   "id": "76eb1084-ef56-4ff4-a153-b12d6a963382",
   "metadata": {},
   "outputs": [
    {
     "data": {
      "text/plain": [
       "array([700, 700, 700, 700, 700])"
      ]
     },
     "execution_count": 30,
     "metadata": {},
     "output_type": "execute_result"
    }
   ],
   "source": [
    "slicing_dizi"
   ]
  },
  {
   "cell_type": "code",
   "execution_count": 32,
   "id": "f230b4fc-5b89-4b23-a139-91a31eb0446c",
   "metadata": {},
   "outputs": [],
   "source": [
    "# Gördüğün gibi Numpy dizimizdeki tüm elemanları 700 değerine eşitliyor"
   ]
  },
  {
   "cell_type": "code",
   "execution_count": 34,
   "id": "eacd9529-ce47-428b-a213-87c77a717f63",
   "metadata": {},
   "outputs": [
    {
     "data": {
      "text/plain": [
       "array([  0,   1,   2,   3, 700, 700, 700, 700, 700,   9,  10,  11,  12,\n",
       "        13,  14,  15,  16,  17,  18,  19,  20,  21,  22,  23])"
      ]
     },
     "execution_count": 34,
     "metadata": {},
     "output_type": "execute_result"
    }
   ],
   "source": [
    "baska_dizi"
   ]
  },
  {
   "cell_type": "code",
   "execution_count": 35,
   "id": "5cef451c-a2cf-4c4b-8fff-574ae49f9f5d",
   "metadata": {},
   "outputs": [],
   "source": [
    "# Burada gördüğün gibi slicing_dizi'mi baska_dizi den alıp oluşturmuştum ve slicing_dizi'mde\n",
    "# değişiklik yaptığımda otamatik olarak başka_dizi üzerinde değişiiklik yapmış oldum"
   ]
  },
  {
   "cell_type": "code",
   "execution_count": 36,
   "id": "2ab7d094-eee5-43da-bb1d-f21a7c94a167",
   "metadata": {},
   "outputs": [],
   "source": [
    "#### Peki ben orginal dizimde değişiklik olsun istemiyorsamm:::"
   ]
  },
  {
   "cell_type": "code",
   "execution_count": 37,
   "id": "b874cb0e-eae8-470a-98d5-5a7927dc577e",
   "metadata": {},
   "outputs": [],
   "source": [
    "# copy() yani; koyasını oluşturmam gerekiyor."
   ]
  },
  {
   "cell_type": "code",
   "execution_count": 38,
   "id": "78511ab7-2775-4912-b1df-329efa51621a",
   "metadata": {},
   "outputs": [],
   "source": [
    "ornek_dizi = np.arange(24)"
   ]
  },
  {
   "cell_type": "code",
   "execution_count": 39,
   "id": "88092ed4-ae9c-483e-8e89-eeab6210387e",
   "metadata": {},
   "outputs": [
    {
     "data": {
      "text/plain": [
       "array([ 0,  1,  2,  3,  4,  5,  6,  7,  8,  9, 10, 11, 12, 13, 14, 15, 16,\n",
       "       17, 18, 19, 20, 21, 22, 23])"
      ]
     },
     "execution_count": 39,
     "metadata": {},
     "output_type": "execute_result"
    }
   ],
   "source": [
    "ornek_dizi"
   ]
  },
  {
   "cell_type": "code",
   "execution_count": 44,
   "id": "903d23f6-7a69-40d9-8f7f-338bb549439a",
   "metadata": {},
   "outputs": [],
   "source": [
    "ornek_dizi_kopyası = ornek_dizi.copy()"
   ]
  },
  {
   "cell_type": "code",
   "execution_count": 45,
   "id": "57d116fe-8e67-4711-a3b5-93f8a05dd394",
   "metadata": {},
   "outputs": [],
   "source": [
    "ornek_dizi_kopyası_slicing = ornek_dizi_kopyası[3:6]"
   ]
  },
  {
   "cell_type": "code",
   "execution_count": 46,
   "id": "899aef53-c2c4-4db9-bb78-1a7b0d93a034",
   "metadata": {},
   "outputs": [],
   "source": [
    "ornek_dizi_kopyası_slicing[:] = 800"
   ]
  },
  {
   "cell_type": "code",
   "execution_count": 49,
   "id": "5de67329-255f-4a6c-bc11-33314756290f",
   "metadata": {},
   "outputs": [
    {
     "data": {
      "text/plain": [
       "array([800, 800, 800])"
      ]
     },
     "execution_count": 49,
     "metadata": {},
     "output_type": "execute_result"
    }
   ],
   "source": [
    "ornek_dizi_kopyası_slicing"
   ]
  },
  {
   "cell_type": "code",
   "execution_count": 50,
   "id": "5651d4e3-0ae5-4406-9865-68b6c64afa98",
   "metadata": {},
   "outputs": [
    {
     "data": {
      "text/plain": [
       "array([  0,   1,   2, 800, 800, 800,   6,   7,   8,   9,  10,  11,  12,\n",
       "        13,  14,  15,  16,  17,  18,  19,  20,  21,  22,  23])"
      ]
     },
     "execution_count": 50,
     "metadata": {},
     "output_type": "execute_result"
    }
   ],
   "source": [
    "ornek_dizi_kopyası"
   ]
  },
  {
   "cell_type": "code",
   "execution_count": 51,
   "id": "c6f2fbc9-d763-4b9d-a640-0365f5f5bde1",
   "metadata": {},
   "outputs": [
    {
     "data": {
      "text/plain": [
       "array([ 0,  1,  2,  3,  4,  5,  6,  7,  8,  9, 10, 11, 12, 13, 14, 15, 16,\n",
       "       17, 18, 19, 20, 21, 22, 23])"
      ]
     },
     "execution_count": 51,
     "metadata": {},
     "output_type": "execute_result"
    }
   ],
   "source": [
    "ornek_dizi"
   ]
  },
  {
   "cell_type": "code",
   "execution_count": 52,
   "id": "662a9e0f-76d1-4d31-80d0-a97f392dac94",
   "metadata": {},
   "outputs": [],
   "source": [
    "# Burada gördüğün gibi eğer orginal dizide prroblem olsun yada sabit kalsın istiyorsan onun kopyasını oluturuyoruz"
   ]
  },
  {
   "cell_type": "markdown",
   "id": "4ccb5a6f-6e8b-4a10-9647-c9904c2d5161",
   "metadata": {},
   "source": [
    "## Matrix"
   ]
  },
  {
   "cell_type": "code",
   "execution_count": 53,
   "id": "85875432-5ead-4a84-b867-8eece66454f8",
   "metadata": {},
   "outputs": [],
   "source": [
    "benim_listem = [[10,20,30], [20,30,40], [50,60,70]]"
   ]
  },
  {
   "cell_type": "code",
   "execution_count": 56,
   "id": "8cfe74a2-4ab8-420d-9b83-40d803e06f67",
   "metadata": {},
   "outputs": [],
   "source": [
    "benim_matrix_dizisi = np.array(benim_listem)"
   ]
  },
  {
   "cell_type": "code",
   "execution_count": 57,
   "id": "f07a0b37-1ff1-4a19-a2e3-f23e7ab13107",
   "metadata": {},
   "outputs": [
    {
     "data": {
      "text/plain": [
       "array([[10, 20, 30],\n",
       "       [20, 30, 40],\n",
       "       [50, 60, 70]])"
      ]
     },
     "execution_count": 57,
     "metadata": {},
     "output_type": "execute_result"
    }
   ],
   "source": [
    "benim_matrix_dizisi"
   ]
  },
  {
   "cell_type": "code",
   "execution_count": 58,
   "id": "13724861-bc72-456d-9fd8-bceb0ced61a2",
   "metadata": {},
   "outputs": [],
   "source": [
    "## np.array ile bir list'i matrix'e çevirebiliyoruz"
   ]
  },
  {
   "cell_type": "code",
   "execution_count": 59,
   "id": "f64cbc20-fd72-4ba4-a450-63da937bc4bd",
   "metadata": {},
   "outputs": [
    {
     "data": {
      "text/plain": [
       "array([10, 20, 30])"
      ]
     },
     "execution_count": 59,
     "metadata": {},
     "output_type": "execute_result"
    }
   ],
   "source": [
    "benim_matrix_dizisi[0]"
   ]
  },
  {
   "cell_type": "code",
   "execution_count": 60,
   "id": "7974081b-164a-4453-8d99-283345f54b14",
   "metadata": {},
   "outputs": [
    {
     "data": {
      "text/plain": [
       "20"
      ]
     },
     "execution_count": 60,
     "metadata": {},
     "output_type": "execute_result"
    }
   ],
   "source": [
    "benim_matrix_dizisi[0][1]"
   ]
  },
  {
   "cell_type": "code",
   "execution_count": 61,
   "id": "2a3993cd-4a55-4117-be30-10e6acdeac88",
   "metadata": {},
   "outputs": [],
   "source": [
    "# Eleman içindeki ir elemana ulaştık"
   ]
  },
  {
   "cell_type": "code",
   "execution_count": 62,
   "id": "f1a9f066-003a-48b0-820a-7775044d7857",
   "metadata": {},
   "outputs": [],
   "source": [
    "## Numpy Dizi Farkı nedi?"
   ]
  },
  {
   "cell_type": "code",
   "execution_count": 63,
   "id": "c0b7f704-0934-454a-8db3-b0ea4c8d60aa",
   "metadata": {},
   "outputs": [
    {
     "data": {
      "text/plain": [
       "20"
      ]
     },
     "execution_count": 63,
     "metadata": {},
     "output_type": "execute_result"
    }
   ],
   "source": [
    "benim_matrix_dizisi[0,1]"
   ]
  },
  {
   "cell_type": "code",
   "execution_count": 64,
   "id": "c4c1331c-6c56-4880-bc4b-25e2292dbb9a",
   "metadata": {},
   "outputs": [],
   "source": [
    "# Burada gördüğün gibi [1,2] ile dizindeki eleman içindeki elemana uşaşabiliyorsun"
   ]
  },
  {
   "cell_type": "code",
   "execution_count": 65,
   "id": "96a4bd60-111a-475e-bc0a-914b47af159c",
   "metadata": {},
   "outputs": [
    {
     "data": {
      "text/plain": [
       "array([40, 70])"
      ]
     },
     "execution_count": 65,
     "metadata": {},
     "output_type": "execute_result"
    }
   ],
   "source": [
    "benim_matrix_dizisi[1:, 2]"
   ]
  },
  {
   "cell_type": "code",
   "execution_count": 67,
   "id": "f89b661f-47da-4bf3-8c61-b329e16841d2",
   "metadata": {},
   "outputs": [
    {
     "data": {
      "text/plain": [
       "array([20, 30, 60])"
      ]
     },
     "execution_count": 67,
     "metadata": {},
     "output_type": "execute_result"
    }
   ],
   "source": [
    "benim_matrix_dizisi[0:, 1]"
   ]
  },
  {
   "cell_type": "code",
   "execution_count": 69,
   "id": "b6370f08-f37e-4384-85a1-7b75529e7c45",
   "metadata": {},
   "outputs": [
    {
     "data": {
      "text/plain": [
       "array([[50, 60, 70]])"
      ]
     },
     "execution_count": 69,
     "metadata": {},
     "output_type": "execute_result"
    }
   ],
   "source": [
    "benim_matrix_dizisi[2:, 0:]"
   ]
  },
  {
   "cell_type": "code",
   "execution_count": 72,
   "id": "c30b7a15-ab1e-4ebb-90db-bc91f33d51d0",
   "metadata": {},
   "outputs": [
    {
     "data": {
      "text/plain": [
       "array([[30, 40],\n",
       "       [60, 70]])"
      ]
     },
     "execution_count": 72,
     "metadata": {},
     "output_type": "execute_result"
    }
   ],
   "source": [
    "benim_matrix_dizisi[1:, 1:]"
   ]
  },
  {
   "cell_type": "code",
   "execution_count": 73,
   "id": "473ddfad-05c5-4665-a146-33e0523bc450",
   "metadata": {},
   "outputs": [],
   "source": [
    "# 1. satırdan başla 3. satıra kadar(en son satırın) 2. index'ini al diyoruz\n",
    "# [0:, 1] 0'dan son satıra kadar tüm satırların 1.indexdeki elemanları al\n",
    "# [2:, 0:] burda 2. satırın tüm elemanlarına ulaşabilirsiniz\n",
    "# [1:, 1:] buraa 1,2 satırın 1. ve 2. elemanlarını aldırdık"
   ]
  },
  {
   "cell_type": "code",
   "execution_count": 74,
   "id": "b3b8a499-a932-426a-8f56-6b69b9849d50",
   "metadata": {},
   "outputs": [],
   "source": [
    "yeni_liste = [[0,1,2,3,4], [5,6,7,8,9], [10,11,12,13,14], [15,16,17,18,19], [20,21,22,23,24]]"
   ]
  },
  {
   "cell_type": "code",
   "execution_count": 75,
   "id": "a1c4176e-78d0-4258-8b7c-9bbda18669bb",
   "metadata": {},
   "outputs": [],
   "source": [
    "yeni_matrix = np.array(yeni_liste)"
   ]
  },
  {
   "cell_type": "code",
   "execution_count": 76,
   "id": "ed376dca-3363-4bc4-999b-bdda4a95547d",
   "metadata": {},
   "outputs": [
    {
     "data": {
      "text/plain": [
       "array([[ 0,  1,  2,  3,  4],\n",
       "       [ 5,  6,  7,  8,  9],\n",
       "       [10, 11, 12, 13, 14],\n",
       "       [15, 16, 17, 18, 19],\n",
       "       [20, 21, 22, 23, 24]])"
      ]
     },
     "execution_count": 76,
     "metadata": {},
     "output_type": "execute_result"
    }
   ],
   "source": [
    "yeni_matrix"
   ]
  },
  {
   "cell_type": "code",
   "execution_count": 78,
   "id": "a1c2271f-1b3d-48f7-a92f-95c1f70932db",
   "metadata": {},
   "outputs": [
    {
     "data": {
      "text/plain": [
       "array([[20, 21, 22, 23, 24],\n",
       "       [10, 11, 12, 13, 14],\n",
       "       [ 5,  6,  7,  8,  9]])"
      ]
     },
     "execution_count": 78,
     "metadata": {},
     "output_type": "execute_result"
    }
   ],
   "source": [
    "yeni_matrix[[4,2,1]]"
   ]
  },
  {
   "cell_type": "code",
   "execution_count": 79,
   "id": "99818165-8111-45df-a2cb-1b7a2f7475af",
   "metadata": {},
   "outputs": [],
   "source": [
    "### [[liste]] Numpy dizisinin b,r diğer özelliğide köşeli parantezlerin içine bir list yazınca\n",
    "### birden fazla indexdeki elemanları alabiliyoruz"
   ]
  },
  {
   "cell_type": "markdown",
   "id": "3c1b5dd9-9d11-425e-a8d6-ad2d491c27e3",
   "metadata": {},
   "source": [
    "# Operasyonlar"
   ]
  },
  {
   "cell_type": "code",
   "execution_count": 82,
   "id": "76663c88-46c1-4db2-822d-51f5734404fc",
   "metadata": {},
   "outputs": [],
   "source": [
    "yeni_bir_dizi = np.random.randint(1,100,20)"
   ]
  },
  {
   "cell_type": "code",
   "execution_count": 83,
   "id": "20b1f5e7-076d-4b79-a646-73d59c488ff1",
   "metadata": {},
   "outputs": [
    {
     "data": {
      "text/plain": [
       "array([82, 26, 67, 31, 58, 52, 43, 68, 29, 84, 22, 48,  7, 62, 90,  7, 23,\n",
       "       29, 80, 73])"
      ]
     },
     "execution_count": 83,
     "metadata": {},
     "output_type": "execute_result"
    }
   ],
   "source": [
    "yeni_bir_dizi"
   ]
  },
  {
   "cell_type": "code",
   "execution_count": 84,
   "id": "65e84cc0-6a32-4e83-bf3f-10c4706143bd",
   "metadata": {},
   "outputs": [],
   "source": [
    "sonuc_dizisi = yeni_bir_dizi > 24"
   ]
  },
  {
   "cell_type": "code",
   "execution_count": 85,
   "id": "4f35c29d-cea8-425f-a6c6-1b51641bfbca",
   "metadata": {},
   "outputs": [
    {
     "data": {
      "text/plain": [
       "array([ True,  True,  True,  True,  True,  True,  True,  True,  True,\n",
       "        True, False,  True, False,  True,  True, False, False,  True,\n",
       "        True,  True])"
      ]
     },
     "execution_count": 85,
     "metadata": {},
     "output_type": "execute_result"
    }
   ],
   "source": [
    "sonuc_dizisi"
   ]
  },
  {
   "cell_type": "code",
   "execution_count": 87,
   "id": "c897a8d8-2450-4002-8078-4c7aee736fa4",
   "metadata": {},
   "outputs": [],
   "source": [
    "### yeni_bir_dizi > 24 bu işlem sana eğer büyükse True değilse False ifadelerini dönen bir list veriyor"
   ]
  },
  {
   "cell_type": "code",
   "execution_count": 88,
   "id": "39d12a07-b6cd-4ade-b0d5-14665c6af694",
   "metadata": {},
   "outputs": [
    {
     "data": {
      "text/plain": [
       "array([82, 26, 67, 31, 58, 52, 43, 68, 29, 84, 48, 62, 90, 29, 80, 73])"
      ]
     },
     "execution_count": 88,
     "metadata": {},
     "output_type": "execute_result"
    }
   ],
   "source": [
    "yeni_bir_dizi[sonuc_dizisi]"
   ]
  },
  {
   "cell_type": "code",
   "execution_count": 90,
   "id": "219f2dde-50d5-4d0b-9b56-9bff04f7c24d",
   "metadata": {},
   "outputs": [],
   "source": [
    "## yeni_bir_dizi[sonuc_dizisi] bu şekilde de true olan tüm ifadeleri döner "
   ]
  },
  {
   "cell_type": "code",
   "execution_count": 91,
   "id": "aa57b355-05fd-4aed-b999-bb131c9fcf06",
   "metadata": {},
   "outputs": [
    {
     "data": {
      "text/plain": [
       "array([82, 26, 67, 31, 58, 52, 43, 68, 29, 84, 22, 48, 62, 90, 23, 29, 80,\n",
       "       73])"
      ]
     },
     "execution_count": 91,
     "metadata": {},
     "output_type": "execute_result"
    }
   ],
   "source": [
    "yeni_bir_dizi[yeni_bir_dizi>10]"
   ]
  },
  {
   "cell_type": "code",
   "execution_count": 92,
   "id": "6f6af054-ab11-45c7-9b1c-0a1a550f9aad",
   "metadata": {},
   "outputs": [],
   "source": [
    "## İlla bir değişkene atamak zorunda deilsin yeni_bir_dizi>10 'u köşeli paranteizn içine yazarak\n",
    "## kolayca fitreleme işlemi yapabilirsin "
   ]
  },
  {
   "cell_type": "markdown",
   "id": "ab352c95-0f9a-4831-90d9-368157eac7d7",
   "metadata": {},
   "source": [
    "## Dizilerde 4 işlem"
   ]
  },
  {
   "cell_type": "code",
   "execution_count": 93,
   "id": "e749933b-d563-4262-8d6d-e81e587aff76",
   "metadata": {},
   "outputs": [],
   "source": [
    "son_dizi = np.arange(0,24)"
   ]
  },
  {
   "cell_type": "code",
   "execution_count": 94,
   "id": "6a2c1034-b216-4b78-b31f-93eada3e8668",
   "metadata": {},
   "outputs": [
    {
     "data": {
      "text/plain": [
       "array([ 0,  1,  2,  3,  4,  5,  6,  7,  8,  9, 10, 11, 12, 13, 14, 15, 16,\n",
       "       17, 18, 19, 20, 21, 22, 23])"
      ]
     },
     "execution_count": 94,
     "metadata": {},
     "output_type": "execute_result"
    }
   ],
   "source": [
    "son_dizi"
   ]
  },
  {
   "cell_type": "code",
   "execution_count": 96,
   "id": "aa3e69f1-5021-4ae6-a795-00f4801eef5a",
   "metadata": {},
   "outputs": [
    {
     "data": {
      "text/plain": [
       "array([ 0,  2,  4,  6,  8, 10, 12, 14, 16, 18, 20, 22, 24, 26, 28, 30, 32,\n",
       "       34, 36, 38, 40, 42, 44, 46])"
      ]
     },
     "execution_count": 96,
     "metadata": {},
     "output_type": "execute_result"
    }
   ],
   "source": [
    "son_dizi + son_dizi"
   ]
  },
  {
   "cell_type": "code",
   "execution_count": 97,
   "id": "11db8d17-2dcd-4c2a-95a2-b0d874f80483",
   "metadata": {},
   "outputs": [],
   "source": [
    "## Gördüğün dizideki gibi index no larına göre tüm iFAdeleri tek tek toplamam işlemi yapabiliyorlar"
   ]
  },
  {
   "cell_type": "code",
   "execution_count": 98,
   "id": "f398a4f6-f848-4d09-b00b-c2d6230606c0",
   "metadata": {},
   "outputs": [
    {
     "data": {
      "text/plain": [
       "array([  0,   1,   4,   9,  16,  25,  36,  49,  64,  81, 100, 121, 144,\n",
       "       169, 196, 225, 256, 289, 324, 361, 400, 441, 484, 529])"
      ]
     },
     "execution_count": 98,
     "metadata": {},
     "output_type": "execute_result"
    }
   ],
   "source": [
    "son_dizi * son_dizi"
   ]
  },
  {
   "cell_type": "code",
   "execution_count": 99,
   "id": "f98a7ff9-e970-4234-bd1c-9d93c1b6fde1",
   "metadata": {},
   "outputs": [
    {
     "data": {
      "text/plain": [
       "array([0, 0, 0, 0, 0, 0, 0, 0, 0, 0, 0, 0, 0, 0, 0, 0, 0, 0, 0, 0, 0, 0,\n",
       "       0, 0])"
      ]
     },
     "execution_count": 99,
     "metadata": {},
     "output_type": "execute_result"
    }
   ],
   "source": [
    "son_dizi - son_dizi"
   ]
  },
  {
   "cell_type": "code",
   "execution_count": 100,
   "id": "d0201e20-bfcf-4d78-bcfd-ba302e8d1323",
   "metadata": {},
   "outputs": [
    {
     "name": "stderr",
     "output_type": "stream",
     "text": [
      "C:\\Users\\Samira\\Sumeyra\\AppData\\Local\\Temp\\ipykernel_6316\\2415426220.py:1: RuntimeWarning: invalid value encountered in divide\n",
      "  son_dizi / son_dizi\n"
     ]
    },
    {
     "data": {
      "text/plain": [
       "array([nan,  1.,  1.,  1.,  1.,  1.,  1.,  1.,  1.,  1.,  1.,  1.,  1.,\n",
       "        1.,  1.,  1.,  1.,  1.,  1.,  1.,  1.,  1.,  1.,  1.])"
      ]
     },
     "execution_count": 100,
     "metadata": {},
     "output_type": "execute_result"
    }
   ],
   "source": [
    "son_dizi / son_dizi"
   ]
  },
  {
   "cell_type": "code",
   "execution_count": 101,
   "id": "fca2fee9-96dd-411c-a5dd-9c23cec22f09",
   "metadata": {},
   "outputs": [],
   "source": [
    "### Bolme işlemide yapabiliyoruz falat list'de 0(sıfır) var işlem hata vermesede uyarı veriyor sana\n",
    "### 0/0 bu isşlem olmaz çünkü"
   ]
  },
  {
   "cell_type": "code",
   "execution_count": 102,
   "id": "a5e6d6ac-43b4-4e5f-a137-c0bc90397862",
   "metadata": {},
   "outputs": [
    {
     "data": {
      "text/plain": [
       "array([0.        , 1.        , 1.41421356, 1.73205081, 2.        ,\n",
       "       2.23606798, 2.44948974, 2.64575131, 2.82842712, 3.        ,\n",
       "       3.16227766, 3.31662479, 3.46410162, 3.60555128, 3.74165739,\n",
       "       3.87298335, 4.        , 4.12310563, 4.24264069, 4.35889894,\n",
       "       4.47213595, 4.58257569, 4.69041576, 4.79583152])"
      ]
     },
     "execution_count": 102,
     "metadata": {},
     "output_type": "execute_result"
    }
   ],
   "source": [
    "np.sqrt(son_dizi)"
   ]
  },
  {
   "cell_type": "code",
   "execution_count": 103,
   "id": "6d315981-74a3-4bcb-b736-130851e68d4c",
   "metadata": {},
   "outputs": [],
   "source": [
    "### Burada karakök2ünü alma işlemi yaptık "
   ]
  },
  {
   "cell_type": "code",
   "execution_count": 104,
   "id": "8517c801-a019-44da-99da-08efc67c7739",
   "metadata": {},
   "outputs": [
    {
     "data": {
      "text/plain": [
       "23"
      ]
     },
     "execution_count": 104,
     "metadata": {},
     "output_type": "execute_result"
    }
   ],
   "source": [
    "np.max(son_dizi)"
   ]
  },
  {
   "cell_type": "code",
   "execution_count": 105,
   "id": "82273362-f10b-4e53-8452-86b50b95aa20",
   "metadata": {},
   "outputs": [
    {
     "data": {
      "text/plain": [
       "0"
      ]
     },
     "execution_count": 105,
     "metadata": {},
     "output_type": "execute_result"
    }
   ],
   "source": [
    "np.min(son_dizi)"
   ]
  },
  {
   "cell_type": "code",
   "execution_count": 106,
   "id": "bda2f579-35b9-4faf-9332-dafad0eed70d",
   "metadata": {},
   "outputs": [],
   "source": [
    "## max ve min lerinide bu şekilde alabiliyoruz"
   ]
  }
 ],
 "metadata": {
  "kernelspec": {
   "display_name": "Python 3 (ipykernel)",
   "language": "python",
   "name": "python3"
  },
  "language_info": {
   "codemirror_mode": {
    "name": "ipython",
    "version": 3
   },
   "file_extension": ".py",
   "mimetype": "text/x-python",
   "name": "python",
   "nbconvert_exporter": "python",
   "pygments_lexer": "ipython3",
   "version": "3.9.20"
  }
 },
 "nbformat": 4,
 "nbformat_minor": 5
}
